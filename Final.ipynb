{
 "cells": [
  {
   "cell_type": "code",
   "execution_count": 1,
   "id": "fdc9a4c8",
   "metadata": {},
   "outputs": [],
   "source": [
    "import pandas as pd\n",
    "import numpy as np\n",
    "import seaborn as sns"
   ]
  },
  {
   "cell_type": "code",
   "execution_count": 3,
   "id": "c8a3281c",
   "metadata": {},
   "outputs": [
    {
     "data": {
      "text/html": [
       "<div>\n",
       "<style scoped>\n",
       "    .dataframe tbody tr th:only-of-type {\n",
       "        vertical-align: middle;\n",
       "    }\n",
       "\n",
       "    .dataframe tbody tr th {\n",
       "        vertical-align: top;\n",
       "    }\n",
       "\n",
       "    .dataframe thead th {\n",
       "        text-align: right;\n",
       "    }\n",
       "</style>\n",
       "<table border=\"1\" class=\"dataframe\">\n",
       "  <thead>\n",
       "    <tr style=\"text-align: right;\">\n",
       "      <th></th>\n",
       "      <th>##### LICENSE #####</th>\n",
       "    </tr>\n",
       "  </thead>\n",
       "  <tbody>\n",
       "    <tr>\n",
       "      <th>0</th>\n",
       "      <td># This data set is modified from the original ...</td>\n",
       "    </tr>\n",
       "    <tr>\n",
       "      <th>1</th>\n",
       "      <td># and it is released under CC BY 4.0 (https://...</td>\n",
       "    </tr>\n",
       "    <tr>\n",
       "      <th>2</th>\n",
       "      <td>##### COLUMN ABBREVIATIONS #####</td>\n",
       "    </tr>\n",
       "    <tr>\n",
       "      <th>3</th>\n",
       "      <td># drvr_fatl_col_bmiles = Number of drivers inv...</td>\n",
       "    </tr>\n",
       "    <tr>\n",
       "      <th>4</th>\n",
       "      <td># perc_fatl_speed = Percentage Of Drivers Invo...</td>\n",
       "    </tr>\n",
       "    <tr>\n",
       "      <th>5</th>\n",
       "      <td># perc_fatl_alcohol = Percentage Of Drivers In...</td>\n",
       "    </tr>\n",
       "    <tr>\n",
       "      <th>6</th>\n",
       "      <td># perc_fatl_1st_time = Percentage Of Drivers I...</td>\n",
       "    </tr>\n",
       "    <tr>\n",
       "      <th>7</th>\n",
       "      <td>##### DATA BEGIN #####</td>\n",
       "    </tr>\n",
       "    <tr>\n",
       "      <th>8</th>\n",
       "      <td>state|drvr_fatl_col_bmiles|perc_fatl_speed|per...</td>\n",
       "    </tr>\n",
       "    <tr>\n",
       "      <th>9</th>\n",
       "      <td>Alabama|18.8|39|30|80</td>\n",
       "    </tr>\n",
       "    <tr>\n",
       "      <th>10</th>\n",
       "      <td>Alaska|18.1|41|25|94</td>\n",
       "    </tr>\n",
       "    <tr>\n",
       "      <th>11</th>\n",
       "      <td>Arizona|18.6|35|28|96</td>\n",
       "    </tr>\n",
       "    <tr>\n",
       "      <th>12</th>\n",
       "      <td>Arkansas|22.4|18|26|95</td>\n",
       "    </tr>\n",
       "    <tr>\n",
       "      <th>13</th>\n",
       "      <td>California|12|35|28|89</td>\n",
       "    </tr>\n",
       "    <tr>\n",
       "      <th>14</th>\n",
       "      <td>Colorado|13.6|37|28|95</td>\n",
       "    </tr>\n",
       "  </tbody>\n",
       "</table>\n",
       "</div>"
      ],
      "text/plain": [
       "                                  ##### LICENSE #####\n",
       "0   # This data set is modified from the original ...\n",
       "1   # and it is released under CC BY 4.0 (https://...\n",
       "2                    ##### COLUMN ABBREVIATIONS #####\n",
       "3   # drvr_fatl_col_bmiles = Number of drivers inv...\n",
       "4   # perc_fatl_speed = Percentage Of Drivers Invo...\n",
       "5   # perc_fatl_alcohol = Percentage Of Drivers In...\n",
       "6   # perc_fatl_1st_time = Percentage Of Drivers I...\n",
       "7                              ##### DATA BEGIN #####\n",
       "8   state|drvr_fatl_col_bmiles|perc_fatl_speed|per...\n",
       "9                               Alabama|18.8|39|30|80\n",
       "10                               Alaska|18.1|41|25|94\n",
       "11                              Arizona|18.6|35|28|96\n",
       "12                             Arkansas|22.4|18|26|95\n",
       "13                             California|12|35|28|89\n",
       "14                             Colorado|13.6|37|28|95"
      ]
     },
     "execution_count": 3,
     "metadata": {},
     "output_type": "execute_result"
    }
   ],
   "source": [
    "road_accidents = pd.read_csv(r'C:\\Users\\Admin\\Downloads\\New Folder\\road-accidents.csv')\n",
    "road_accidents.head(15)\n"
   ]
  },
  {
   "cell_type": "code",
   "execution_count": 5,
   "id": "a1205fa5",
   "metadata": {},
   "outputs": [
    {
     "data": {
      "text/html": [
       "<div>\n",
       "<style scoped>\n",
       "    .dataframe tbody tr th:only-of-type {\n",
       "        vertical-align: middle;\n",
       "    }\n",
       "\n",
       "    .dataframe tbody tr th {\n",
       "        vertical-align: top;\n",
       "    }\n",
       "\n",
       "    .dataframe thead th {\n",
       "        text-align: right;\n",
       "    }\n",
       "</style>\n",
       "<table border=\"1\" class=\"dataframe\">\n",
       "  <thead>\n",
       "    <tr style=\"text-align: right;\">\n",
       "      <th></th>\n",
       "      <th>##### LICENSE #####</th>\n",
       "    </tr>\n",
       "  </thead>\n",
       "  <tbody>\n",
       "    <tr>\n",
       "      <th>9</th>\n",
       "      <td>Alabama|18.8|39|30|80</td>\n",
       "    </tr>\n",
       "    <tr>\n",
       "      <th>10</th>\n",
       "      <td>Alaska|18.1|41|25|94</td>\n",
       "    </tr>\n",
       "    <tr>\n",
       "      <th>11</th>\n",
       "      <td>Arizona|18.6|35|28|96</td>\n",
       "    </tr>\n",
       "    <tr>\n",
       "      <th>12</th>\n",
       "      <td>Arkansas|22.4|18|26|95</td>\n",
       "    </tr>\n",
       "    <tr>\n",
       "      <th>13</th>\n",
       "      <td>California|12|35|28|89</td>\n",
       "    </tr>\n",
       "  </tbody>\n",
       "</table>\n",
       "</div>"
      ],
      "text/plain": [
       "       ##### LICENSE #####\n",
       "9    Alabama|18.8|39|30|80\n",
       "10    Alaska|18.1|41|25|94\n",
       "11   Arizona|18.6|35|28|96\n",
       "12  Arkansas|22.4|18|26|95\n",
       "13  California|12|35|28|89"
      ]
     },
     "execution_count": 5,
     "metadata": {},
     "output_type": "execute_result"
    }
   ],
   "source": [
    "road_accidents = road_accidents.drop(index = [0,1,2,3,4,5,6,7,8], labels=None)\n",
    "road_accidents.head()"
   ]
  },
  {
   "cell_type": "code",
   "execution_count": 7,
   "id": "dac53510",
   "metadata": {},
   "outputs": [
    {
     "data": {
      "text/html": [
       "<div>\n",
       "<style scoped>\n",
       "    .dataframe tbody tr th:only-of-type {\n",
       "        vertical-align: middle;\n",
       "    }\n",
       "\n",
       "    .dataframe tbody tr th {\n",
       "        vertical-align: top;\n",
       "    }\n",
       "\n",
       "    .dataframe thead th {\n",
       "        text-align: right;\n",
       "    }\n",
       "</style>\n",
       "<table border=\"1\" class=\"dataframe\">\n",
       "  <thead>\n",
       "    <tr style=\"text-align: right;\">\n",
       "      <th></th>\n",
       "      <th>state|drvr_fatl_col_bmiles|perc_fatl_speed|perc_fatl_alcohol|perc_fatl_1st_time</th>\n",
       "    </tr>\n",
       "  </thead>\n",
       "  <tbody>\n",
       "    <tr>\n",
       "      <th>9</th>\n",
       "      <td>Alabama|18.8|39|30|80</td>\n",
       "    </tr>\n",
       "    <tr>\n",
       "      <th>10</th>\n",
       "      <td>Alaska|18.1|41|25|94</td>\n",
       "    </tr>\n",
       "    <tr>\n",
       "      <th>11</th>\n",
       "      <td>Arizona|18.6|35|28|96</td>\n",
       "    </tr>\n",
       "    <tr>\n",
       "      <th>12</th>\n",
       "      <td>Arkansas|22.4|18|26|95</td>\n",
       "    </tr>\n",
       "    <tr>\n",
       "      <th>13</th>\n",
       "      <td>California|12|35|28|89</td>\n",
       "    </tr>\n",
       "  </tbody>\n",
       "</table>\n",
       "</div>"
      ],
      "text/plain": [
       "   state|drvr_fatl_col_bmiles|perc_fatl_speed|perc_fatl_alcohol|perc_fatl_1st_time\n",
       "9                               Alabama|18.8|39|30|80                             \n",
       "10                               Alaska|18.1|41|25|94                             \n",
       "11                              Arizona|18.6|35|28|96                             \n",
       "12                             Arkansas|22.4|18|26|95                             \n",
       "13                             California|12|35|28|89                             "
      ]
     },
     "execution_count": 7,
     "metadata": {},
     "output_type": "execute_result"
    }
   ],
   "source": [
    "road_accidents= road_accidents.rename(columns={'##### LICENSE #####': 'state|drvr_fatl_col_bmiles|perc_fatl_speed|perc_fatl_alcohol|perc_fatl_1st_time'})\n",
    "road_accidents.head()"
   ]
  },
  {
   "cell_type": "code",
   "execution_count": 8,
   "id": "fc5a1774",
   "metadata": {},
   "outputs": [
    {
     "data": {
      "text/html": [
       "<div>\n",
       "<style scoped>\n",
       "    .dataframe tbody tr th:only-of-type {\n",
       "        vertical-align: middle;\n",
       "    }\n",
       "\n",
       "    .dataframe tbody tr th {\n",
       "        vertical-align: top;\n",
       "    }\n",
       "\n",
       "    .dataframe thead th {\n",
       "        text-align: right;\n",
       "    }\n",
       "</style>\n",
       "<table border=\"1\" class=\"dataframe\">\n",
       "  <thead>\n",
       "    <tr style=\"text-align: right;\">\n",
       "      <th></th>\n",
       "      <th>state|drvr_fatl_col_bmiles|perc_fatl_speed|perc_fatl_alcohol|perc_fatl_1st_time</th>\n",
       "      <th>state</th>\n",
       "      <th>drvr_fatl_col_bmiles</th>\n",
       "      <th>perc_fatl_speed</th>\n",
       "      <th>perc_fatl_alcohol</th>\n",
       "      <th>perc_fatl_1st_time</th>\n",
       "    </tr>\n",
       "  </thead>\n",
       "  <tbody>\n",
       "    <tr>\n",
       "      <th>9</th>\n",
       "      <td>Alabama|18.8|39|30|80</td>\n",
       "      <td>Alabama</td>\n",
       "      <td>18.8</td>\n",
       "      <td>39</td>\n",
       "      <td>30</td>\n",
       "      <td>80</td>\n",
       "    </tr>\n",
       "    <tr>\n",
       "      <th>10</th>\n",
       "      <td>Alaska|18.1|41|25|94</td>\n",
       "      <td>Alaska</td>\n",
       "      <td>18.1</td>\n",
       "      <td>41</td>\n",
       "      <td>25</td>\n",
       "      <td>94</td>\n",
       "    </tr>\n",
       "    <tr>\n",
       "      <th>11</th>\n",
       "      <td>Arizona|18.6|35|28|96</td>\n",
       "      <td>Arizona</td>\n",
       "      <td>18.6</td>\n",
       "      <td>35</td>\n",
       "      <td>28</td>\n",
       "      <td>96</td>\n",
       "    </tr>\n",
       "    <tr>\n",
       "      <th>12</th>\n",
       "      <td>Arkansas|22.4|18|26|95</td>\n",
       "      <td>Arkansas</td>\n",
       "      <td>22.4</td>\n",
       "      <td>18</td>\n",
       "      <td>26</td>\n",
       "      <td>95</td>\n",
       "    </tr>\n",
       "    <tr>\n",
       "      <th>13</th>\n",
       "      <td>California|12|35|28|89</td>\n",
       "      <td>California</td>\n",
       "      <td>12</td>\n",
       "      <td>35</td>\n",
       "      <td>28</td>\n",
       "      <td>89</td>\n",
       "    </tr>\n",
       "  </tbody>\n",
       "</table>\n",
       "</div>"
      ],
      "text/plain": [
       "   state|drvr_fatl_col_bmiles|perc_fatl_speed|perc_fatl_alcohol|perc_fatl_1st_time  \\\n",
       "9                               Alabama|18.8|39|30|80                                \n",
       "10                               Alaska|18.1|41|25|94                                \n",
       "11                              Arizona|18.6|35|28|96                                \n",
       "12                             Arkansas|22.4|18|26|95                                \n",
       "13                             California|12|35|28|89                                \n",
       "\n",
       "         state drvr_fatl_col_bmiles perc_fatl_speed perc_fatl_alcohol  \\\n",
       "9      Alabama                 18.8              39                30   \n",
       "10      Alaska                 18.1              41                25   \n",
       "11     Arizona                 18.6              35                28   \n",
       "12    Arkansas                 22.4              18                26   \n",
       "13  California                   12              35                28   \n",
       "\n",
       "   perc_fatl_1st_time  \n",
       "9                  80  \n",
       "10                 94  \n",
       "11                 96  \n",
       "12                 95  \n",
       "13                 89  "
      ]
     },
     "execution_count": 8,
     "metadata": {},
     "output_type": "execute_result"
    }
   ],
   "source": [
    "road_accidents[['state', 'drvr_fatl_col_bmiles','perc_fatl_speed','perc_fatl_alcohol','perc_fatl_1st_time']] = road_accidents['state|drvr_fatl_col_bmiles|perc_fatl_speed|perc_fatl_alcohol|perc_fatl_1st_time'].str.split('|', expand=True)\n",
    "road_accidents.head()"
   ]
  },
  {
   "cell_type": "code",
   "execution_count": 65,
   "id": "08d295a0",
   "metadata": {},
   "outputs": [
    {
     "data": {
      "text/html": [
       "<div>\n",
       "<style scoped>\n",
       "    .dataframe tbody tr th:only-of-type {\n",
       "        vertical-align: middle;\n",
       "    }\n",
       "\n",
       "    .dataframe tbody tr th {\n",
       "        vertical-align: top;\n",
       "    }\n",
       "\n",
       "    .dataframe thead th {\n",
       "        text-align: right;\n",
       "    }\n",
       "</style>\n",
       "<table border=\"1\" class=\"dataframe\">\n",
       "  <thead>\n",
       "    <tr style=\"text-align: right;\">\n",
       "      <th></th>\n",
       "      <th>state</th>\n",
       "      <th>drvr_fatl_col_bmiles</th>\n",
       "      <th>perc_fatl_speed</th>\n",
       "      <th>perc_fatl_alcohol</th>\n",
       "      <th>perc_fatl_1st_time</th>\n",
       "    </tr>\n",
       "  </thead>\n",
       "  <tbody>\n",
       "    <tr>\n",
       "      <th>count</th>\n",
       "      <td>4</td>\n",
       "      <td>4</td>\n",
       "      <td>4</td>\n",
       "      <td>4</td>\n",
       "      <td>4</td>\n",
       "    </tr>\n",
       "    <tr>\n",
       "      <th>unique</th>\n",
       "      <td>3</td>\n",
       "      <td>4</td>\n",
       "      <td>4</td>\n",
       "      <td>4</td>\n",
       "      <td>4</td>\n",
       "    </tr>\n",
       "    <tr>\n",
       "      <th>top</th>\n",
       "      <td>51</td>\n",
       "      <td>51</td>\n",
       "      <td>51</td>\n",
       "      <td>51</td>\n",
       "      <td>51</td>\n",
       "    </tr>\n",
       "    <tr>\n",
       "      <th>freq</th>\n",
       "      <td>2</td>\n",
       "      <td>1</td>\n",
       "      <td>1</td>\n",
       "      <td>1</td>\n",
       "      <td>1</td>\n",
       "    </tr>\n",
       "  </tbody>\n",
       "</table>\n",
       "</div>"
      ],
      "text/plain": [
       "        state  drvr_fatl_col_bmiles  perc_fatl_speed  perc_fatl_alcohol  \\\n",
       "count       4                     4                4                  4   \n",
       "unique      3                     4                4                  4   \n",
       "top        51                    51               51                 51   \n",
       "freq        2                     1                1                  1   \n",
       "\n",
       "        perc_fatl_1st_time  \n",
       "count                    4  \n",
       "unique                   4  \n",
       "top                     51  \n",
       "freq                     1  "
      ]
     },
     "execution_count": 65,
     "metadata": {},
     "output_type": "execute_result"
    }
   ],
   "source": [
    "road_accidents = road_accidents[['state', 'drvr_fatl_col_bmiles','perc_fatl_speed','perc_fatl_alcohol','perc_fatl_1st_time']]\n",
    "road_accidents.head()"
   ]
  },
  {
   "cell_type": "code",
   "execution_count": 10,
   "id": "d5f2e17c",
   "metadata": {},
   "outputs": [
    {
     "name": "stdout",
     "output_type": "stream",
     "text": [
      "<class 'pandas.core.frame.DataFrame'>\n",
      "RangeIndex: 51 entries, 9 to 59\n",
      "Data columns (total 5 columns):\n",
      " #   Column                Non-Null Count  Dtype \n",
      "---  ------                --------------  ----- \n",
      " 0   state                 51 non-null     object\n",
      " 1   drvr_fatl_col_bmiles  51 non-null     object\n",
      " 2   perc_fatl_speed       51 non-null     object\n",
      " 3   perc_fatl_alcohol     51 non-null     object\n",
      " 4   perc_fatl_1st_time    51 non-null     object\n",
      "dtypes: object(5)\n",
      "memory usage: 2.1+ KB\n"
     ]
    }
   ],
   "source": [
    "road_accidents.info()"
   ]
  },
  {
   "cell_type": "code",
   "execution_count": 59,
   "id": "94d797de",
   "metadata": {},
   "outputs": [
    {
     "name": "stdout",
     "output_type": "stream",
     "text": [
      "        state  drvr_fatl_col_bmiles  perc_fatl_speed  perc_fatl_alcohol  \\\n",
      "count       4                     4                4                  4   \n",
      "unique      3                     4                4                  4   \n",
      "top        51                    51               51                 51   \n",
      "freq        2                     1                1                  1   \n",
      "\n",
      "        perc_fatl_1st_time  \n",
      "count                    4  \n",
      "unique                   4  \n",
      "top                     51  \n",
      "freq                     1  \n"
     ]
    }
   ],
   "source": [
    "road_accidents=road_accidents.describe()\n",
    "print(road_accidents)"
   ]
  },
  {
   "cell_type": "code",
   "execution_count": 57,
   "id": "4dc58c47",
   "metadata": {},
   "outputs": [],
   "source": [
    "import matplotlib.pyplot as plt\n",
    "%matplotlib inline"
   ]
  },
  {
   "cell_type": "code",
   "execution_count": 60,
   "id": "0c80efdd",
   "metadata": {},
   "outputs": [
    {
     "data": {
      "text/plain": [
       "<seaborn.axisgrid.PairGrid at 0x17450876e50>"
      ]
     },
     "execution_count": 60,
     "metadata": {},
     "output_type": "execute_result"
    },
    {
     "data": {
      "image/png": "[encoded data removed]",
      "text/plain": [
       "<Figure size 900x900 with 30 Axes>"
      ]
     },
     "metadata": {
      "needs_background": "light"
     },
     "output_type": "display_data"
    }
   ],
   "source": [
    "sns.pairplot(road_accidents)"
   ]
  },
  {
   "cell_type": "code",
   "execution_count": 62,
   "id": "66354c5a",
   "metadata": {},
   "outputs": [
    {
     "data": {
      "text/html": [
       "<div>\n",
       "<style scoped>\n",
       "    .dataframe tbody tr th:only-of-type {\n",
       "        vertical-align: middle;\n",
       "    }\n",
       "\n",
       "    .dataframe tbody tr th {\n",
       "        vertical-align: top;\n",
       "    }\n",
       "\n",
       "    .dataframe thead th {\n",
       "        text-align: right;\n",
       "    }\n",
       "</style>\n",
       "<table border=\"1\" class=\"dataframe\">\n",
       "  <thead>\n",
       "    <tr style=\"text-align: right;\">\n",
       "      <th></th>\n",
       "      <th>state</th>\n",
       "      <th>drvr_fatl_col_bmiles</th>\n",
       "      <th>perc_fatl_speed</th>\n",
       "      <th>perc_fatl_alcohol</th>\n",
       "      <th>perc_fatl_1st_time</th>\n",
       "    </tr>\n",
       "  </thead>\n",
       "  <tbody>\n",
       "    <tr>\n",
       "      <th>state</th>\n",
       "      <td>1.000000</td>\n",
       "      <td>0.999423</td>\n",
       "      <td>0.999423</td>\n",
       "      <td>0.999423</td>\n",
       "      <td>0.999423</td>\n",
       "    </tr>\n",
       "    <tr>\n",
       "      <th>drvr_fatl_col_bmiles</th>\n",
       "      <td>0.999423</td>\n",
       "      <td>1.000000</td>\n",
       "      <td>1.000000</td>\n",
       "      <td>1.000000</td>\n",
       "      <td>1.000000</td>\n",
       "    </tr>\n",
       "    <tr>\n",
       "      <th>perc_fatl_speed</th>\n",
       "      <td>0.999423</td>\n",
       "      <td>1.000000</td>\n",
       "      <td>1.000000</td>\n",
       "      <td>1.000000</td>\n",
       "      <td>1.000000</td>\n",
       "    </tr>\n",
       "    <tr>\n",
       "      <th>perc_fatl_alcohol</th>\n",
       "      <td>0.999423</td>\n",
       "      <td>1.000000</td>\n",
       "      <td>1.000000</td>\n",
       "      <td>1.000000</td>\n",
       "      <td>1.000000</td>\n",
       "    </tr>\n",
       "    <tr>\n",
       "      <th>perc_fatl_1st_time</th>\n",
       "      <td>0.999423</td>\n",
       "      <td>1.000000</td>\n",
       "      <td>1.000000</td>\n",
       "      <td>1.000000</td>\n",
       "      <td>1.000000</td>\n",
       "    </tr>\n",
       "  </tbody>\n",
       "</table>\n",
       "</div>"
      ],
      "text/plain": [
       "                         state  drvr_fatl_col_bmiles  perc_fatl_speed  \\\n",
       "state                 1.000000              0.999423         0.999423   \n",
       "drvr_fatl_col_bmiles  0.999423              1.000000         1.000000   \n",
       "perc_fatl_speed       0.999423              1.000000         1.000000   \n",
       "perc_fatl_alcohol     0.999423              1.000000         1.000000   \n",
       "perc_fatl_1st_time    0.999423              1.000000         1.000000   \n",
       "\n",
       "                      perc_fatl_alcohol  perc_fatl_1st_time  \n",
       "state                          0.999423            0.999423  \n",
       "drvr_fatl_col_bmiles           1.000000            1.000000  \n",
       "perc_fatl_speed                1.000000            1.000000  \n",
       "perc_fatl_alcohol              1.000000            1.000000  \n",
       "perc_fatl_1st_time             1.000000            1.000000  "
      ]
     },
     "execution_count": 62,
     "metadata": {},
     "output_type": "execute_result"
    }
   ],
   "source": [
    "# Calculate Pearson Correlation Coefficient in Pandas\n",
    "road_accidents.corr()"
   ]
  },
  {
   "cell_type": "code",
   "execution_count": 63,
   "id": "1164e22a",
   "metadata": {},
   "outputs": [
    {
     "name": "stdout",
     "output_type": "stream",
     "text": [
      "                         state  drvr_fatl_col_bmiles  perc_fatl_speed  \\\n",
      "state                 1.000000              0.999423         0.999423   \n",
      "drvr_fatl_col_bmiles  0.999423              1.000000         1.000000   \n",
      "perc_fatl_speed       0.999423              1.000000         1.000000   \n",
      "perc_fatl_alcohol     0.999423              1.000000         1.000000   \n",
      "perc_fatl_1st_time    0.999423              1.000000         1.000000   \n",
      "\n",
      "                      perc_fatl_alcohol  perc_fatl_1st_time  \n",
      "state                          0.999423            0.999423  \n",
      "drvr_fatl_col_bmiles           1.000000            1.000000  \n",
      "perc_fatl_speed                1.000000            1.000000  \n",
      "perc_fatl_alcohol              1.000000            1.000000  \n",
      "perc_fatl_1st_time             1.000000            1.000000  \n"
     ]
    }
   ],
   "source": [
    "print(road_accidents.corr())"
   ]
  },
  {
   "cell_type": "code",
   "execution_count": 64,
   "id": "b66a8f29",
   "metadata": {},
   "outputs": [
    {
     "data": {
      "text/plain": [
       "Text(0.5, 1.0, 'Pearson correlation coefficient matrix')"
      ]
     },
     "execution_count": 64,
     "metadata": {},
     "output_type": "execute_result"
    },
    {
     "data": {
      "image/png": "[encoded data removed]",
      "text/plain": [
       "<Figure size 432x288 with 1 Axes>"
      ]
     },
     "metadata": {
      "needs_background": "light"
     },
     "output_type": "display_data"
    }
   ],
   "source": [
    "# Compute the correlation coefficent for all column pairs \n",
    "sns.lineplot(data=road_accidents)\n",
    "\n",
    "plt.title(\"Pearson correlation coefficient matrix\")"
   ]
  },
  {
   "cell_type": "code",
   "execution_count": 66,
   "id": "7846afa6",
   "metadata": {},
   "outputs": [],
   "source": [
    "# Import the linear model function from sklearn\n",
    "from sklearn import linear_model"
   ]
  },
  {
   "cell_type": "code",
   "execution_count": 67,
   "id": "1d839fb5",
   "metadata": {},
   "outputs": [],
   "source": [
    "# Create the features and target DataFrames\n",
    "features = road_accidents[['perc_fatl_speed', 'perc_fatl_alcohol', 'perc_fatl_1st_time']]\n",
    "target = road_accidents['drvr_fatl_col_bmiles']"
   ]
  },
  {
   "cell_type": "code",
   "execution_count": 68,
   "id": "d971c320",
   "metadata": {},
   "outputs": [],
   "source": [
    "# Create a linear regression object\n",
    "reg = linear_model.LinearRegression()"
   ]
  },
  {
   "cell_type": "code",
   "execution_count": 69,
   "id": "ddb48bb4",
   "metadata": {},
   "outputs": [
    {
     "data": {
      "text/plain": [
       "LinearRegression()"
      ]
     },
     "execution_count": 69,
     "metadata": {},
     "output_type": "execute_result"
    }
   ],
   "source": [
    "# Fit a multivariate linear regression model\n",
    "reg.fit(features,target)"
   ]
  },
  {
   "cell_type": "code",
   "execution_count": 70,
   "id": "78d320b2",
   "metadata": {},
   "outputs": [
    {
     "data": {
      "text/plain": [
       "array([0.33333333, 0.33333333, 0.33333333])"
      ]
     },
     "execution_count": 70,
     "metadata": {},
     "output_type": "execute_result"
    }
   ],
   "source": [
    "# Retrieve the regression coefficients\n",
    "fit_coef = reg.coef_\n",
    "fit_coef"
   ]
  },
  {
   "cell_type": "code",
   "execution_count": 71,
   "id": "06dba594",
   "metadata": {},
   "outputs": [],
   "source": [
    "# Standardize and center the feature columns\n",
    "from sklearn.preprocessing import StandardScaler\n",
    "scaler = StandardScaler()\n",
    "features_scaled = scaler.fit_transform(features)"
   ]
  },
  {
   "cell_type": "code",
   "execution_count": 72,
   "id": "62c4a67a",
   "metadata": {},
   "outputs": [],
   "source": [
    "# Perform PCA to make dimensionality reduction \n",
    "from sklearn.decomposition import PCA\n",
    "pca = PCA()"
   ]
  },
  {
   "cell_type": "code",
   "execution_count": 73,
   "id": "158d5a96",
   "metadata": {},
   "outputs": [],
   "source": [
    "# Fit the standardized data to the pca\n",
    "pca=pca.fit(features_scaled)"
   ]
  },
  {
   "cell_type": "code",
   "execution_count": 74,
   "id": "54db2d27",
   "metadata": {},
   "outputs": [
    {
     "data": {
      "text/plain": [
       "([<matplotlib.axis.XTick at 0x17452cd97f0>,\n",
       "  <matplotlib.axis.XTick at 0x17452cd9df0>,\n",
       "  <matplotlib.axis.XTick at 0x1745088a700>],\n",
       " [Text(0, 0, ''), Text(0, 0, ''), Text(0, 0, '')])"
      ]
     },
     "execution_count": 74,
     "metadata": {},
     "output_type": "execute_result"
    },
    {
     "data": {
      "image/png": "[encoded data removed]",
      "text/plain": [
       "<Figure size 432x288 with 1 Axes>"
      ]
     },
     "metadata": {
      "needs_background": "light"
     },
     "output_type": "display_data"
    }
   ],
   "source": [
    "# Plot the proportion of variance explained on the y-axis of the bar plot\n",
    "import matplotlib.pyplot as plt\n",
    "plt.bar(range(1, pca.n_components_ + 1),  pca.explained_variance_ratio_)\n",
    "plt.xlabel('Principal component #')\n",
    "plt.ylabel('Proportion of variance explained')\n",
    "plt.xticks([1, 2, 3])\n"
   ]
  },
  {
   "cell_type": "code",
   "execution_count": 75,
   "id": "81b1f4ee",
   "metadata": {},
   "outputs": [
    {
     "name": "stdout",
     "output_type": "stream",
     "text": [
      "The cumulative variance of the first two principal components is 4.0\n"
     ]
    }
   ],
   "source": [
    "# Compute the cumulative proportion of variance explained by the first two principal components\n",
    "two_first_comp_var_exp = pca.explained_variance_.cumsum()[1]\n",
    "print(\"The cumulative variance of the first two principal components is {}\".format(round(two_first_comp_var_exp, 5)))"
   ]
  },
  {
   "cell_type": "code",
   "execution_count": 76,
   "id": "edd5c7cb",
   "metadata": {},
   "outputs": [],
   "source": [
    "# Transform the scaled features using two principal components\n",
    "pca = PCA(n_components=2)\n",
    "p_comps = pca.fit_transform(features_scaled)"
   ]
  },
  {
   "cell_type": "code",
   "execution_count": 77,
   "id": "aee75c3a",
   "metadata": {},
   "outputs": [
    {
     "data": {
      "text/plain": [
       "<matplotlib.collections.PathCollection at 0x1744e7975e0>"
      ]
     },
     "execution_count": 77,
     "metadata": {},
     "output_type": "execute_result"
    },
    {
     "data": {
      "image/png": "[encoded data removed]",
      "text/plain": [
       "<Figure size 432x288 with 1 Axes>"
      ]
     },
     "metadata": {
      "needs_background": "light"
     },
     "output_type": "display_data"
    }
   ],
   "source": [
    "# Plot the first two principal components in a scatter plot\n",
    "plt.scatter(p_comps[:,0],p_comps[:,1], color=\"red\")"
   ]
  },
  {
   "cell_type": "code",
   "execution_count": 78,
   "id": "57d6c2b2",
   "metadata": {},
   "outputs": [],
   "source": [
    "# Create a KMeans object with 3 clusters, use random_state=8 \n",
    "km = KMeans(n_clusters=3,random_state=8)\n"
   ]
  },
  {
   "cell_type": "code",
   "execution_count": 79,
   "id": "44155ba8",
   "metadata": {},
   "outputs": [],
   "source": [
    "# Fit the data to the `km` object\n",
    "km=km.fit(features_scaled)"
   ]
  },
  {
   "cell_type": "code",
   "execution_count": 80,
   "id": "4e7876e9",
   "metadata": {},
   "outputs": [
    {
     "data": {
      "text/plain": [
       "<matplotlib.collections.PathCollection at 0x1744f895340>"
      ]
     },
     "execution_count": 80,
     "metadata": {},
     "output_type": "execute_result"
    },
    {
     "data": {
      "image/png": "[encoded data removed]",
      "text/plain": [
       "<Figure size 432x288 with 1 Axes>"
      ]
     },
     "metadata": {
      "needs_background": "light"
     },
     "output_type": "display_data"
    }
   ],
   "source": [
    "# Create a scatter plot of the first two principal components\n",
    "plt.scatter(p_comps[:,0],p_comps[:,1],c=km.labels_)\n",
    "# and color it according to the KMeans cluster assignmen"
   ]
  },
  {
   "cell_type": "code",
   "execution_count": null,
   "id": "45006fb9",
   "metadata": {},
   "outputs": [],
   "source": []
  },
  {
   "cell_type": "code",
   "execution_count": null,
   "id": "d844196f",
   "metadata": {},
   "outputs": [],
   "source": []
  },
  {
   "cell_type": "code",
   "execution_count": 82,
   "id": "10418958",
   "metadata": {},
   "outputs": [],
   "source": [
    "# Create a new column with the labels from the KMeans clustering\n",
    "road_accidents['cluster'] = km.labels_\n",
    "\n"
   ]
  },
  {
   "cell_type": "code",
   "execution_count": 83,
   "id": "e6a9ee53",
   "metadata": {},
   "outputs": [],
   "source": [
    "# Reshape the DataFrame to the long format\n",
    "road_melt = pd.melt(road_accidents, id_vars=\"cluster\", var_name=\"measurement\", value_name=\"percent\", value_vars=features)"
   ]
  },
  {
   "cell_type": "code",
   "execution_count": 84,
   "id": "cc2808d2",
   "metadata": {},
   "outputs": [
    {
     "data": {
      "text/plain": [
       "<AxesSubplot:xlabel='percent', ylabel='measurement'>"
      ]
     },
     "execution_count": 84,
     "metadata": {},
     "output_type": "execute_result"
    },
    {
     "data": {
      "image/png": "[encoded data removed]",
      "text/plain": [
       "<Figure size 432x288 with 1 Axes>"
      ]
     },
     "metadata": {
      "needs_background": "light"
     },
     "output_type": "display_data"
    }
   ],
   "source": [
    "\n",
    "# Create a violin plot splitting and coloring the results according to the km-clusters\n",
    "sns.violinplot(x=road_melt[\"percent\"], y=road_melt[\"measurement\"], hue=road_melt[\"cluster\"])"
   ]
  },
  {
   "cell_type": "code",
   "execution_count": 86,
   "id": "9fb956aa",
   "metadata": {},
   "outputs": [
    {
     "data": {
      "text/html": [
       "<div>\n",
       "<style scoped>\n",
       "    .dataframe tbody tr th:only-of-type {\n",
       "        vertical-align: middle;\n",
       "    }\n",
       "\n",
       "    .dataframe tbody tr th {\n",
       "        vertical-align: top;\n",
       "    }\n",
       "\n",
       "    .dataframe thead th {\n",
       "        text-align: right;\n",
       "    }\n",
       "</style>\n",
       "<table border=\"1\" class=\"dataframe\">\n",
       "  <thead>\n",
       "    <tr style=\"text-align: right;\">\n",
       "      <th></th>\n",
       "      <th>state|million_miles_annually</th>\n",
       "    </tr>\n",
       "  </thead>\n",
       "  <tbody>\n",
       "    <tr>\n",
       "      <th>0</th>\n",
       "      <td>Alabama|64914</td>\n",
       "    </tr>\n",
       "    <tr>\n",
       "      <th>1</th>\n",
       "      <td>Alaska|4593</td>\n",
       "    </tr>\n",
       "    <tr>\n",
       "      <th>2</th>\n",
       "      <td>Arizona|59575</td>\n",
       "    </tr>\n",
       "    <tr>\n",
       "      <th>3</th>\n",
       "      <td>Arkansas|32953</td>\n",
       "    </tr>\n",
       "    <tr>\n",
       "      <th>4</th>\n",
       "      <td>California|320784</td>\n",
       "    </tr>\n",
       "  </tbody>\n",
       "</table>\n",
       "</div>"
      ],
      "text/plain": [
       "  state|million_miles_annually\n",
       "0                Alabama|64914\n",
       "1                  Alaska|4593\n",
       "2                Arizona|59575\n",
       "3               Arkansas|32953\n",
       "4            California|320784"
      ]
     },
     "execution_count": 86,
     "metadata": {},
     "output_type": "execute_result"
    }
   ],
   "source": [
    "miles_driven = pd.read_csv(r'C:\\Users\\Admin\\Downloads\\New Folder\\miles-driven.csv')\n",
    "miles_driven.head()"
   ]
  },
  {
   "cell_type": "code",
   "execution_count": 88,
   "id": "2640b4e2",
   "metadata": {},
   "outputs": [],
   "source": [
    "miles_driven[['state', 'million_miles_annually']] = miles_driven['state|million_miles_annually'].str.split('|', expand=True)\n"
   ]
  },
  {
   "cell_type": "code",
   "execution_count": 89,
   "id": "31955ac9",
   "metadata": {},
   "outputs": [
    {
     "data": {
      "text/html": [
       "<div>\n",
       "<style scoped>\n",
       "    .dataframe tbody tr th:only-of-type {\n",
       "        vertical-align: middle;\n",
       "    }\n",
       "\n",
       "    .dataframe tbody tr th {\n",
       "        vertical-align: top;\n",
       "    }\n",
       "\n",
       "    .dataframe thead th {\n",
       "        text-align: right;\n",
       "    }\n",
       "</style>\n",
       "<table border=\"1\" class=\"dataframe\">\n",
       "  <thead>\n",
       "    <tr style=\"text-align: right;\">\n",
       "      <th></th>\n",
       "      <th>state|million_miles_annually</th>\n",
       "      <th>state</th>\n",
       "      <th>million_miles_annually</th>\n",
       "    </tr>\n",
       "  </thead>\n",
       "  <tbody>\n",
       "    <tr>\n",
       "      <th>0</th>\n",
       "      <td>Alabama|64914</td>\n",
       "      <td>Alabama</td>\n",
       "      <td>64914</td>\n",
       "    </tr>\n",
       "    <tr>\n",
       "      <th>1</th>\n",
       "      <td>Alaska|4593</td>\n",
       "      <td>Alaska</td>\n",
       "      <td>4593</td>\n",
       "    </tr>\n",
       "    <tr>\n",
       "      <th>2</th>\n",
       "      <td>Arizona|59575</td>\n",
       "      <td>Arizona</td>\n",
       "      <td>59575</td>\n",
       "    </tr>\n",
       "    <tr>\n",
       "      <th>3</th>\n",
       "      <td>Arkansas|32953</td>\n",
       "      <td>Arkansas</td>\n",
       "      <td>32953</td>\n",
       "    </tr>\n",
       "    <tr>\n",
       "      <th>4</th>\n",
       "      <td>California|320784</td>\n",
       "      <td>California</td>\n",
       "      <td>320784</td>\n",
       "    </tr>\n",
       "  </tbody>\n",
       "</table>\n",
       "</div>"
      ],
      "text/plain": [
       "  state|million_miles_annually       state million_miles_annually\n",
       "0                Alabama|64914     Alabama                  64914\n",
       "1                  Alaska|4593      Alaska                   4593\n",
       "2                Arizona|59575     Arizona                  59575\n",
       "3               Arkansas|32953    Arkansas                  32953\n",
       "4            California|320784  California                 320784"
      ]
     },
     "execution_count": 89,
     "metadata": {},
     "output_type": "execute_result"
    }
   ],
   "source": [
    "miles_driven.head()"
   ]
  },
  {
   "cell_type": "code",
   "execution_count": 90,
   "id": "f1cb6a64",
   "metadata": {},
   "outputs": [],
   "source": [
    "miles_driven = miles_driven[['state', 'million_miles_annually']]\n"
   ]
  },
  {
   "cell_type": "code",
   "execution_count": 91,
   "id": "93317d20",
   "metadata": {},
   "outputs": [
    {
     "data": {
      "text/html": [
       "<div>\n",
       "<style scoped>\n",
       "    .dataframe tbody tr th:only-of-type {\n",
       "        vertical-align: middle;\n",
       "    }\n",
       "\n",
       "    .dataframe tbody tr th {\n",
       "        vertical-align: top;\n",
       "    }\n",
       "\n",
       "    .dataframe thead th {\n",
       "        text-align: right;\n",
       "    }\n",
       "</style>\n",
       "<table border=\"1\" class=\"dataframe\">\n",
       "  <thead>\n",
       "    <tr style=\"text-align: right;\">\n",
       "      <th></th>\n",
       "      <th>state</th>\n",
       "      <th>million_miles_annually</th>\n",
       "    </tr>\n",
       "  </thead>\n",
       "  <tbody>\n",
       "    <tr>\n",
       "      <th>0</th>\n",
       "      <td>Alabama</td>\n",
       "      <td>64914</td>\n",
       "    </tr>\n",
       "    <tr>\n",
       "      <th>1</th>\n",
       "      <td>Alaska</td>\n",
       "      <td>4593</td>\n",
       "    </tr>\n",
       "    <tr>\n",
       "      <th>2</th>\n",
       "      <td>Arizona</td>\n",
       "      <td>59575</td>\n",
       "    </tr>\n",
       "    <tr>\n",
       "      <th>3</th>\n",
       "      <td>Arkansas</td>\n",
       "      <td>32953</td>\n",
       "    </tr>\n",
       "    <tr>\n",
       "      <th>4</th>\n",
       "      <td>California</td>\n",
       "      <td>320784</td>\n",
       "    </tr>\n",
       "  </tbody>\n",
       "</table>\n",
       "</div>"
      ],
      "text/plain": [
       "        state million_miles_annually\n",
       "0     Alabama                  64914\n",
       "1      Alaska                   4593\n",
       "2     Arizona                  59575\n",
       "3    Arkansas                  32953\n",
       "4  California                 320784"
      ]
     },
     "execution_count": 91,
     "metadata": {},
     "output_type": "execute_result"
    }
   ],
   "source": [
    "miles_driven.head()"
   ]
  },
  {
   "cell_type": "code",
   "execution_count": 93,
   "id": "098e38a7",
   "metadata": {},
   "outputs": [],
   "source": [
    "import pandas as pd"
   ]
  },
  {
   "cell_type": "code",
   "execution_count": null,
   "id": "d6840290",
   "metadata": {},
   "outputs": [],
   "source": [
    "# Merge the `car_acc` DataFrame with the `miles_driven` DataFrame\n",
    "road_acc_miles = pd.merge(road_accidents,miles_driven, on=\"state\")"
   ]
  },
  {
   "cell_type": "code",
   "execution_count": 34,
   "id": "688bff54",
   "metadata": {},
   "outputs": [
    {
     "data": {
      "text/html": [
       "<div>\n",
       "<style scoped>\n",
       "    .dataframe tbody tr th:only-of-type {\n",
       "        vertical-align: middle;\n",
       "    }\n",
       "\n",
       "    .dataframe tbody tr th {\n",
       "        vertical-align: top;\n",
       "    }\n",
       "\n",
       "    .dataframe thead th {\n",
       "        text-align: right;\n",
       "    }\n",
       "</style>\n",
       "<table border=\"1\" class=\"dataframe\">\n",
       "  <thead>\n",
       "    <tr style=\"text-align: right;\">\n",
       "      <th></th>\n",
       "      <th>state</th>\n",
       "      <th>drvr_fatl_col_bmiles</th>\n",
       "      <th>perc_fatl_speed</th>\n",
       "      <th>perc_fatl_alcohol</th>\n",
       "      <th>perc_fatl_1st_time</th>\n",
       "      <th>million_miles_annually</th>\n",
       "    </tr>\n",
       "  </thead>\n",
       "  <tbody>\n",
       "    <tr>\n",
       "      <th>0</th>\n",
       "      <td>Alabama</td>\n",
       "      <td>14.1</td>\n",
       "      <td>19</td>\n",
       "      <td>29</td>\n",
       "      <td>95</td>\n",
       "      <td>64914</td>\n",
       "    </tr>\n",
       "  </tbody>\n",
       "</table>\n",
       "</div>"
      ],
      "text/plain": [
       "     state drvr_fatl_col_bmiles perc_fatl_speed perc_fatl_alcohol  \\\n",
       "0  Alabama                 14.1              19                29   \n",
       "\n",
       "  perc_fatl_1st_time million_miles_annually  \n",
       "0                 95                  64914  "
      ]
     },
     "execution_count": 34,
     "metadata": {},
     "output_type": "execute_result"
    }
   ],
   "source": [
    "road_acc_miles.head()"
   ]
  },
  {
   "cell_type": "code",
   "execution_count": 41,
   "id": "78cf82c6",
   "metadata": {},
   "outputs": [
    {
     "data": {
      "text/plain": [
       "0    14.1\n",
       "Name: drvr_fatl_col_bmiles, dtype: object"
      ]
     },
     "execution_count": 41,
     "metadata": {},
     "output_type": "execute_result"
    }
   ],
   "source": [
    " road_acc_miles['drvr_fatl_col_bmiles'].head()\n"
   ]
  },
  {
   "cell_type": "code",
   "execution_count": 42,
   "id": "1468e6db",
   "metadata": {},
   "outputs": [
    {
     "data": {
      "text/plain": [
       "0    64914\n",
       "Name: million_miles_annually, dtype: object"
      ]
     },
     "execution_count": 42,
     "metadata": {},
     "output_type": "execute_result"
    }
   ],
   "source": [
    "road_acc_miles['million_miles_annually'].head()"
   ]
  },
  {
   "cell_type": "code",
   "execution_count": null,
   "id": "02a448f5",
   "metadata": {},
   "outputs": [],
   "source": [
    "# Create a new column for the number of drivers involved in fatal accidents\n",
    "road_acc_miles['num_drvr_fatl_col'] = road_acc_miles['drvr_fatl_col_bmiles']*road_acc_miles[\"million_miles_annually\"]/1000"
   ]
  },
  {
   "cell_type": "code",
   "execution_count": 44,
   "id": "1ec3ba92",
   "metadata": {},
   "outputs": [],
   "source": [
    "road_acc_miles['drvr_fatl_col_bmiles'] = road_acc_miles['drvr_fatl_col_bmiles'].astype(float)\n"
   ]
  },
  {
   "cell_type": "code",
   "execution_count": 45,
   "id": "e305a830",
   "metadata": {},
   "outputs": [],
   "source": [
    "road_acc_miles['perc_fatl_speed'] = pd.to_numeric(road_acc_miles['perc_fatl_speed'])"
   ]
  },
  {
   "cell_type": "code",
   "execution_count": 46,
   "id": "4beb5cb0",
   "metadata": {},
   "outputs": [],
   "source": [
    "road_acc_miles['perc_fatl_alcohol'] = pd.to_numeric(road_acc_miles['perc_fatl_alcohol'])"
   ]
  },
  {
   "cell_type": "code",
   "execution_count": 47,
   "id": "5c6476fc",
   "metadata": {},
   "outputs": [],
   "source": [
    "road_acc_miles['perc_fatl_1st_time'] = pd.to_numeric(road_acc_miles['perc_fatl_1st_time'])"
   ]
  },
  {
   "cell_type": "code",
   "execution_count": 50,
   "id": "e8dc1162",
   "metadata": {},
   "outputs": [],
   "source": [
    "road_acc_miles['million_miles_annually'] = pd.to_numeric(road_acc_miles['million_miles_annually'])"
   ]
  },
  {
   "cell_type": "code",
   "execution_count": 51,
   "id": "5e1c8a09",
   "metadata": {},
   "outputs": [
    {
     "name": "stdout",
     "output_type": "stream",
     "text": [
      "<class 'pandas.core.frame.DataFrame'>\n",
      "Int64Index: 1 entries, 0 to 0\n",
      "Data columns (total 6 columns):\n",
      " #   Column                  Non-Null Count  Dtype  \n",
      "---  ------                  --------------  -----  \n",
      " 0   state                   1 non-null      object \n",
      " 1   drvr_fatl_col_bmiles    1 non-null      float64\n",
      " 2   perc_fatl_speed         1 non-null      int64  \n",
      " 3   perc_fatl_alcohol       1 non-null      int64  \n",
      " 4   perc_fatl_1st_time      1 non-null      int64  \n",
      " 5   million_miles_annually  1 non-null      int64  \n",
      "dtypes: float64(1), int64(4), object(1)\n",
      "memory usage: 56.0+ bytes\n"
     ]
    }
   ],
   "source": [
    "road_acc_miles.info()"
   ]
  },
  {
   "cell_type": "code",
   "execution_count": 52,
   "id": "6229bacc",
   "metadata": {},
   "outputs": [],
   "source": [
    "# Create a new column for the number of drivers involved in fatal accidents\n",
    "road_acc_miles['num_drvr_fatl_col'] = ((road_acc_miles['drvr_fatl_col_bmiles']*road_acc_miles[\"million_miles_annually\"])/1000)"
   ]
  },
  {
   "cell_type": "code",
   "execution_count": 53,
   "id": "a282ae06",
   "metadata": {},
   "outputs": [
    {
     "data": {
      "text/plain": [
       "0    915.2874\n",
       "Name: num_drvr_fatl_col, dtype: float64"
      ]
     },
     "execution_count": 53,
     "metadata": {},
     "output_type": "execute_result"
    }
   ],
   "source": [
    "road_acc_miles['num_drvr_fatl_col'].head()"
   ]
  },
  {
   "cell_type": "code",
   "execution_count": 54,
   "id": "d7e5f074",
   "metadata": {},
   "outputs": [
    {
     "data": {
      "text/html": [
       "<div>\n",
       "<style scoped>\n",
       "    .dataframe tbody tr th:only-of-type {\n",
       "        vertical-align: middle;\n",
       "    }\n",
       "\n",
       "    .dataframe tbody tr th {\n",
       "        vertical-align: top;\n",
       "    }\n",
       "\n",
       "    .dataframe thead th {\n",
       "        text-align: right;\n",
       "    }\n",
       "</style>\n",
       "<table border=\"1\" class=\"dataframe\">\n",
       "  <thead>\n",
       "    <tr style=\"text-align: right;\">\n",
       "      <th></th>\n",
       "      <th>state</th>\n",
       "      <th>drvr_fatl_col_bmiles</th>\n",
       "      <th>perc_fatl_speed</th>\n",
       "      <th>perc_fatl_alcohol</th>\n",
       "      <th>perc_fatl_1st_time</th>\n",
       "      <th>million_miles_annually</th>\n",
       "      <th>num_drvr_fatl_col</th>\n",
       "    </tr>\n",
       "  </thead>\n",
       "  <tbody>\n",
       "    <tr>\n",
       "      <th>0</th>\n",
       "      <td>Alabama</td>\n",
       "      <td>14.1</td>\n",
       "      <td>64914</td>\n",
       "      <td>29</td>\n",
       "      <td>95</td>\n",
       "      <td>64914</td>\n",
       "      <td>915.2874</td>\n",
       "    </tr>\n",
       "  </tbody>\n",
       "</table>\n",
       "</div>"
      ],
      "text/plain": [
       "     state  drvr_fatl_col_bmiles  perc_fatl_speed  perc_fatl_alcohol  \\\n",
       "0  Alabama                  14.1            64914                 29   \n",
       "\n",
       "   perc_fatl_1st_time  million_miles_annually  num_drvr_fatl_col  \n",
       "0                  95                   64914           915.2874  "
      ]
     },
     "execution_count": 54,
     "metadata": {},
     "output_type": "execute_result"
    }
   ],
   "source": [
    "road_acc_miles.head() "
   ]
  },
  {
   "cell_type": "code",
   "execution_count": null,
   "id": "f63d320e",
   "metadata": {},
   "outputs": [],
   "source": [
    "# Create a barplot of the total number of accidents per cluster\n",
    "sns.barplot(x=road_acc_miles[\"cluster\"], y=road_acc_miles[\"num_drvr_fatl_col\"], data=road_acc_miles, estimator=sum, ci=None)\n",
    "\n",
    "# Calculate the number of states in each cluster and their 'num_drvr_fatl_col' mean and sum.\n",
    "count_mean_sum = road_acc_miles.groupby(\"cluster\")[\"num_drvr_fatl_col\"].agg([\"count\", \"mean\", \"sum\"])\n",
    "count_mean_sum"
   ]
  }
 ],
 "metadata": {
  "kernelspec": {
   "display_name": "Python 3 (ipykernel)",
   "language": "python",
   "name": "python3"
  },
  "language_info": {
   "codemirror_mode": {
    "name": "ipython",
    "version": 3
   },
   "file_extension": ".py",
   "mimetype": "text/x-python",
   "name": "python",
   "nbconvert_exporter": "python",
   "pygments_lexer": "ipython3",
   "version": "3.8.8"
  }
 },
 "nbformat": 4,
 "nbformat_minor": 5
}
