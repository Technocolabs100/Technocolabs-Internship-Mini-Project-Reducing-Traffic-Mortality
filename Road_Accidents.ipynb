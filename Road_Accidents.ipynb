{
 "cells": [
  {
   "cell_type": "code",
   "execution_count": 1,
   "id": "414e048a",
   "metadata": {},
   "outputs": [],
   "source": [
    "import pandas as pd\n",
    "import numpy as np\n",
    "import seaborn as sns\n",
    "import matplotlib.pyplot as plt"
   ]
  },
  {
   "cell_type": "code",
   "execution_count": 2,
   "id": "b4eb8ed7",
   "metadata": {},
   "outputs": [],
   "source": [
    "#filepath of the road-accidents dataset and miles driven dataset\n",
    "file_miles_driven= \"C:/Users/HP/Downloads/miles-driven.csv\"\n",
    "file_road_accidents= \"C:/Users/HP/Downloads/road-accidents.csv\""
   ]
  },
  {
   "cell_type": "code",
   "execution_count": 3,
   "id": "a855ce01",
   "metadata": {},
   "outputs": [],
   "source": [
    "#creating datadrame\n",
    "miles_driven_data = pd.read_csv(file_miles_driven, delimiter='|')\n",
    "road_accidents_data = pd.read_csv(file_road_accidents, delimiter='|', skiprows=lambda x: x in range(0,9))"
   ]
  },
  {
   "cell_type": "markdown",
   "id": "90ef89cb",
   "metadata": {},
   "source": [
    "#### Textual and a graphical summary of the data"
   ]
  },
  {
   "cell_type": "code",
   "execution_count": 4,
   "id": "2c65da21",
   "metadata": {},
   "outputs": [
    {
     "data": {
      "text/html": [
       "<div>\n",
       "<style scoped>\n",
       "    .dataframe tbody tr th:only-of-type {\n",
       "        vertical-align: middle;\n",
       "    }\n",
       "\n",
       "    .dataframe tbody tr th {\n",
       "        vertical-align: top;\n",
       "    }\n",
       "\n",
       "    .dataframe thead th {\n",
       "        text-align: right;\n",
       "    }\n",
       "</style>\n",
       "<table border=\"1\" class=\"dataframe\">\n",
       "  <thead>\n",
       "    <tr style=\"text-align: right;\">\n",
       "      <th></th>\n",
       "      <th>drvr_fatl_col_bmiles</th>\n",
       "      <th>perc_fatl_speed</th>\n",
       "      <th>perc_fatl_alcohol</th>\n",
       "      <th>perc_fatl_1st_time</th>\n",
       "    </tr>\n",
       "  </thead>\n",
       "  <tbody>\n",
       "    <tr>\n",
       "      <th>count</th>\n",
       "      <td>51.000000</td>\n",
       "      <td>51.000000</td>\n",
       "      <td>51.000000</td>\n",
       "      <td>51.00000</td>\n",
       "    </tr>\n",
       "    <tr>\n",
       "      <th>mean</th>\n",
       "      <td>15.790196</td>\n",
       "      <td>31.725490</td>\n",
       "      <td>30.686275</td>\n",
       "      <td>88.72549</td>\n",
       "    </tr>\n",
       "    <tr>\n",
       "      <th>std</th>\n",
       "      <td>4.122002</td>\n",
       "      <td>9.633438</td>\n",
       "      <td>5.132213</td>\n",
       "      <td>6.96011</td>\n",
       "    </tr>\n",
       "    <tr>\n",
       "      <th>min</th>\n",
       "      <td>5.900000</td>\n",
       "      <td>13.000000</td>\n",
       "      <td>16.000000</td>\n",
       "      <td>76.00000</td>\n",
       "    </tr>\n",
       "    <tr>\n",
       "      <th>25%</th>\n",
       "      <td>12.750000</td>\n",
       "      <td>23.000000</td>\n",
       "      <td>28.000000</td>\n",
       "      <td>83.50000</td>\n",
       "    </tr>\n",
       "    <tr>\n",
       "      <th>50%</th>\n",
       "      <td>15.600000</td>\n",
       "      <td>34.000000</td>\n",
       "      <td>30.000000</td>\n",
       "      <td>88.00000</td>\n",
       "    </tr>\n",
       "    <tr>\n",
       "      <th>75%</th>\n",
       "      <td>18.500000</td>\n",
       "      <td>38.000000</td>\n",
       "      <td>33.000000</td>\n",
       "      <td>95.00000</td>\n",
       "    </tr>\n",
       "    <tr>\n",
       "      <th>max</th>\n",
       "      <td>23.900000</td>\n",
       "      <td>54.000000</td>\n",
       "      <td>44.000000</td>\n",
       "      <td>100.00000</td>\n",
       "    </tr>\n",
       "  </tbody>\n",
       "</table>\n",
       "</div>"
      ],
      "text/plain": [
       "       drvr_fatl_col_bmiles  perc_fatl_speed  perc_fatl_alcohol  \\\n",
       "count             51.000000        51.000000          51.000000   \n",
       "mean              15.790196        31.725490          30.686275   \n",
       "std                4.122002         9.633438           5.132213   \n",
       "min                5.900000        13.000000          16.000000   \n",
       "25%               12.750000        23.000000          28.000000   \n",
       "50%               15.600000        34.000000          30.000000   \n",
       "75%               18.500000        38.000000          33.000000   \n",
       "max               23.900000        54.000000          44.000000   \n",
       "\n",
       "       perc_fatl_1st_time  \n",
       "count            51.00000  \n",
       "mean             88.72549  \n",
       "std               6.96011  \n",
       "min              76.00000  \n",
       "25%              83.50000  \n",
       "50%              88.00000  \n",
       "75%              95.00000  \n",
       "max             100.00000  "
      ]
     },
     "execution_count": 4,
     "metadata": {},
     "output_type": "execute_result"
    }
   ],
   "source": [
    "#summary statistics of the road_accidents_data dataframe\n",
    "road_accidents_data.describe()"
   ]
  },
  {
   "cell_type": "code",
   "execution_count": 5,
   "id": "e21bf426",
   "metadata": {},
   "outputs": [
    {
     "data": {
      "text/plain": [
       "<seaborn.axisgrid.PairGrid at 0x2a81b24ea00>"
      ]
     },
     "execution_count": 5,
     "metadata": {},
     "output_type": "execute_result"
    },
    {
     "data": {
      "image/png": "[encoded data removed]",
      "text/plain": [
       "<Figure size 720x720 with 20 Axes>"
      ]
     },
     "metadata": {
      "needs_background": "light"
     },
     "output_type": "display_data"
    }
   ],
   "source": [
    "#using \"scatterplot matrix\"(seaborn \"pairplot\") to get an idea of pairwise relationship between all the columns of the data\n",
    "sns.pairplot(road_accidents_data)"
   ]
  },
  {
   "cell_type": "markdown",
   "id": "d803b0e4",
   "metadata": {},
   "source": [
    "### Note:\n",
    "* From above plots we can see some potentially interesting relationship between the target variable(drvr_fatl_col_bmiles) and the three features\n",
    "\n",
    "* But to get the more quantitative description we are going to compute Pearson Correlation Coefficient Matrix"
   ]
  },
  {
   "cell_type": "markdown",
   "id": "9d503681",
   "metadata": {},
   "source": [
    "#### Quantifying the association of features and accidents"
   ]
  },
  {
   "cell_type": "code",
   "execution_count": 6,
   "id": "de8c4e86",
   "metadata": {
    "scrolled": true
   },
   "outputs": [
    {
     "data": {
      "text/html": [
       "<div>\n",
       "<style scoped>\n",
       "    .dataframe tbody tr th:only-of-type {\n",
       "        vertical-align: middle;\n",
       "    }\n",
       "\n",
       "    .dataframe tbody tr th {\n",
       "        vertical-align: top;\n",
       "    }\n",
       "\n",
       "    .dataframe thead th {\n",
       "        text-align: right;\n",
       "    }\n",
       "</style>\n",
       "<table border=\"1\" class=\"dataframe\">\n",
       "  <thead>\n",
       "    <tr style=\"text-align: right;\">\n",
       "      <th></th>\n",
       "      <th>drvr_fatl_col_bmiles</th>\n",
       "      <th>perc_fatl_speed</th>\n",
       "      <th>perc_fatl_alcohol</th>\n",
       "      <th>perc_fatl_1st_time</th>\n",
       "    </tr>\n",
       "  </thead>\n",
       "  <tbody>\n",
       "    <tr>\n",
       "      <th>drvr_fatl_col_bmiles</th>\n",
       "      <td>1.000000</td>\n",
       "      <td>-0.029080</td>\n",
       "      <td>0.199426</td>\n",
       "      <td>-0.017942</td>\n",
       "    </tr>\n",
       "    <tr>\n",
       "      <th>perc_fatl_speed</th>\n",
       "      <td>-0.029080</td>\n",
       "      <td>1.000000</td>\n",
       "      <td>0.286244</td>\n",
       "      <td>0.014066</td>\n",
       "    </tr>\n",
       "    <tr>\n",
       "      <th>perc_fatl_alcohol</th>\n",
       "      <td>0.199426</td>\n",
       "      <td>0.286244</td>\n",
       "      <td>1.000000</td>\n",
       "      <td>-0.245455</td>\n",
       "    </tr>\n",
       "    <tr>\n",
       "      <th>perc_fatl_1st_time</th>\n",
       "      <td>-0.017942</td>\n",
       "      <td>0.014066</td>\n",
       "      <td>-0.245455</td>\n",
       "      <td>1.000000</td>\n",
       "    </tr>\n",
       "  </tbody>\n",
       "</table>\n",
       "</div>"
      ],
      "text/plain": [
       "                      drvr_fatl_col_bmiles  perc_fatl_speed  \\\n",
       "drvr_fatl_col_bmiles              1.000000        -0.029080   \n",
       "perc_fatl_speed                  -0.029080         1.000000   \n",
       "perc_fatl_alcohol                 0.199426         0.286244   \n",
       "perc_fatl_1st_time               -0.017942         0.014066   \n",
       "\n",
       "                      perc_fatl_alcohol  perc_fatl_1st_time  \n",
       "drvr_fatl_col_bmiles           0.199426           -0.017942  \n",
       "perc_fatl_speed                0.286244            0.014066  \n",
       "perc_fatl_alcohol              1.000000           -0.245455  \n",
       "perc_fatl_1st_time            -0.245455            1.000000  "
      ]
     },
     "execution_count": 6,
     "metadata": {},
     "output_type": "execute_result"
    }
   ],
   "source": [
    "#Pearson Correlation Coefficient Matrix\n",
    "road_accidents_data.corr()"
   ]
  },
  {
   "cell_type": "code",
   "execution_count": 7,
   "id": "79cea043",
   "metadata": {},
   "outputs": [
    {
     "data": {
      "text/plain": [
       "<AxesSubplot:>"
      ]
     },
     "execution_count": 7,
     "metadata": {},
     "output_type": "execute_result"
    },
    {
     "data": {
      "image/png": "[encoded data removed]",
      "text/plain": [
       "<Figure size 432x288 with 2 Axes>"
      ]
     },
     "metadata": {
      "needs_background": "light"
     },
     "output_type": "display_data"
    }
   ],
   "source": [
    "#Using heatmap to visualize the matrix better\n",
    "sns.heatmap(road_accidents_data.corr(), annot=True)"
   ]
  },
  {
   "cell_type": "markdown",
   "id": "3457d51b",
   "metadata": {},
   "source": [
    "### Note:\n",
    "* From the correlation table as well as the Heatmap we can see that the amount of fatal accidents is most strongly correlated with alcohol consumption (first row)\n",
    "\n",
    "* Although the correlation coefficient between 'drvr_fatl_col_bmiles' and 'perc_fatl_alcohol' is 0.2 which by convention is considered 'weak', i.e., weakly related but here except alcohol consumption other two features are very poorly related to the target variable.\n",
    "\n",
    "* Also in addition, we can see that some of the features are correlated with each other, for instance, speeding and alcohol consumption are positively correlated."
   ]
  },
  {
   "cell_type": "markdown",
   "id": "97db16f7",
   "metadata": {},
   "source": [
    "#### Multivariate linear regression model"
   ]
  },
  {
   "cell_type": "code",
   "execution_count": 8,
   "id": "c06a8ab1",
   "metadata": {},
   "outputs": [],
   "source": [
    "#Dividing the dataframe into target variable y and feature variables X to fit a Multivariate Linear Regression Model\n",
    "X = road_accidents_data[['perc_fatl_speed', 'perc_fatl_alcohol', 'perc_fatl_1st_time']]\n",
    "X = X.to_numpy()\n",
    "y = road_accidents_data.drvr_fatl_col_bmiles\n",
    "y = y.to_numpy()"
   ]
  },
  {
   "cell_type": "code",
   "execution_count": 9,
   "id": "97fcc734",
   "metadata": {},
   "outputs": [],
   "source": [
    "#Splitting into training and testing data\n",
    "from sklearn.model_selection import train_test_split\n",
    "X_train, X_test, y_train, y_test = train_test_split(X, y, test_size = 0.3, random_state = 0)"
   ]
  },
  {
   "cell_type": "code",
   "execution_count": 10,
   "id": "0c3483c9",
   "metadata": {},
   "outputs": [
    {
     "data": {
      "text/plain": [
       "LinearRegression()"
      ]
     },
     "execution_count": 10,
     "metadata": {},
     "output_type": "execute_result"
    }
   ],
   "source": [
    "#Fitting the model on training data\n",
    "from sklearn.linear_model import LinearRegression\n",
    "regressor = LinearRegression()\n",
    "regressor.fit(X_train, y_train)"
   ]
  },
  {
   "cell_type": "code",
   "execution_count": 11,
   "id": "e4d49dd9",
   "metadata": {},
   "outputs": [
    {
     "name": "stdout",
     "output_type": "stream",
     "text": [
      "17.96826486062231\n",
      "[-0.03130744  0.02052854 -0.0215321 ]\n"
     ]
    }
   ],
   "source": [
    "##Calculating the Intercept and Coefficient\n",
    "print(regressor.intercept_)\n",
    "print(regressor.coef_)"
   ]
  },
  {
   "cell_type": "markdown",
   "id": "72b76df9",
   "metadata": {},
   "source": [
    "### Note:\n",
    "* We can see that the regression coefficients are slightly different from correlation coefficients\n",
    "* The reason for this is that the multiple regression computes the association of a feature with an outcome, given the association with all other features, which is not accounted for when calculating the correlation coefficients."
   ]
  },
  {
   "cell_type": "markdown",
   "id": "1c1e15cd",
   "metadata": {},
   "source": [
    "#### PCA on standardized data"
   ]
  },
  {
   "cell_type": "code",
   "execution_count": 12,
   "id": "6ef5bbfc",
   "metadata": {},
   "outputs": [],
   "source": [
    "#Feature scaling\n",
    "from sklearn.preprocessing import StandardScaler\n",
    "scaler= StandardScaler()\n",
    "scaled_X= scaler.fit_transform(X)"
   ]
  },
  {
   "cell_type": "code",
   "execution_count": 13,
   "id": "cb4627f2",
   "metadata": {},
   "outputs": [],
   "source": [
    "#Applying PCA on scaled features\n",
    "from sklearn.decomposition import PCA\n",
    "pca = PCA(n_components=2)\n",
    "pca_scaled_X = pca.fit_transform(scaled_X)"
   ]
  },
  {
   "cell_type": "markdown",
   "id": "634fd685",
   "metadata": {},
   "source": [
    "#### Visualizing the first two principal components"
   ]
  },
  {
   "cell_type": "code",
   "execution_count": 14,
   "id": "1537e9b0",
   "metadata": {},
   "outputs": [
    {
     "data": {
      "image/png": "[encoded data removed]",
      "text/plain": [
       "<Figure size 432x288 with 1 Axes>"
      ]
     },
     "metadata": {
      "needs_background": "light"
     },
     "output_type": "display_data"
    }
   ],
   "source": [
    "#visualizing first two principal components using scatterplot \n",
    "sns.scatterplot(x = pca_scaled_X[:,0], y = pca_scaled_X[:,1])\n",
    "plt.xlabel('first principal component')\n",
    "plt.ylabel('second principal component')\n",
    "plt.show()"
   ]
  },
  {
   "cell_type": "markdown",
   "id": "90fb3ec1",
   "metadata": {},
   "source": [
    "### Note:\n",
    "* From the above plot we can see that it is not entirely clear from the PCA scatter plot how many groups in which the states cluster.\n",
    "* So we are going to use KMeans clustering by creating a scree plot and finding the \"elbow\", which is an indication of when the addition of more clusters does not add much explanatory power."
   ]
  },
  {
   "cell_type": "markdown",
   "id": "10c7a472",
   "metadata": {},
   "source": [
    "#### Finding elbow in  the scree plot"
   ]
  },
  {
   "cell_type": "code",
   "execution_count": 15,
   "id": "e7917bad",
   "metadata": {},
   "outputs": [],
   "source": [
    "#KMeans clustering\n",
    "from sklearn.cluster import KMeans\n",
    "from sklearn import metrics\n",
    "from scipy.spatial.distance import cdist"
   ]
  },
  {
   "cell_type": "code",
   "execution_count": 16,
   "id": "b32e374f",
   "metadata": {},
   "outputs": [
    {
     "name": "stderr",
     "output_type": "stream",
     "text": [
      "C:\\Users\\HP\\anaconda3\\lib\\site-packages\\sklearn\\cluster\\_kmeans.py:881: UserWarning: KMeans is known to have a memory leak on Windows with MKL, when there are less chunks than available threads. You can avoid it by setting the environment variable OMP_NUM_THREADS=1.\n",
      "  warnings.warn(\n"
     ]
    }
   ],
   "source": [
    "distortions = []\n",
    "inertias = []\n",
    "mapping1 = {}\n",
    "mapping2 = {}\n",
    "K = range(1, 10)\n",
    "\n",
    "for k in K:\n",
    "\t# Building and fitting the model\n",
    "\tkmeanModel = KMeans(n_clusters=k)\n",
    "\tkmeanModel.fit(scaled_X)\n",
    "\n",
    "\tdistortions.append(sum(np.min(cdist(scaled_X, kmeanModel.cluster_centers_,'euclidean'), axis=1)) / scaled_X.shape[0])\n",
    "\tinertias.append(kmeanModel.inertia_)\n",
    "\n",
    "\tmapping1[k] = sum(np.min(cdist(scaled_X, kmeanModel.cluster_centers_,'euclidean'), axis=1)) / scaled_X.shape[0]\n",
    "\tmapping2[k] = kmeanModel.inertia_\n"
   ]
  },
  {
   "cell_type": "code",
   "execution_count": 17,
   "id": "dbe1015a",
   "metadata": {},
   "outputs": [
    {
     "data": {
      "image/png": "[encoded data removed]",
      "text/plain": [
       "<Figure size 432x288 with 1 Axes>"
      ]
     },
     "metadata": {
      "needs_background": "light"
     },
     "output_type": "display_data"
    }
   ],
   "source": [
    "#scree plot using distortions\n",
    "plt.plot(K, distortions, 'bx-')\n",
    "plt.xlabel('Values of K')\n",
    "plt.ylabel('Distortion')\n",
    "plt.title('The Elbow Method using Distortion')\n",
    "plt.show()"
   ]
  },
  {
   "cell_type": "code",
   "execution_count": 18,
   "id": "07c7f37a",
   "metadata": {},
   "outputs": [
    {
     "data": {
      "image/png": "[encoded data removed]",
      "text/plain": [
       "<Figure size 432x288 with 1 Axes>"
      ]
     },
     "metadata": {
      "needs_background": "light"
     },
     "output_type": "display_data"
    }
   ],
   "source": [
    "#scree plot using in inertias\n",
    "plt.plot(K, inertias, 'bx-')\n",
    "plt.xlabel('Values of K')\n",
    "plt.ylabel('Inertia')\n",
    "plt.title('The Elbow Method using Inertia')\n",
    "plt.show()"
   ]
  },
  {
   "cell_type": "markdown",
   "id": "81d678ad",
   "metadata": {},
   "source": [
    "### Note:\n",
    "* Since there wasn't a clear elbow in the scree plot, assigning the states to either two or three clusters is a reasonable choice, and we will resume our analysis using three clusters."
   ]
  },
  {
   "cell_type": "markdown",
   "id": "2ae913fc",
   "metadata": {},
   "source": [
    "#### KMeans to visualize clusters in the PCA scatter plot"
   ]
  },
  {
   "cell_type": "code",
   "execution_count": 19,
   "id": "9a87f56b",
   "metadata": {},
   "outputs": [],
   "source": [
    "dataset = pd.DataFrame({'Column1': pca_scaled_X[:, 0], 'Column2': pca_scaled_X[:, 1]})"
   ]
  },
  {
   "cell_type": "code",
   "execution_count": 20,
   "id": "63be4985",
   "metadata": {},
   "outputs": [],
   "source": [
    "#dividing the data into three clusters\n",
    "kmeans = KMeans(n_clusters=3)\n",
    "dataset[\"Cluster\"] = kmeans.fit_predict(scaled_X)\n",
    "dataset[\"Cluster\"] = dataset[\"Cluster\"].astype(\"category\")"
   ]
  },
  {
   "cell_type": "code",
   "execution_count": 21,
   "id": "0cafb4d8",
   "metadata": {},
   "outputs": [
    {
     "data": {
      "text/html": [
       "<div>\n",
       "<style scoped>\n",
       "    .dataframe tbody tr th:only-of-type {\n",
       "        vertical-align: middle;\n",
       "    }\n",
       "\n",
       "    .dataframe tbody tr th {\n",
       "        vertical-align: top;\n",
       "    }\n",
       "\n",
       "    .dataframe thead th {\n",
       "        text-align: right;\n",
       "    }\n",
       "</style>\n",
       "<table border=\"1\" class=\"dataframe\">\n",
       "  <thead>\n",
       "    <tr style=\"text-align: right;\">\n",
       "      <th></th>\n",
       "      <th>Column1</th>\n",
       "      <th>Column2</th>\n",
       "      <th>Cluster</th>\n",
       "    </tr>\n",
       "  </thead>\n",
       "  <tbody>\n",
       "    <tr>\n",
       "      <th>0</th>\n",
       "      <td>0.884639</td>\n",
       "      <td>0.464211</td>\n",
       "      <td>2</td>\n",
       "    </tr>\n",
       "    <tr>\n",
       "      <th>1</th>\n",
       "      <td>-0.625299</td>\n",
       "      <td>-1.220247</td>\n",
       "      <td>1</td>\n",
       "    </tr>\n",
       "    <tr>\n",
       "      <th>2</th>\n",
       "      <td>-0.671696</td>\n",
       "      <td>-1.027863</td>\n",
       "      <td>1</td>\n",
       "    </tr>\n",
       "    <tr>\n",
       "      <th>3</th>\n",
       "      <td>-1.839546</td>\n",
       "      <td>0.239910</td>\n",
       "      <td>1</td>\n",
       "    </tr>\n",
       "    <tr>\n",
       "      <th>4</th>\n",
       "      <td>-0.211743</td>\n",
       "      <td>-0.256667</td>\n",
       "      <td>1</td>\n",
       "    </tr>\n",
       "    <tr>\n",
       "      <th>5</th>\n",
       "      <td>-0.493905</td>\n",
       "      <td>-1.054144</td>\n",
       "      <td>1</td>\n",
       "    </tr>\n",
       "    <tr>\n",
       "      <th>6</th>\n",
       "      <td>1.988056</td>\n",
       "      <td>-0.226978</td>\n",
       "      <td>2</td>\n",
       "    </tr>\n",
       "    <tr>\n",
       "      <th>7</th>\n",
       "      <td>-0.419847</td>\n",
       "      <td>-1.560808</td>\n",
       "      <td>1</td>\n",
       "    </tr>\n",
       "    <tr>\n",
       "      <th>8</th>\n",
       "      <td>-1.130991</td>\n",
       "      <td>-1.401442</td>\n",
       "      <td>1</td>\n",
       "    </tr>\n",
       "    <tr>\n",
       "      <th>9</th>\n",
       "      <td>-1.184444</td>\n",
       "      <td>0.148770</td>\n",
       "      <td>1</td>\n",
       "    </tr>\n",
       "  </tbody>\n",
       "</table>\n",
       "</div>"
      ],
      "text/plain": [
       "    Column1   Column2 Cluster\n",
       "0  0.884639  0.464211       2\n",
       "1 -0.625299 -1.220247       1\n",
       "2 -0.671696 -1.027863       1\n",
       "3 -1.839546  0.239910       1\n",
       "4 -0.211743 -0.256667       1\n",
       "5 -0.493905 -1.054144       1\n",
       "6  1.988056 -0.226978       2\n",
       "7 -0.419847 -1.560808       1\n",
       "8 -1.130991 -1.401442       1\n",
       "9 -1.184444  0.148770       1"
      ]
     },
     "execution_count": 21,
     "metadata": {},
     "output_type": "execute_result"
    }
   ],
   "source": [
    "dataset.head(10)"
   ]
  },
  {
   "cell_type": "code",
   "execution_count": 22,
   "id": "f76f6b4f",
   "metadata": {},
   "outputs": [
    {
     "data": {
      "text/plain": [
       "<AxesSubplot:xlabel='Column1', ylabel='Column2'>"
      ]
     },
     "execution_count": 22,
     "metadata": {},
     "output_type": "execute_result"
    },
    {
     "data": {
      "image/png": "[encoded data removed]",
      "text/plain": [
       "<Figure size 432x288 with 1 Axes>"
      ]
     },
     "metadata": {
      "needs_background": "light"
     },
     "output_type": "display_data"
    }
   ],
   "source": [
    "#scatterplot showing division of data into three clusters\n",
    "sns.scatterplot(x=\"Column1\", y=\"Column2\", hue=\"Cluster\", data=dataset)"
   ]
  },
  {
   "cell_type": "markdown",
   "id": "a230c496",
   "metadata": {},
   "source": [
    "### Note:\n",
    "* Each point in the above scatterplot represents a state and we can see that these states are grouped into three clusters.\n",
    "\n",
    "* Now we are going to see below which states belongs to which cluster."
   ]
  },
  {
   "cell_type": "code",
   "execution_count": 23,
   "id": "84acc7c4",
   "metadata": {},
   "outputs": [],
   "source": [
    "#adding cluster column to road_accidents_data w.r.t state column\n",
    "road_accidents_data['Cluster'] = dataset.Cluster"
   ]
  },
  {
   "cell_type": "code",
   "execution_count": 37,
   "id": "8bfcf50b",
   "metadata": {},
   "outputs": [
    {
     "data": {
      "text/html": [
       "<div>\n",
       "<style scoped>\n",
       "    .dataframe tbody tr th:only-of-type {\n",
       "        vertical-align: middle;\n",
       "    }\n",
       "\n",
       "    .dataframe tbody tr th {\n",
       "        vertical-align: top;\n",
       "    }\n",
       "\n",
       "    .dataframe thead th {\n",
       "        text-align: right;\n",
       "    }\n",
       "</style>\n",
       "<table border=\"1\" class=\"dataframe\">\n",
       "  <thead>\n",
       "    <tr style=\"text-align: right;\">\n",
       "      <th></th>\n",
       "      <th>state</th>\n",
       "      <th>drvr_fatl_col_bmiles</th>\n",
       "      <th>perc_fatl_speed</th>\n",
       "      <th>perc_fatl_alcohol</th>\n",
       "      <th>perc_fatl_1st_time</th>\n",
       "      <th>Cluster</th>\n",
       "    </tr>\n",
       "  </thead>\n",
       "  <tbody>\n",
       "    <tr>\n",
       "      <th>0</th>\n",
       "      <td>Alabama</td>\n",
       "      <td>18.8</td>\n",
       "      <td>39</td>\n",
       "      <td>30</td>\n",
       "      <td>80</td>\n",
       "      <td>2</td>\n",
       "    </tr>\n",
       "    <tr>\n",
       "      <th>1</th>\n",
       "      <td>Alaska</td>\n",
       "      <td>18.1</td>\n",
       "      <td>41</td>\n",
       "      <td>25</td>\n",
       "      <td>94</td>\n",
       "      <td>1</td>\n",
       "    </tr>\n",
       "    <tr>\n",
       "      <th>2</th>\n",
       "      <td>Arizona</td>\n",
       "      <td>18.6</td>\n",
       "      <td>35</td>\n",
       "      <td>28</td>\n",
       "      <td>96</td>\n",
       "      <td>1</td>\n",
       "    </tr>\n",
       "    <tr>\n",
       "      <th>3</th>\n",
       "      <td>Arkansas</td>\n",
       "      <td>22.4</td>\n",
       "      <td>18</td>\n",
       "      <td>26</td>\n",
       "      <td>95</td>\n",
       "      <td>1</td>\n",
       "    </tr>\n",
       "    <tr>\n",
       "      <th>4</th>\n",
       "      <td>California</td>\n",
       "      <td>12.0</td>\n",
       "      <td>35</td>\n",
       "      <td>28</td>\n",
       "      <td>89</td>\n",
       "      <td>1</td>\n",
       "    </tr>\n",
       "  </tbody>\n",
       "</table>\n",
       "</div>"
      ],
      "text/plain": [
       "        state  drvr_fatl_col_bmiles  perc_fatl_speed  perc_fatl_alcohol  \\\n",
       "0     Alabama                  18.8               39                 30   \n",
       "1      Alaska                  18.1               41                 25   \n",
       "2     Arizona                  18.6               35                 28   \n",
       "3    Arkansas                  22.4               18                 26   \n",
       "4  California                  12.0               35                 28   \n",
       "\n",
       "   perc_fatl_1st_time Cluster  \n",
       "0                  80       2  \n",
       "1                  94       1  \n",
       "2                  96       1  \n",
       "3                  95       1  \n",
       "4                  89       1  "
      ]
     },
     "execution_count": 37,
     "metadata": {},
     "output_type": "execute_result"
    }
   ],
   "source": [
    "road_accidents_data.head()"
   ]
  },
  {
   "cell_type": "code",
   "execution_count": 25,
   "id": "ff613ee9",
   "metadata": {},
   "outputs": [
    {
     "name": "stdout",
     "output_type": "stream",
     "text": [
      "States in Cluster 0: ['Iowa' 'Kansas' 'Kentucky' 'Massachusetts' 'Michigan' 'Minnesota'\n",
      " 'Nebraska' 'New Jersey' 'New York' 'Ohio' 'Tennessee' 'Virginia'] \n",
      "\n",
      "States in Cluster 1: ['Alaska' 'Arizona' 'Arkansas' 'California' 'Colorado' 'Delaware'\n",
      " 'District of Columbia' 'Florida' 'Georgia' 'Idaho' 'Illinois' 'Indiana'\n",
      " 'Louisiana' 'Maryland' 'Mississippi' 'Nevada' 'New Mexico' 'Oklahoma'\n",
      " 'Oregon' 'Utah' 'Vermont' 'West Virginia'] \n",
      "\n",
      "States in Cluster 2: ['Alabama' 'Connecticut' 'Hawaii' 'Maine' 'Missouri' 'Montana'\n",
      " 'New Hampshire' 'North Carolina' 'North Dakota' 'Pennsylvania'\n",
      " 'Rhode Island' 'South Carolina' 'South Dakota' 'Texas' 'Washington'\n",
      " 'Wisconsin' 'Wyoming'] \n",
      "\n"
     ]
    }
   ],
   "source": [
    "#List of States in Different Clusters\n",
    "for i in range(0,3):\n",
    "    print(f'States in Cluster {i}:', road_accidents_data[road_accidents_data.Cluster == i].state.values, '\\n')"
   ]
  },
  {
   "cell_type": "markdown",
   "id": "52e90a27",
   "metadata": {},
   "source": [
    "### Note:\n",
    "* Now we are going to see how the three clusters are different in terms of the three features that we used for clustering."
   ]
  },
  {
   "cell_type": "markdown",
   "id": "f658849e",
   "metadata": {},
   "source": [
    "#### Visualizing the feature differences between the clusters"
   ]
  },
  {
   "cell_type": "code",
   "execution_count": 26,
   "id": "38adda12",
   "metadata": {},
   "outputs": [],
   "source": [
    "grouped_by_cluster = road_accidents_data.groupby('Cluster')"
   ]
  },
  {
   "cell_type": "code",
   "execution_count": 27,
   "id": "07f48fae",
   "metadata": {},
   "outputs": [
    {
     "data": {
      "text/html": [
       "<div>\n",
       "<style scoped>\n",
       "    .dataframe tbody tr th:only-of-type {\n",
       "        vertical-align: middle;\n",
       "    }\n",
       "\n",
       "    .dataframe tbody tr th {\n",
       "        vertical-align: top;\n",
       "    }\n",
       "\n",
       "    .dataframe thead th {\n",
       "        text-align: right;\n",
       "    }\n",
       "</style>\n",
       "<table border=\"1\" class=\"dataframe\">\n",
       "  <thead>\n",
       "    <tr style=\"text-align: right;\">\n",
       "      <th></th>\n",
       "      <th>count</th>\n",
       "      <th>mean</th>\n",
       "      <th>std</th>\n",
       "      <th>min</th>\n",
       "      <th>25%</th>\n",
       "      <th>50%</th>\n",
       "      <th>75%</th>\n",
       "      <th>max</th>\n",
       "    </tr>\n",
       "    <tr>\n",
       "      <th>Cluster</th>\n",
       "      <th></th>\n",
       "      <th></th>\n",
       "      <th></th>\n",
       "      <th></th>\n",
       "      <th></th>\n",
       "      <th></th>\n",
       "      <th></th>\n",
       "      <th></th>\n",
       "    </tr>\n",
       "  </thead>\n",
       "  <tbody>\n",
       "    <tr>\n",
       "      <th>0</th>\n",
       "      <td>12.0</td>\n",
       "      <td>21.833333</td>\n",
       "      <td>5.457827</td>\n",
       "      <td>13.0</td>\n",
       "      <td>18.50</td>\n",
       "      <td>22.0</td>\n",
       "      <td>24.75</td>\n",
       "      <td>32.0</td>\n",
       "    </tr>\n",
       "    <tr>\n",
       "      <th>1</th>\n",
       "      <td>22.0</td>\n",
       "      <td>31.227273</td>\n",
       "      <td>7.999594</td>\n",
       "      <td>15.0</td>\n",
       "      <td>26.25</td>\n",
       "      <td>34.0</td>\n",
       "      <td>36.00</td>\n",
       "      <td>43.0</td>\n",
       "    </tr>\n",
       "    <tr>\n",
       "      <th>2</th>\n",
       "      <td>17.0</td>\n",
       "      <td>39.352941</td>\n",
       "      <td>7.070548</td>\n",
       "      <td>23.0</td>\n",
       "      <td>36.00</td>\n",
       "      <td>39.0</td>\n",
       "      <td>42.00</td>\n",
       "      <td>54.0</td>\n",
       "    </tr>\n",
       "  </tbody>\n",
       "</table>\n",
       "</div>"
      ],
      "text/plain": [
       "         count       mean       std   min    25%   50%    75%   max\n",
       "Cluster                                                            \n",
       "0         12.0  21.833333  5.457827  13.0  18.50  22.0  24.75  32.0\n",
       "1         22.0  31.227273  7.999594  15.0  26.25  34.0  36.00  43.0\n",
       "2         17.0  39.352941  7.070548  23.0  36.00  39.0  42.00  54.0"
      ]
     },
     "execution_count": 27,
     "metadata": {},
     "output_type": "execute_result"
    }
   ],
   "source": [
    "#summary statistics of the three clusters w.r.t 'perc_fatl_speed' feature\n",
    "grouped_by_cluster.perc_fatl_speed.describe()"
   ]
  },
  {
   "cell_type": "code",
   "execution_count": 28,
   "id": "c4068ae1",
   "metadata": {},
   "outputs": [
    {
     "data": {
      "text/html": [
       "<div>\n",
       "<style scoped>\n",
       "    .dataframe tbody tr th:only-of-type {\n",
       "        vertical-align: middle;\n",
       "    }\n",
       "\n",
       "    .dataframe tbody tr th {\n",
       "        vertical-align: top;\n",
       "    }\n",
       "\n",
       "    .dataframe thead th {\n",
       "        text-align: right;\n",
       "    }\n",
       "</style>\n",
       "<table border=\"1\" class=\"dataframe\">\n",
       "  <thead>\n",
       "    <tr style=\"text-align: right;\">\n",
       "      <th></th>\n",
       "      <th>count</th>\n",
       "      <th>mean</th>\n",
       "      <th>std</th>\n",
       "      <th>min</th>\n",
       "      <th>25%</th>\n",
       "      <th>50%</th>\n",
       "      <th>75%</th>\n",
       "      <th>max</th>\n",
       "    </tr>\n",
       "    <tr>\n",
       "      <th>Cluster</th>\n",
       "      <th></th>\n",
       "      <th></th>\n",
       "      <th></th>\n",
       "      <th></th>\n",
       "      <th></th>\n",
       "      <th></th>\n",
       "      <th></th>\n",
       "      <th></th>\n",
       "    </tr>\n",
       "  </thead>\n",
       "  <tbody>\n",
       "    <tr>\n",
       "      <th>0</th>\n",
       "      <td>12.0</td>\n",
       "      <td>28.833333</td>\n",
       "      <td>4.041452</td>\n",
       "      <td>23.0</td>\n",
       "      <td>26.5</td>\n",
       "      <td>28.5</td>\n",
       "      <td>30.25</td>\n",
       "      <td>35.0</td>\n",
       "    </tr>\n",
       "    <tr>\n",
       "      <th>1</th>\n",
       "      <td>22.0</td>\n",
       "      <td>28.272727</td>\n",
       "      <td>3.679827</td>\n",
       "      <td>16.0</td>\n",
       "      <td>27.0</td>\n",
       "      <td>28.5</td>\n",
       "      <td>30.00</td>\n",
       "      <td>34.0</td>\n",
       "    </tr>\n",
       "    <tr>\n",
       "      <th>2</th>\n",
       "      <td>17.0</td>\n",
       "      <td>35.117647</td>\n",
       "      <td>4.675499</td>\n",
       "      <td>30.0</td>\n",
       "      <td>31.0</td>\n",
       "      <td>33.0</td>\n",
       "      <td>38.00</td>\n",
       "      <td>44.0</td>\n",
       "    </tr>\n",
       "  </tbody>\n",
       "</table>\n",
       "</div>"
      ],
      "text/plain": [
       "         count       mean       std   min   25%   50%    75%   max\n",
       "Cluster                                                           \n",
       "0         12.0  28.833333  4.041452  23.0  26.5  28.5  30.25  35.0\n",
       "1         22.0  28.272727  3.679827  16.0  27.0  28.5  30.00  34.0\n",
       "2         17.0  35.117647  4.675499  30.0  31.0  33.0  38.00  44.0"
      ]
     },
     "execution_count": 28,
     "metadata": {},
     "output_type": "execute_result"
    }
   ],
   "source": [
    "#summary statistics of the three clusters w.r.t 'perc_fatl_alcohol' feature\n",
    "grouped_by_cluster.perc_fatl_alcohol.describe()"
   ]
  },
  {
   "cell_type": "code",
   "execution_count": 29,
   "id": "2e5e73c5",
   "metadata": {},
   "outputs": [
    {
     "data": {
      "text/html": [
       "<div>\n",
       "<style scoped>\n",
       "    .dataframe tbody tr th:only-of-type {\n",
       "        vertical-align: middle;\n",
       "    }\n",
       "\n",
       "    .dataframe tbody tr th {\n",
       "        vertical-align: top;\n",
       "    }\n",
       "\n",
       "    .dataframe thead th {\n",
       "        text-align: right;\n",
       "    }\n",
       "</style>\n",
       "<table border=\"1\" class=\"dataframe\">\n",
       "  <thead>\n",
       "    <tr style=\"text-align: right;\">\n",
       "      <th></th>\n",
       "      <th>count</th>\n",
       "      <th>mean</th>\n",
       "      <th>std</th>\n",
       "      <th>min</th>\n",
       "      <th>25%</th>\n",
       "      <th>50%</th>\n",
       "      <th>75%</th>\n",
       "      <th>max</th>\n",
       "    </tr>\n",
       "    <tr>\n",
       "      <th>Cluster</th>\n",
       "      <th></th>\n",
       "      <th></th>\n",
       "      <th></th>\n",
       "      <th></th>\n",
       "      <th></th>\n",
       "      <th></th>\n",
       "      <th></th>\n",
       "      <th></th>\n",
       "    </tr>\n",
       "  </thead>\n",
       "  <tbody>\n",
       "    <tr>\n",
       "      <th>0</th>\n",
       "      <td>12.0</td>\n",
       "      <td>82.666667</td>\n",
       "      <td>4.773665</td>\n",
       "      <td>76.0</td>\n",
       "      <td>79.5</td>\n",
       "      <td>81.5</td>\n",
       "      <td>87.25</td>\n",
       "      <td>90.0</td>\n",
       "    </tr>\n",
       "    <tr>\n",
       "      <th>1</th>\n",
       "      <td>22.0</td>\n",
       "      <td>95.454545</td>\n",
       "      <td>3.487765</td>\n",
       "      <td>87.0</td>\n",
       "      <td>94.0</td>\n",
       "      <td>95.5</td>\n",
       "      <td>98.00</td>\n",
       "      <td>100.0</td>\n",
       "    </tr>\n",
       "    <tr>\n",
       "      <th>2</th>\n",
       "      <td>17.0</td>\n",
       "      <td>84.294118</td>\n",
       "      <td>3.015889</td>\n",
       "      <td>79.0</td>\n",
       "      <td>82.0</td>\n",
       "      <td>84.0</td>\n",
       "      <td>86.00</td>\n",
       "      <td>90.0</td>\n",
       "    </tr>\n",
       "  </tbody>\n",
       "</table>\n",
       "</div>"
      ],
      "text/plain": [
       "         count       mean       std   min   25%   50%    75%    max\n",
       "Cluster                                                            \n",
       "0         12.0  82.666667  4.773665  76.0  79.5  81.5  87.25   90.0\n",
       "1         22.0  95.454545  3.487765  87.0  94.0  95.5  98.00  100.0\n",
       "2         17.0  84.294118  3.015889  79.0  82.0  84.0  86.00   90.0"
      ]
     },
     "execution_count": 29,
     "metadata": {},
     "output_type": "execute_result"
    }
   ],
   "source": [
    "#summary statistics of the three clusters w.r.t 'perc_fatl_1st_time' feature\n",
    "grouped_by_cluster.perc_fatl_1st_time.describe()"
   ]
  },
  {
   "cell_type": "code",
   "execution_count": 30,
   "id": "096fc77f",
   "metadata": {},
   "outputs": [
    {
     "data": {
      "text/html": [
       "<div>\n",
       "<style scoped>\n",
       "    .dataframe tbody tr th:only-of-type {\n",
       "        vertical-align: middle;\n",
       "    }\n",
       "\n",
       "    .dataframe tbody tr th {\n",
       "        vertical-align: top;\n",
       "    }\n",
       "\n",
       "    .dataframe thead th {\n",
       "        text-align: right;\n",
       "    }\n",
       "</style>\n",
       "<table border=\"1\" class=\"dataframe\">\n",
       "  <thead>\n",
       "    <tr style=\"text-align: right;\">\n",
       "      <th></th>\n",
       "      <th>count</th>\n",
       "      <th>mean</th>\n",
       "      <th>std</th>\n",
       "      <th>min</th>\n",
       "      <th>25%</th>\n",
       "      <th>50%</th>\n",
       "      <th>75%</th>\n",
       "      <th>max</th>\n",
       "    </tr>\n",
       "    <tr>\n",
       "      <th>Cluster</th>\n",
       "      <th></th>\n",
       "      <th></th>\n",
       "      <th></th>\n",
       "      <th></th>\n",
       "      <th></th>\n",
       "      <th></th>\n",
       "      <th></th>\n",
       "      <th></th>\n",
       "    </tr>\n",
       "  </thead>\n",
       "  <tbody>\n",
       "    <tr>\n",
       "      <th>0</th>\n",
       "      <td>12.0</td>\n",
       "      <td>14.291667</td>\n",
       "      <td>3.903019</td>\n",
       "      <td>8.2</td>\n",
       "      <td>12.025</td>\n",
       "      <td>14.10</td>\n",
       "      <td>16.225</td>\n",
       "      <td>21.4</td>\n",
       "    </tr>\n",
       "    <tr>\n",
       "      <th>1</th>\n",
       "      <td>22.0</td>\n",
       "      <td>15.818182</td>\n",
       "      <td>4.074384</td>\n",
       "      <td>5.9</td>\n",
       "      <td>13.000</td>\n",
       "      <td>15.45</td>\n",
       "      <td>18.325</td>\n",
       "      <td>23.8</td>\n",
       "    </tr>\n",
       "    <tr>\n",
       "      <th>2</th>\n",
       "      <td>17.0</td>\n",
       "      <td>16.811765</td>\n",
       "      <td>4.247482</td>\n",
       "      <td>10.6</td>\n",
       "      <td>13.800</td>\n",
       "      <td>17.40</td>\n",
       "      <td>19.400</td>\n",
       "      <td>23.9</td>\n",
       "    </tr>\n",
       "  </tbody>\n",
       "</table>\n",
       "</div>"
      ],
      "text/plain": [
       "         count       mean       std   min     25%    50%     75%   max\n",
       "Cluster                                                               \n",
       "0         12.0  14.291667  3.903019   8.2  12.025  14.10  16.225  21.4\n",
       "1         22.0  15.818182  4.074384   5.9  13.000  15.45  18.325  23.8\n",
       "2         17.0  16.811765  4.247482  10.6  13.800  17.40  19.400  23.9"
      ]
     },
     "execution_count": 30,
     "metadata": {},
     "output_type": "execute_result"
    }
   ],
   "source": [
    "#summary statistics of the three clusters w.r.t 'drvr_fatl_col_bmiles' feature\n",
    "grouped_by_cluster.drvr_fatl_col_bmiles.describe()"
   ]
  },
  {
   "cell_type": "markdown",
   "id": "a9bd7775",
   "metadata": {},
   "source": [
    "#### Computing the number of accidents within each cluster"
   ]
  },
  {
   "cell_type": "markdown",
   "id": "45d5ce1c",
   "metadata": {},
   "source": [
    "* Adding the miles_driven_data to the road_accidents_data to get the total number road accidents in each state"
   ]
  },
  {
   "cell_type": "code",
   "execution_count": 31,
   "id": "b55f9187",
   "metadata": {},
   "outputs": [],
   "source": [
    "#merging the two datasets\n",
    "total_road_accidents_data = pd.merge(road_accidents_data, miles_driven_data, on='state')"
   ]
  },
  {
   "cell_type": "code",
   "execution_count": 32,
   "id": "5cdcdeb6",
   "metadata": {},
   "outputs": [
    {
     "data": {
      "text/html": [
       "<div>\n",
       "<style scoped>\n",
       "    .dataframe tbody tr th:only-of-type {\n",
       "        vertical-align: middle;\n",
       "    }\n",
       "\n",
       "    .dataframe tbody tr th {\n",
       "        vertical-align: top;\n",
       "    }\n",
       "\n",
       "    .dataframe thead th {\n",
       "        text-align: right;\n",
       "    }\n",
       "</style>\n",
       "<table border=\"1\" class=\"dataframe\">\n",
       "  <thead>\n",
       "    <tr style=\"text-align: right;\">\n",
       "      <th></th>\n",
       "      <th>state</th>\n",
       "      <th>drvr_fatl_col_bmiles</th>\n",
       "      <th>perc_fatl_speed</th>\n",
       "      <th>perc_fatl_alcohol</th>\n",
       "      <th>perc_fatl_1st_time</th>\n",
       "      <th>Cluster</th>\n",
       "      <th>million_miles_annually</th>\n",
       "    </tr>\n",
       "  </thead>\n",
       "  <tbody>\n",
       "    <tr>\n",
       "      <th>0</th>\n",
       "      <td>Alabama</td>\n",
       "      <td>18.8</td>\n",
       "      <td>39</td>\n",
       "      <td>30</td>\n",
       "      <td>80</td>\n",
       "      <td>2</td>\n",
       "      <td>64914</td>\n",
       "    </tr>\n",
       "    <tr>\n",
       "      <th>1</th>\n",
       "      <td>Alaska</td>\n",
       "      <td>18.1</td>\n",
       "      <td>41</td>\n",
       "      <td>25</td>\n",
       "      <td>94</td>\n",
       "      <td>1</td>\n",
       "      <td>4593</td>\n",
       "    </tr>\n",
       "    <tr>\n",
       "      <th>2</th>\n",
       "      <td>Arizona</td>\n",
       "      <td>18.6</td>\n",
       "      <td>35</td>\n",
       "      <td>28</td>\n",
       "      <td>96</td>\n",
       "      <td>1</td>\n",
       "      <td>59575</td>\n",
       "    </tr>\n",
       "    <tr>\n",
       "      <th>3</th>\n",
       "      <td>Arkansas</td>\n",
       "      <td>22.4</td>\n",
       "      <td>18</td>\n",
       "      <td>26</td>\n",
       "      <td>95</td>\n",
       "      <td>1</td>\n",
       "      <td>32953</td>\n",
       "    </tr>\n",
       "    <tr>\n",
       "      <th>4</th>\n",
       "      <td>California</td>\n",
       "      <td>12.0</td>\n",
       "      <td>35</td>\n",
       "      <td>28</td>\n",
       "      <td>89</td>\n",
       "      <td>1</td>\n",
       "      <td>320784</td>\n",
       "    </tr>\n",
       "  </tbody>\n",
       "</table>\n",
       "</div>"
      ],
      "text/plain": [
       "        state  drvr_fatl_col_bmiles  perc_fatl_speed  perc_fatl_alcohol  \\\n",
       "0     Alabama                  18.8               39                 30   \n",
       "1      Alaska                  18.1               41                 25   \n",
       "2     Arizona                  18.6               35                 28   \n",
       "3    Arkansas                  22.4               18                 26   \n",
       "4  California                  12.0               35                 28   \n",
       "\n",
       "   perc_fatl_1st_time Cluster  million_miles_annually  \n",
       "0                  80       2                   64914  \n",
       "1                  94       1                    4593  \n",
       "2                  96       1                   59575  \n",
       "3                  95       1                   32953  \n",
       "4                  89       1                  320784  "
      ]
     },
     "execution_count": 32,
     "metadata": {},
     "output_type": "execute_result"
    }
   ],
   "source": [
    "total_road_accidents_data.head()"
   ]
  },
  {
   "cell_type": "code",
   "execution_count": 33,
   "id": "18b5254c",
   "metadata": {},
   "outputs": [],
   "source": [
    "#calculating total number of fatal accidents in each state \n",
    "total_road_accidents_data[\"total_number_fatl_accidents\"] = (total_road_accidents_data.drvr_fatl_col_bmiles * total_road_accidents_data.million_miles_annually) / 1000"
   ]
  },
  {
   "cell_type": "code",
   "execution_count": 34,
   "id": "4b88b83c",
   "metadata": {},
   "outputs": [
    {
     "data": {
      "text/html": [
       "<div>\n",
       "<style scoped>\n",
       "    .dataframe tbody tr th:only-of-type {\n",
       "        vertical-align: middle;\n",
       "    }\n",
       "\n",
       "    .dataframe tbody tr th {\n",
       "        vertical-align: top;\n",
       "    }\n",
       "\n",
       "    .dataframe thead th {\n",
       "        text-align: right;\n",
       "    }\n",
       "</style>\n",
       "<table border=\"1\" class=\"dataframe\">\n",
       "  <thead>\n",
       "    <tr style=\"text-align: right;\">\n",
       "      <th></th>\n",
       "      <th>state</th>\n",
       "      <th>drvr_fatl_col_bmiles</th>\n",
       "      <th>perc_fatl_speed</th>\n",
       "      <th>perc_fatl_alcohol</th>\n",
       "      <th>perc_fatl_1st_time</th>\n",
       "      <th>Cluster</th>\n",
       "      <th>million_miles_annually</th>\n",
       "      <th>total_number_fatl_accidents</th>\n",
       "    </tr>\n",
       "  </thead>\n",
       "  <tbody>\n",
       "    <tr>\n",
       "      <th>0</th>\n",
       "      <td>Alabama</td>\n",
       "      <td>18.8</td>\n",
       "      <td>39</td>\n",
       "      <td>30</td>\n",
       "      <td>80</td>\n",
       "      <td>2</td>\n",
       "      <td>64914</td>\n",
       "      <td>1220.3832</td>\n",
       "    </tr>\n",
       "    <tr>\n",
       "      <th>1</th>\n",
       "      <td>Alaska</td>\n",
       "      <td>18.1</td>\n",
       "      <td>41</td>\n",
       "      <td>25</td>\n",
       "      <td>94</td>\n",
       "      <td>1</td>\n",
       "      <td>4593</td>\n",
       "      <td>83.1333</td>\n",
       "    </tr>\n",
       "    <tr>\n",
       "      <th>2</th>\n",
       "      <td>Arizona</td>\n",
       "      <td>18.6</td>\n",
       "      <td>35</td>\n",
       "      <td>28</td>\n",
       "      <td>96</td>\n",
       "      <td>1</td>\n",
       "      <td>59575</td>\n",
       "      <td>1108.0950</td>\n",
       "    </tr>\n",
       "    <tr>\n",
       "      <th>3</th>\n",
       "      <td>Arkansas</td>\n",
       "      <td>22.4</td>\n",
       "      <td>18</td>\n",
       "      <td>26</td>\n",
       "      <td>95</td>\n",
       "      <td>1</td>\n",
       "      <td>32953</td>\n",
       "      <td>738.1472</td>\n",
       "    </tr>\n",
       "    <tr>\n",
       "      <th>4</th>\n",
       "      <td>California</td>\n",
       "      <td>12.0</td>\n",
       "      <td>35</td>\n",
       "      <td>28</td>\n",
       "      <td>89</td>\n",
       "      <td>1</td>\n",
       "      <td>320784</td>\n",
       "      <td>3849.4080</td>\n",
       "    </tr>\n",
       "  </tbody>\n",
       "</table>\n",
       "</div>"
      ],
      "text/plain": [
       "        state  drvr_fatl_col_bmiles  perc_fatl_speed  perc_fatl_alcohol  \\\n",
       "0     Alabama                  18.8               39                 30   \n",
       "1      Alaska                  18.1               41                 25   \n",
       "2     Arizona                  18.6               35                 28   \n",
       "3    Arkansas                  22.4               18                 26   \n",
       "4  California                  12.0               35                 28   \n",
       "\n",
       "   perc_fatl_1st_time Cluster  million_miles_annually  \\\n",
       "0                  80       2                   64914   \n",
       "1                  94       1                    4593   \n",
       "2                  96       1                   59575   \n",
       "3                  95       1                   32953   \n",
       "4                  89       1                  320784   \n",
       "\n",
       "   total_number_fatl_accidents  \n",
       "0                    1220.3832  \n",
       "1                      83.1333  \n",
       "2                    1108.0950  \n",
       "3                     738.1472  \n",
       "4                    3849.4080  "
      ]
     },
     "execution_count": 34,
     "metadata": {},
     "output_type": "execute_result"
    }
   ],
   "source": [
    "total_road_accidents_data.head()"
   ]
  },
  {
   "cell_type": "code",
   "execution_count": 35,
   "id": "8fcc4337",
   "metadata": {},
   "outputs": [
    {
     "data": {
      "text/plain": [
       "<AxesSubplot:xlabel='total_number_fatl_accidents', ylabel='Cluster'>"
      ]
     },
     "execution_count": 35,
     "metadata": {},
     "output_type": "execute_result"
    },
    {
     "data": {
      "image/png": "[encoded data removed]",
      "text/plain": [
       "<Figure size 432x288 with 1 Axes>"
      ]
     },
     "metadata": {
      "needs_background": "light"
     },
     "output_type": "display_data"
    }
   ],
   "source": [
    "#creating violin plot to see the variation in total number of fatal accidents in each state in each cluster.\n",
    "plt.grid()\n",
    "sns.violinplot(x=total_road_accidents_data[\"total_number_fatl_accidents\"], y=total_road_accidents_data.Cluster)"
   ]
  },
  {
   "cell_type": "code",
   "execution_count": 36,
   "id": "9cac173b",
   "metadata": {},
   "outputs": [
    {
     "data": {
      "text/plain": [
       "Cluster\n",
       "0    11044.6244\n",
       "1    19764.3291\n",
       "2    14826.2569\n",
       "Name: total_number_fatl_accidents, dtype: float64"
      ]
     },
     "execution_count": 36,
     "metadata": {},
     "output_type": "execute_result"
    }
   ],
   "source": [
    "#calulating total number of accidents in each cluster\n",
    "total_road_accidents_data.groupby('Cluster').total_number_fatl_accidents.sum()"
   ]
  },
  {
   "cell_type": "markdown",
   "id": "d1774904",
   "metadata": {},
   "source": [
    "#### Conclusion"
   ]
  },
  {
   "cell_type": "markdown",
   "id": "cfea8297",
   "metadata": {},
   "source": [
    "* Although there is no obvious correct choice regarding which cluster is the most important to focus on. But, if i have to choose one I would put more focus on \"cluster 1\" because we can see from the above analysis that total number of fatal accidents is maximum for cluster 1 and also number of states is maximum in this group."
   ]
  }
 ],
 "metadata": {
  "kernelspec": {
   "display_name": "Python 3",
   "language": "python",
   "name": "python3"
  },
  "language_info": {
   "codemirror_mode": {
    "name": "ipython",
    "version": 3
   },
   "file_extension": ".py",
   "mimetype": "text/x-python",
   "name": "python",
   "nbconvert_exporter": "python",
   "pygments_lexer": "ipython3",
   "version": "3.8.8"
  }
 },
 "nbformat": 4,
 "nbformat_minor": 5
}
