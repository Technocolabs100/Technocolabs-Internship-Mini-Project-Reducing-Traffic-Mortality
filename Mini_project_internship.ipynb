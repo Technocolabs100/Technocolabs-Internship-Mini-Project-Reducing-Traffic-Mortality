{
  "nbformat": 4,
  "nbformat_minor": 0,
  "metadata": {
    "colab": {
      "name": "Mini_project internship.ipynb",
      "provenance": []
    },
    "kernelspec": {
      "name": "python3",
      "display_name": "Python 3"
    },
    "language_info": {
      "name": "python"
    }
  },
  "cells": [
    {
      "cell_type": "markdown",
      "source": [
        "# BEGIN"
      ],
      "metadata": {
        "id": "oo0l-WT0_TAm"
      }
    },
    {
      "cell_type": "code",
      "execution_count": 2,
      "metadata": {
        "id": "eWICA6Jbi1An"
      },
      "outputs": [],
      "source": [
        "import pandas as pd"
      ]
    },
    {
      "cell_type": "code",
      "source": [
        "data = pd.read_csv('road-accidents.csv')\n",
        "data"
      ],
      "metadata": {
        "colab": {
          "base_uri": "https://localhost:8080/",
          "height": 1000
        },
        "id": "RdKIzQ6ujJoz",
        "outputId": "a7429f26-ddf9-4e5d-a73a-71cb44c4518f"
      },
      "execution_count": 3,
      "outputs": [
        {
          "output_type": "execute_result",
          "data": {
            "text/plain": [
              "                                  ##### LICENSE #####\n",
              "0   # This data set is modified from the original ...\n",
              "1   # and it is released under CC BY 4.0 (https://...\n",
              "2                    ##### COLUMN ABBREVIATIONS #####\n",
              "3   # drvr_fatl_col_bmiles = Number of drivers inv...\n",
              "4   # perc_fatl_speed = Percentage Of Drivers Invo...\n",
              "5   # perc_fatl_alcohol = Percentage Of Drivers In...\n",
              "6   # perc_fatl_1st_time = Percentage Of Drivers I...\n",
              "7                              ##### DATA BEGIN #####\n",
              "8   state|drvr_fatl_col_bmiles|perc_fatl_speed|per...\n",
              "9                               Alabama|18.8|39|30|80\n",
              "10                               Alaska|18.1|41|25|94\n",
              "11                              Arizona|18.6|35|28|96\n",
              "12                             Arkansas|22.4|18|26|95\n",
              "13                             California|12|35|28|89\n",
              "14                             Colorado|13.6|37|28|95\n",
              "15                          Connecticut|10.8|46|36|82\n",
              "16                             Delaware|16.2|38|30|99\n",
              "17                 District of Columbia|5.9|34|27|100\n",
              "18                              Florida|17.9|21|29|94\n",
              "19                              Georgia|15.6|19|25|93\n",
              "20                               Hawaii|17.5|54|41|87\n",
              "21                                Idaho|15.3|36|29|98\n",
              "22                             Illinois|12.8|36|34|96\n",
              "23                              Indiana|14.5|25|29|95\n",
              "24                                 Iowa|15.7|17|25|87\n",
              "25                               Kansas|17.8|27|24|85\n",
              "26                             Kentucky|21.4|19|23|76\n",
              "27                            Louisiana|20.5|35|33|98\n",
              "28                                Maine|15.1|38|30|84\n",
              "29                             Maryland|12.5|34|32|99\n",
              "30                         Massachusetts|8.2|23|35|80\n",
              "31                             Michigan|14.1|24|28|77\n",
              "32                             Minnesota|9.6|23|29|88\n",
              "33                         Mississippi|17.6|15|31|100\n",
              "34                             Missouri|16.1|43|34|84\n",
              "35                              Montana|21.4|39|44|85\n",
              "36                             Nebraska|14.9|13|35|90\n",
              "37                               Nevada|14.7|37|32|99\n",
              "38                        New Hampshire|11.6|35|30|83\n",
              "39                           New Jersey|11.2|16|28|78\n",
              "40                           New Mexico|18.4|19|27|98\n",
              "41                             New York|12.3|32|29|80\n",
              "42                       North Carolina|16.8|39|31|81\n",
              "43                         North Dakota|23.9|23|42|86\n",
              "44                                 Ohio|14.1|28|34|82\n",
              "45                             Oklahoma|19.9|32|29|94\n",
              "46                               Oregon|12.8|33|26|90\n",
              "47                         Pennsylvania|18.2|50|31|88\n",
              "48                         Rhode Island|11.1|34|38|79\n",
              "49                       South Carolina|23.9|38|41|81\n",
              "50                         South Dakota|19.4|31|33|86\n",
              "51                            Tennessee|19.5|21|29|81\n",
              "52                                Texas|19.4|40|38|87\n",
              "53                                 Utah|11.3|43|16|96\n",
              "54                              Vermont|13.6|30|30|95\n",
              "55                             Virginia|12.7|19|27|88\n",
              "56                           Washington|10.6|42|33|86\n",
              "57                        West Virginia|23.8|34|28|87\n",
              "58                            Wisconsin|13.8|36|33|84\n",
              "59                              Wyoming|17.4|42|32|90"
            ],
            "text/html": [
              "\n",
              "  <div id=\"df-f55b5cbe-2164-4dbb-9d5f-b641895cff99\">\n",
              "    <div class=\"colab-df-container\">\n",
              "      <div>\n",
              "<style scoped>\n",
              "    .dataframe tbody tr th:only-of-type {\n",
              "        vertical-align: middle;\n",
              "    }\n",
              "\n",
              "    .dataframe tbody tr th {\n",
              "        vertical-align: top;\n",
              "    }\n",
              "\n",
              "    .dataframe thead th {\n",
              "        text-align: right;\n",
              "    }\n",
              "</style>\n",
              "<table border=\"1\" class=\"dataframe\">\n",
              "  <thead>\n",
              "    <tr style=\"text-align: right;\">\n",
              "      <th></th>\n",
              "      <th>##### LICENSE #####</th>\n",
              "    </tr>\n",
              "  </thead>\n",
              "  <tbody>\n",
              "    <tr>\n",
              "      <th>0</th>\n",
              "      <td># This data set is modified from the original ...</td>\n",
              "    </tr>\n",
              "    <tr>\n",
              "      <th>1</th>\n",
              "      <td># and it is released under CC BY 4.0 (https://...</td>\n",
              "    </tr>\n",
              "    <tr>\n",
              "      <th>2</th>\n",
              "      <td>##### COLUMN ABBREVIATIONS #####</td>\n",
              "    </tr>\n",
              "    <tr>\n",
              "      <th>3</th>\n",
              "      <td># drvr_fatl_col_bmiles = Number of drivers inv...</td>\n",
              "    </tr>\n",
              "    <tr>\n",
              "      <th>4</th>\n",
              "      <td># perc_fatl_speed = Percentage Of Drivers Invo...</td>\n",
              "    </tr>\n",
              "    <tr>\n",
              "      <th>5</th>\n",
              "      <td># perc_fatl_alcohol = Percentage Of Drivers In...</td>\n",
              "    </tr>\n",
              "    <tr>\n",
              "      <th>6</th>\n",
              "      <td># perc_fatl_1st_time = Percentage Of Drivers I...</td>\n",
              "    </tr>\n",
              "    <tr>\n",
              "      <th>7</th>\n",
              "      <td>##### DATA BEGIN #####</td>\n",
              "    </tr>\n",
              "    <tr>\n",
              "      <th>8</th>\n",
              "      <td>state|drvr_fatl_col_bmiles|perc_fatl_speed|per...</td>\n",
              "    </tr>\n",
              "    <tr>\n",
              "      <th>9</th>\n",
              "      <td>Alabama|18.8|39|30|80</td>\n",
              "    </tr>\n",
              "    <tr>\n",
              "      <th>10</th>\n",
              "      <td>Alaska|18.1|41|25|94</td>\n",
              "    </tr>\n",
              "    <tr>\n",
              "      <th>11</th>\n",
              "      <td>Arizona|18.6|35|28|96</td>\n",
              "    </tr>\n",
              "    <tr>\n",
              "      <th>12</th>\n",
              "      <td>Arkansas|22.4|18|26|95</td>\n",
              "    </tr>\n",
              "    <tr>\n",
              "      <th>13</th>\n",
              "      <td>California|12|35|28|89</td>\n",
              "    </tr>\n",
              "    <tr>\n",
              "      <th>14</th>\n",
              "      <td>Colorado|13.6|37|28|95</td>\n",
              "    </tr>\n",
              "    <tr>\n",
              "      <th>15</th>\n",
              "      <td>Connecticut|10.8|46|36|82</td>\n",
              "    </tr>\n",
              "    <tr>\n",
              "      <th>16</th>\n",
              "      <td>Delaware|16.2|38|30|99</td>\n",
              "    </tr>\n",
              "    <tr>\n",
              "      <th>17</th>\n",
              "      <td>District of Columbia|5.9|34|27|100</td>\n",
              "    </tr>\n",
              "    <tr>\n",
              "      <th>18</th>\n",
              "      <td>Florida|17.9|21|29|94</td>\n",
              "    </tr>\n",
              "    <tr>\n",
              "      <th>19</th>\n",
              "      <td>Georgia|15.6|19|25|93</td>\n",
              "    </tr>\n",
              "    <tr>\n",
              "      <th>20</th>\n",
              "      <td>Hawaii|17.5|54|41|87</td>\n",
              "    </tr>\n",
              "    <tr>\n",
              "      <th>21</th>\n",
              "      <td>Idaho|15.3|36|29|98</td>\n",
              "    </tr>\n",
              "    <tr>\n",
              "      <th>22</th>\n",
              "      <td>Illinois|12.8|36|34|96</td>\n",
              "    </tr>\n",
              "    <tr>\n",
              "      <th>23</th>\n",
              "      <td>Indiana|14.5|25|29|95</td>\n",
              "    </tr>\n",
              "    <tr>\n",
              "      <th>24</th>\n",
              "      <td>Iowa|15.7|17|25|87</td>\n",
              "    </tr>\n",
              "    <tr>\n",
              "      <th>25</th>\n",
              "      <td>Kansas|17.8|27|24|85</td>\n",
              "    </tr>\n",
              "    <tr>\n",
              "      <th>26</th>\n",
              "      <td>Kentucky|21.4|19|23|76</td>\n",
              "    </tr>\n",
              "    <tr>\n",
              "      <th>27</th>\n",
              "      <td>Louisiana|20.5|35|33|98</td>\n",
              "    </tr>\n",
              "    <tr>\n",
              "      <th>28</th>\n",
              "      <td>Maine|15.1|38|30|84</td>\n",
              "    </tr>\n",
              "    <tr>\n",
              "      <th>29</th>\n",
              "      <td>Maryland|12.5|34|32|99</td>\n",
              "    </tr>\n",
              "    <tr>\n",
              "      <th>30</th>\n",
              "      <td>Massachusetts|8.2|23|35|80</td>\n",
              "    </tr>\n",
              "    <tr>\n",
              "      <th>31</th>\n",
              "      <td>Michigan|14.1|24|28|77</td>\n",
              "    </tr>\n",
              "    <tr>\n",
              "      <th>32</th>\n",
              "      <td>Minnesota|9.6|23|29|88</td>\n",
              "    </tr>\n",
              "    <tr>\n",
              "      <th>33</th>\n",
              "      <td>Mississippi|17.6|15|31|100</td>\n",
              "    </tr>\n",
              "    <tr>\n",
              "      <th>34</th>\n",
              "      <td>Missouri|16.1|43|34|84</td>\n",
              "    </tr>\n",
              "    <tr>\n",
              "      <th>35</th>\n",
              "      <td>Montana|21.4|39|44|85</td>\n",
              "    </tr>\n",
              "    <tr>\n",
              "      <th>36</th>\n",
              "      <td>Nebraska|14.9|13|35|90</td>\n",
              "    </tr>\n",
              "    <tr>\n",
              "      <th>37</th>\n",
              "      <td>Nevada|14.7|37|32|99</td>\n",
              "    </tr>\n",
              "    <tr>\n",
              "      <th>38</th>\n",
              "      <td>New Hampshire|11.6|35|30|83</td>\n",
              "    </tr>\n",
              "    <tr>\n",
              "      <th>39</th>\n",
              "      <td>New Jersey|11.2|16|28|78</td>\n",
              "    </tr>\n",
              "    <tr>\n",
              "      <th>40</th>\n",
              "      <td>New Mexico|18.4|19|27|98</td>\n",
              "    </tr>\n",
              "    <tr>\n",
              "      <th>41</th>\n",
              "      <td>New York|12.3|32|29|80</td>\n",
              "    </tr>\n",
              "    <tr>\n",
              "      <th>42</th>\n",
              "      <td>North Carolina|16.8|39|31|81</td>\n",
              "    </tr>\n",
              "    <tr>\n",
              "      <th>43</th>\n",
              "      <td>North Dakota|23.9|23|42|86</td>\n",
              "    </tr>\n",
              "    <tr>\n",
              "      <th>44</th>\n",
              "      <td>Ohio|14.1|28|34|82</td>\n",
              "    </tr>\n",
              "    <tr>\n",
              "      <th>45</th>\n",
              "      <td>Oklahoma|19.9|32|29|94</td>\n",
              "    </tr>\n",
              "    <tr>\n",
              "      <th>46</th>\n",
              "      <td>Oregon|12.8|33|26|90</td>\n",
              "    </tr>\n",
              "    <tr>\n",
              "      <th>47</th>\n",
              "      <td>Pennsylvania|18.2|50|31|88</td>\n",
              "    </tr>\n",
              "    <tr>\n",
              "      <th>48</th>\n",
              "      <td>Rhode Island|11.1|34|38|79</td>\n",
              "    </tr>\n",
              "    <tr>\n",
              "      <th>49</th>\n",
              "      <td>South Carolina|23.9|38|41|81</td>\n",
              "    </tr>\n",
              "    <tr>\n",
              "      <th>50</th>\n",
              "      <td>South Dakota|19.4|31|33|86</td>\n",
              "    </tr>\n",
              "    <tr>\n",
              "      <th>51</th>\n",
              "      <td>Tennessee|19.5|21|29|81</td>\n",
              "    </tr>\n",
              "    <tr>\n",
              "      <th>52</th>\n",
              "      <td>Texas|19.4|40|38|87</td>\n",
              "    </tr>\n",
              "    <tr>\n",
              "      <th>53</th>\n",
              "      <td>Utah|11.3|43|16|96</td>\n",
              "    </tr>\n",
              "    <tr>\n",
              "      <th>54</th>\n",
              "      <td>Vermont|13.6|30|30|95</td>\n",
              "    </tr>\n",
              "    <tr>\n",
              "      <th>55</th>\n",
              "      <td>Virginia|12.7|19|27|88</td>\n",
              "    </tr>\n",
              "    <tr>\n",
              "      <th>56</th>\n",
              "      <td>Washington|10.6|42|33|86</td>\n",
              "    </tr>\n",
              "    <tr>\n",
              "      <th>57</th>\n",
              "      <td>West Virginia|23.8|34|28|87</td>\n",
              "    </tr>\n",
              "    <tr>\n",
              "      <th>58</th>\n",
              "      <td>Wisconsin|13.8|36|33|84</td>\n",
              "    </tr>\n",
              "    <tr>\n",
              "      <th>59</th>\n",
              "      <td>Wyoming|17.4|42|32|90</td>\n",
              "    </tr>\n",
              "  </tbody>\n",
              "</table>\n",
              "</div>\n",
              "      <button class=\"colab-df-convert\" onclick=\"convertToInteractive('df-f55b5cbe-2164-4dbb-9d5f-b641895cff99')\"\n",
              "              title=\"Convert this dataframe to an interactive table.\"\n",
              "              style=\"display:none;\">\n",
              "        \n",
              "  <svg xmlns=\"http://www.w3.org/2000/svg\" height=\"24px\"viewBox=\"0 0 24 24\"\n",
              "       width=\"24px\">\n",
              "    <path d=\"M0 0h24v24H0V0z\" fill=\"none\"/>\n",
              "    <path d=\"M18.56 5.44l.94 2.06.94-2.06 2.06-.94-2.06-.94-.94-2.06-.94 2.06-2.06.94zm-11 1L8.5 8.5l.94-2.06 2.06-.94-2.06-.94L8.5 2.5l-.94 2.06-2.06.94zm10 10l.94 2.06.94-2.06 2.06-.94-2.06-.94-.94-2.06-.94 2.06-2.06.94z\"/><path d=\"M17.41 7.96l-1.37-1.37c-.4-.4-.92-.59-1.43-.59-.52 0-1.04.2-1.43.59L10.3 9.45l-7.72 7.72c-.78.78-.78 2.05 0 2.83L4 21.41c.39.39.9.59 1.41.59.51 0 1.02-.2 1.41-.59l7.78-7.78 2.81-2.81c.8-.78.8-2.07 0-2.86zM5.41 20L4 18.59l7.72-7.72 1.47 1.35L5.41 20z\"/>\n",
              "  </svg>\n",
              "      </button>\n",
              "      \n",
              "  <style>\n",
              "    .colab-df-container {\n",
              "      display:flex;\n",
              "      flex-wrap:wrap;\n",
              "      gap: 12px;\n",
              "    }\n",
              "\n",
              "    .colab-df-convert {\n",
              "      background-color: #E8F0FE;\n",
              "      border: none;\n",
              "      border-radius: 50%;\n",
              "      cursor: pointer;\n",
              "      display: none;\n",
              "      fill: #1967D2;\n",
              "      height: 32px;\n",
              "      padding: 0 0 0 0;\n",
              "      width: 32px;\n",
              "    }\n",
              "\n",
              "    .colab-df-convert:hover {\n",
              "      background-color: #E2EBFA;\n",
              "      box-shadow: 0px 1px 2px rgba(60, 64, 67, 0.3), 0px 1px 3px 1px rgba(60, 64, 67, 0.15);\n",
              "      fill: #174EA6;\n",
              "    }\n",
              "\n",
              "    [theme=dark] .colab-df-convert {\n",
              "      background-color: #3B4455;\n",
              "      fill: #D2E3FC;\n",
              "    }\n",
              "\n",
              "    [theme=dark] .colab-df-convert:hover {\n",
              "      background-color: #434B5C;\n",
              "      box-shadow: 0px 1px 3px 1px rgba(0, 0, 0, 0.15);\n",
              "      filter: drop-shadow(0px 1px 2px rgba(0, 0, 0, 0.3));\n",
              "      fill: #FFFFFF;\n",
              "    }\n",
              "  </style>\n",
              "\n",
              "      <script>\n",
              "        const buttonEl =\n",
              "          document.querySelector('#df-f55b5cbe-2164-4dbb-9d5f-b641895cff99 button.colab-df-convert');\n",
              "        buttonEl.style.display =\n",
              "          google.colab.kernel.accessAllowed ? 'block' : 'none';\n",
              "\n",
              "        async function convertToInteractive(key) {\n",
              "          const element = document.querySelector('#df-f55b5cbe-2164-4dbb-9d5f-b641895cff99');\n",
              "          const dataTable =\n",
              "            await google.colab.kernel.invokeFunction('convertToInteractive',\n",
              "                                                     [key], {});\n",
              "          if (!dataTable) return;\n",
              "\n",
              "          const docLinkHtml = 'Like what you see? Visit the ' +\n",
              "            '<a target=\"_blank\" href=https://colab.research.google.com/notebooks/data_table.ipynb>data table notebook</a>'\n",
              "            + ' to learn more about interactive tables.';\n",
              "          element.innerHTML = '';\n",
              "          dataTable['output_type'] = 'display_data';\n",
              "          await google.colab.output.renderOutput(dataTable, element);\n",
              "          const docLink = document.createElement('div');\n",
              "          docLink.innerHTML = docLinkHtml;\n",
              "          element.appendChild(docLink);\n",
              "        }\n",
              "      </script>\n",
              "    </div>\n",
              "  </div>\n",
              "  "
            ]
          },
          "metadata": {},
          "execution_count": 3
        }
      ]
    },
    {
      "cell_type": "markdown",
      "source": [
        "**The raw data files and their format**"
      ],
      "metadata": {
        "id": "CkmghsPlqCjF"
      }
    },
    {
      "cell_type": "code",
      "source": [
        "data['##### LICENSE #####'].dtype  #object "
      ],
      "metadata": {
        "colab": {
          "base_uri": "https://localhost:8080/"
        },
        "id": "DlRtLlpzjtLl",
        "outputId": "873bb624-c1ad-4952-9489-95c317b58170"
      },
      "execution_count": 4,
      "outputs": [
        {
          "output_type": "execute_result",
          "data": {
            "text/plain": [
              "dtype('O')"
            ]
          },
          "metadata": {},
          "execution_count": 4
        }
      ]
    },
    {
      "cell_type": "code",
      "source": [
        "data['##### LICENSE #####'][0]  #str"
      ],
      "metadata": {
        "colab": {
          "base_uri": "https://localhost:8080/",
          "height": 35
        },
        "id": "ohU_Ld8Hjxk2",
        "outputId": "02884860-2c7a-4742-dcb2-688c55e0ac9d"
      },
      "execution_count": 5,
      "outputs": [
        {
          "output_type": "execute_result",
          "data": {
            "text/plain": [
              "'# This data set is modified from the original at fivethirtyeight (https://github.com/fivethirtyeight/data/tree/master/bad-drivers)'"
            ],
            "application/vnd.google.colaboratory.intrinsic+json": {
              "type": "string"
            }
          },
          "metadata": {},
          "execution_count": 5
        }
      ]
    },
    {
      "cell_type": "markdown",
      "source": [
        "# **Read in and get an overview of the data**"
      ],
      "metadata": {
        "id": "dhAuIf0wqbKU"
      }
    },
    {
      "cell_type": "code",
      "source": [
        "data_sep =pd.read_csv('road-accidents.csv', comment ='#' , sep = '|')\n",
        "data_sep"
      ],
      "metadata": {
        "colab": {
          "base_uri": "https://localhost:8080/",
          "height": 1000
        },
        "id": "BoyxCU5fj1fB",
        "outputId": "e17c8feb-8b27-454a-b503-bf01cce7c9b1"
      },
      "execution_count": 6,
      "outputs": [
        {
          "output_type": "execute_result",
          "data": {
            "text/plain": [
              "                   state  drvr_fatl_col_bmiles  perc_fatl_speed  \\\n",
              "0                Alabama                  18.8               39   \n",
              "1                 Alaska                  18.1               41   \n",
              "2                Arizona                  18.6               35   \n",
              "3               Arkansas                  22.4               18   \n",
              "4             California                  12.0               35   \n",
              "5               Colorado                  13.6               37   \n",
              "6            Connecticut                  10.8               46   \n",
              "7               Delaware                  16.2               38   \n",
              "8   District of Columbia                   5.9               34   \n",
              "9                Florida                  17.9               21   \n",
              "10               Georgia                  15.6               19   \n",
              "11                Hawaii                  17.5               54   \n",
              "12                 Idaho                  15.3               36   \n",
              "13              Illinois                  12.8               36   \n",
              "14               Indiana                  14.5               25   \n",
              "15                  Iowa                  15.7               17   \n",
              "16                Kansas                  17.8               27   \n",
              "17              Kentucky                  21.4               19   \n",
              "18             Louisiana                  20.5               35   \n",
              "19                 Maine                  15.1               38   \n",
              "20              Maryland                  12.5               34   \n",
              "21         Massachusetts                   8.2               23   \n",
              "22              Michigan                  14.1               24   \n",
              "23             Minnesota                   9.6               23   \n",
              "24           Mississippi                  17.6               15   \n",
              "25              Missouri                  16.1               43   \n",
              "26               Montana                  21.4               39   \n",
              "27              Nebraska                  14.9               13   \n",
              "28                Nevada                  14.7               37   \n",
              "29         New Hampshire                  11.6               35   \n",
              "30            New Jersey                  11.2               16   \n",
              "31            New Mexico                  18.4               19   \n",
              "32              New York                  12.3               32   \n",
              "33        North Carolina                  16.8               39   \n",
              "34          North Dakota                  23.9               23   \n",
              "35                  Ohio                  14.1               28   \n",
              "36              Oklahoma                  19.9               32   \n",
              "37                Oregon                  12.8               33   \n",
              "38          Pennsylvania                  18.2               50   \n",
              "39          Rhode Island                  11.1               34   \n",
              "40        South Carolina                  23.9               38   \n",
              "41          South Dakota                  19.4               31   \n",
              "42             Tennessee                  19.5               21   \n",
              "43                 Texas                  19.4               40   \n",
              "44                  Utah                  11.3               43   \n",
              "45               Vermont                  13.6               30   \n",
              "46              Virginia                  12.7               19   \n",
              "47            Washington                  10.6               42   \n",
              "48         West Virginia                  23.8               34   \n",
              "49             Wisconsin                  13.8               36   \n",
              "50               Wyoming                  17.4               42   \n",
              "\n",
              "    perc_fatl_alcohol  perc_fatl_1st_time  \n",
              "0                  30                  80  \n",
              "1                  25                  94  \n",
              "2                  28                  96  \n",
              "3                  26                  95  \n",
              "4                  28                  89  \n",
              "5                  28                  95  \n",
              "6                  36                  82  \n",
              "7                  30                  99  \n",
              "8                  27                 100  \n",
              "9                  29                  94  \n",
              "10                 25                  93  \n",
              "11                 41                  87  \n",
              "12                 29                  98  \n",
              "13                 34                  96  \n",
              "14                 29                  95  \n",
              "15                 25                  87  \n",
              "16                 24                  85  \n",
              "17                 23                  76  \n",
              "18                 33                  98  \n",
              "19                 30                  84  \n",
              "20                 32                  99  \n",
              "21                 35                  80  \n",
              "22                 28                  77  \n",
              "23                 29                  88  \n",
              "24                 31                 100  \n",
              "25                 34                  84  \n",
              "26                 44                  85  \n",
              "27                 35                  90  \n",
              "28                 32                  99  \n",
              "29                 30                  83  \n",
              "30                 28                  78  \n",
              "31                 27                  98  \n",
              "32                 29                  80  \n",
              "33                 31                  81  \n",
              "34                 42                  86  \n",
              "35                 34                  82  \n",
              "36                 29                  94  \n",
              "37                 26                  90  \n",
              "38                 31                  88  \n",
              "39                 38                  79  \n",
              "40                 41                  81  \n",
              "41                 33                  86  \n",
              "42                 29                  81  \n",
              "43                 38                  87  \n",
              "44                 16                  96  \n",
              "45                 30                  95  \n",
              "46                 27                  88  \n",
              "47                 33                  86  \n",
              "48                 28                  87  \n",
              "49                 33                  84  \n",
              "50                 32                  90  "
            ],
            "text/html": [
              "\n",
              "  <div id=\"df-98a7a2d4-b877-47a5-9104-0dbcaf357f20\">\n",
              "    <div class=\"colab-df-container\">\n",
              "      <div>\n",
              "<style scoped>\n",
              "    .dataframe tbody tr th:only-of-type {\n",
              "        vertical-align: middle;\n",
              "    }\n",
              "\n",
              "    .dataframe tbody tr th {\n",
              "        vertical-align: top;\n",
              "    }\n",
              "\n",
              "    .dataframe thead th {\n",
              "        text-align: right;\n",
              "    }\n",
              "</style>\n",
              "<table border=\"1\" class=\"dataframe\">\n",
              "  <thead>\n",
              "    <tr style=\"text-align: right;\">\n",
              "      <th></th>\n",
              "      <th>state</th>\n",
              "      <th>drvr_fatl_col_bmiles</th>\n",
              "      <th>perc_fatl_speed</th>\n",
              "      <th>perc_fatl_alcohol</th>\n",
              "      <th>perc_fatl_1st_time</th>\n",
              "    </tr>\n",
              "  </thead>\n",
              "  <tbody>\n",
              "    <tr>\n",
              "      <th>0</th>\n",
              "      <td>Alabama</td>\n",
              "      <td>18.8</td>\n",
              "      <td>39</td>\n",
              "      <td>30</td>\n",
              "      <td>80</td>\n",
              "    </tr>\n",
              "    <tr>\n",
              "      <th>1</th>\n",
              "      <td>Alaska</td>\n",
              "      <td>18.1</td>\n",
              "      <td>41</td>\n",
              "      <td>25</td>\n",
              "      <td>94</td>\n",
              "    </tr>\n",
              "    <tr>\n",
              "      <th>2</th>\n",
              "      <td>Arizona</td>\n",
              "      <td>18.6</td>\n",
              "      <td>35</td>\n",
              "      <td>28</td>\n",
              "      <td>96</td>\n",
              "    </tr>\n",
              "    <tr>\n",
              "      <th>3</th>\n",
              "      <td>Arkansas</td>\n",
              "      <td>22.4</td>\n",
              "      <td>18</td>\n",
              "      <td>26</td>\n",
              "      <td>95</td>\n",
              "    </tr>\n",
              "    <tr>\n",
              "      <th>4</th>\n",
              "      <td>California</td>\n",
              "      <td>12.0</td>\n",
              "      <td>35</td>\n",
              "      <td>28</td>\n",
              "      <td>89</td>\n",
              "    </tr>\n",
              "    <tr>\n",
              "      <th>5</th>\n",
              "      <td>Colorado</td>\n",
              "      <td>13.6</td>\n",
              "      <td>37</td>\n",
              "      <td>28</td>\n",
              "      <td>95</td>\n",
              "    </tr>\n",
              "    <tr>\n",
              "      <th>6</th>\n",
              "      <td>Connecticut</td>\n",
              "      <td>10.8</td>\n",
              "      <td>46</td>\n",
              "      <td>36</td>\n",
              "      <td>82</td>\n",
              "    </tr>\n",
              "    <tr>\n",
              "      <th>7</th>\n",
              "      <td>Delaware</td>\n",
              "      <td>16.2</td>\n",
              "      <td>38</td>\n",
              "      <td>30</td>\n",
              "      <td>99</td>\n",
              "    </tr>\n",
              "    <tr>\n",
              "      <th>8</th>\n",
              "      <td>District of Columbia</td>\n",
              "      <td>5.9</td>\n",
              "      <td>34</td>\n",
              "      <td>27</td>\n",
              "      <td>100</td>\n",
              "    </tr>\n",
              "    <tr>\n",
              "      <th>9</th>\n",
              "      <td>Florida</td>\n",
              "      <td>17.9</td>\n",
              "      <td>21</td>\n",
              "      <td>29</td>\n",
              "      <td>94</td>\n",
              "    </tr>\n",
              "    <tr>\n",
              "      <th>10</th>\n",
              "      <td>Georgia</td>\n",
              "      <td>15.6</td>\n",
              "      <td>19</td>\n",
              "      <td>25</td>\n",
              "      <td>93</td>\n",
              "    </tr>\n",
              "    <tr>\n",
              "      <th>11</th>\n",
              "      <td>Hawaii</td>\n",
              "      <td>17.5</td>\n",
              "      <td>54</td>\n",
              "      <td>41</td>\n",
              "      <td>87</td>\n",
              "    </tr>\n",
              "    <tr>\n",
              "      <th>12</th>\n",
              "      <td>Idaho</td>\n",
              "      <td>15.3</td>\n",
              "      <td>36</td>\n",
              "      <td>29</td>\n",
              "      <td>98</td>\n",
              "    </tr>\n",
              "    <tr>\n",
              "      <th>13</th>\n",
              "      <td>Illinois</td>\n",
              "      <td>12.8</td>\n",
              "      <td>36</td>\n",
              "      <td>34</td>\n",
              "      <td>96</td>\n",
              "    </tr>\n",
              "    <tr>\n",
              "      <th>14</th>\n",
              "      <td>Indiana</td>\n",
              "      <td>14.5</td>\n",
              "      <td>25</td>\n",
              "      <td>29</td>\n",
              "      <td>95</td>\n",
              "    </tr>\n",
              "    <tr>\n",
              "      <th>15</th>\n",
              "      <td>Iowa</td>\n",
              "      <td>15.7</td>\n",
              "      <td>17</td>\n",
              "      <td>25</td>\n",
              "      <td>87</td>\n",
              "    </tr>\n",
              "    <tr>\n",
              "      <th>16</th>\n",
              "      <td>Kansas</td>\n",
              "      <td>17.8</td>\n",
              "      <td>27</td>\n",
              "      <td>24</td>\n",
              "      <td>85</td>\n",
              "    </tr>\n",
              "    <tr>\n",
              "      <th>17</th>\n",
              "      <td>Kentucky</td>\n",
              "      <td>21.4</td>\n",
              "      <td>19</td>\n",
              "      <td>23</td>\n",
              "      <td>76</td>\n",
              "    </tr>\n",
              "    <tr>\n",
              "      <th>18</th>\n",
              "      <td>Louisiana</td>\n",
              "      <td>20.5</td>\n",
              "      <td>35</td>\n",
              "      <td>33</td>\n",
              "      <td>98</td>\n",
              "    </tr>\n",
              "    <tr>\n",
              "      <th>19</th>\n",
              "      <td>Maine</td>\n",
              "      <td>15.1</td>\n",
              "      <td>38</td>\n",
              "      <td>30</td>\n",
              "      <td>84</td>\n",
              "    </tr>\n",
              "    <tr>\n",
              "      <th>20</th>\n",
              "      <td>Maryland</td>\n",
              "      <td>12.5</td>\n",
              "      <td>34</td>\n",
              "      <td>32</td>\n",
              "      <td>99</td>\n",
              "    </tr>\n",
              "    <tr>\n",
              "      <th>21</th>\n",
              "      <td>Massachusetts</td>\n",
              "      <td>8.2</td>\n",
              "      <td>23</td>\n",
              "      <td>35</td>\n",
              "      <td>80</td>\n",
              "    </tr>\n",
              "    <tr>\n",
              "      <th>22</th>\n",
              "      <td>Michigan</td>\n",
              "      <td>14.1</td>\n",
              "      <td>24</td>\n",
              "      <td>28</td>\n",
              "      <td>77</td>\n",
              "    </tr>\n",
              "    <tr>\n",
              "      <th>23</th>\n",
              "      <td>Minnesota</td>\n",
              "      <td>9.6</td>\n",
              "      <td>23</td>\n",
              "      <td>29</td>\n",
              "      <td>88</td>\n",
              "    </tr>\n",
              "    <tr>\n",
              "      <th>24</th>\n",
              "      <td>Mississippi</td>\n",
              "      <td>17.6</td>\n",
              "      <td>15</td>\n",
              "      <td>31</td>\n",
              "      <td>100</td>\n",
              "    </tr>\n",
              "    <tr>\n",
              "      <th>25</th>\n",
              "      <td>Missouri</td>\n",
              "      <td>16.1</td>\n",
              "      <td>43</td>\n",
              "      <td>34</td>\n",
              "      <td>84</td>\n",
              "    </tr>\n",
              "    <tr>\n",
              "      <th>26</th>\n",
              "      <td>Montana</td>\n",
              "      <td>21.4</td>\n",
              "      <td>39</td>\n",
              "      <td>44</td>\n",
              "      <td>85</td>\n",
              "    </tr>\n",
              "    <tr>\n",
              "      <th>27</th>\n",
              "      <td>Nebraska</td>\n",
              "      <td>14.9</td>\n",
              "      <td>13</td>\n",
              "      <td>35</td>\n",
              "      <td>90</td>\n",
              "    </tr>\n",
              "    <tr>\n",
              "      <th>28</th>\n",
              "      <td>Nevada</td>\n",
              "      <td>14.7</td>\n",
              "      <td>37</td>\n",
              "      <td>32</td>\n",
              "      <td>99</td>\n",
              "    </tr>\n",
              "    <tr>\n",
              "      <th>29</th>\n",
              "      <td>New Hampshire</td>\n",
              "      <td>11.6</td>\n",
              "      <td>35</td>\n",
              "      <td>30</td>\n",
              "      <td>83</td>\n",
              "    </tr>\n",
              "    <tr>\n",
              "      <th>30</th>\n",
              "      <td>New Jersey</td>\n",
              "      <td>11.2</td>\n",
              "      <td>16</td>\n",
              "      <td>28</td>\n",
              "      <td>78</td>\n",
              "    </tr>\n",
              "    <tr>\n",
              "      <th>31</th>\n",
              "      <td>New Mexico</td>\n",
              "      <td>18.4</td>\n",
              "      <td>19</td>\n",
              "      <td>27</td>\n",
              "      <td>98</td>\n",
              "    </tr>\n",
              "    <tr>\n",
              "      <th>32</th>\n",
              "      <td>New York</td>\n",
              "      <td>12.3</td>\n",
              "      <td>32</td>\n",
              "      <td>29</td>\n",
              "      <td>80</td>\n",
              "    </tr>\n",
              "    <tr>\n",
              "      <th>33</th>\n",
              "      <td>North Carolina</td>\n",
              "      <td>16.8</td>\n",
              "      <td>39</td>\n",
              "      <td>31</td>\n",
              "      <td>81</td>\n",
              "    </tr>\n",
              "    <tr>\n",
              "      <th>34</th>\n",
              "      <td>North Dakota</td>\n",
              "      <td>23.9</td>\n",
              "      <td>23</td>\n",
              "      <td>42</td>\n",
              "      <td>86</td>\n",
              "    </tr>\n",
              "    <tr>\n",
              "      <th>35</th>\n",
              "      <td>Ohio</td>\n",
              "      <td>14.1</td>\n",
              "      <td>28</td>\n",
              "      <td>34</td>\n",
              "      <td>82</td>\n",
              "    </tr>\n",
              "    <tr>\n",
              "      <th>36</th>\n",
              "      <td>Oklahoma</td>\n",
              "      <td>19.9</td>\n",
              "      <td>32</td>\n",
              "      <td>29</td>\n",
              "      <td>94</td>\n",
              "    </tr>\n",
              "    <tr>\n",
              "      <th>37</th>\n",
              "      <td>Oregon</td>\n",
              "      <td>12.8</td>\n",
              "      <td>33</td>\n",
              "      <td>26</td>\n",
              "      <td>90</td>\n",
              "    </tr>\n",
              "    <tr>\n",
              "      <th>38</th>\n",
              "      <td>Pennsylvania</td>\n",
              "      <td>18.2</td>\n",
              "      <td>50</td>\n",
              "      <td>31</td>\n",
              "      <td>88</td>\n",
              "    </tr>\n",
              "    <tr>\n",
              "      <th>39</th>\n",
              "      <td>Rhode Island</td>\n",
              "      <td>11.1</td>\n",
              "      <td>34</td>\n",
              "      <td>38</td>\n",
              "      <td>79</td>\n",
              "    </tr>\n",
              "    <tr>\n",
              "      <th>40</th>\n",
              "      <td>South Carolina</td>\n",
              "      <td>23.9</td>\n",
              "      <td>38</td>\n",
              "      <td>41</td>\n",
              "      <td>81</td>\n",
              "    </tr>\n",
              "    <tr>\n",
              "      <th>41</th>\n",
              "      <td>South Dakota</td>\n",
              "      <td>19.4</td>\n",
              "      <td>31</td>\n",
              "      <td>33</td>\n",
              "      <td>86</td>\n",
              "    </tr>\n",
              "    <tr>\n",
              "      <th>42</th>\n",
              "      <td>Tennessee</td>\n",
              "      <td>19.5</td>\n",
              "      <td>21</td>\n",
              "      <td>29</td>\n",
              "      <td>81</td>\n",
              "    </tr>\n",
              "    <tr>\n",
              "      <th>43</th>\n",
              "      <td>Texas</td>\n",
              "      <td>19.4</td>\n",
              "      <td>40</td>\n",
              "      <td>38</td>\n",
              "      <td>87</td>\n",
              "    </tr>\n",
              "    <tr>\n",
              "      <th>44</th>\n",
              "      <td>Utah</td>\n",
              "      <td>11.3</td>\n",
              "      <td>43</td>\n",
              "      <td>16</td>\n",
              "      <td>96</td>\n",
              "    </tr>\n",
              "    <tr>\n",
              "      <th>45</th>\n",
              "      <td>Vermont</td>\n",
              "      <td>13.6</td>\n",
              "      <td>30</td>\n",
              "      <td>30</td>\n",
              "      <td>95</td>\n",
              "    </tr>\n",
              "    <tr>\n",
              "      <th>46</th>\n",
              "      <td>Virginia</td>\n",
              "      <td>12.7</td>\n",
              "      <td>19</td>\n",
              "      <td>27</td>\n",
              "      <td>88</td>\n",
              "    </tr>\n",
              "    <tr>\n",
              "      <th>47</th>\n",
              "      <td>Washington</td>\n",
              "      <td>10.6</td>\n",
              "      <td>42</td>\n",
              "      <td>33</td>\n",
              "      <td>86</td>\n",
              "    </tr>\n",
              "    <tr>\n",
              "      <th>48</th>\n",
              "      <td>West Virginia</td>\n",
              "      <td>23.8</td>\n",
              "      <td>34</td>\n",
              "      <td>28</td>\n",
              "      <td>87</td>\n",
              "    </tr>\n",
              "    <tr>\n",
              "      <th>49</th>\n",
              "      <td>Wisconsin</td>\n",
              "      <td>13.8</td>\n",
              "      <td>36</td>\n",
              "      <td>33</td>\n",
              "      <td>84</td>\n",
              "    </tr>\n",
              "    <tr>\n",
              "      <th>50</th>\n",
              "      <td>Wyoming</td>\n",
              "      <td>17.4</td>\n",
              "      <td>42</td>\n",
              "      <td>32</td>\n",
              "      <td>90</td>\n",
              "    </tr>\n",
              "  </tbody>\n",
              "</table>\n",
              "</div>\n",
              "      <button class=\"colab-df-convert\" onclick=\"convertToInteractive('df-98a7a2d4-b877-47a5-9104-0dbcaf357f20')\"\n",
              "              title=\"Convert this dataframe to an interactive table.\"\n",
              "              style=\"display:none;\">\n",
              "        \n",
              "  <svg xmlns=\"http://www.w3.org/2000/svg\" height=\"24px\"viewBox=\"0 0 24 24\"\n",
              "       width=\"24px\">\n",
              "    <path d=\"M0 0h24v24H0V0z\" fill=\"none\"/>\n",
              "    <path d=\"M18.56 5.44l.94 2.06.94-2.06 2.06-.94-2.06-.94-.94-2.06-.94 2.06-2.06.94zm-11 1L8.5 8.5l.94-2.06 2.06-.94-2.06-.94L8.5 2.5l-.94 2.06-2.06.94zm10 10l.94 2.06.94-2.06 2.06-.94-2.06-.94-.94-2.06-.94 2.06-2.06.94z\"/><path d=\"M17.41 7.96l-1.37-1.37c-.4-.4-.92-.59-1.43-.59-.52 0-1.04.2-1.43.59L10.3 9.45l-7.72 7.72c-.78.78-.78 2.05 0 2.83L4 21.41c.39.39.9.59 1.41.59.51 0 1.02-.2 1.41-.59l7.78-7.78 2.81-2.81c.8-.78.8-2.07 0-2.86zM5.41 20L4 18.59l7.72-7.72 1.47 1.35L5.41 20z\"/>\n",
              "  </svg>\n",
              "      </button>\n",
              "      \n",
              "  <style>\n",
              "    .colab-df-container {\n",
              "      display:flex;\n",
              "      flex-wrap:wrap;\n",
              "      gap: 12px;\n",
              "    }\n",
              "\n",
              "    .colab-df-convert {\n",
              "      background-color: #E8F0FE;\n",
              "      border: none;\n",
              "      border-radius: 50%;\n",
              "      cursor: pointer;\n",
              "      display: none;\n",
              "      fill: #1967D2;\n",
              "      height: 32px;\n",
              "      padding: 0 0 0 0;\n",
              "      width: 32px;\n",
              "    }\n",
              "\n",
              "    .colab-df-convert:hover {\n",
              "      background-color: #E2EBFA;\n",
              "      box-shadow: 0px 1px 2px rgba(60, 64, 67, 0.3), 0px 1px 3px 1px rgba(60, 64, 67, 0.15);\n",
              "      fill: #174EA6;\n",
              "    }\n",
              "\n",
              "    [theme=dark] .colab-df-convert {\n",
              "      background-color: #3B4455;\n",
              "      fill: #D2E3FC;\n",
              "    }\n",
              "\n",
              "    [theme=dark] .colab-df-convert:hover {\n",
              "      background-color: #434B5C;\n",
              "      box-shadow: 0px 1px 3px 1px rgba(0, 0, 0, 0.15);\n",
              "      filter: drop-shadow(0px 1px 2px rgba(0, 0, 0, 0.3));\n",
              "      fill: #FFFFFF;\n",
              "    }\n",
              "  </style>\n",
              "\n",
              "      <script>\n",
              "        const buttonEl =\n",
              "          document.querySelector('#df-98a7a2d4-b877-47a5-9104-0dbcaf357f20 button.colab-df-convert');\n",
              "        buttonEl.style.display =\n",
              "          google.colab.kernel.accessAllowed ? 'block' : 'none';\n",
              "\n",
              "        async function convertToInteractive(key) {\n",
              "          const element = document.querySelector('#df-98a7a2d4-b877-47a5-9104-0dbcaf357f20');\n",
              "          const dataTable =\n",
              "            await google.colab.kernel.invokeFunction('convertToInteractive',\n",
              "                                                     [key], {});\n",
              "          if (!dataTable) return;\n",
              "\n",
              "          const docLinkHtml = 'Like what you see? Visit the ' +\n",
              "            '<a target=\"_blank\" href=https://colab.research.google.com/notebooks/data_table.ipynb>data table notebook</a>'\n",
              "            + ' to learn more about interactive tables.';\n",
              "          element.innerHTML = '';\n",
              "          dataTable['output_type'] = 'display_data';\n",
              "          await google.colab.output.renderOutput(dataTable, element);\n",
              "          const docLink = document.createElement('div');\n",
              "          docLink.innerHTML = docLinkHtml;\n",
              "          element.appendChild(docLink);\n",
              "        }\n",
              "      </script>\n",
              "    </div>\n",
              "  </div>\n",
              "  "
            ]
          },
          "metadata": {},
          "execution_count": 6
        }
      ]
    },
    {
      "cell_type": "code",
      "source": [
        "data_sep.shape "
      ],
      "metadata": {
        "colab": {
          "base_uri": "https://localhost:8080/"
        },
        "id": "7uMb-TNlj5oL",
        "outputId": "7bc83faf-641c-4662-f515-89d5193f6e9b"
      },
      "execution_count": 7,
      "outputs": [
        {
          "output_type": "execute_result",
          "data": {
            "text/plain": [
              "(51, 5)"
            ]
          },
          "metadata": {},
          "execution_count": 7
        }
      ]
    },
    {
      "cell_type": "code",
      "source": [
        "data_sep.info()"
      ],
      "metadata": {
        "colab": {
          "base_uri": "https://localhost:8080/"
        },
        "id": "Fnp9D-THkeFh",
        "outputId": "87908b34-d34a-4b11-edbe-f01bde961e30"
      },
      "execution_count": 8,
      "outputs": [
        {
          "output_type": "stream",
          "name": "stdout",
          "text": [
            "<class 'pandas.core.frame.DataFrame'>\n",
            "RangeIndex: 51 entries, 0 to 50\n",
            "Data columns (total 5 columns):\n",
            " #   Column                Non-Null Count  Dtype  \n",
            "---  ------                --------------  -----  \n",
            " 0   state                 51 non-null     object \n",
            " 1   drvr_fatl_col_bmiles  51 non-null     float64\n",
            " 2   perc_fatl_speed       51 non-null     int64  \n",
            " 3   perc_fatl_alcohol     51 non-null     int64  \n",
            " 4   perc_fatl_1st_time    51 non-null     int64  \n",
            "dtypes: float64(1), int64(3), object(1)\n",
            "memory usage: 2.1+ KB\n"
          ]
        }
      ]
    },
    {
      "cell_type": "markdown",
      "source": [
        "# **Create a textual and a graphical summary of the data**"
      ],
      "metadata": {
        "id": "ypo1fyOsqvX2"
      }
    },
    {
      "cell_type": "code",
      "source": [
        "data_sep.describe()"
      ],
      "metadata": {
        "colab": {
          "base_uri": "https://localhost:8080/",
          "height": 300
        },
        "id": "I8ymcl7pkwpV",
        "outputId": "0f74a600-0b58-43b7-b68b-2782cbcd71cf"
      },
      "execution_count": 9,
      "outputs": [
        {
          "output_type": "execute_result",
          "data": {
            "text/plain": [
              "       drvr_fatl_col_bmiles  perc_fatl_speed  perc_fatl_alcohol  \\\n",
              "count             51.000000        51.000000          51.000000   \n",
              "mean              15.790196        31.725490          30.686275   \n",
              "std                4.122002         9.633438           5.132213   \n",
              "min                5.900000        13.000000          16.000000   \n",
              "25%               12.750000        23.000000          28.000000   \n",
              "50%               15.600000        34.000000          30.000000   \n",
              "75%               18.500000        38.000000          33.000000   \n",
              "max               23.900000        54.000000          44.000000   \n",
              "\n",
              "       perc_fatl_1st_time  \n",
              "count            51.00000  \n",
              "mean             88.72549  \n",
              "std               6.96011  \n",
              "min              76.00000  \n",
              "25%              83.50000  \n",
              "50%              88.00000  \n",
              "75%              95.00000  \n",
              "max             100.00000  "
            ],
            "text/html": [
              "\n",
              "  <div id=\"df-b6d4b9e3-dac1-4846-ac42-084b13f8a986\">\n",
              "    <div class=\"colab-df-container\">\n",
              "      <div>\n",
              "<style scoped>\n",
              "    .dataframe tbody tr th:only-of-type {\n",
              "        vertical-align: middle;\n",
              "    }\n",
              "\n",
              "    .dataframe tbody tr th {\n",
              "        vertical-align: top;\n",
              "    }\n",
              "\n",
              "    .dataframe thead th {\n",
              "        text-align: right;\n",
              "    }\n",
              "</style>\n",
              "<table border=\"1\" class=\"dataframe\">\n",
              "  <thead>\n",
              "    <tr style=\"text-align: right;\">\n",
              "      <th></th>\n",
              "      <th>drvr_fatl_col_bmiles</th>\n",
              "      <th>perc_fatl_speed</th>\n",
              "      <th>perc_fatl_alcohol</th>\n",
              "      <th>perc_fatl_1st_time</th>\n",
              "    </tr>\n",
              "  </thead>\n",
              "  <tbody>\n",
              "    <tr>\n",
              "      <th>count</th>\n",
              "      <td>51.000000</td>\n",
              "      <td>51.000000</td>\n",
              "      <td>51.000000</td>\n",
              "      <td>51.00000</td>\n",
              "    </tr>\n",
              "    <tr>\n",
              "      <th>mean</th>\n",
              "      <td>15.790196</td>\n",
              "      <td>31.725490</td>\n",
              "      <td>30.686275</td>\n",
              "      <td>88.72549</td>\n",
              "    </tr>\n",
              "    <tr>\n",
              "      <th>std</th>\n",
              "      <td>4.122002</td>\n",
              "      <td>9.633438</td>\n",
              "      <td>5.132213</td>\n",
              "      <td>6.96011</td>\n",
              "    </tr>\n",
              "    <tr>\n",
              "      <th>min</th>\n",
              "      <td>5.900000</td>\n",
              "      <td>13.000000</td>\n",
              "      <td>16.000000</td>\n",
              "      <td>76.00000</td>\n",
              "    </tr>\n",
              "    <tr>\n",
              "      <th>25%</th>\n",
              "      <td>12.750000</td>\n",
              "      <td>23.000000</td>\n",
              "      <td>28.000000</td>\n",
              "      <td>83.50000</td>\n",
              "    </tr>\n",
              "    <tr>\n",
              "      <th>50%</th>\n",
              "      <td>15.600000</td>\n",
              "      <td>34.000000</td>\n",
              "      <td>30.000000</td>\n",
              "      <td>88.00000</td>\n",
              "    </tr>\n",
              "    <tr>\n",
              "      <th>75%</th>\n",
              "      <td>18.500000</td>\n",
              "      <td>38.000000</td>\n",
              "      <td>33.000000</td>\n",
              "      <td>95.00000</td>\n",
              "    </tr>\n",
              "    <tr>\n",
              "      <th>max</th>\n",
              "      <td>23.900000</td>\n",
              "      <td>54.000000</td>\n",
              "      <td>44.000000</td>\n",
              "      <td>100.00000</td>\n",
              "    </tr>\n",
              "  </tbody>\n",
              "</table>\n",
              "</div>\n",
              "      <button class=\"colab-df-convert\" onclick=\"convertToInteractive('df-b6d4b9e3-dac1-4846-ac42-084b13f8a986')\"\n",
              "              title=\"Convert this dataframe to an interactive table.\"\n",
              "              style=\"display:none;\">\n",
              "        \n",
              "  <svg xmlns=\"http://www.w3.org/2000/svg\" height=\"24px\"viewBox=\"0 0 24 24\"\n",
              "       width=\"24px\">\n",
              "    <path d=\"M0 0h24v24H0V0z\" fill=\"none\"/>\n",
              "    <path d=\"M18.56 5.44l.94 2.06.94-2.06 2.06-.94-2.06-.94-.94-2.06-.94 2.06-2.06.94zm-11 1L8.5 8.5l.94-2.06 2.06-.94-2.06-.94L8.5 2.5l-.94 2.06-2.06.94zm10 10l.94 2.06.94-2.06 2.06-.94-2.06-.94-.94-2.06-.94 2.06-2.06.94z\"/><path d=\"M17.41 7.96l-1.37-1.37c-.4-.4-.92-.59-1.43-.59-.52 0-1.04.2-1.43.59L10.3 9.45l-7.72 7.72c-.78.78-.78 2.05 0 2.83L4 21.41c.39.39.9.59 1.41.59.51 0 1.02-.2 1.41-.59l7.78-7.78 2.81-2.81c.8-.78.8-2.07 0-2.86zM5.41 20L4 18.59l7.72-7.72 1.47 1.35L5.41 20z\"/>\n",
              "  </svg>\n",
              "      </button>\n",
              "      \n",
              "  <style>\n",
              "    .colab-df-container {\n",
              "      display:flex;\n",
              "      flex-wrap:wrap;\n",
              "      gap: 12px;\n",
              "    }\n",
              "\n",
              "    .colab-df-convert {\n",
              "      background-color: #E8F0FE;\n",
              "      border: none;\n",
              "      border-radius: 50%;\n",
              "      cursor: pointer;\n",
              "      display: none;\n",
              "      fill: #1967D2;\n",
              "      height: 32px;\n",
              "      padding: 0 0 0 0;\n",
              "      width: 32px;\n",
              "    }\n",
              "\n",
              "    .colab-df-convert:hover {\n",
              "      background-color: #E2EBFA;\n",
              "      box-shadow: 0px 1px 2px rgba(60, 64, 67, 0.3), 0px 1px 3px 1px rgba(60, 64, 67, 0.15);\n",
              "      fill: #174EA6;\n",
              "    }\n",
              "\n",
              "    [theme=dark] .colab-df-convert {\n",
              "      background-color: #3B4455;\n",
              "      fill: #D2E3FC;\n",
              "    }\n",
              "\n",
              "    [theme=dark] .colab-df-convert:hover {\n",
              "      background-color: #434B5C;\n",
              "      box-shadow: 0px 1px 3px 1px rgba(0, 0, 0, 0.15);\n",
              "      filter: drop-shadow(0px 1px 2px rgba(0, 0, 0, 0.3));\n",
              "      fill: #FFFFFF;\n",
              "    }\n",
              "  </style>\n",
              "\n",
              "      <script>\n",
              "        const buttonEl =\n",
              "          document.querySelector('#df-b6d4b9e3-dac1-4846-ac42-084b13f8a986 button.colab-df-convert');\n",
              "        buttonEl.style.display =\n",
              "          google.colab.kernel.accessAllowed ? 'block' : 'none';\n",
              "\n",
              "        async function convertToInteractive(key) {\n",
              "          const element = document.querySelector('#df-b6d4b9e3-dac1-4846-ac42-084b13f8a986');\n",
              "          const dataTable =\n",
              "            await google.colab.kernel.invokeFunction('convertToInteractive',\n",
              "                                                     [key], {});\n",
              "          if (!dataTable) return;\n",
              "\n",
              "          const docLinkHtml = 'Like what you see? Visit the ' +\n",
              "            '<a target=\"_blank\" href=https://colab.research.google.com/notebooks/data_table.ipynb>data table notebook</a>'\n",
              "            + ' to learn more about interactive tables.';\n",
              "          element.innerHTML = '';\n",
              "          dataTable['output_type'] = 'display_data';\n",
              "          await google.colab.output.renderOutput(dataTable, element);\n",
              "          const docLink = document.createElement('div');\n",
              "          docLink.innerHTML = docLinkHtml;\n",
              "          element.appendChild(docLink);\n",
              "        }\n",
              "      </script>\n",
              "    </div>\n",
              "  </div>\n",
              "  "
            ]
          },
          "metadata": {},
          "execution_count": 9
        }
      ]
    },
    {
      "cell_type": "code",
      "source": [
        "pd.plotting.register_matplotlib_converters()\n",
        "import matplotlib.pyplot as plt\n",
        "%matplotlib inline"
      ],
      "metadata": {
        "id": "c6RxyA4Uj9eN"
      },
      "execution_count": 10,
      "outputs": []
    },
    {
      "cell_type": "code",
      "source": [
        "import numpy as np\n",
        "import seaborn as sns"
      ],
      "metadata": {
        "id": "8EpkEbHUkAck"
      },
      "execution_count": 11,
      "outputs": []
    },
    {
      "cell_type": "code",
      "source": [
        "sns.scatterplot(x=data_sep['drvr_fatl_col_bmiles'], y=data_sep['perc_fatl_speed'])"
      ],
      "metadata": {
        "colab": {
          "base_uri": "https://localhost:8080/",
          "height": 297
        },
        "id": "0JyjbBdTklJc",
        "outputId": "b6a31089-dc80-4d93-b79c-37fdcebaa32e"
      },
      "execution_count": 12,
      "outputs": [
        {
          "output_type": "execute_result",
          "data": {
            "text/plain": [
              "<matplotlib.axes._subplots.AxesSubplot at 0x7f2bba1ef950>"
            ]
          },
          "metadata": {},
          "execution_count": 12
        },
        {
          "output_type": "display_data",
          "data": {
            "text/plain": [
              "<Figure size 432x288 with 1 Axes>"
            ],
            "image/png": "[encoded data removed]"
          },
          "metadata": {
            "needs_background": "light"
          }
        }
      ]
    },
    {
      "cell_type": "code",
      "source": [
        "import seaborn as sns\n",
        "sns.set_theme(style=\"ticks\")\n",
        "\n",
        "sns.pairplot(data_sep,  hue=\"state\")"
      ],
      "metadata": {
        "colab": {
          "base_uri": "https://localhost:8080/",
          "height": 860
        },
        "id": "zHIW1xCkybmj",
        "outputId": "d2876205-e42a-4c53-8aa3-cb6aa9c669e2"
      },
      "execution_count": 13,
      "outputs": [
        {
          "output_type": "execute_result",
          "data": {
            "text/plain": [
              "<seaborn.axisgrid.PairGrid at 0x7f2bb9c9ced0>"
            ]
          },
          "metadata": {},
          "execution_count": 13
        },
        {
          "output_type": "display_data",
          "data": {
            "text/plain": [
              "<Figure size 869.35x720 with 20 Axes>"
            ],
            "image/png": "[encoded data removed]"
          },
          "metadata": {}
        }
      ]
    },
    {
      "cell_type": "code",
      "source": [
        "np.corrcoef(data_sep['drvr_fatl_col_bmiles'],data_sep['perc_fatl_speed'])"
      ],
      "metadata": {
        "colab": {
          "base_uri": "https://localhost:8080/"
        },
        "id": "Y0toVYjCymtK",
        "outputId": "9acc1501-3a27-4160-e4ca-569a17cf8a8a"
      },
      "execution_count": 14,
      "outputs": [
        {
          "output_type": "execute_result",
          "data": {
            "text/plain": [
              "array([[ 1.        , -0.02908015],\n",
              "       [-0.02908015,  1.        ]])"
            ]
          },
          "metadata": {},
          "execution_count": 14
        }
      ]
    },
    {
      "cell_type": "code",
      "source": [
        "np.corrcoef(data_sep['drvr_fatl_col_bmiles'],data_sep['perc_fatl_alcohol'])"
      ],
      "metadata": {
        "colab": {
          "base_uri": "https://localhost:8080/"
        },
        "id": "iBN9Vb8Q20iT",
        "outputId": "2e4c1e4b-6df4-494f-b8b6-b62a6dcafc96"
      },
      "execution_count": 15,
      "outputs": [
        {
          "output_type": "execute_result",
          "data": {
            "text/plain": [
              "array([[1.        , 0.19942634],\n",
              "       [0.19942634, 1.        ]])"
            ]
          },
          "metadata": {},
          "execution_count": 15
        }
      ]
    },
    {
      "cell_type": "code",
      "source": [
        "np.corrcoef(data_sep['drvr_fatl_col_bmiles'],data_sep['perc_fatl_1st_time'])"
      ],
      "metadata": {
        "colab": {
          "base_uri": "https://localhost:8080/"
        },
        "id": "HDe-J6il3Kqv",
        "outputId": "2c341aef-fa0f-4d0b-d1ca-242174856f63"
      },
      "execution_count": 16,
      "outputs": [
        {
          "output_type": "execute_result",
          "data": {
            "text/plain": [
              "array([[ 1.        , -0.01794188],\n",
              "       [-0.01794188,  1.        ]])"
            ]
          },
          "metadata": {},
          "execution_count": 16
        }
      ]
    },
    {
      "cell_type": "code",
      "source": [
        ""
      ],
      "metadata": {
        "id": "kf7pGlzF3-_v"
      },
      "execution_count": 16,
      "outputs": []
    },
    {
      "cell_type": "code",
      "source": [
        "def calculate_corr_with_number_of_accidents():\n",
        "  l = list(data_sep.columns[2:])\n",
        "  for k in l:\n",
        "    x = data_sep[k]\n",
        "    print(f'correlation between {data_sep.columns[1]} and {k} is :', np.corrcoef(data_sep[data_sep.columns[1]],x)[0][1])"
      ],
      "metadata": {
        "id": "2nIKyEKR3wBO"
      },
      "execution_count": 17,
      "outputs": []
    },
    {
      "cell_type": "code",
      "source": [
        "calculate_corr_with_number_of_accidents()"
      ],
      "metadata": {
        "colab": {
          "base_uri": "https://localhost:8080/"
        },
        "id": "pc2a43Je5KDp",
        "outputId": "063ce0ce-e85e-4bfd-ddbb-9caf4f0e0960"
      },
      "execution_count": 18,
      "outputs": [
        {
          "output_type": "stream",
          "name": "stdout",
          "text": [
            "correlation between drvr_fatl_col_bmiles and perc_fatl_speed is : -0.029080145913990683\n",
            "correlation between drvr_fatl_col_bmiles and perc_fatl_alcohol is : 0.19942634378011187\n",
            "correlation between drvr_fatl_col_bmiles and perc_fatl_1st_time is : -0.017941876874043677\n"
          ]
        }
      ]
    },
    {
      "cell_type": "code",
      "source": [
        "np.corrcoef(data_sep['perc_fatl_alcohol'],data_sep['perc_fatl_speed'])[0][1]"
      ],
      "metadata": {
        "colab": {
          "base_uri": "https://localhost:8080/"
        },
        "id": "f_oVjzot-hYZ",
        "outputId": "072943f1-8bfa-4d6b-a046-ecda7c5be3df"
      },
      "execution_count": 19,
      "outputs": [
        {
          "output_type": "execute_result",
          "data": {
            "text/plain": [
              "0.286244171481402"
            ]
          },
          "metadata": {},
          "execution_count": 19
        }
      ]
    },
    {
      "cell_type": "code",
      "source": [
        "np.corrcoef(data_sep['perc_fatl_alcohol'],data_sep['perc_fatl_1st_time'])[0][1]"
      ],
      "metadata": {
        "colab": {
          "base_uri": "https://localhost:8080/"
        },
        "id": "80fkPgTSMKcN",
        "outputId": "a0c4a2a2-4a89-47bd-c406-95faf0e2d0bf"
      },
      "execution_count": 20,
      "outputs": [
        {
          "output_type": "execute_result",
          "data": {
            "text/plain": [
              "-0.24545505951209237"
            ]
          },
          "metadata": {},
          "execution_count": 20
        }
      ]
    },
    {
      "cell_type": "code",
      "source": [
        "np.corrcoef(data_sep['perc_fatl_1st_time'],data_sep['perc_fatl_speed'])[0][1]"
      ],
      "metadata": {
        "colab": {
          "base_uri": "https://localhost:8080/"
        },
        "id": "K64zNhF9MctM",
        "outputId": "71de3e47-4d55-4bb6-f629-bce3be45f652"
      },
      "execution_count": 21,
      "outputs": [
        {
          "output_type": "execute_result",
          "data": {
            "text/plain": [
              "0.014066221138544114"
            ]
          },
          "metadata": {},
          "execution_count": 21
        }
      ]
    },
    {
      "cell_type": "markdown",
      "source": [
        "# **Fit a multivariate linear regression**"
      ],
      "metadata": {
        "id": "P-SGU-Ko-3p9"
      }
    },
    {
      "cell_type": "code",
      "source": [
        "from sklearn import linear_model\n",
        "import statsmodels.api as sm"
      ],
      "metadata": {
        "colab": {
          "base_uri": "https://localhost:8080/"
        },
        "id": "sKIlbg0V5Mcr",
        "outputId": "ca46e278-c0c0-4c1e-c25e-13442a0f836c"
      },
      "execution_count": 22,
      "outputs": [
        {
          "output_type": "stream",
          "name": "stderr",
          "text": [
            "/usr/local/lib/python3.7/dist-packages/statsmodels/tools/_testing.py:19: FutureWarning: pandas.util.testing is deprecated. Use the functions in the public API at pandas.testing instead.\n",
            "  import pandas.util.testing as tm\n"
          ]
        }
      ]
    },
    {
      "cell_type": "code",
      "source": [
        "x=data_sep[['perc_fatl_1st_time','perc_fatl_speed','perc_fatl_alcohol']]\n",
        "y=data_sep['drvr_fatl_col_bmiles'] #outcome\n",
        "regr = linear_model.LinearRegression()\n",
        "regr.fit(x, y)\n",
        "print('Intercept: \\n', regr.intercept_)\n",
        "print('Coefficients: \\n', regr.coef_)\n"
      ],
      "metadata": {
        "colab": {
          "base_uri": "https://localhost:8080/"
        },
        "id": "vmVWy-sk9IQ1",
        "outputId": "b0da6e74-6870-4141-819a-89241ba5a509"
      },
      "execution_count": 23,
      "outputs": [
        {
          "output_type": "stream",
          "name": "stdout",
          "text": [
            "Intercept: \n",
            " 9.06498048340331\n",
            "Coefficients: \n",
            " [ 0.02473301 -0.04180041  0.19086404]\n"
          ]
        }
      ]
    },
    {
      "cell_type": "code",
      "source": [
        "t = regr.predict(x)\n",
        "t"
      ],
      "metadata": {
        "colab": {
          "base_uri": "https://localhost:8080/"
        },
        "id": "rKl0sRMZJdFl",
        "outputId": "21577897-5e59-481a-d979-6fb53edbeb80"
      },
      "execution_count": 24,
      "outputs": [
        {
          "output_type": "execute_result",
          "data": {
            "text/plain": [
              "array([15.13932585, 14.44766691, 15.32052751, 15.62467346, 15.14739647,\n",
              "       15.21219368, 16.04137318, 15.65105336, 15.27039591, 16.04713132,\n",
              "       15.342543  , 16.78495508, 15.51905714, 16.42391131, 15.90466267,\n",
              "       15.27774579, 14.61941162, 14.54035384, 16.3243137 , 15.28005828,\n",
              "       16.19998308, 16.76245264, 15.31040496, 15.81513246, 16.8280599 ,\n",
              "       15.83451236, 17.93508738, 17.42778682, 16.07458184, 15.38072651,\n",
              "       15.66954127, 15.8479361 , 15.2410647 , 15.35492289, 18.24689892,\n",
              "       16.41205255, 15.58732677, 14.87400223, 15.06824938, 16.8505072 ,\n",
              "       17.30536366, 16.19471929, 15.72560225, 16.79756876, 12.69575577,\n",
              "       15.88652464, 15.60060604, 15.73491474, 15.13973088, 15.93625121,\n",
              "       15.64298273])"
            ]
          },
          "metadata": {},
          "execution_count": 24
        }
      ]
    },
    {
      "cell_type": "code",
      "source": [
        "mae = abs(t-np.array(y))\n",
        "sum(mae/len(t))"
      ],
      "metadata": {
        "colab": {
          "base_uri": "https://localhost:8080/"
        },
        "id": "jMfLUI7OJpwZ",
        "outputId": "f84bfe05-8801-40ab-bae1-bfbd8753f68d"
      },
      "execution_count": 25,
      "outputs": [
        {
          "output_type": "execute_result",
          "data": {
            "text/plain": [
              "3.2773073459505633"
            ]
          },
          "metadata": {},
          "execution_count": 25
        }
      ]
    },
    {
      "cell_type": "markdown",
      "source": [
        "# **Perform PCA on standardized data**"
      ],
      "metadata": {
        "id": "eRo9FOhj-mWS"
      }
    },
    {
      "cell_type": "code",
      "source": [
        "from sklearn.decomposition import PCA\n",
        "from sklearn.preprocessing import StandardScaler\n",
        "scaler = StandardScaler()\n",
        "X_scaled = scaler.fit_transform(x)\n",
        "# Create principal components\n",
        "pca = PCA()\n",
        "X_pca = pca.fit_transform(X_scaled)\n",
        "X_pca"
      ],
      "metadata": {
        "colab": {
          "base_uri": "https://localhost:8080/"
        },
        "id": "jwAL3PTGJr6e",
        "outputId": "19a97034-b597-436c-8d99-32b1c93de9e6"
      },
      "execution_count": 26,
      "outputs": [
        {
          "output_type": "execute_result",
          "data": {
            "text/plain": [
              "array([[ 0.88463912,  0.46421102,  1.09765186],\n",
              "       [-0.62529903, -1.22024698,  0.95042366],\n",
              "       [-0.67169596, -1.02786253,  0.06202125],\n",
              "       [-1.83954608,  0.23991011, -0.5554213 ],\n",
              "       [-0.21174283, -0.25666671,  0.53681091],\n",
              "       [-0.49390467, -1.05414432,  0.24290566],\n",
              "       [ 1.98805561, -0.22697834,  0.53054572],\n",
              "       [-0.41984695, -1.56080846, -0.24759157],\n",
              "       [-1.13099129, -1.40144229, -0.12795702],\n",
              "       [-1.18444358,  0.14877025, -0.73158452],\n",
              "       [-1.79251216,  0.39090271, -0.2253797 ],\n",
              "       [ 2.80996806, -1.31802924, -0.04565428],\n",
              "       [-0.60664618, -1.31530775, -0.15496303],\n",
              "       [ 0.2268846 , -1.08935235, -0.70860264],\n",
              "       [-1.02598376, -0.23430583, -0.57329698],\n",
              "       [-1.51035032,  1.18838032,  0.06852555],\n",
              "       [-0.95893975,  0.72533611,  0.90732506],\n",
              "       [-0.95632936,  2.26156134,  1.2033984 ],\n",
              "       [-0.10099555, -1.24259045, -0.76292673],\n",
              "       [ 0.56576691,  0.091754  ,  0.76981483],\n",
              "       [-0.36316811, -1.28565771, -0.74942372],\n",
              "       [ 0.6900851 ,  1.56144575, -0.49610044],\n",
              "       [-0.03971211,  1.81587269,  0.7289208 ],\n",
              "       [-0.67811433,  0.67334261, -0.21156464],\n",
              "       [-1.63409399, -0.10065137, -1.75343653],\n",
              "       [ 1.40766864, -0.24488656,  0.50102308],\n",
              "       [ 2.52202483, -0.07092466, -1.17150623],\n",
              "       [-0.52740931,  1.14200056, -1.73965795],\n",
              "       [-0.19504256, -1.49033665, -0.57983775],\n",
              "       [ 0.46334895,  0.40660377,  0.66805595],\n",
              "       [-0.5537545 ,  2.25151236,  0.20886445],\n",
              "       [-1.84020388, -0.15770595, -0.84023269],\n",
              "       [ 0.35192305,  0.94067245,  0.83981002],\n",
              "       [ 0.95935465,  0.35516293,  0.89196601],\n",
              "       [ 1.27880139,  0.90828   , -1.86807431],\n",
              "       [ 0.69845606,  0.99884978, -0.21125259],\n",
              "       [-0.56798322, -0.60171918, -0.10976929],\n",
              "       [-0.67038036, -0.23263042,  0.63164402],\n",
              "       [ 1.11586188, -1.16652231,  1.03899158],\n",
              "       [ 1.79352241,  0.9244954 , -0.2200344 ],\n",
              "       [ 2.30754399,  0.43461673, -0.54315023],\n",
              "       [ 0.46332813,  0.35236477, -0.17511623],\n",
              "       [-0.3302449 ,  1.58099105,  0.1501677 ],\n",
              "       [ 1.60411279, -0.36622912, -0.42347921],\n",
              "       [-1.90843858, -1.58714601,  2.16855561],\n",
              "       [-0.60535139, -0.57431464, -0.42851245],\n",
              "       [-1.18312797,  0.94400236, -0.16196175],\n",
              "       [ 1.07978849, -0.39812466,  0.44669899],\n",
              "       [-0.1363695 ,  0.03190126,  0.61593644],\n",
              "       [ 0.87495256,  0.23157487,  0.24318124],\n",
              "       [ 0.67653501, -0.83993073,  0.31324938]])"
            ]
          },
          "metadata": {},
          "execution_count": 26
        }
      ]
    },
    {
      "cell_type": "code",
      "source": [
        "comp1=X_pca[:,0]\n",
        "comp2=X_pca[:,1]\n",
        "comp3=X_pca[:,2]\n"
      ],
      "metadata": {
        "id": "AmTUCVLNTzbo"
      },
      "execution_count": 29,
      "outputs": []
    },
    {
      "cell_type": "code",
      "source": [
        "np.corrcoef(comp1,comp2)[0][1]"
      ],
      "metadata": {
        "colab": {
          "base_uri": "https://localhost:8080/"
        },
        "id": "PTDXNooTUJww",
        "outputId": "6f86063c-6aee-4bb3-9e66-e51612d45db4"
      },
      "execution_count": 30,
      "outputs": [
        {
          "output_type": "execute_result",
          "data": {
            "text/plain": [
              "-1.5421855034709918e-16"
            ]
          },
          "metadata": {},
          "execution_count": 30
        }
      ]
    },
    {
      "cell_type": "code",
      "source": [
        "np.corrcoef(comp1,comp3)[0][1]"
      ],
      "metadata": {
        "colab": {
          "base_uri": "https://localhost:8080/"
        },
        "id": "YFFVrRyCUta9",
        "outputId": "c7be9fa5-630d-4a88-9777-f25f531b5b3e"
      },
      "execution_count": 31,
      "outputs": [
        {
          "output_type": "execute_result",
          "data": {
            "text/plain": [
              "-2.6419283002475415e-17"
            ]
          },
          "metadata": {},
          "execution_count": 31
        }
      ]
    },
    {
      "cell_type": "code",
      "source": [
        "np.corrcoef(comp2,comp3)[0][1] #abs_de_correlation"
      ],
      "metadata": {
        "colab": {
          "base_uri": "https://localhost:8080/"
        },
        "id": "3JXd4nOrp1lV",
        "outputId": "fffe8f3b-2835-42c9-ab7c-0c2b7356cf80"
      },
      "execution_count": 32,
      "outputs": [
        {
          "output_type": "execute_result",
          "data": {
            "text/plain": [
              "-1.6981096608769036e-16"
            ]
          },
          "metadata": {},
          "execution_count": 32
        }
      ]
    },
    {
      "cell_type": "code",
      "source": [
        "import matplotlib.pyplot as plt\n",
        "plt.bar(range(1, pca.n_components_ + 1),  pca.explained_variance_ratio_)\n",
        "plt.xlabel('Principal component')\n",
        "plt.ylabel('Proportion of the variance')\n",
        "plt.xticks([1, 2, 3])\n",
        "\n",
        "\n",
        "two_first_comp_var_exp = pca.explained_variance_ratio_[0].cumsum()[0] + pca.explained_variance_ratio_[1].cumsum()[0]\n",
        "print(\"The cumulative variance of the first two principal components is {}\".format(\n",
        "    round(two_first_comp_var_exp, 5)))"
      ],
      "metadata": {
        "colab": {
          "base_uri": "https://localhost:8080/",
          "height": 302
        },
        "id": "6UWMemZXqa0l",
        "outputId": "ec1db9c5-1881-43da-e8ec-831e6e72f82b"
      },
      "execution_count": 37,
      "outputs": [
        {
          "output_type": "stream",
          "name": "stdout",
          "text": [
            "The cumulative variance of the first two principal components is 0.7947\n"
          ]
        },
        {
          "output_type": "display_data",
          "data": {
            "text/plain": [
              "<Figure size 432x288 with 1 Axes>"
            ],
            "image/png": "[encoded data removed]"
          },
          "metadata": {}
        }
      ]
    },
    {
      "cell_type": "code",
      "source": [
        "plt.scatter(comp1, comp2)"
      ],
      "metadata": {
        "colab": {
          "base_uri": "https://localhost:8080/",
          "height": 285
        },
        "id": "n7hn3kFCtzBm",
        "outputId": "18fe833e-4d9c-4733-823d-8bb1853d3bf2"
      },
      "execution_count": 36,
      "outputs": [
        {
          "output_type": "execute_result",
          "data": {
            "text/plain": [
              "<matplotlib.collections.PathCollection at 0x7f2baa10e850>"
            ]
          },
          "metadata": {},
          "execution_count": 36
        },
        {
          "output_type": "display_data",
          "data": {
            "text/plain": [
              "<Figure size 432x288 with 1 Axes>"
            ],
            "image/png": "[encoded data removed]"
          },
          "metadata": {}
        }
      ]
    },
    {
      "cell_type": "markdown",
      "source": [
        "# **Find clusters of similar states in the data**"
      ],
      "metadata": {
        "id": "4xWUKmc_u_A7"
      }
    },
    {
      "cell_type": "code",
      "source": [
        "from sklearn.cluster import KMeans\n",
        "# k means\n",
        "kmeans = KMeans(n_clusters=3, random_state=8) #three clusters is a reasonable choice\n",
        "kmeans.fit(X_pca)"
      ],
      "metadata": {
        "colab": {
          "base_uri": "https://localhost:8080/"
        },
        "id": "_vNSyJSru9-0",
        "outputId": "e99791d3-e48d-4d5f-f0c4-3926de4eed49"
      },
      "execution_count": 42,
      "outputs": [
        {
          "output_type": "execute_result",
          "data": {
            "text/plain": [
              "KMeans(n_clusters=3, random_state=8)"
            ]
          },
          "metadata": {},
          "execution_count": 42
        }
      ]
    },
    {
      "cell_type": "code",
      "source": [
        "kmeans.fit(X_pca)\n",
        "plt.scatter(X_pca[:, 0], X_pca[:, 1], c = kmeans.labels_)"
      ],
      "metadata": {
        "colab": {
          "base_uri": "https://localhost:8080/",
          "height": 285
        },
        "id": "m73Rs5t_ylNW",
        "outputId": "406d9b48-e7cf-4ccc-e18d-b31deaac536c"
      },
      "execution_count": 47,
      "outputs": [
        {
          "output_type": "execute_result",
          "data": {
            "text/plain": [
              "<matplotlib.collections.PathCollection at 0x7f2ba8dd4f10>"
            ]
          },
          "metadata": {},
          "execution_count": 47
        },
        {
          "output_type": "display_data",
          "data": {
            "text/plain": [
              "<Figure size 432x288 with 1 Axes>"
            ],
            "image/png": "[encoded data removed]"
          },
          "metadata": {}
        }
      ]
    },
    {
      "cell_type": "markdown",
      "source": [
        "# Visualize the feature differences between the clusters"
      ],
      "metadata": {
        "id": "YaennwTv1uem"
      }
    },
    {
      "cell_type": "code",
      "source": [
        "data_sep['cluster'] = kmeans.labels_\n",
        "\n",
        "\n",
        "melt_car = pd.melt(data_sep, id_vars = ['cluster'], var_name ='measurement', value_name = 'percent', \n",
        "                                                   value_vars =['perc_fatl_speed', 'perc_fatl_alcohol', 'perc_fatl_1st_time'])\n",
        "\n",
        "sns.violinplot(melt_car['percent'], melt_car['measurement'], hue = melt_car['cluster'])"
      ],
      "metadata": {
        "colab": {
          "base_uri": "https://localhost:8080/",
          "height": 357
        },
        "id": "bLIX2Xde1Vxb",
        "outputId": "59cfcf23-eb9a-4f4c-b358-5398e5f917dc"
      },
      "execution_count": 50,
      "outputs": [
        {
          "output_type": "stream",
          "name": "stderr",
          "text": [
            "/usr/local/lib/python3.7/dist-packages/seaborn/_decorators.py:43: FutureWarning: Pass the following variables as keyword args: x, y. From version 0.12, the only valid positional argument will be `data`, and passing other arguments without an explicit keyword will result in an error or misinterpretation.\n",
            "  FutureWarning\n"
          ]
        },
        {
          "output_type": "execute_result",
          "data": {
            "text/plain": [
              "<matplotlib.axes._subplots.AxesSubplot at 0x7f2ba8e1ead0>"
            ]
          },
          "metadata": {},
          "execution_count": 50
        },
        {
          "output_type": "display_data",
          "data": {
            "text/plain": [
              "<Figure size 432x288 with 1 Axes>"
            ],
            "image/png": "[encoded data removed]"
          },
          "metadata": {}
        }
      ]
    },
    {
      "cell_type": "code",
      "source": [
        "\n",
        "data_sep_mls_driven = pd.read_csv('miles-driven.csv', sep='|')\n",
        "\n",
        "display(data_sep_mls_driven.head())\n",
        "\n",
        "# Merge the `car_acc` DataFrame with the `miles_driven` DataFrame\n",
        "data_merged = data_sep.merge(data_sep_mls_driven, on='state')\n",
        "\n",
        "# Create a new column for the number of drivers involved in fatal accidents\n",
        "data_merged ['num_drvr_fatl_col'] = (data_merged ['drvr_fatl_col_bmiles'] * data_merged ['million_miles_annually']) / 1000\n",
        "\n",
        "display(data_merged .head())\n",
        "\n",
        "# Create a barplot of the total number of accidents per cluster\n",
        "sns.barplot(x='cluster', y='num_drvr_fatl_col', data=data_merged , estimator=sum, ci=None)\n",
        "\n",
        "# Calculate the number of states in each cluster and their 'num_drvr_fatl_col' mean and sum.\n",
        "count_mean_sum = data_merged .groupby('cluster')['num_drvr_fatl_col'].agg(['count', 'mean', 'sum'])"
      ],
      "metadata": {
        "colab": {
          "base_uri": "https://localhost:8080/",
          "height": 663
        },
        "id": "XW4zbrni2Cy2",
        "outputId": "28735d5f-ed15-4867-a397-2e94b9f9c617"
      },
      "execution_count": 53,
      "outputs": [
        {
          "output_type": "display_data",
          "data": {
            "text/plain": [
              "        state  million_miles_annually\n",
              "0     Alabama                   64914\n",
              "1      Alaska                    4593\n",
              "2     Arizona                   59575\n",
              "3    Arkansas                   32953\n",
              "4  California                  320784"
            ],
            "text/html": [
              "\n",
              "  <div id=\"df-c3280947-ac47-45e5-a674-de290550d7fa\">\n",
              "    <div class=\"colab-df-container\">\n",
              "      <div>\n",
              "<style scoped>\n",
              "    .dataframe tbody tr th:only-of-type {\n",
              "        vertical-align: middle;\n",
              "    }\n",
              "\n",
              "    .dataframe tbody tr th {\n",
              "        vertical-align: top;\n",
              "    }\n",
              "\n",
              "    .dataframe thead th {\n",
              "        text-align: right;\n",
              "    }\n",
              "</style>\n",
              "<table border=\"1\" class=\"dataframe\">\n",
              "  <thead>\n",
              "    <tr style=\"text-align: right;\">\n",
              "      <th></th>\n",
              "      <th>state</th>\n",
              "      <th>million_miles_annually</th>\n",
              "    </tr>\n",
              "  </thead>\n",
              "  <tbody>\n",
              "    <tr>\n",
              "      <th>0</th>\n",
              "      <td>Alabama</td>\n",
              "      <td>64914</td>\n",
              "    </tr>\n",
              "    <tr>\n",
              "      <th>1</th>\n",
              "      <td>Alaska</td>\n",
              "      <td>4593</td>\n",
              "    </tr>\n",
              "    <tr>\n",
              "      <th>2</th>\n",
              "      <td>Arizona</td>\n",
              "      <td>59575</td>\n",
              "    </tr>\n",
              "    <tr>\n",
              "      <th>3</th>\n",
              "      <td>Arkansas</td>\n",
              "      <td>32953</td>\n",
              "    </tr>\n",
              "    <tr>\n",
              "      <th>4</th>\n",
              "      <td>California</td>\n",
              "      <td>320784</td>\n",
              "    </tr>\n",
              "  </tbody>\n",
              "</table>\n",
              "</div>\n",
              "      <button class=\"colab-df-convert\" onclick=\"convertToInteractive('df-c3280947-ac47-45e5-a674-de290550d7fa')\"\n",
              "              title=\"Convert this dataframe to an interactive table.\"\n",
              "              style=\"display:none;\">\n",
              "        \n",
              "  <svg xmlns=\"http://www.w3.org/2000/svg\" height=\"24px\"viewBox=\"0 0 24 24\"\n",
              "       width=\"24px\">\n",
              "    <path d=\"M0 0h24v24H0V0z\" fill=\"none\"/>\n",
              "    <path d=\"M18.56 5.44l.94 2.06.94-2.06 2.06-.94-2.06-.94-.94-2.06-.94 2.06-2.06.94zm-11 1L8.5 8.5l.94-2.06 2.06-.94-2.06-.94L8.5 2.5l-.94 2.06-2.06.94zm10 10l.94 2.06.94-2.06 2.06-.94-2.06-.94-.94-2.06-.94 2.06-2.06.94z\"/><path d=\"M17.41 7.96l-1.37-1.37c-.4-.4-.92-.59-1.43-.59-.52 0-1.04.2-1.43.59L10.3 9.45l-7.72 7.72c-.78.78-.78 2.05 0 2.83L4 21.41c.39.39.9.59 1.41.59.51 0 1.02-.2 1.41-.59l7.78-7.78 2.81-2.81c.8-.78.8-2.07 0-2.86zM5.41 20L4 18.59l7.72-7.72 1.47 1.35L5.41 20z\"/>\n",
              "  </svg>\n",
              "      </button>\n",
              "      \n",
              "  <style>\n",
              "    .colab-df-container {\n",
              "      display:flex;\n",
              "      flex-wrap:wrap;\n",
              "      gap: 12px;\n",
              "    }\n",
              "\n",
              "    .colab-df-convert {\n",
              "      background-color: #E8F0FE;\n",
              "      border: none;\n",
              "      border-radius: 50%;\n",
              "      cursor: pointer;\n",
              "      display: none;\n",
              "      fill: #1967D2;\n",
              "      height: 32px;\n",
              "      padding: 0 0 0 0;\n",
              "      width: 32px;\n",
              "    }\n",
              "\n",
              "    .colab-df-convert:hover {\n",
              "      background-color: #E2EBFA;\n",
              "      box-shadow: 0px 1px 2px rgba(60, 64, 67, 0.3), 0px 1px 3px 1px rgba(60, 64, 67, 0.15);\n",
              "      fill: #174EA6;\n",
              "    }\n",
              "\n",
              "    [theme=dark] .colab-df-convert {\n",
              "      background-color: #3B4455;\n",
              "      fill: #D2E3FC;\n",
              "    }\n",
              "\n",
              "    [theme=dark] .colab-df-convert:hover {\n",
              "      background-color: #434B5C;\n",
              "      box-shadow: 0px 1px 3px 1px rgba(0, 0, 0, 0.15);\n",
              "      filter: drop-shadow(0px 1px 2px rgba(0, 0, 0, 0.3));\n",
              "      fill: #FFFFFF;\n",
              "    }\n",
              "  </style>\n",
              "\n",
              "      <script>\n",
              "        const buttonEl =\n",
              "          document.querySelector('#df-c3280947-ac47-45e5-a674-de290550d7fa button.colab-df-convert');\n",
              "        buttonEl.style.display =\n",
              "          google.colab.kernel.accessAllowed ? 'block' : 'none';\n",
              "\n",
              "        async function convertToInteractive(key) {\n",
              "          const element = document.querySelector('#df-c3280947-ac47-45e5-a674-de290550d7fa');\n",
              "          const dataTable =\n",
              "            await google.colab.kernel.invokeFunction('convertToInteractive',\n",
              "                                                     [key], {});\n",
              "          if (!dataTable) return;\n",
              "\n",
              "          const docLinkHtml = 'Like what you see? Visit the ' +\n",
              "            '<a target=\"_blank\" href=https://colab.research.google.com/notebooks/data_table.ipynb>data table notebook</a>'\n",
              "            + ' to learn more about interactive tables.';\n",
              "          element.innerHTML = '';\n",
              "          dataTable['output_type'] = 'display_data';\n",
              "          await google.colab.output.renderOutput(dataTable, element);\n",
              "          const docLink = document.createElement('div');\n",
              "          docLink.innerHTML = docLinkHtml;\n",
              "          element.appendChild(docLink);\n",
              "        }\n",
              "      </script>\n",
              "    </div>\n",
              "  </div>\n",
              "  "
            ]
          },
          "metadata": {}
        },
        {
          "output_type": "display_data",
          "data": {
            "text/plain": [
              "        state  drvr_fatl_col_bmiles  perc_fatl_speed  perc_fatl_alcohol  \\\n",
              "0     Alabama                  18.8               39                 30   \n",
              "1      Alaska                  18.1               41                 25   \n",
              "2     Arizona                  18.6               35                 28   \n",
              "3    Arkansas                  22.4               18                 26   \n",
              "4  California                  12.0               35                 28   \n",
              "\n",
              "   perc_fatl_1st_time  cluster  million_miles_annually  num_drvr_fatl_col  \n",
              "0                  80        0                   64914          1220.3832  \n",
              "1                  94        2                    4593            83.1333  \n",
              "2                  96        2                   59575          1108.0950  \n",
              "3                  95        2                   32953           738.1472  \n",
              "4                  89        2                  320784          3849.4080  "
            ],
            "text/html": [
              "\n",
              "  <div id=\"df-0e8070a0-92b8-47d1-bbe5-4604e97ce93a\">\n",
              "    <div class=\"colab-df-container\">\n",
              "      <div>\n",
              "<style scoped>\n",
              "    .dataframe tbody tr th:only-of-type {\n",
              "        vertical-align: middle;\n",
              "    }\n",
              "\n",
              "    .dataframe tbody tr th {\n",
              "        vertical-align: top;\n",
              "    }\n",
              "\n",
              "    .dataframe thead th {\n",
              "        text-align: right;\n",
              "    }\n",
              "</style>\n",
              "<table border=\"1\" class=\"dataframe\">\n",
              "  <thead>\n",
              "    <tr style=\"text-align: right;\">\n",
              "      <th></th>\n",
              "      <th>state</th>\n",
              "      <th>drvr_fatl_col_bmiles</th>\n",
              "      <th>perc_fatl_speed</th>\n",
              "      <th>perc_fatl_alcohol</th>\n",
              "      <th>perc_fatl_1st_time</th>\n",
              "      <th>cluster</th>\n",
              "      <th>million_miles_annually</th>\n",
              "      <th>num_drvr_fatl_col</th>\n",
              "    </tr>\n",
              "  </thead>\n",
              "  <tbody>\n",
              "    <tr>\n",
              "      <th>0</th>\n",
              "      <td>Alabama</td>\n",
              "      <td>18.8</td>\n",
              "      <td>39</td>\n",
              "      <td>30</td>\n",
              "      <td>80</td>\n",
              "      <td>0</td>\n",
              "      <td>64914</td>\n",
              "      <td>1220.3832</td>\n",
              "    </tr>\n",
              "    <tr>\n",
              "      <th>1</th>\n",
              "      <td>Alaska</td>\n",
              "      <td>18.1</td>\n",
              "      <td>41</td>\n",
              "      <td>25</td>\n",
              "      <td>94</td>\n",
              "      <td>2</td>\n",
              "      <td>4593</td>\n",
              "      <td>83.1333</td>\n",
              "    </tr>\n",
              "    <tr>\n",
              "      <th>2</th>\n",
              "      <td>Arizona</td>\n",
              "      <td>18.6</td>\n",
              "      <td>35</td>\n",
              "      <td>28</td>\n",
              "      <td>96</td>\n",
              "      <td>2</td>\n",
              "      <td>59575</td>\n",
              "      <td>1108.0950</td>\n",
              "    </tr>\n",
              "    <tr>\n",
              "      <th>3</th>\n",
              "      <td>Arkansas</td>\n",
              "      <td>22.4</td>\n",
              "      <td>18</td>\n",
              "      <td>26</td>\n",
              "      <td>95</td>\n",
              "      <td>2</td>\n",
              "      <td>32953</td>\n",
              "      <td>738.1472</td>\n",
              "    </tr>\n",
              "    <tr>\n",
              "      <th>4</th>\n",
              "      <td>California</td>\n",
              "      <td>12.0</td>\n",
              "      <td>35</td>\n",
              "      <td>28</td>\n",
              "      <td>89</td>\n",
              "      <td>2</td>\n",
              "      <td>320784</td>\n",
              "      <td>3849.4080</td>\n",
              "    </tr>\n",
              "  </tbody>\n",
              "</table>\n",
              "</div>\n",
              "      <button class=\"colab-df-convert\" onclick=\"convertToInteractive('df-0e8070a0-92b8-47d1-bbe5-4604e97ce93a')\"\n",
              "              title=\"Convert this dataframe to an interactive table.\"\n",
              "              style=\"display:none;\">\n",
              "        \n",
              "  <svg xmlns=\"http://www.w3.org/2000/svg\" height=\"24px\"viewBox=\"0 0 24 24\"\n",
              "       width=\"24px\">\n",
              "    <path d=\"M0 0h24v24H0V0z\" fill=\"none\"/>\n",
              "    <path d=\"M18.56 5.44l.94 2.06.94-2.06 2.06-.94-2.06-.94-.94-2.06-.94 2.06-2.06.94zm-11 1L8.5 8.5l.94-2.06 2.06-.94-2.06-.94L8.5 2.5l-.94 2.06-2.06.94zm10 10l.94 2.06.94-2.06 2.06-.94-2.06-.94-.94-2.06-.94 2.06-2.06.94z\"/><path d=\"M17.41 7.96l-1.37-1.37c-.4-.4-.92-.59-1.43-.59-.52 0-1.04.2-1.43.59L10.3 9.45l-7.72 7.72c-.78.78-.78 2.05 0 2.83L4 21.41c.39.39.9.59 1.41.59.51 0 1.02-.2 1.41-.59l7.78-7.78 2.81-2.81c.8-.78.8-2.07 0-2.86zM5.41 20L4 18.59l7.72-7.72 1.47 1.35L5.41 20z\"/>\n",
              "  </svg>\n",
              "      </button>\n",
              "      \n",
              "  <style>\n",
              "    .colab-df-container {\n",
              "      display:flex;\n",
              "      flex-wrap:wrap;\n",
              "      gap: 12px;\n",
              "    }\n",
              "\n",
              "    .colab-df-convert {\n",
              "      background-color: #E8F0FE;\n",
              "      border: none;\n",
              "      border-radius: 50%;\n",
              "      cursor: pointer;\n",
              "      display: none;\n",
              "      fill: #1967D2;\n",
              "      height: 32px;\n",
              "      padding: 0 0 0 0;\n",
              "      width: 32px;\n",
              "    }\n",
              "\n",
              "    .colab-df-convert:hover {\n",
              "      background-color: #E2EBFA;\n",
              "      box-shadow: 0px 1px 2px rgba(60, 64, 67, 0.3), 0px 1px 3px 1px rgba(60, 64, 67, 0.15);\n",
              "      fill: #174EA6;\n",
              "    }\n",
              "\n",
              "    [theme=dark] .colab-df-convert {\n",
              "      background-color: #3B4455;\n",
              "      fill: #D2E3FC;\n",
              "    }\n",
              "\n",
              "    [theme=dark] .colab-df-convert:hover {\n",
              "      background-color: #434B5C;\n",
              "      box-shadow: 0px 1px 3px 1px rgba(0, 0, 0, 0.15);\n",
              "      filter: drop-shadow(0px 1px 2px rgba(0, 0, 0, 0.3));\n",
              "      fill: #FFFFFF;\n",
              "    }\n",
              "  </style>\n",
              "\n",
              "      <script>\n",
              "        const buttonEl =\n",
              "          document.querySelector('#df-0e8070a0-92b8-47d1-bbe5-4604e97ce93a button.colab-df-convert');\n",
              "        buttonEl.style.display =\n",
              "          google.colab.kernel.accessAllowed ? 'block' : 'none';\n",
              "\n",
              "        async function convertToInteractive(key) {\n",
              "          const element = document.querySelector('#df-0e8070a0-92b8-47d1-bbe5-4604e97ce93a');\n",
              "          const dataTable =\n",
              "            await google.colab.kernel.invokeFunction('convertToInteractive',\n",
              "                                                     [key], {});\n",
              "          if (!dataTable) return;\n",
              "\n",
              "          const docLinkHtml = 'Like what you see? Visit the ' +\n",
              "            '<a target=\"_blank\" href=https://colab.research.google.com/notebooks/data_table.ipynb>data table notebook</a>'\n",
              "            + ' to learn more about interactive tables.';\n",
              "          element.innerHTML = '';\n",
              "          dataTable['output_type'] = 'display_data';\n",
              "          await google.colab.output.renderOutput(dataTable, element);\n",
              "          const docLink = document.createElement('div');\n",
              "          docLink.innerHTML = docLinkHtml;\n",
              "          element.appendChild(docLink);\n",
              "        }\n",
              "      </script>\n",
              "    </div>\n",
              "  </div>\n",
              "  "
            ]
          },
          "metadata": {}
        },
        {
          "output_type": "display_data",
          "data": {
            "text/plain": [
              "<Figure size 432x288 with 1 Axes>"
            ],
            "image/png": "[encoded data removed]"
          },
          "metadata": {}
        }
      ]
    },
    {
      "cell_type": "code",
      "source": [
        "number_of_clusters=2 #choice"
      ],
      "metadata": {
        "id": "HtBqsWw423Ks"
      },
      "execution_count": 54,
      "outputs": []
    }
  ]
}