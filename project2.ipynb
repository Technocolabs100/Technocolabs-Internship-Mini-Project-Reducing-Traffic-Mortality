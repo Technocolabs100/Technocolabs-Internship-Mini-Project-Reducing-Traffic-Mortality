{
 "cells": [
  {
   "cell_type": "code",
   "execution_count": 1,
   "id": "7a8418c0",
   "metadata": {},
   "outputs": [],
   "source": [
    "import pandas as pd\n",
    "import matplotlib.pyplot as plt\n",
    "import numpy as np\n",
    "import scipy as sc\n",
    "from sklearn.preprocessing import MinMaxScaler\n",
    "import seaborn as sns\n",
    "from sklearn.decomposition import PCA"
   ]
  },
  {
   "cell_type": "code",
   "execution_count": 2,
   "id": "c321e626",
   "metadata": {},
   "outputs": [],
   "source": [
    "my_data=pd.read_csv(\"C:\\\\Users\\\\LENOVO\\\\Downloads\\\\miles-driven - Copy.csv\")\n",
    "new_data=my_data.iloc[: , 1:]"
   ]
  },
  {
   "cell_type": "code",
   "execution_count": 3,
   "id": "f401b5d6",
   "metadata": {},
   "outputs": [
    {
     "data": {
      "text/html": [
       "<div>\n",
       "<style scoped>\n",
       "    .dataframe tbody tr th:only-of-type {\n",
       "        vertical-align: middle;\n",
       "    }\n",
       "\n",
       "    .dataframe tbody tr th {\n",
       "        vertical-align: top;\n",
       "    }\n",
       "\n",
       "    .dataframe thead th {\n",
       "        text-align: right;\n",
       "    }\n",
       "</style>\n",
       "<table border=\"1\" class=\"dataframe\">\n",
       "  <thead>\n",
       "    <tr style=\"text-align: right;\">\n",
       "      <th></th>\n",
       "      <th>no_fatal_per_b_miles</th>\n",
       "      <th>percentage_speeding</th>\n",
       "      <th>percentage_alcohol</th>\n",
       "      <th>percentage_1st_time</th>\n",
       "      <th>million_miles_annually</th>\n",
       "    </tr>\n",
       "  </thead>\n",
       "  <tbody>\n",
       "    <tr>\n",
       "      <th>0</th>\n",
       "      <td>18.8</td>\n",
       "      <td>39</td>\n",
       "      <td>30</td>\n",
       "      <td>80</td>\n",
       "      <td>64914</td>\n",
       "    </tr>\n",
       "    <tr>\n",
       "      <th>1</th>\n",
       "      <td>18.1</td>\n",
       "      <td>41</td>\n",
       "      <td>25</td>\n",
       "      <td>94</td>\n",
       "      <td>4593</td>\n",
       "    </tr>\n",
       "    <tr>\n",
       "      <th>2</th>\n",
       "      <td>18.6</td>\n",
       "      <td>35</td>\n",
       "      <td>28</td>\n",
       "      <td>96</td>\n",
       "      <td>59575</td>\n",
       "    </tr>\n",
       "    <tr>\n",
       "      <th>3</th>\n",
       "      <td>22.4</td>\n",
       "      <td>18</td>\n",
       "      <td>26</td>\n",
       "      <td>95</td>\n",
       "      <td>32953</td>\n",
       "    </tr>\n",
       "    <tr>\n",
       "      <th>4</th>\n",
       "      <td>12.0</td>\n",
       "      <td>35</td>\n",
       "      <td>28</td>\n",
       "      <td>89</td>\n",
       "      <td>320784</td>\n",
       "    </tr>\n",
       "    <tr>\n",
       "      <th>5</th>\n",
       "      <td>13.6</td>\n",
       "      <td>37</td>\n",
       "      <td>28</td>\n",
       "      <td>95</td>\n",
       "      <td>46606</td>\n",
       "    </tr>\n",
       "    <tr>\n",
       "      <th>6</th>\n",
       "      <td>10.8</td>\n",
       "      <td>46</td>\n",
       "      <td>36</td>\n",
       "      <td>82</td>\n",
       "      <td>31197</td>\n",
       "    </tr>\n",
       "    <tr>\n",
       "      <th>7</th>\n",
       "      <td>16.2</td>\n",
       "      <td>38</td>\n",
       "      <td>30</td>\n",
       "      <td>99</td>\n",
       "      <td>9028</td>\n",
       "    </tr>\n",
       "    <tr>\n",
       "      <th>8</th>\n",
       "      <td>5.9</td>\n",
       "      <td>34</td>\n",
       "      <td>27</td>\n",
       "      <td>100</td>\n",
       "      <td>3568</td>\n",
       "    </tr>\n",
       "    <tr>\n",
       "      <th>9</th>\n",
       "      <td>17.9</td>\n",
       "      <td>21</td>\n",
       "      <td>29</td>\n",
       "      <td>94</td>\n",
       "      <td>191855</td>\n",
       "    </tr>\n",
       "    <tr>\n",
       "      <th>10</th>\n",
       "      <td>15.6</td>\n",
       "      <td>19</td>\n",
       "      <td>25</td>\n",
       "      <td>93</td>\n",
       "      <td>108454</td>\n",
       "    </tr>\n",
       "    <tr>\n",
       "      <th>11</th>\n",
       "      <td>17.5</td>\n",
       "      <td>54</td>\n",
       "      <td>41</td>\n",
       "      <td>87</td>\n",
       "      <td>10066</td>\n",
       "    </tr>\n",
       "    <tr>\n",
       "      <th>12</th>\n",
       "      <td>15.3</td>\n",
       "      <td>36</td>\n",
       "      <td>29</td>\n",
       "      <td>98</td>\n",
       "      <td>15937</td>\n",
       "    </tr>\n",
       "    <tr>\n",
       "      <th>13</th>\n",
       "      <td>12.8</td>\n",
       "      <td>36</td>\n",
       "      <td>34</td>\n",
       "      <td>96</td>\n",
       "      <td>103234</td>\n",
       "    </tr>\n",
       "    <tr>\n",
       "      <th>14</th>\n",
       "      <td>14.5</td>\n",
       "      <td>25</td>\n",
       "      <td>29</td>\n",
       "      <td>95</td>\n",
       "      <td>76485</td>\n",
       "    </tr>\n",
       "    <tr>\n",
       "      <th>15</th>\n",
       "      <td>15.7</td>\n",
       "      <td>17</td>\n",
       "      <td>25</td>\n",
       "      <td>87</td>\n",
       "      <td>31274</td>\n",
       "    </tr>\n",
       "    <tr>\n",
       "      <th>16</th>\n",
       "      <td>17.8</td>\n",
       "      <td>27</td>\n",
       "      <td>24</td>\n",
       "      <td>85</td>\n",
       "      <td>30021</td>\n",
       "    </tr>\n",
       "    <tr>\n",
       "      <th>17</th>\n",
       "      <td>21.4</td>\n",
       "      <td>19</td>\n",
       "      <td>23</td>\n",
       "      <td>76</td>\n",
       "      <td>48061</td>\n",
       "    </tr>\n",
       "    <tr>\n",
       "      <th>18</th>\n",
       "      <td>20.5</td>\n",
       "      <td>35</td>\n",
       "      <td>33</td>\n",
       "      <td>98</td>\n",
       "      <td>46513</td>\n",
       "    </tr>\n",
       "    <tr>\n",
       "      <th>19</th>\n",
       "      <td>15.1</td>\n",
       "      <td>38</td>\n",
       "      <td>30</td>\n",
       "      <td>84</td>\n",
       "      <td>14248</td>\n",
       "    </tr>\n",
       "    <tr>\n",
       "      <th>20</th>\n",
       "      <td>12.5</td>\n",
       "      <td>34</td>\n",
       "      <td>32</td>\n",
       "      <td>99</td>\n",
       "      <td>56221</td>\n",
       "    </tr>\n",
       "    <tr>\n",
       "      <th>21</th>\n",
       "      <td>8.2</td>\n",
       "      <td>23</td>\n",
       "      <td>35</td>\n",
       "      <td>80</td>\n",
       "      <td>54792</td>\n",
       "    </tr>\n",
       "    <tr>\n",
       "      <th>22</th>\n",
       "      <td>14.1</td>\n",
       "      <td>24</td>\n",
       "      <td>28</td>\n",
       "      <td>77</td>\n",
       "      <td>94754</td>\n",
       "    </tr>\n",
       "    <tr>\n",
       "      <th>23</th>\n",
       "      <td>9.6</td>\n",
       "      <td>23</td>\n",
       "      <td>29</td>\n",
       "      <td>88</td>\n",
       "      <td>56685</td>\n",
       "    </tr>\n",
       "    <tr>\n",
       "      <th>24</th>\n",
       "      <td>17.6</td>\n",
       "      <td>15</td>\n",
       "      <td>31</td>\n",
       "      <td>100</td>\n",
       "      <td>38851</td>\n",
       "    </tr>\n",
       "    <tr>\n",
       "      <th>25</th>\n",
       "      <td>16.1</td>\n",
       "      <td>43</td>\n",
       "      <td>34</td>\n",
       "      <td>84</td>\n",
       "      <td>68789</td>\n",
       "    </tr>\n",
       "    <tr>\n",
       "      <th>26</th>\n",
       "      <td>21.4</td>\n",
       "      <td>39</td>\n",
       "      <td>44</td>\n",
       "      <td>85</td>\n",
       "      <td>11660</td>\n",
       "    </tr>\n",
       "    <tr>\n",
       "      <th>27</th>\n",
       "      <td>14.9</td>\n",
       "      <td>13</td>\n",
       "      <td>35</td>\n",
       "      <td>90</td>\n",
       "      <td>19093</td>\n",
       "    </tr>\n",
       "    <tr>\n",
       "      <th>28</th>\n",
       "      <td>14.7</td>\n",
       "      <td>37</td>\n",
       "      <td>32</td>\n",
       "      <td>99</td>\n",
       "      <td>24189</td>\n",
       "    </tr>\n",
       "    <tr>\n",
       "      <th>29</th>\n",
       "      <td>11.6</td>\n",
       "      <td>35</td>\n",
       "      <td>30</td>\n",
       "      <td>83</td>\n",
       "      <td>12720</td>\n",
       "    </tr>\n",
       "    <tr>\n",
       "      <th>30</th>\n",
       "      <td>11.2</td>\n",
       "      <td>16</td>\n",
       "      <td>28</td>\n",
       "      <td>78</td>\n",
       "      <td>73094</td>\n",
       "    </tr>\n",
       "    <tr>\n",
       "      <th>31</th>\n",
       "      <td>18.4</td>\n",
       "      <td>19</td>\n",
       "      <td>27</td>\n",
       "      <td>98</td>\n",
       "      <td>25650</td>\n",
       "    </tr>\n",
       "    <tr>\n",
       "      <th>32</th>\n",
       "      <td>12.3</td>\n",
       "      <td>32</td>\n",
       "      <td>29</td>\n",
       "      <td>80</td>\n",
       "      <td>127726</td>\n",
       "    </tr>\n",
       "    <tr>\n",
       "      <th>33</th>\n",
       "      <td>16.8</td>\n",
       "      <td>39</td>\n",
       "      <td>31</td>\n",
       "      <td>81</td>\n",
       "      <td>103772</td>\n",
       "    </tr>\n",
       "    <tr>\n",
       "      <th>34</th>\n",
       "      <td>23.9</td>\n",
       "      <td>23</td>\n",
       "      <td>42</td>\n",
       "      <td>86</td>\n",
       "      <td>9131</td>\n",
       "    </tr>\n",
       "    <tr>\n",
       "      <th>35</th>\n",
       "      <td>14.1</td>\n",
       "      <td>28</td>\n",
       "      <td>34</td>\n",
       "      <td>82</td>\n",
       "      <td>111990</td>\n",
       "    </tr>\n",
       "    <tr>\n",
       "      <th>36</th>\n",
       "      <td>19.9</td>\n",
       "      <td>32</td>\n",
       "      <td>29</td>\n",
       "      <td>94</td>\n",
       "      <td>47464</td>\n",
       "    </tr>\n",
       "    <tr>\n",
       "      <th>37</th>\n",
       "      <td>12.8</td>\n",
       "      <td>33</td>\n",
       "      <td>26</td>\n",
       "      <td>90</td>\n",
       "      <td>33373</td>\n",
       "    </tr>\n",
       "    <tr>\n",
       "      <th>38</th>\n",
       "      <td>18.2</td>\n",
       "      <td>50</td>\n",
       "      <td>31</td>\n",
       "      <td>88</td>\n",
       "      <td>99204</td>\n",
       "    </tr>\n",
       "    <tr>\n",
       "      <th>39</th>\n",
       "      <td>11.1</td>\n",
       "      <td>34</td>\n",
       "      <td>38</td>\n",
       "      <td>79</td>\n",
       "      <td>7901</td>\n",
       "    </tr>\n",
       "    <tr>\n",
       "      <th>40</th>\n",
       "      <td>23.9</td>\n",
       "      <td>38</td>\n",
       "      <td>41</td>\n",
       "      <td>81</td>\n",
       "      <td>48730</td>\n",
       "    </tr>\n",
       "    <tr>\n",
       "      <th>41</th>\n",
       "      <td>19.4</td>\n",
       "      <td>31</td>\n",
       "      <td>33</td>\n",
       "      <td>86</td>\n",
       "      <td>9002</td>\n",
       "    </tr>\n",
       "    <tr>\n",
       "      <th>42</th>\n",
       "      <td>19.5</td>\n",
       "      <td>21</td>\n",
       "      <td>29</td>\n",
       "      <td>81</td>\n",
       "      <td>70751</td>\n",
       "    </tr>\n",
       "    <tr>\n",
       "      <th>43</th>\n",
       "      <td>19.4</td>\n",
       "      <td>40</td>\n",
       "      <td>38</td>\n",
       "      <td>87</td>\n",
       "      <td>237440</td>\n",
       "    </tr>\n",
       "    <tr>\n",
       "      <th>44</th>\n",
       "      <td>11.3</td>\n",
       "      <td>43</td>\n",
       "      <td>16</td>\n",
       "      <td>96</td>\n",
       "      <td>26222</td>\n",
       "    </tr>\n",
       "    <tr>\n",
       "      <th>45</th>\n",
       "      <td>13.6</td>\n",
       "      <td>30</td>\n",
       "      <td>30</td>\n",
       "      <td>95</td>\n",
       "      <td>7141</td>\n",
       "    </tr>\n",
       "    <tr>\n",
       "      <th>46</th>\n",
       "      <td>12.7</td>\n",
       "      <td>19</td>\n",
       "      <td>27</td>\n",
       "      <td>88</td>\n",
       "      <td>80974</td>\n",
       "    </tr>\n",
       "    <tr>\n",
       "      <th>47</th>\n",
       "      <td>10.6</td>\n",
       "      <td>42</td>\n",
       "      <td>33</td>\n",
       "      <td>86</td>\n",
       "      <td>56955</td>\n",
       "    </tr>\n",
       "    <tr>\n",
       "      <th>48</th>\n",
       "      <td>23.8</td>\n",
       "      <td>34</td>\n",
       "      <td>28</td>\n",
       "      <td>87</td>\n",
       "      <td>18963</td>\n",
       "    </tr>\n",
       "    <tr>\n",
       "      <th>49</th>\n",
       "      <td>13.8</td>\n",
       "      <td>36</td>\n",
       "      <td>33</td>\n",
       "      <td>84</td>\n",
       "      <td>58554</td>\n",
       "    </tr>\n",
       "    <tr>\n",
       "      <th>50</th>\n",
       "      <td>17.4</td>\n",
       "      <td>42</td>\n",
       "      <td>32</td>\n",
       "      <td>90</td>\n",
       "      <td>9245</td>\n",
       "    </tr>\n",
       "  </tbody>\n",
       "</table>\n",
       "</div>"
      ],
      "text/plain": [
       "    no_fatal_per_b_miles  percentage_speeding  percentage_alcohol  \\\n",
       "0                   18.8                   39                  30   \n",
       "1                   18.1                   41                  25   \n",
       "2                   18.6                   35                  28   \n",
       "3                   22.4                   18                  26   \n",
       "4                   12.0                   35                  28   \n",
       "5                   13.6                   37                  28   \n",
       "6                   10.8                   46                  36   \n",
       "7                   16.2                   38                  30   \n",
       "8                    5.9                   34                  27   \n",
       "9                   17.9                   21                  29   \n",
       "10                  15.6                   19                  25   \n",
       "11                  17.5                   54                  41   \n",
       "12                  15.3                   36                  29   \n",
       "13                  12.8                   36                  34   \n",
       "14                  14.5                   25                  29   \n",
       "15                  15.7                   17                  25   \n",
       "16                  17.8                   27                  24   \n",
       "17                  21.4                   19                  23   \n",
       "18                  20.5                   35                  33   \n",
       "19                  15.1                   38                  30   \n",
       "20                  12.5                   34                  32   \n",
       "21                   8.2                   23                  35   \n",
       "22                  14.1                   24                  28   \n",
       "23                   9.6                   23                  29   \n",
       "24                  17.6                   15                  31   \n",
       "25                  16.1                   43                  34   \n",
       "26                  21.4                   39                  44   \n",
       "27                  14.9                   13                  35   \n",
       "28                  14.7                   37                  32   \n",
       "29                  11.6                   35                  30   \n",
       "30                  11.2                   16                  28   \n",
       "31                  18.4                   19                  27   \n",
       "32                  12.3                   32                  29   \n",
       "33                  16.8                   39                  31   \n",
       "34                  23.9                   23                  42   \n",
       "35                  14.1                   28                  34   \n",
       "36                  19.9                   32                  29   \n",
       "37                  12.8                   33                  26   \n",
       "38                  18.2                   50                  31   \n",
       "39                  11.1                   34                  38   \n",
       "40                  23.9                   38                  41   \n",
       "41                  19.4                   31                  33   \n",
       "42                  19.5                   21                  29   \n",
       "43                  19.4                   40                  38   \n",
       "44                  11.3                   43                  16   \n",
       "45                  13.6                   30                  30   \n",
       "46                  12.7                   19                  27   \n",
       "47                  10.6                   42                  33   \n",
       "48                  23.8                   34                  28   \n",
       "49                  13.8                   36                  33   \n",
       "50                  17.4                   42                  32   \n",
       "\n",
       "    percentage_1st_time  million_miles_annually  \n",
       "0                    80                   64914  \n",
       "1                    94                    4593  \n",
       "2                    96                   59575  \n",
       "3                    95                   32953  \n",
       "4                    89                  320784  \n",
       "5                    95                   46606  \n",
       "6                    82                   31197  \n",
       "7                    99                    9028  \n",
       "8                   100                    3568  \n",
       "9                    94                  191855  \n",
       "10                   93                  108454  \n",
       "11                   87                   10066  \n",
       "12                   98                   15937  \n",
       "13                   96                  103234  \n",
       "14                   95                   76485  \n",
       "15                   87                   31274  \n",
       "16                   85                   30021  \n",
       "17                   76                   48061  \n",
       "18                   98                   46513  \n",
       "19                   84                   14248  \n",
       "20                   99                   56221  \n",
       "21                   80                   54792  \n",
       "22                   77                   94754  \n",
       "23                   88                   56685  \n",
       "24                  100                   38851  \n",
       "25                   84                   68789  \n",
       "26                   85                   11660  \n",
       "27                   90                   19093  \n",
       "28                   99                   24189  \n",
       "29                   83                   12720  \n",
       "30                   78                   73094  \n",
       "31                   98                   25650  \n",
       "32                   80                  127726  \n",
       "33                   81                  103772  \n",
       "34                   86                    9131  \n",
       "35                   82                  111990  \n",
       "36                   94                   47464  \n",
       "37                   90                   33373  \n",
       "38                   88                   99204  \n",
       "39                   79                    7901  \n",
       "40                   81                   48730  \n",
       "41                   86                    9002  \n",
       "42                   81                   70751  \n",
       "43                   87                  237440  \n",
       "44                   96                   26222  \n",
       "45                   95                    7141  \n",
       "46                   88                   80974  \n",
       "47                   86                   56955  \n",
       "48                   87                   18963  \n",
       "49                   84                   58554  \n",
       "50                   90                    9245  "
      ]
     },
     "execution_count": 3,
     "metadata": {},
     "output_type": "execute_result"
    }
   ],
   "source": [
    "data=pd.read_csv(\"C:/Users/LENOVO/Downloads/road-accidents - Copy - Copy.csv\")\n",
    "mix_data=data.iloc[: , 1:]\n",
    "data=mix_data.join(new_data)\n",
    "data"
   ]
  },
  {
   "cell_type": "code",
   "execution_count": 4,
   "id": "91707693",
   "metadata": {},
   "outputs": [],
   "source": [
    "scaler = MinMaxScaler(feature_range=(0, 1))"
   ]
  },
  {
   "cell_type": "code",
   "execution_count": 5,
   "id": "69fe4f07",
   "metadata": {},
   "outputs": [],
   "source": [
    "data_scaled = scaler.fit_transform(data)"
   ]
  },
  {
   "cell_type": "code",
   "execution_count": 6,
   "id": "526e00d7",
   "metadata": {},
   "outputs": [
    {
     "name": "stdout",
     "output_type": "stream",
     "text": [
      "[[0.717 0.634 0.5   0.167 0.193]\n",
      " [0.678 0.683 0.321 0.75  0.003]\n",
      " [0.706 0.537 0.429 0.833 0.177]\n",
      " [0.917 0.122 0.357 0.792 0.093]\n",
      " [0.339 0.537 0.429 0.542 1.   ]]\n"
     ]
    }
   ],
   "source": [
    "np.set_printoptions(precision=3)\n",
    "print(data_scaled[0:5,:])"
   ]
  },
  {
   "cell_type": "code",
   "execution_count": 7,
   "id": "e1ea62af",
   "metadata": {},
   "outputs": [
    {
     "data": {
      "text/plain": [
       "no_fatal_per_b_miles      0\n",
       "percentage_speeding       0\n",
       "percentage_alcohol        0\n",
       "percentage_1st_time       0\n",
       "million_miles_annually    0\n",
       "dtype: int64"
      ]
     },
     "execution_count": 7,
     "metadata": {},
     "output_type": "execute_result"
    }
   ],
   "source": [
    "missing_count=data.isnull().sum()\n",
    "missing_count"
   ]
  },
  {
   "cell_type": "code",
   "execution_count": 8,
   "id": "a4f1cbb3",
   "metadata": {},
   "outputs": [
    {
     "data": {
      "text/plain": [
       "Index(['no_fatal_per_b_miles', 'percentage_speeding', 'percentage_alcohol',\n",
       "       'percentage_1st_time', 'million_miles_annually'],\n",
       "      dtype='object')"
      ]
     },
     "execution_count": 8,
     "metadata": {},
     "output_type": "execute_result"
    }
   ],
   "source": [
    "data.keys()"
   ]
  },
  {
   "cell_type": "code",
   "execution_count": 9,
   "id": "0677f523",
   "metadata": {},
   "outputs": [
    {
     "data": {
      "text/plain": [
       "PCA(n_components=2)"
      ]
     },
     "execution_count": 9,
     "metadata": {},
     "output_type": "execute_result"
    }
   ],
   "source": [
    "pca=PCA(n_components=2)\n",
    "pca.fit(data_scaled)"
   ]
  },
  {
   "cell_type": "code",
   "execution_count": 10,
   "id": "8fd162ba",
   "metadata": {},
   "outputs": [],
   "source": [
    "x_pca=pca.transform(data_scaled)"
   ]
  },
  {
   "cell_type": "code",
   "execution_count": 11,
   "id": "fe53f51a",
   "metadata": {},
   "outputs": [
    {
     "data": {
      "text/plain": [
       "(51, 5)"
      ]
     },
     "execution_count": 11,
     "metadata": {},
     "output_type": "execute_result"
    }
   ],
   "source": [
    "data_scaled.shape"
   ]
  },
  {
   "cell_type": "code",
   "execution_count": 12,
   "id": "413fffea",
   "metadata": {},
   "outputs": [
    {
     "data": {
      "text/plain": [
       "(51, 2)"
      ]
     },
     "execution_count": 12,
     "metadata": {},
     "output_type": "execute_result"
    }
   ],
   "source": [
    "x_pca.shape"
   ]
  },
  {
   "cell_type": "code",
   "execution_count": 13,
   "id": "153cfd7d",
   "metadata": {},
   "outputs": [
    {
     "data": {
      "text/plain": [
       "array([[0.717, 0.634, 0.5  , 0.167, 0.193],\n",
       "       [0.678, 0.683, 0.321, 0.75 , 0.003],\n",
       "       [0.706, 0.537, 0.429, 0.833, 0.177],\n",
       "       [0.917, 0.122, 0.357, 0.792, 0.093],\n",
       "       [0.339, 0.537, 0.429, 0.542, 1.   ],\n",
       "       [0.428, 0.585, 0.429, 0.792, 0.136],\n",
       "       [0.272, 0.805, 0.714, 0.25 , 0.087],\n",
       "       [0.572, 0.61 , 0.5  , 0.958, 0.017],\n",
       "       [0.   , 0.512, 0.393, 1.   , 0.   ],\n",
       "       [0.667, 0.195, 0.464, 0.75 , 0.594],\n",
       "       [0.539, 0.146, 0.321, 0.708, 0.331],\n",
       "       [0.644, 1.   , 0.893, 0.458, 0.02 ],\n",
       "       [0.522, 0.561, 0.464, 0.917, 0.039],\n",
       "       [0.383, 0.561, 0.643, 0.833, 0.314],\n",
       "       [0.478, 0.293, 0.464, 0.792, 0.23 ],\n",
       "       [0.544, 0.098, 0.321, 0.458, 0.087],\n",
       "       [0.661, 0.341, 0.286, 0.375, 0.083],\n",
       "       [0.861, 0.146, 0.25 , 0.   , 0.14 ],\n",
       "       [0.811, 0.537, 0.607, 0.917, 0.135],\n",
       "       [0.511, 0.61 , 0.5  , 0.333, 0.034],\n",
       "       [0.367, 0.512, 0.571, 0.958, 0.166],\n",
       "       [0.128, 0.244, 0.679, 0.167, 0.161],\n",
       "       [0.456, 0.268, 0.429, 0.042, 0.287],\n",
       "       [0.206, 0.244, 0.464, 0.5  , 0.167],\n",
       "       [0.65 , 0.049, 0.536, 1.   , 0.111],\n",
       "       [0.567, 0.732, 0.643, 0.333, 0.206],\n",
       "       [0.861, 0.634, 1.   , 0.375, 0.026],\n",
       "       [0.5  , 0.   , 0.679, 0.583, 0.049],\n",
       "       [0.489, 0.585, 0.571, 0.958, 0.065],\n",
       "       [0.317, 0.537, 0.5  , 0.292, 0.029],\n",
       "       [0.294, 0.073, 0.429, 0.083, 0.219],\n",
       "       [0.694, 0.146, 0.393, 0.917, 0.07 ],\n",
       "       [0.356, 0.463, 0.464, 0.167, 0.391],\n",
       "       [0.606, 0.634, 0.536, 0.208, 0.316],\n",
       "       [1.   , 0.244, 0.929, 0.417, 0.018],\n",
       "       [0.456, 0.366, 0.643, 0.25 , 0.342],\n",
       "       [0.778, 0.463, 0.464, 0.75 , 0.138],\n",
       "       [0.383, 0.488, 0.357, 0.583, 0.094],\n",
       "       [0.683, 0.902, 0.536, 0.5  , 0.301],\n",
       "       [0.289, 0.512, 0.786, 0.125, 0.014],\n",
       "       [1.   , 0.61 , 0.893, 0.208, 0.142],\n",
       "       [0.75 , 0.439, 0.607, 0.417, 0.017],\n",
       "       [0.756, 0.195, 0.464, 0.208, 0.212],\n",
       "       [0.75 , 0.659, 0.786, 0.458, 0.737],\n",
       "       [0.3  , 0.732, 0.   , 0.833, 0.071],\n",
       "       [0.428, 0.415, 0.5  , 0.792, 0.011],\n",
       "       [0.378, 0.146, 0.393, 0.5  , 0.244],\n",
       "       [0.261, 0.707, 0.607, 0.417, 0.168],\n",
       "       [0.994, 0.512, 0.429, 0.458, 0.049],\n",
       "       [0.439, 0.561, 0.607, 0.333, 0.173],\n",
       "       [0.639, 0.707, 0.571, 0.583, 0.018]])"
      ]
     },
     "execution_count": 13,
     "metadata": {},
     "output_type": "execute_result"
    }
   ],
   "source": [
    "data_scaled"
   ]
  },
  {
   "cell_type": "code",
   "execution_count": 14,
   "id": "37eff2d1",
   "metadata": {},
   "outputs": [
    {
     "data": {
      "text/plain": [
       "array([[-0.367,  0.127],\n",
       "       [ 0.258,  0.207],\n",
       "       [ 0.297,  0.118],\n",
       "       [ 0.291, -0.196],\n",
       "       [-0.049, -0.161],\n",
       "       [ 0.28 ,  0.083],\n",
       "       [-0.304,  0.264],\n",
       "       [ 0.423,  0.217],\n",
       "       [ 0.541, -0.056],\n",
       "       [ 0.182, -0.248],\n",
       "       [ 0.22 , -0.345],\n",
       "       [-0.18 ,  0.646],\n",
       "       [ 0.396,  0.138],\n",
       "       [ 0.251,  0.113],\n",
       "       [ 0.273, -0.152],\n",
       "       [ 0.012, -0.384],\n",
       "       [-0.081, -0.172],\n",
       "       [-0.442, -0.363],\n",
       "       [ 0.329,  0.238],\n",
       "       [-0.172,  0.101],\n",
       "       [ 0.41 ,  0.082],\n",
       "       [-0.341, -0.289],\n",
       "       [-0.44 , -0.318],\n",
       "       [ 0.025, -0.303],\n",
       "       [ 0.468, -0.231],\n",
       "       [-0.238,  0.249],\n",
       "       [-0.284,  0.424],\n",
       "       [ 0.055, -0.311],\n",
       "       [ 0.408,  0.194],\n",
       "       [-0.192, -0.02 ],\n",
       "       [-0.369, -0.51 ],\n",
       "       [ 0.42 , -0.199],\n",
       "       [-0.344, -0.163],\n",
       "       [-0.342,  0.097],\n",
       "       [-0.215,  0.112],\n",
       "       [-0.305, -0.127],\n",
       "       [ 0.211,  0.084],\n",
       "       [ 0.112, -0.065],\n",
       "       [-0.081,  0.393],\n",
       "       [-0.418,  0.042],\n",
       "       [-0.439,  0.355],\n",
       "       [-0.126,  0.08 ],\n",
       "       [-0.299, -0.245],\n",
       "       [-0.226,  0.227],\n",
       "       [ 0.436,  0.019],\n",
       "       [ 0.286, -0.013],\n",
       "       [ 0.026, -0.379],\n",
       "       [-0.121,  0.149],\n",
       "       [-0.068,  0.14 ],\n",
       "       [-0.206,  0.06 ],\n",
       "       [ 0.036,  0.288]])"
      ]
     },
     "execution_count": 14,
     "metadata": {},
     "output_type": "execute_result"
    }
   ],
   "source": [
    "x_pca"
   ]
  },
  {
   "cell_type": "code",
   "execution_count": 15,
   "id": "27f127ce",
   "metadata": {},
   "outputs": [
    {
     "data": {
      "text/plain": [
       "Text(0, 0.5, 'second component')"
      ]
     },
     "execution_count": 15,
     "metadata": {},
     "output_type": "execute_result"
    },
    {
     "data": {
      "image/png": "[encoded data removed]",
      "text/plain": [
       "<Figure size 576x432 with 1 Axes>"
      ]
     },
     "metadata": {
      "needs_background": "light"
     },
     "output_type": "display_data"
    }
   ],
   "source": [
    "plt.figure(figsize=(8,6))\n",
    "plt.scatter(data_scaled[:,0],data_scaled[:,1],c=data['no_fatal_per_b_miles'])\n",
    "plt.xlabel(\"first component\")\n",
    "plt.ylabel(\"second component\")"
   ]
  },
  {
   "cell_type": "code",
   "execution_count": 16,
   "id": "284bcf6c",
   "metadata": {},
   "outputs": [
    {
     "data": {
      "text/plain": [
       "Text(0, 0.5, 'second component')"
      ]
     },
     "execution_count": 16,
     "metadata": {},
     "output_type": "execute_result"
    },
    {
     "data": {
      "image/png": "[encoded data removed]",
      "text/plain": [
       "<Figure size 576x432 with 1 Axes>"
      ]
     },
     "metadata": {
      "needs_background": "light"
     },
     "output_type": "display_data"
    }
   ],
   "source": [
    "plt.figure(figsize=(8,6))\n",
    "plt.scatter(x_pca[:,0],x_pca[:,1],c=data['no_fatal_per_b_miles'])\n",
    "plt.xlabel(\"first component\")\n",
    "plt.ylabel(\"second component\")"
   ]
  },
  {
   "cell_type": "code",
   "execution_count": 17,
   "id": "7564ad08",
   "metadata": {},
   "outputs": [
    {
     "data": {
      "text/plain": [
       "array([[1., 1., 1., ..., 1., 1., 1.],\n",
       "       [1., 1., 1., ..., 1., 1., 1.],\n",
       "       [1., 1., 1., ..., 1., 1., 1.],\n",
       "       ...,\n",
       "       [1., 1., 1., ..., 1., 1., 1.],\n",
       "       [1., 1., 1., ..., 1., 1., 1.],\n",
       "       [1., 1., 1., ..., 1., 1., 1.]])"
      ]
     },
     "execution_count": 17,
     "metadata": {},
     "output_type": "execute_result"
    }
   ],
   "source": [
    "myCor=np.corrcoef(data)\n",
    "myCor"
   ]
  },
  {
   "cell_type": "code",
   "execution_count": 18,
   "id": "b2052d97",
   "metadata": {},
   "outputs": [
    {
     "data": {
      "text/plain": [
       "array([[1.   , 0.4  , 0.188, ..., 0.759, 0.725, 0.642],\n",
       "       [0.4  , 1.   , 0.935, ..., 0.736, 0.432, 0.88 ],\n",
       "       [0.188, 0.935, 1.   , ..., 0.705, 0.258, 0.761],\n",
       "       ...,\n",
       "       [0.759, 0.736, 0.705, ..., 1.   , 0.476, 0.751],\n",
       "       [0.725, 0.432, 0.258, ..., 0.476, 1.   , 0.806],\n",
       "       [0.642, 0.88 , 0.761, ..., 0.751, 0.806, 1.   ]])"
      ]
     },
     "execution_count": 18,
     "metadata": {},
     "output_type": "execute_result"
    }
   ],
   "source": [
    "myCor=np.corrcoef(data_scaled)\n",
    "myCor"
   ]
  },
  {
   "cell_type": "code",
   "execution_count": 19,
   "id": "4bb77ef6",
   "metadata": {},
   "outputs": [
    {
     "data": {
      "text/plain": [
       "array([[ 1., -1., -1., ...,  1.,  1.,  1.],\n",
       "       [-1.,  1.,  1., ..., -1., -1., -1.],\n",
       "       [-1.,  1.,  1., ..., -1., -1., -1.],\n",
       "       ...,\n",
       "       [ 1., -1., -1., ...,  1.,  1.,  1.],\n",
       "       [ 1., -1., -1., ...,  1.,  1.,  1.],\n",
       "       [ 1., -1., -1., ...,  1.,  1.,  1.]])"
      ]
     },
     "execution_count": 19,
     "metadata": {},
     "output_type": "execute_result"
    }
   ],
   "source": [
    "myCor=np.corrcoef(x_pca)\n",
    "myCor"
   ]
  },
  {
   "cell_type": "code",
   "execution_count": 20,
   "id": "1b69aadf",
   "metadata": {},
   "outputs": [
    {
     "data": {
      "image/png": "[encoded data removed]",
      "text/plain": [
       "<Figure size 864x216 with 3 Axes>"
      ]
     },
     "metadata": {
      "needs_background": "light"
     },
     "output_type": "display_data"
    }
   ],
   "source": [
    "seed = 13\n",
    "rand = np.random.RandomState(seed)\n",
    "\n",
    "x = rand.uniform(0,1,100)\n",
    "x = np.vstack((x,x*2+1))\n",
    "x = np.vstack((x,-x[0,]*2+1))\n",
    "x = np.vstack((x,rand.normal(1,3,100)))\n",
    "\n",
    "rho = np.corrcoef(data)\n",
    "\n",
    "fig, ax = plt.subplots(nrows=1, ncols=3, figsize=(12, 3))\n",
    "for i in [0,1,2]:\n",
    "    ax[i].scatter(x[0,],x[1+i,])\n",
    "    ax[i].title.set_text('Correlation = ' + \"{:.2f}\".format(rho[0,i+1]))\n",
    "    ax[i].set(xlabel='x',ylabel='y')\n",
    "fig.subplots_adjust(wspace=.4)    \n",
    "plt.show()"
   ]
  },
  {
   "cell_type": "code",
   "execution_count": 21,
   "id": "4ce131f0",
   "metadata": {},
   "outputs": [
    {
     "data": {
      "image/png": "[encoded data removed]",
      "text/plain": [
       "<Figure size 864x216 with 3 Axes>"
      ]
     },
     "metadata": {
      "needs_background": "light"
     },
     "output_type": "display_data"
    }
   ],
   "source": [
    "seed = 13\n",
    "rand = np.random.RandomState(seed)\n",
    "\n",
    "x = rand.uniform(0,1,100)\n",
    "x = np.vstack((x,x*2+1))\n",
    "x = np.vstack((x,-x[0,]*2+1))\n",
    "x = np.vstack((x,rand.normal(1,3,100)))\n",
    "\n",
    "rho = np.corrcoef(data_scaled)\n",
    "\n",
    "fig, ax = plt.subplots(nrows=1, ncols=3, figsize=(12, 3))\n",
    "for i in [0,1,2]:\n",
    "    ax[i].scatter(x[0,],x[1+i,])\n",
    "    ax[i].title.set_text('Correlation = ' + \"{:.2f}\".format(rho[0,i+1]))\n",
    "    ax[i].set(xlabel='x',ylabel='y')\n",
    "fig.subplots_adjust(wspace=.4)    \n",
    "plt.show()"
   ]
  },
  {
   "cell_type": "code",
   "execution_count": 22,
   "id": "a5c90489",
   "metadata": {},
   "outputs": [
    {
     "data": {
      "image/png": "[encoded data removed]",
      "text/plain": [
       "<Figure size 1080x576 with 8 Axes>"
      ]
     },
     "metadata": {
      "needs_background": "light"
     },
     "output_type": "display_data"
    }
   ],
   "source": [
    "fig, ax = plt.subplots(nrows=2, ncols=4, figsize=(15, 8))\n",
    "\n",
    "for noise, i in zip([0.05,0.2,0.8,2],[0,1,2,3]):\n",
    "    # Add noise\n",
    "    x_with_noise = x+rand.normal(0,noise,x.shape)\n",
    "    \n",
    "    # Compute correlation\n",
    "    rho_noise = np.corrcoef(x_with_noise)\n",
    "    \n",
    "    # Plot column wise. Positive correlation in row 0 and negative in row 1\n",
    "    ax[0,i].scatter(x_with_noise[0,],x_with_noise[1,],color='magenta')\n",
    "    ax[1,i].scatter(x_with_noise[0,],x_with_noise[2,],color='green')\n",
    "    ax[0,i].title.set_text('Correlation = ' + \"{:.2f}\".format(rho_noise[0,1])\n",
    "                        + '\\n Noise = ' + \"{:.2f}\".format(noise) )\n",
    "    ax[1,i].title.set_text('Correlation = ' + \"{:.2f}\".format(rho_noise[0,2])\n",
    "                        + '\\n Noise = ' + \"{:.2f}\".format(noise))\n",
    "    ax[0,i].set(xlabel='x',ylabel='y')    \n",
    "    ax[1,i].set(xlabel='x',ylabel='y')\n",
    "    \n",
    "fig.subplots_adjust(wspace=0.3,hspace=0.4)    \n",
    "plt.show()"
   ]
  },
  {
   "cell_type": "code",
   "execution_count": 23,
   "id": "d05308a7",
   "metadata": {},
   "outputs": [
    {
     "data": {
      "image/png": "[encoded data removed]",
      "text/plain": [
       "<Figure size 1152x216 with 5 Axes>"
      ]
     },
     "metadata": {
      "needs_background": "light"
     },
     "output_type": "display_data"
    }
   ],
   "source": [
    "# Create a data matrix\n",
    "x_nonlinear = np.linspace(-10,10,100)\n",
    "x_nonlinear = np.vstack((x_nonlinear,x_nonlinear*x_nonlinear))\n",
    "x_nonlinear = np.vstack((x_nonlinear,-x_nonlinear[0,]**2))\n",
    "x_nonlinear = np.vstack((x_nonlinear,x_nonlinear[0,]**4))\n",
    "x_nonlinear = np.vstack((x_nonlinear,np.log(x_nonlinear[0,]**2+1)))\n",
    "x_nonlinear = np.vstack((x_nonlinear,np.exp(x_nonlinear[0,])))\n",
    "\n",
    "# Compute the correlation\n",
    "rho_nonlinear = np.corrcoef(x_nonlinear)\n",
    "\n",
    "# Plot the data\n",
    "fig, ax = plt.subplots(nrows=1, ncols=5, figsize=(16, 3))\n",
    "title = ['$y=x^2$','$y=-x^2$','$y=x^4$','$y=\\log(x^2+1)$','$y=\\exp(x)$']\n",
    "for i in [0,1,2,3,4]:\n",
    "    ax[i].scatter(x_nonlinear[0,],x_nonlinear[1+i,],color='cyan')\n",
    "    ax[i].title.set_text(title[i] + '\\n' + \n",
    "                         'Correlation = ' + \"{:.2f}\".format(rho_nonlinear[0,i+1]))\n",
    "    ax[i].set(xlabel='x',ylabel='y')\n",
    "fig.subplots_adjust(wspace=.4)    \n",
    "plt.show()"
   ]
  },
  {
   "cell_type": "code",
   "execution_count": 24,
   "id": "9ef516ae",
   "metadata": {},
   "outputs": [
    {
     "data": {
      "text/plain": [
       "KMeans(n_clusters=2)"
      ]
     },
     "execution_count": 24,
     "metadata": {},
     "output_type": "execute_result"
    }
   ],
   "source": [
    "arr=[x_pca]\n",
    "from sklearn.cluster import KMeans\n",
    "kmeans=KMeans(2)\n",
    "kmeans.fit(arr[0])"
   ]
  },
  {
   "cell_type": "code",
   "execution_count": 25,
   "id": "ebefe64d",
   "metadata": {},
   "outputs": [
    {
     "data": {
      "text/plain": [
       "array([[ 0.275, -0.058],\n",
       "       [-0.245,  0.051]])"
      ]
     },
     "execution_count": 25,
     "metadata": {},
     "output_type": "execute_result"
    }
   ],
   "source": [
    "kmeans.cluster_centers_"
   ]
  },
  {
   "cell_type": "code",
   "execution_count": 26,
   "id": "d397d7ce",
   "metadata": {},
   "outputs": [
    {
     "data": {
      "text/plain": [
       "array([[0.578, 0.521, 0.597, 0.302, 0.199],\n",
       "       [0.517, 0.384, 0.443, 0.786, 0.139]])"
      ]
     },
     "execution_count": 26,
     "metadata": {},
     "output_type": "execute_result"
    }
   ],
   "source": [
    "array=[data_scaled]\n",
    "kmeans2=KMeans(2)\n",
    "kmeans2.fit(array[0])\n",
    "kmeans2.cluster_centers_"
   ]
  },
  {
   "cell_type": "code",
   "execution_count": 27,
   "id": "9d313e76",
   "metadata": {},
   "outputs": [
    {
     "data": {
      "text/plain": [
       "array([[1.575e+01, 3.171e+01, 3.062e+01, 8.865e+01, 4.584e+04],\n",
       "       [1.643e+01, 3.200e+01, 3.167e+01, 9.000e+01, 2.500e+05]])"
      ]
     },
     "execution_count": 27,
     "metadata": {},
     "output_type": "execute_result"
    }
   ],
   "source": [
    "array2=[data]\n",
    "kmeans3=KMeans(2)\n",
    "kmeans3.fit(array2[0])\n",
    "kmeans3.cluster_centers_"
   ]
  },
  {
   "cell_type": "code",
   "execution_count": 28,
   "id": "78dff1d1",
   "metadata": {},
   "outputs": [],
   "source": [
    "float_data=data.astype(float)"
   ]
  },
  {
   "cell_type": "code",
   "execution_count": 29,
   "id": "700637c1",
   "metadata": {},
   "outputs": [
    {
     "data": {
      "text/html": [
       "<div>\n",
       "<style scoped>\n",
       "    .dataframe tbody tr th:only-of-type {\n",
       "        vertical-align: middle;\n",
       "    }\n",
       "\n",
       "    .dataframe tbody tr th {\n",
       "        vertical-align: top;\n",
       "    }\n",
       "\n",
       "    .dataframe thead th {\n",
       "        text-align: right;\n",
       "    }\n",
       "</style>\n",
       "<table border=\"1\" class=\"dataframe\">\n",
       "  <thead>\n",
       "    <tr style=\"text-align: right;\">\n",
       "      <th></th>\n",
       "      <th>no_fatal_per_b_miles</th>\n",
       "      <th>percentage_speeding</th>\n",
       "      <th>percentage_alcohol</th>\n",
       "      <th>percentage_1st_time</th>\n",
       "      <th>million_miles_annually</th>\n",
       "    </tr>\n",
       "  </thead>\n",
       "  <tbody>\n",
       "    <tr>\n",
       "      <th>0</th>\n",
       "      <td>18.8</td>\n",
       "      <td>39.0</td>\n",
       "      <td>30.0</td>\n",
       "      <td>80.0</td>\n",
       "      <td>64914.0</td>\n",
       "    </tr>\n",
       "    <tr>\n",
       "      <th>1</th>\n",
       "      <td>18.1</td>\n",
       "      <td>41.0</td>\n",
       "      <td>25.0</td>\n",
       "      <td>94.0</td>\n",
       "      <td>4593.0</td>\n",
       "    </tr>\n",
       "    <tr>\n",
       "      <th>2</th>\n",
       "      <td>18.6</td>\n",
       "      <td>35.0</td>\n",
       "      <td>28.0</td>\n",
       "      <td>96.0</td>\n",
       "      <td>59575.0</td>\n",
       "    </tr>\n",
       "    <tr>\n",
       "      <th>3</th>\n",
       "      <td>22.4</td>\n",
       "      <td>18.0</td>\n",
       "      <td>26.0</td>\n",
       "      <td>95.0</td>\n",
       "      <td>32953.0</td>\n",
       "    </tr>\n",
       "    <tr>\n",
       "      <th>4</th>\n",
       "      <td>12.0</td>\n",
       "      <td>35.0</td>\n",
       "      <td>28.0</td>\n",
       "      <td>89.0</td>\n",
       "      <td>320784.0</td>\n",
       "    </tr>\n",
       "  </tbody>\n",
       "</table>\n",
       "</div>"
      ],
      "text/plain": [
       "   no_fatal_per_b_miles  percentage_speeding  percentage_alcohol  \\\n",
       "0                  18.8                 39.0                30.0   \n",
       "1                  18.1                 41.0                25.0   \n",
       "2                  18.6                 35.0                28.0   \n",
       "3                  22.4                 18.0                26.0   \n",
       "4                  12.0                 35.0                28.0   \n",
       "\n",
       "   percentage_1st_time  million_miles_annually  \n",
       "0                 80.0                 64914.0  \n",
       "1                 94.0                  4593.0  \n",
       "2                 96.0                 59575.0  \n",
       "3                 95.0                 32953.0  \n",
       "4                 89.0                320784.0  "
      ]
     },
     "execution_count": 29,
     "metadata": {},
     "output_type": "execute_result"
    }
   ],
   "source": [
    "float_data.head()"
   ]
  },
  {
   "cell_type": "code",
   "execution_count": 30,
   "id": "af02e23a",
   "metadata": {},
   "outputs": [
    {
     "data": {
      "text/plain": [
       "<AxesSubplot:xlabel='percentage_alcohol', ylabel='no_fatal_per_b_miles'>"
      ]
     },
     "execution_count": 30,
     "metadata": {},
     "output_type": "execute_result"
    },
    {
     "data": {
      "image/png": "[encoded data removed]",
      "text/plain": [
       "<Figure size 432x288 with 1 Axes>"
      ]
     },
     "metadata": {
      "needs_background": "light"
     },
     "output_type": "display_data"
    }
   ],
   "source": [
    "sns.scatterplot(x=float_data['percentage_alcohol'],y=float_data['no_fatal_per_b_miles'])\n"
   ]
  },
  {
   "cell_type": "code",
   "execution_count": 31,
   "id": "25eeb36a",
   "metadata": {},
   "outputs": [
    {
     "data": {
      "text/plain": [
       "<AxesSubplot:xlabel='percentage_alcohol', ylabel='no_fatal_per_b_miles'>"
      ]
     },
     "execution_count": 31,
     "metadata": {},
     "output_type": "execute_result"
    },
    {
     "data": {
      "image/png": "[encoded data removed]",
      "text/plain": [
       "<Figure size 432x288 with 1 Axes>"
      ]
     },
     "metadata": {
      "needs_background": "light"
     },
     "output_type": "display_data"
    }
   ],
   "source": [
    "sns.regplot(x=float_data['percentage_alcohol'],y=float_data['no_fatal_per_b_miles'])"
   ]
  },
  {
   "cell_type": "code",
   "execution_count": 32,
   "id": "677e9741",
   "metadata": {},
   "outputs": [
    {
     "data": {
      "text/plain": [
       "<seaborn.axisgrid.FacetGrid at 0x1db6b1c5f40>"
      ]
     },
     "execution_count": 32,
     "metadata": {},
     "output_type": "execute_result"
    },
    {
     "data": {
      "image/png": "[encoded data removed]",
      "text/plain": [
       "<Figure size 465.5x360 with 1 Axes>"
      ]
     },
     "metadata": {
      "needs_background": "light"
     },
     "output_type": "display_data"
    }
   ],
   "source": [
    "sns.lmplot(hue='percentage_alcohol',x='no_fatal_per_b_miles',y='percentage_1st_time',data=float_data)"
   ]
  },
  {
   "cell_type": "code",
   "execution_count": 33,
   "id": "523c5e9b",
   "metadata": {},
   "outputs": [
    {
     "data": {
      "text/plain": [
       "<AxesSubplot:xlabel='percentage_alcohol', ylabel='no_fatal_per_b_miles'>"
      ]
     },
     "execution_count": 33,
     "metadata": {},
     "output_type": "execute_result"
    },
    {
     "data": {
      "image/png": "[encoded data removed]",
      "text/plain": [
       "<Figure size 432x288 with 1 Axes>"
      ]
     },
     "metadata": {
      "needs_background": "light"
     },
     "output_type": "display_data"
    }
   ],
   "source": [
    "sns.swarmplot(x=float_data['percentage_alcohol'],y=float_data['no_fatal_per_b_miles'])"
   ]
  },
  {
   "cell_type": "code",
   "execution_count": null,
   "id": "7f7d7cc7",
   "metadata": {},
   "outputs": [],
   "source": []
  }
 ],
 "metadata": {
  "kernelspec": {
   "display_name": "Python 3 (ipykernel)",
   "language": "python",
   "name": "python3"
  },
  "language_info": {
   "codemirror_mode": {
    "name": "ipython",
    "version": 3
   },
   "file_extension": ".py",
   "mimetype": "text/x-python",
   "name": "python",
   "nbconvert_exporter": "python",
   "pygments_lexer": "ipython3",
   "version": "3.9.12"
  }
 },
 "nbformat": 4,
 "nbformat_minor": 5
}
