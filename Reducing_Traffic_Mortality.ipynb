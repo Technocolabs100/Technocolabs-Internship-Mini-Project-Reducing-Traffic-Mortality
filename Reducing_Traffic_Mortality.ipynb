{
  "nbformat": 4,
  "nbformat_minor": 0,
  "metadata": {
    "colab": {
      "name": "Reducing_Traffic_Mortality.ipynb",
      "provenance": []
    },
    "kernelspec": {
      "name": "python3",
      "display_name": "Python 3"
    },
    "language_info": {
      "name": "python"
    }
  },
  "cells": [
    {
      "cell_type": "markdown",
      "source": [
        "# **Description**<br>\n",
        "While the rate of fatal road accidents has been decreasing steadily since the 80s, the past ten years have seen a stagnation in this reduction. Coupled with the increase in number of miles driven in the nation, the total number of traffic related-fatalities has now reached a ten year high and is rapidly increasing.By looking at the demographics of traﬃc accident victims for each US state, we find that there is a lot of variation between states. Now we want to understand if there are patterns in this variation in order to derive suggestions for a policy action plan. In particular, instead of implementing a costly nation-wide plan we want to focus on groups of states with similar profiles."
      ],
      "metadata": {
        "id": "TojdgkQwnEOq"
      }
    },
    {
      "cell_type": "markdown",
      "source": [
        "# Import Libraries "
      ],
      "metadata": {
        "id": "h3VuLR_vm9Dm"
      }
    },
    {
      "cell_type": "code",
      "execution_count": 1,
      "metadata": {
        "id": "qtwE3YWm3Da0"
      },
      "outputs": [],
      "source": [
        "import pandas as pd\n",
        "import numpy as np\n",
        "# Import label encoder\n",
        "from sklearn import preprocessing\n",
        "# label_encoder object knows how to understand word labels.\n",
        "label_encoder = preprocessing.LabelEncoder()\n",
        "#Pair Plot Graph\n",
        "import seaborn as sns\n",
        "from sklearn.model_selection import train_test_split\n",
        "from sklearn.model_selection import learning_curve\n",
        "# Standardize and center the feature columns\n",
        "import matplotlib.pyplot as plt\n",
        "from sklearn.decomposition import PCA\n",
        "from sklearn.preprocessing import StandardScaler"
      ]
    },
    {
      "cell_type": "markdown",
      "source": [
        "#**Project Task**<br>\n",
        "\n",
        "\n",
        "*   The raw data files and their format\n",
        "*   Read in and get an overview of the data\n",
        "\n",
        "\n",
        "*   Create a textual and a graphical summary of the data\n",
        "\n",
        "*   Quantify the association of features and accidents\n",
        "\n",
        "*   Fit a multivariate linear regression\n",
        "\n",
        "*   Perform PCA on standardized data\n",
        "\n",
        "*   Visualize the first two principal components\n",
        "\n",
        "*   Find clusters of similar states in the data\n",
        "*   KMeans to visualize clusters in the PCA scatter plot\n",
        "\n",
        "\n",
        "*   Visualize the feature differences between the clusters\n",
        "\n",
        "\n",
        "*  Compute the number of accidents within each cluster\n",
        "\n",
        "*   Make a decision when there is no clear right choice\n",
        "\n",
        "\n",
        "\n"
      ],
      "metadata": {
        "id": "7umPBtp2os3_"
      }
    },
    {
      "cell_type": "markdown",
      "source": [
        "# Read in and get an overview of the data\n"
      ],
      "metadata": {
        "id": "uJvpjzleqbkO"
      }
    },
    {
      "cell_type": "code",
      "source": [
        "#import the miles driven dataset\n",
        "dataset_road_acc=pd.read_csv('/content/road-accidents.csv' , comment =\"#\", delimiter='|')\n",
        "print(dataset_road_acc)"
      ],
      "metadata": {
        "colab": {
          "base_uri": "https://localhost:8080/"
        },
        "id": "JxsZjb903KBf",
        "outputId": "47295952-2674-40b4-bd01-9348d9113aab"
      },
      "execution_count": 2,
      "outputs": [
        {
          "output_type": "stream",
          "name": "stdout",
          "text": [
            "                   state  drvr_fatl_col_bmiles  perc_fatl_speed  \\\n",
            "0                Alabama                  18.8               39   \n",
            "1                 Alaska                  18.1               41   \n",
            "2                Arizona                  18.6               35   \n",
            "3               Arkansas                  22.4               18   \n",
            "4             California                  12.0               35   \n",
            "5               Colorado                  13.6               37   \n",
            "6            Connecticut                  10.8               46   \n",
            "7               Delaware                  16.2               38   \n",
            "8   District of Columbia                   5.9               34   \n",
            "9                Florida                  17.9               21   \n",
            "10               Georgia                  15.6               19   \n",
            "11                Hawaii                  17.5               54   \n",
            "12                 Idaho                  15.3               36   \n",
            "13              Illinois                  12.8               36   \n",
            "14               Indiana                  14.5               25   \n",
            "15                  Iowa                  15.7               17   \n",
            "16                Kansas                  17.8               27   \n",
            "17              Kentucky                  21.4               19   \n",
            "18             Louisiana                  20.5               35   \n",
            "19                 Maine                  15.1               38   \n",
            "20              Maryland                  12.5               34   \n",
            "21         Massachusetts                   8.2               23   \n",
            "22              Michigan                  14.1               24   \n",
            "23             Minnesota                   9.6               23   \n",
            "24           Mississippi                  17.6               15   \n",
            "25              Missouri                  16.1               43   \n",
            "26               Montana                  21.4               39   \n",
            "27              Nebraska                  14.9               13   \n",
            "28                Nevada                  14.7               37   \n",
            "29         New Hampshire                  11.6               35   \n",
            "30            New Jersey                  11.2               16   \n",
            "31            New Mexico                  18.4               19   \n",
            "32              New York                  12.3               32   \n",
            "33        North Carolina                  16.8               39   \n",
            "34          North Dakota                  23.9               23   \n",
            "35                  Ohio                  14.1               28   \n",
            "36              Oklahoma                  19.9               32   \n",
            "37                Oregon                  12.8               33   \n",
            "38          Pennsylvania                  18.2               50   \n",
            "39          Rhode Island                  11.1               34   \n",
            "40        South Carolina                  23.9               38   \n",
            "41          South Dakota                  19.4               31   \n",
            "42             Tennessee                  19.5               21   \n",
            "43                 Texas                  19.4               40   \n",
            "44                  Utah                  11.3               43   \n",
            "45               Vermont                  13.6               30   \n",
            "46              Virginia                  12.7               19   \n",
            "47            Washington                  10.6               42   \n",
            "48         West Virginia                  23.8               34   \n",
            "49             Wisconsin                  13.8               36   \n",
            "50               Wyoming                  17.4               42   \n",
            "\n",
            "    perc_fatl_alcohol  perc_fatl_1st_time  \n",
            "0                  30                  80  \n",
            "1                  25                  94  \n",
            "2                  28                  96  \n",
            "3                  26                  95  \n",
            "4                  28                  89  \n",
            "5                  28                  95  \n",
            "6                  36                  82  \n",
            "7                  30                  99  \n",
            "8                  27                 100  \n",
            "9                  29                  94  \n",
            "10                 25                  93  \n",
            "11                 41                  87  \n",
            "12                 29                  98  \n",
            "13                 34                  96  \n",
            "14                 29                  95  \n",
            "15                 25                  87  \n",
            "16                 24                  85  \n",
            "17                 23                  76  \n",
            "18                 33                  98  \n",
            "19                 30                  84  \n",
            "20                 32                  99  \n",
            "21                 35                  80  \n",
            "22                 28                  77  \n",
            "23                 29                  88  \n",
            "24                 31                 100  \n",
            "25                 34                  84  \n",
            "26                 44                  85  \n",
            "27                 35                  90  \n",
            "28                 32                  99  \n",
            "29                 30                  83  \n",
            "30                 28                  78  \n",
            "31                 27                  98  \n",
            "32                 29                  80  \n",
            "33                 31                  81  \n",
            "34                 42                  86  \n",
            "35                 34                  82  \n",
            "36                 29                  94  \n",
            "37                 26                  90  \n",
            "38                 31                  88  \n",
            "39                 38                  79  \n",
            "40                 41                  81  \n",
            "41                 33                  86  \n",
            "42                 29                  81  \n",
            "43                 38                  87  \n",
            "44                 16                  96  \n",
            "45                 30                  95  \n",
            "46                 27                  88  \n",
            "47                 33                  86  \n",
            "48                 28                  87  \n",
            "49                 33                  84  \n",
            "50                 32                  90  \n"
          ]
        }
      ]
    },
    {
      "cell_type": "code",
      "source": [
        "#columns name of dataset_road_acc\n",
        "print(dataset_road_acc.columns)"
      ],
      "metadata": {
        "colab": {
          "base_uri": "https://localhost:8080/"
        },
        "id": "ipeiyT14dxVy",
        "outputId": "382efcb3-7f37-4d07-f3e7-fd7dac319ec5"
      },
      "execution_count": 3,
      "outputs": [
        {
          "output_type": "stream",
          "name": "stdout",
          "text": [
            "Index(['state', 'drvr_fatl_col_bmiles', 'perc_fatl_speed', 'perc_fatl_alcohol',\n",
            "       'perc_fatl_1st_time'],\n",
            "      dtype='object')\n"
          ]
        }
      ]
    },
    {
      "cell_type": "markdown",
      "source": [
        "# Data Pre-processing"
      ],
      "metadata": {
        "id": "3xrGD7GyekLc"
      }
    },
    {
      "cell_type": "code",
      "source": [
        "#find the null values \n",
        "dataset_road_acc.isnull().sum()"
      ],
      "metadata": {
        "colab": {
          "base_uri": "https://localhost:8080/"
        },
        "id": "tncazF8ReoE5",
        "outputId": "6d7d124f-21eb-472d-86a4-3398f76e1ec5"
      },
      "execution_count": 4,
      "outputs": [
        {
          "output_type": "execute_result",
          "data": {
            "text/plain": [
              "state                   0\n",
              "drvr_fatl_col_bmiles    0\n",
              "perc_fatl_speed         0\n",
              "perc_fatl_alcohol       0\n",
              "perc_fatl_1st_time      0\n",
              "dtype: int64"
            ]
          },
          "metadata": {},
          "execution_count": 4
        }
      ]
    },
    {
      "cell_type": "code",
      "source": [
        "#shape of Dataset\n",
        "dataset_road_acc.shape"
      ],
      "metadata": {
        "colab": {
          "base_uri": "https://localhost:8080/"
        },
        "id": "613d6nTSe_-q",
        "outputId": "7a984bbf-1ab6-40fc-f504-ba88abffa4a0"
      },
      "execution_count": 5,
      "outputs": [
        {
          "output_type": "execute_result",
          "data": {
            "text/plain": [
              "(51, 5)"
            ]
          },
          "metadata": {},
          "execution_count": 5
        }
      ]
    },
    {
      "cell_type": "markdown",
      "source": [
        "No of Rows : 51 <br>\n",
        "no of columns : 5"
      ],
      "metadata": {
        "id": "bFb86v1ofHv5"
      }
    },
    {
      "cell_type": "code",
      "source": [
        "# Encode labels in column 'state'.\n",
        "dataset_road_acc['state']= label_encoder.fit_transform(dataset_road_acc['state'])\n",
        "dataset_road_acc['state'].unique()"
      ],
      "metadata": {
        "colab": {
          "base_uri": "https://localhost:8080/"
        },
        "id": "DAeaZHyNjkpg",
        "outputId": "b720d1ba-c593-489f-d531-0ec63d87948f"
      },
      "execution_count": 6,
      "outputs": [
        {
          "output_type": "execute_result",
          "data": {
            "text/plain": [
              "array([ 0,  1,  2,  3,  4,  5,  6,  7,  8,  9, 10, 11, 12, 13, 14, 15, 16,\n",
              "       17, 18, 19, 20, 21, 22, 23, 24, 25, 26, 27, 28, 29, 30, 31, 32, 33,\n",
              "       34, 35, 36, 37, 38, 39, 40, 41, 42, 43, 44, 45, 46, 47, 48, 49, 50])"
            ]
          },
          "metadata": {},
          "execution_count": 6
        }
      ]
    },
    {
      "cell_type": "markdown",
      "source": [
        "# Graphical Summary"
      ],
      "metadata": {
        "id": "Y2nHqHr6f8n7"
      }
    },
    {
      "cell_type": "code",
      "source": [
        "dataset_road_acc"
      ],
      "metadata": {
        "colab": {
          "base_uri": "https://localhost:8080/",
          "height": 1000
        },
        "id": "uayaff0tZNJB",
        "outputId": "d8b44fe4-5608-439b-9a37-8eab02ad33ce"
      },
      "execution_count": 7,
      "outputs": [
        {
          "output_type": "execute_result",
          "data": {
            "text/plain": [
              "    state  drvr_fatl_col_bmiles  perc_fatl_speed  perc_fatl_alcohol  \\\n",
              "0       0                  18.8               39                 30   \n",
              "1       1                  18.1               41                 25   \n",
              "2       2                  18.6               35                 28   \n",
              "3       3                  22.4               18                 26   \n",
              "4       4                  12.0               35                 28   \n",
              "5       5                  13.6               37                 28   \n",
              "6       6                  10.8               46                 36   \n",
              "7       7                  16.2               38                 30   \n",
              "8       8                   5.9               34                 27   \n",
              "9       9                  17.9               21                 29   \n",
              "10     10                  15.6               19                 25   \n",
              "11     11                  17.5               54                 41   \n",
              "12     12                  15.3               36                 29   \n",
              "13     13                  12.8               36                 34   \n",
              "14     14                  14.5               25                 29   \n",
              "15     15                  15.7               17                 25   \n",
              "16     16                  17.8               27                 24   \n",
              "17     17                  21.4               19                 23   \n",
              "18     18                  20.5               35                 33   \n",
              "19     19                  15.1               38                 30   \n",
              "20     20                  12.5               34                 32   \n",
              "21     21                   8.2               23                 35   \n",
              "22     22                  14.1               24                 28   \n",
              "23     23                   9.6               23                 29   \n",
              "24     24                  17.6               15                 31   \n",
              "25     25                  16.1               43                 34   \n",
              "26     26                  21.4               39                 44   \n",
              "27     27                  14.9               13                 35   \n",
              "28     28                  14.7               37                 32   \n",
              "29     29                  11.6               35                 30   \n",
              "30     30                  11.2               16                 28   \n",
              "31     31                  18.4               19                 27   \n",
              "32     32                  12.3               32                 29   \n",
              "33     33                  16.8               39                 31   \n",
              "34     34                  23.9               23                 42   \n",
              "35     35                  14.1               28                 34   \n",
              "36     36                  19.9               32                 29   \n",
              "37     37                  12.8               33                 26   \n",
              "38     38                  18.2               50                 31   \n",
              "39     39                  11.1               34                 38   \n",
              "40     40                  23.9               38                 41   \n",
              "41     41                  19.4               31                 33   \n",
              "42     42                  19.5               21                 29   \n",
              "43     43                  19.4               40                 38   \n",
              "44     44                  11.3               43                 16   \n",
              "45     45                  13.6               30                 30   \n",
              "46     46                  12.7               19                 27   \n",
              "47     47                  10.6               42                 33   \n",
              "48     48                  23.8               34                 28   \n",
              "49     49                  13.8               36                 33   \n",
              "50     50                  17.4               42                 32   \n",
              "\n",
              "    perc_fatl_1st_time  \n",
              "0                   80  \n",
              "1                   94  \n",
              "2                   96  \n",
              "3                   95  \n",
              "4                   89  \n",
              "5                   95  \n",
              "6                   82  \n",
              "7                   99  \n",
              "8                  100  \n",
              "9                   94  \n",
              "10                  93  \n",
              "11                  87  \n",
              "12                  98  \n",
              "13                  96  \n",
              "14                  95  \n",
              "15                  87  \n",
              "16                  85  \n",
              "17                  76  \n",
              "18                  98  \n",
              "19                  84  \n",
              "20                  99  \n",
              "21                  80  \n",
              "22                  77  \n",
              "23                  88  \n",
              "24                 100  \n",
              "25                  84  \n",
              "26                  85  \n",
              "27                  90  \n",
              "28                  99  \n",
              "29                  83  \n",
              "30                  78  \n",
              "31                  98  \n",
              "32                  80  \n",
              "33                  81  \n",
              "34                  86  \n",
              "35                  82  \n",
              "36                  94  \n",
              "37                  90  \n",
              "38                  88  \n",
              "39                  79  \n",
              "40                  81  \n",
              "41                  86  \n",
              "42                  81  \n",
              "43                  87  \n",
              "44                  96  \n",
              "45                  95  \n",
              "46                  88  \n",
              "47                  86  \n",
              "48                  87  \n",
              "49                  84  \n",
              "50                  90  "
            ],
            "text/html": [
              "\n",
              "  <div id=\"df-3428124c-b456-403b-83ac-292d37651e96\">\n",
              "    <div class=\"colab-df-container\">\n",
              "      <div>\n",
              "<style scoped>\n",
              "    .dataframe tbody tr th:only-of-type {\n",
              "        vertical-align: middle;\n",
              "    }\n",
              "\n",
              "    .dataframe tbody tr th {\n",
              "        vertical-align: top;\n",
              "    }\n",
              "\n",
              "    .dataframe thead th {\n",
              "        text-align: right;\n",
              "    }\n",
              "</style>\n",
              "<table border=\"1\" class=\"dataframe\">\n",
              "  <thead>\n",
              "    <tr style=\"text-align: right;\">\n",
              "      <th></th>\n",
              "      <th>state</th>\n",
              "      <th>drvr_fatl_col_bmiles</th>\n",
              "      <th>perc_fatl_speed</th>\n",
              "      <th>perc_fatl_alcohol</th>\n",
              "      <th>perc_fatl_1st_time</th>\n",
              "    </tr>\n",
              "  </thead>\n",
              "  <tbody>\n",
              "    <tr>\n",
              "      <th>0</th>\n",
              "      <td>0</td>\n",
              "      <td>18.8</td>\n",
              "      <td>39</td>\n",
              "      <td>30</td>\n",
              "      <td>80</td>\n",
              "    </tr>\n",
              "    <tr>\n",
              "      <th>1</th>\n",
              "      <td>1</td>\n",
              "      <td>18.1</td>\n",
              "      <td>41</td>\n",
              "      <td>25</td>\n",
              "      <td>94</td>\n",
              "    </tr>\n",
              "    <tr>\n",
              "      <th>2</th>\n",
              "      <td>2</td>\n",
              "      <td>18.6</td>\n",
              "      <td>35</td>\n",
              "      <td>28</td>\n",
              "      <td>96</td>\n",
              "    </tr>\n",
              "    <tr>\n",
              "      <th>3</th>\n",
              "      <td>3</td>\n",
              "      <td>22.4</td>\n",
              "      <td>18</td>\n",
              "      <td>26</td>\n",
              "      <td>95</td>\n",
              "    </tr>\n",
              "    <tr>\n",
              "      <th>4</th>\n",
              "      <td>4</td>\n",
              "      <td>12.0</td>\n",
              "      <td>35</td>\n",
              "      <td>28</td>\n",
              "      <td>89</td>\n",
              "    </tr>\n",
              "    <tr>\n",
              "      <th>5</th>\n",
              "      <td>5</td>\n",
              "      <td>13.6</td>\n",
              "      <td>37</td>\n",
              "      <td>28</td>\n",
              "      <td>95</td>\n",
              "    </tr>\n",
              "    <tr>\n",
              "      <th>6</th>\n",
              "      <td>6</td>\n",
              "      <td>10.8</td>\n",
              "      <td>46</td>\n",
              "      <td>36</td>\n",
              "      <td>82</td>\n",
              "    </tr>\n",
              "    <tr>\n",
              "      <th>7</th>\n",
              "      <td>7</td>\n",
              "      <td>16.2</td>\n",
              "      <td>38</td>\n",
              "      <td>30</td>\n",
              "      <td>99</td>\n",
              "    </tr>\n",
              "    <tr>\n",
              "      <th>8</th>\n",
              "      <td>8</td>\n",
              "      <td>5.9</td>\n",
              "      <td>34</td>\n",
              "      <td>27</td>\n",
              "      <td>100</td>\n",
              "    </tr>\n",
              "    <tr>\n",
              "      <th>9</th>\n",
              "      <td>9</td>\n",
              "      <td>17.9</td>\n",
              "      <td>21</td>\n",
              "      <td>29</td>\n",
              "      <td>94</td>\n",
              "    </tr>\n",
              "    <tr>\n",
              "      <th>10</th>\n",
              "      <td>10</td>\n",
              "      <td>15.6</td>\n",
              "      <td>19</td>\n",
              "      <td>25</td>\n",
              "      <td>93</td>\n",
              "    </tr>\n",
              "    <tr>\n",
              "      <th>11</th>\n",
              "      <td>11</td>\n",
              "      <td>17.5</td>\n",
              "      <td>54</td>\n",
              "      <td>41</td>\n",
              "      <td>87</td>\n",
              "    </tr>\n",
              "    <tr>\n",
              "      <th>12</th>\n",
              "      <td>12</td>\n",
              "      <td>15.3</td>\n",
              "      <td>36</td>\n",
              "      <td>29</td>\n",
              "      <td>98</td>\n",
              "    </tr>\n",
              "    <tr>\n",
              "      <th>13</th>\n",
              "      <td>13</td>\n",
              "      <td>12.8</td>\n",
              "      <td>36</td>\n",
              "      <td>34</td>\n",
              "      <td>96</td>\n",
              "    </tr>\n",
              "    <tr>\n",
              "      <th>14</th>\n",
              "      <td>14</td>\n",
              "      <td>14.5</td>\n",
              "      <td>25</td>\n",
              "      <td>29</td>\n",
              "      <td>95</td>\n",
              "    </tr>\n",
              "    <tr>\n",
              "      <th>15</th>\n",
              "      <td>15</td>\n",
              "      <td>15.7</td>\n",
              "      <td>17</td>\n",
              "      <td>25</td>\n",
              "      <td>87</td>\n",
              "    </tr>\n",
              "    <tr>\n",
              "      <th>16</th>\n",
              "      <td>16</td>\n",
              "      <td>17.8</td>\n",
              "      <td>27</td>\n",
              "      <td>24</td>\n",
              "      <td>85</td>\n",
              "    </tr>\n",
              "    <tr>\n",
              "      <th>17</th>\n",
              "      <td>17</td>\n",
              "      <td>21.4</td>\n",
              "      <td>19</td>\n",
              "      <td>23</td>\n",
              "      <td>76</td>\n",
              "    </tr>\n",
              "    <tr>\n",
              "      <th>18</th>\n",
              "      <td>18</td>\n",
              "      <td>20.5</td>\n",
              "      <td>35</td>\n",
              "      <td>33</td>\n",
              "      <td>98</td>\n",
              "    </tr>\n",
              "    <tr>\n",
              "      <th>19</th>\n",
              "      <td>19</td>\n",
              "      <td>15.1</td>\n",
              "      <td>38</td>\n",
              "      <td>30</td>\n",
              "      <td>84</td>\n",
              "    </tr>\n",
              "    <tr>\n",
              "      <th>20</th>\n",
              "      <td>20</td>\n",
              "      <td>12.5</td>\n",
              "      <td>34</td>\n",
              "      <td>32</td>\n",
              "      <td>99</td>\n",
              "    </tr>\n",
              "    <tr>\n",
              "      <th>21</th>\n",
              "      <td>21</td>\n",
              "      <td>8.2</td>\n",
              "      <td>23</td>\n",
              "      <td>35</td>\n",
              "      <td>80</td>\n",
              "    </tr>\n",
              "    <tr>\n",
              "      <th>22</th>\n",
              "      <td>22</td>\n",
              "      <td>14.1</td>\n",
              "      <td>24</td>\n",
              "      <td>28</td>\n",
              "      <td>77</td>\n",
              "    </tr>\n",
              "    <tr>\n",
              "      <th>23</th>\n",
              "      <td>23</td>\n",
              "      <td>9.6</td>\n",
              "      <td>23</td>\n",
              "      <td>29</td>\n",
              "      <td>88</td>\n",
              "    </tr>\n",
              "    <tr>\n",
              "      <th>24</th>\n",
              "      <td>24</td>\n",
              "      <td>17.6</td>\n",
              "      <td>15</td>\n",
              "      <td>31</td>\n",
              "      <td>100</td>\n",
              "    </tr>\n",
              "    <tr>\n",
              "      <th>25</th>\n",
              "      <td>25</td>\n",
              "      <td>16.1</td>\n",
              "      <td>43</td>\n",
              "      <td>34</td>\n",
              "      <td>84</td>\n",
              "    </tr>\n",
              "    <tr>\n",
              "      <th>26</th>\n",
              "      <td>26</td>\n",
              "      <td>21.4</td>\n",
              "      <td>39</td>\n",
              "      <td>44</td>\n",
              "      <td>85</td>\n",
              "    </tr>\n",
              "    <tr>\n",
              "      <th>27</th>\n",
              "      <td>27</td>\n",
              "      <td>14.9</td>\n",
              "      <td>13</td>\n",
              "      <td>35</td>\n",
              "      <td>90</td>\n",
              "    </tr>\n",
              "    <tr>\n",
              "      <th>28</th>\n",
              "      <td>28</td>\n",
              "      <td>14.7</td>\n",
              "      <td>37</td>\n",
              "      <td>32</td>\n",
              "      <td>99</td>\n",
              "    </tr>\n",
              "    <tr>\n",
              "      <th>29</th>\n",
              "      <td>29</td>\n",
              "      <td>11.6</td>\n",
              "      <td>35</td>\n",
              "      <td>30</td>\n",
              "      <td>83</td>\n",
              "    </tr>\n",
              "    <tr>\n",
              "      <th>30</th>\n",
              "      <td>30</td>\n",
              "      <td>11.2</td>\n",
              "      <td>16</td>\n",
              "      <td>28</td>\n",
              "      <td>78</td>\n",
              "    </tr>\n",
              "    <tr>\n",
              "      <th>31</th>\n",
              "      <td>31</td>\n",
              "      <td>18.4</td>\n",
              "      <td>19</td>\n",
              "      <td>27</td>\n",
              "      <td>98</td>\n",
              "    </tr>\n",
              "    <tr>\n",
              "      <th>32</th>\n",
              "      <td>32</td>\n",
              "      <td>12.3</td>\n",
              "      <td>32</td>\n",
              "      <td>29</td>\n",
              "      <td>80</td>\n",
              "    </tr>\n",
              "    <tr>\n",
              "      <th>33</th>\n",
              "      <td>33</td>\n",
              "      <td>16.8</td>\n",
              "      <td>39</td>\n",
              "      <td>31</td>\n",
              "      <td>81</td>\n",
              "    </tr>\n",
              "    <tr>\n",
              "      <th>34</th>\n",
              "      <td>34</td>\n",
              "      <td>23.9</td>\n",
              "      <td>23</td>\n",
              "      <td>42</td>\n",
              "      <td>86</td>\n",
              "    </tr>\n",
              "    <tr>\n",
              "      <th>35</th>\n",
              "      <td>35</td>\n",
              "      <td>14.1</td>\n",
              "      <td>28</td>\n",
              "      <td>34</td>\n",
              "      <td>82</td>\n",
              "    </tr>\n",
              "    <tr>\n",
              "      <th>36</th>\n",
              "      <td>36</td>\n",
              "      <td>19.9</td>\n",
              "      <td>32</td>\n",
              "      <td>29</td>\n",
              "      <td>94</td>\n",
              "    </tr>\n",
              "    <tr>\n",
              "      <th>37</th>\n",
              "      <td>37</td>\n",
              "      <td>12.8</td>\n",
              "      <td>33</td>\n",
              "      <td>26</td>\n",
              "      <td>90</td>\n",
              "    </tr>\n",
              "    <tr>\n",
              "      <th>38</th>\n",
              "      <td>38</td>\n",
              "      <td>18.2</td>\n",
              "      <td>50</td>\n",
              "      <td>31</td>\n",
              "      <td>88</td>\n",
              "    </tr>\n",
              "    <tr>\n",
              "      <th>39</th>\n",
              "      <td>39</td>\n",
              "      <td>11.1</td>\n",
              "      <td>34</td>\n",
              "      <td>38</td>\n",
              "      <td>79</td>\n",
              "    </tr>\n",
              "    <tr>\n",
              "      <th>40</th>\n",
              "      <td>40</td>\n",
              "      <td>23.9</td>\n",
              "      <td>38</td>\n",
              "      <td>41</td>\n",
              "      <td>81</td>\n",
              "    </tr>\n",
              "    <tr>\n",
              "      <th>41</th>\n",
              "      <td>41</td>\n",
              "      <td>19.4</td>\n",
              "      <td>31</td>\n",
              "      <td>33</td>\n",
              "      <td>86</td>\n",
              "    </tr>\n",
              "    <tr>\n",
              "      <th>42</th>\n",
              "      <td>42</td>\n",
              "      <td>19.5</td>\n",
              "      <td>21</td>\n",
              "      <td>29</td>\n",
              "      <td>81</td>\n",
              "    </tr>\n",
              "    <tr>\n",
              "      <th>43</th>\n",
              "      <td>43</td>\n",
              "      <td>19.4</td>\n",
              "      <td>40</td>\n",
              "      <td>38</td>\n",
              "      <td>87</td>\n",
              "    </tr>\n",
              "    <tr>\n",
              "      <th>44</th>\n",
              "      <td>44</td>\n",
              "      <td>11.3</td>\n",
              "      <td>43</td>\n",
              "      <td>16</td>\n",
              "      <td>96</td>\n",
              "    </tr>\n",
              "    <tr>\n",
              "      <th>45</th>\n",
              "      <td>45</td>\n",
              "      <td>13.6</td>\n",
              "      <td>30</td>\n",
              "      <td>30</td>\n",
              "      <td>95</td>\n",
              "    </tr>\n",
              "    <tr>\n",
              "      <th>46</th>\n",
              "      <td>46</td>\n",
              "      <td>12.7</td>\n",
              "      <td>19</td>\n",
              "      <td>27</td>\n",
              "      <td>88</td>\n",
              "    </tr>\n",
              "    <tr>\n",
              "      <th>47</th>\n",
              "      <td>47</td>\n",
              "      <td>10.6</td>\n",
              "      <td>42</td>\n",
              "      <td>33</td>\n",
              "      <td>86</td>\n",
              "    </tr>\n",
              "    <tr>\n",
              "      <th>48</th>\n",
              "      <td>48</td>\n",
              "      <td>23.8</td>\n",
              "      <td>34</td>\n",
              "      <td>28</td>\n",
              "      <td>87</td>\n",
              "    </tr>\n",
              "    <tr>\n",
              "      <th>49</th>\n",
              "      <td>49</td>\n",
              "      <td>13.8</td>\n",
              "      <td>36</td>\n",
              "      <td>33</td>\n",
              "      <td>84</td>\n",
              "    </tr>\n",
              "    <tr>\n",
              "      <th>50</th>\n",
              "      <td>50</td>\n",
              "      <td>17.4</td>\n",
              "      <td>42</td>\n",
              "      <td>32</td>\n",
              "      <td>90</td>\n",
              "    </tr>\n",
              "  </tbody>\n",
              "</table>\n",
              "</div>\n",
              "      <button class=\"colab-df-convert\" onclick=\"convertToInteractive('df-3428124c-b456-403b-83ac-292d37651e96')\"\n",
              "              title=\"Convert this dataframe to an interactive table.\"\n",
              "              style=\"display:none;\">\n",
              "        \n",
              "  <svg xmlns=\"http://www.w3.org/2000/svg\" height=\"24px\"viewBox=\"0 0 24 24\"\n",
              "       width=\"24px\">\n",
              "    <path d=\"M0 0h24v24H0V0z\" fill=\"none\"/>\n",
              "    <path d=\"M18.56 5.44l.94 2.06.94-2.06 2.06-.94-2.06-.94-.94-2.06-.94 2.06-2.06.94zm-11 1L8.5 8.5l.94-2.06 2.06-.94-2.06-.94L8.5 2.5l-.94 2.06-2.06.94zm10 10l.94 2.06.94-2.06 2.06-.94-2.06-.94-.94-2.06-.94 2.06-2.06.94z\"/><path d=\"M17.41 7.96l-1.37-1.37c-.4-.4-.92-.59-1.43-.59-.52 0-1.04.2-1.43.59L10.3 9.45l-7.72 7.72c-.78.78-.78 2.05 0 2.83L4 21.41c.39.39.9.59 1.41.59.51 0 1.02-.2 1.41-.59l7.78-7.78 2.81-2.81c.8-.78.8-2.07 0-2.86zM5.41 20L4 18.59l7.72-7.72 1.47 1.35L5.41 20z\"/>\n",
              "  </svg>\n",
              "      </button>\n",
              "      \n",
              "  <style>\n",
              "    .colab-df-container {\n",
              "      display:flex;\n",
              "      flex-wrap:wrap;\n",
              "      gap: 12px;\n",
              "    }\n",
              "\n",
              "    .colab-df-convert {\n",
              "      background-color: #E8F0FE;\n",
              "      border: none;\n",
              "      border-radius: 50%;\n",
              "      cursor: pointer;\n",
              "      display: none;\n",
              "      fill: #1967D2;\n",
              "      height: 32px;\n",
              "      padding: 0 0 0 0;\n",
              "      width: 32px;\n",
              "    }\n",
              "\n",
              "    .colab-df-convert:hover {\n",
              "      background-color: #E2EBFA;\n",
              "      box-shadow: 0px 1px 2px rgba(60, 64, 67, 0.3), 0px 1px 3px 1px rgba(60, 64, 67, 0.15);\n",
              "      fill: #174EA6;\n",
              "    }\n",
              "\n",
              "    [theme=dark] .colab-df-convert {\n",
              "      background-color: #3B4455;\n",
              "      fill: #D2E3FC;\n",
              "    }\n",
              "\n",
              "    [theme=dark] .colab-df-convert:hover {\n",
              "      background-color: #434B5C;\n",
              "      box-shadow: 0px 1px 3px 1px rgba(0, 0, 0, 0.15);\n",
              "      filter: drop-shadow(0px 1px 2px rgba(0, 0, 0, 0.3));\n",
              "      fill: #FFFFFF;\n",
              "    }\n",
              "  </style>\n",
              "\n",
              "      <script>\n",
              "        const buttonEl =\n",
              "          document.querySelector('#df-3428124c-b456-403b-83ac-292d37651e96 button.colab-df-convert');\n",
              "        buttonEl.style.display =\n",
              "          google.colab.kernel.accessAllowed ? 'block' : 'none';\n",
              "\n",
              "        async function convertToInteractive(key) {\n",
              "          const element = document.querySelector('#df-3428124c-b456-403b-83ac-292d37651e96');\n",
              "          const dataTable =\n",
              "            await google.colab.kernel.invokeFunction('convertToInteractive',\n",
              "                                                     [key], {});\n",
              "          if (!dataTable) return;\n",
              "\n",
              "          const docLinkHtml = 'Like what you see? Visit the ' +\n",
              "            '<a target=\"_blank\" href=https://colab.research.google.com/notebooks/data_table.ipynb>data table notebook</a>'\n",
              "            + ' to learn more about interactive tables.';\n",
              "          element.innerHTML = '';\n",
              "          dataTable['output_type'] = 'display_data';\n",
              "          await google.colab.output.renderOutput(dataTable, element);\n",
              "          const docLink = document.createElement('div');\n",
              "          docLink.innerHTML = docLinkHtml;\n",
              "          element.appendChild(docLink);\n",
              "        }\n",
              "      </script>\n",
              "    </div>\n",
              "  </div>\n",
              "  "
            ]
          },
          "metadata": {},
          "execution_count": 7
        }
      ]
    },
    {
      "cell_type": "markdown",
      "source": [
        "We now have an idea of what the dataset looks like. To further familiarize ourselves with this data, we will calculate summary statistics and produce a graphical overview of the data. The graphical overview is good to get a sense for the distribution of variables within the data and could consist of one histogram per column. It is often a good idea to also explore the pairwise relationship between all columns in the data set by using a using pairwise scatter plots (sometimes referred to as a \"scatterplot matrix\")."
      ],
      "metadata": {
        "id": "pt5cHFJvAfWo"
      }
    },
    {
      "cell_type": "markdown",
      "source": [
        "**Pair Plots Graph**"
      ],
      "metadata": {
        "id": "3V2MiR6Y3hat"
      }
    },
    {
      "cell_type": "code",
      "source": [
        "sns.pairplot(dataset_road_acc)"
      ],
      "metadata": {
        "colab": {
          "base_uri": "https://localhost:8080/",
          "height": 920
        },
        "id": "hWHUHGqJ3lRr",
        "outputId": "ffd7a50b-0cbc-4703-946b-f748ae87a7bf"
      },
      "execution_count": 8,
      "outputs": [
        {
          "output_type": "execute_result",
          "data": {
            "text/plain": [
              "<seaborn.axisgrid.PairGrid at 0x7fe4cdc70f50>"
            ]
          },
          "metadata": {},
          "execution_count": 8
        },
        {
          "output_type": "display_data",
          "data": {
            "text/plain": [
              "<Figure size 900x900 with 30 Axes>"
            ],
            "image/png": "[encoded data removed]"
          },
          "metadata": {
            "needs_background": "light"
          }
        }
      ]
    },
    {
      "cell_type": "markdown",
      "source": [
        "# Quantify the association of features and accidents"
      ],
      "metadata": {
        "id": "FPqbEguc-LZp"
      }
    },
    {
      "cell_type": "markdown",
      "source": [
        "To quantify the pairwise relationships that we observed in the scatter plots, we can compute the Pearson correlation coefficient matrix. The Pearson correlation coefficient is one of the most common methods to quantify correlation between variables, and by convention, the following thresholds are usually used:<br>\n",
        "*   0.2 = weak\n",
        "*   0.5 = medium\n",
        "\n",
        "*   0.8 = strong\n",
        "*   0.9 = very strong"
      ],
      "metadata": {
        "id": "uA8GfkmHAt3-"
      }
    },
    {
      "cell_type": "code",
      "source": [
        "dataset_road_acc.corr()"
      ],
      "metadata": {
        "colab": {
          "base_uri": "https://localhost:8080/",
          "height": 206
        },
        "id": "EI9B_EvK-Ykj",
        "outputId": "0b6ad2ca-6301-4357-dd6b-5fb6ce8277aa"
      },
      "execution_count": 9,
      "outputs": [
        {
          "output_type": "execute_result",
          "data": {
            "text/plain": [
              "                         state  drvr_fatl_col_bmiles  perc_fatl_speed  \\\n",
              "state                 1.000000              0.058292         0.032120   \n",
              "drvr_fatl_col_bmiles  0.058292              1.000000        -0.029080   \n",
              "perc_fatl_speed       0.032120             -0.029080         1.000000   \n",
              "perc_fatl_alcohol     0.176156              0.199426         0.286244   \n",
              "perc_fatl_1st_time   -0.271191             -0.017942         0.014066   \n",
              "\n",
              "                      perc_fatl_alcohol  perc_fatl_1st_time  \n",
              "state                          0.176156           -0.271191  \n",
              "drvr_fatl_col_bmiles           0.199426           -0.017942  \n",
              "perc_fatl_speed                0.286244            0.014066  \n",
              "perc_fatl_alcohol              1.000000           -0.245455  \n",
              "perc_fatl_1st_time            -0.245455            1.000000  "
            ],
            "text/html": [
              "\n",
              "  <div id=\"df-291ac17f-c11b-4bf3-920e-734cbd8ddf99\">\n",
              "    <div class=\"colab-df-container\">\n",
              "      <div>\n",
              "<style scoped>\n",
              "    .dataframe tbody tr th:only-of-type {\n",
              "        vertical-align: middle;\n",
              "    }\n",
              "\n",
              "    .dataframe tbody tr th {\n",
              "        vertical-align: top;\n",
              "    }\n",
              "\n",
              "    .dataframe thead th {\n",
              "        text-align: right;\n",
              "    }\n",
              "</style>\n",
              "<table border=\"1\" class=\"dataframe\">\n",
              "  <thead>\n",
              "    <tr style=\"text-align: right;\">\n",
              "      <th></th>\n",
              "      <th>state</th>\n",
              "      <th>drvr_fatl_col_bmiles</th>\n",
              "      <th>perc_fatl_speed</th>\n",
              "      <th>perc_fatl_alcohol</th>\n",
              "      <th>perc_fatl_1st_time</th>\n",
              "    </tr>\n",
              "  </thead>\n",
              "  <tbody>\n",
              "    <tr>\n",
              "      <th>state</th>\n",
              "      <td>1.000000</td>\n",
              "      <td>0.058292</td>\n",
              "      <td>0.032120</td>\n",
              "      <td>0.176156</td>\n",
              "      <td>-0.271191</td>\n",
              "    </tr>\n",
              "    <tr>\n",
              "      <th>drvr_fatl_col_bmiles</th>\n",
              "      <td>0.058292</td>\n",
              "      <td>1.000000</td>\n",
              "      <td>-0.029080</td>\n",
              "      <td>0.199426</td>\n",
              "      <td>-0.017942</td>\n",
              "    </tr>\n",
              "    <tr>\n",
              "      <th>perc_fatl_speed</th>\n",
              "      <td>0.032120</td>\n",
              "      <td>-0.029080</td>\n",
              "      <td>1.000000</td>\n",
              "      <td>0.286244</td>\n",
              "      <td>0.014066</td>\n",
              "    </tr>\n",
              "    <tr>\n",
              "      <th>perc_fatl_alcohol</th>\n",
              "      <td>0.176156</td>\n",
              "      <td>0.199426</td>\n",
              "      <td>0.286244</td>\n",
              "      <td>1.000000</td>\n",
              "      <td>-0.245455</td>\n",
              "    </tr>\n",
              "    <tr>\n",
              "      <th>perc_fatl_1st_time</th>\n",
              "      <td>-0.271191</td>\n",
              "      <td>-0.017942</td>\n",
              "      <td>0.014066</td>\n",
              "      <td>-0.245455</td>\n",
              "      <td>1.000000</td>\n",
              "    </tr>\n",
              "  </tbody>\n",
              "</table>\n",
              "</div>\n",
              "      <button class=\"colab-df-convert\" onclick=\"convertToInteractive('df-291ac17f-c11b-4bf3-920e-734cbd8ddf99')\"\n",
              "              title=\"Convert this dataframe to an interactive table.\"\n",
              "              style=\"display:none;\">\n",
              "        \n",
              "  <svg xmlns=\"http://www.w3.org/2000/svg\" height=\"24px\"viewBox=\"0 0 24 24\"\n",
              "       width=\"24px\">\n",
              "    <path d=\"M0 0h24v24H0V0z\" fill=\"none\"/>\n",
              "    <path d=\"M18.56 5.44l.94 2.06.94-2.06 2.06-.94-2.06-.94-.94-2.06-.94 2.06-2.06.94zm-11 1L8.5 8.5l.94-2.06 2.06-.94-2.06-.94L8.5 2.5l-.94 2.06-2.06.94zm10 10l.94 2.06.94-2.06 2.06-.94-2.06-.94-.94-2.06-.94 2.06-2.06.94z\"/><path d=\"M17.41 7.96l-1.37-1.37c-.4-.4-.92-.59-1.43-.59-.52 0-1.04.2-1.43.59L10.3 9.45l-7.72 7.72c-.78.78-.78 2.05 0 2.83L4 21.41c.39.39.9.59 1.41.59.51 0 1.02-.2 1.41-.59l7.78-7.78 2.81-2.81c.8-.78.8-2.07 0-2.86zM5.41 20L4 18.59l7.72-7.72 1.47 1.35L5.41 20z\"/>\n",
              "  </svg>\n",
              "      </button>\n",
              "      \n",
              "  <style>\n",
              "    .colab-df-container {\n",
              "      display:flex;\n",
              "      flex-wrap:wrap;\n",
              "      gap: 12px;\n",
              "    }\n",
              "\n",
              "    .colab-df-convert {\n",
              "      background-color: #E8F0FE;\n",
              "      border: none;\n",
              "      border-radius: 50%;\n",
              "      cursor: pointer;\n",
              "      display: none;\n",
              "      fill: #1967D2;\n",
              "      height: 32px;\n",
              "      padding: 0 0 0 0;\n",
              "      width: 32px;\n",
              "    }\n",
              "\n",
              "    .colab-df-convert:hover {\n",
              "      background-color: #E2EBFA;\n",
              "      box-shadow: 0px 1px 2px rgba(60, 64, 67, 0.3), 0px 1px 3px 1px rgba(60, 64, 67, 0.15);\n",
              "      fill: #174EA6;\n",
              "    }\n",
              "\n",
              "    [theme=dark] .colab-df-convert {\n",
              "      background-color: #3B4455;\n",
              "      fill: #D2E3FC;\n",
              "    }\n",
              "\n",
              "    [theme=dark] .colab-df-convert:hover {\n",
              "      background-color: #434B5C;\n",
              "      box-shadow: 0px 1px 3px 1px rgba(0, 0, 0, 0.15);\n",
              "      filter: drop-shadow(0px 1px 2px rgba(0, 0, 0, 0.3));\n",
              "      fill: #FFFFFF;\n",
              "    }\n",
              "  </style>\n",
              "\n",
              "      <script>\n",
              "        const buttonEl =\n",
              "          document.querySelector('#df-291ac17f-c11b-4bf3-920e-734cbd8ddf99 button.colab-df-convert');\n",
              "        buttonEl.style.display =\n",
              "          google.colab.kernel.accessAllowed ? 'block' : 'none';\n",
              "\n",
              "        async function convertToInteractive(key) {\n",
              "          const element = document.querySelector('#df-291ac17f-c11b-4bf3-920e-734cbd8ddf99');\n",
              "          const dataTable =\n",
              "            await google.colab.kernel.invokeFunction('convertToInteractive',\n",
              "                                                     [key], {});\n",
              "          if (!dataTable) return;\n",
              "\n",
              "          const docLinkHtml = 'Like what you see? Visit the ' +\n",
              "            '<a target=\"_blank\" href=https://colab.research.google.com/notebooks/data_table.ipynb>data table notebook</a>'\n",
              "            + ' to learn more about interactive tables.';\n",
              "          element.innerHTML = '';\n",
              "          dataTable['output_type'] = 'display_data';\n",
              "          await google.colab.output.renderOutput(dataTable, element);\n",
              "          const docLink = document.createElement('div');\n",
              "          docLink.innerHTML = docLinkHtml;\n",
              "          element.appendChild(docLink);\n",
              "        }\n",
              "      </script>\n",
              "    </div>\n",
              "  </div>\n",
              "  "
            ]
          },
          "metadata": {},
          "execution_count": 9
        }
      ]
    },
    {
      "cell_type": "code",
      "source": [
        "corr= dataset_road_acc.corr()\n",
        "\n",
        "# Getting the Upper Triangle of the co-relation matrix\n",
        "matrix = np.triu(corr)\n",
        "\n",
        "# using the upper triangle matrix as mask \n",
        "sns.heatmap(corr, annot=True, mask=matrix)"
      ],
      "metadata": {
        "colab": {
          "base_uri": "https://localhost:8080/",
          "height": 372
        },
        "id": "_aW6xTsnC9LZ",
        "outputId": "a6d5cbf0-8978-40c0-c7e6-ea1338ad3f14"
      },
      "execution_count": 10,
      "outputs": [
        {
          "output_type": "execute_result",
          "data": {
            "text/plain": [
              "<matplotlib.axes._subplots.AxesSubplot at 0x7fe4ca94d4d0>"
            ]
          },
          "metadata": {},
          "execution_count": 10
        },
        {
          "output_type": "display_data",
          "data": {
            "text/plain": [
              "<Figure size 432x288 with 2 Axes>"
            ],
            "image/png": "[encoded data removed]"
          },
          "metadata": {
            "needs_background": "light"
          }
        }
      ]
    },
    {
      "cell_type": "code",
      "source": [
        "X=dataset_road_acc.drop(columns=['state'] , axis=1)\n",
        "Y=dataset_road_acc['state']"
      ],
      "metadata": {
        "id": "9PvGhYYlGLC8"
      },
      "execution_count": 11,
      "outputs": []
    },
    {
      "cell_type": "markdown",
      "source": [
        "# Fit a multivariate linear regression"
      ],
      "metadata": {
        "id": "o_rzFpF9FWvb"
      }
    },
    {
      "cell_type": "markdown",
      "source": [
        "**bold text**"
      ],
      "metadata": {
        "id": "27s2D6v7F-e8"
      }
    },
    {
      "cell_type": "code",
      "source": [
        "X_train, X_test, y_train, y_test = train_test_split(X, Y, random_state=0, train_size = .75)"
      ],
      "metadata": {
        "id": "FHRjaaA0FYZC"
      },
      "execution_count": 12,
      "outputs": []
    },
    {
      "cell_type": "code",
      "source": [
        "print(X_train.shape)\n",
        "print(X_test.shape)\n",
        "print(y_train.shape)\n",
        "print(y_test.shape)"
      ],
      "metadata": {
        "colab": {
          "base_uri": "https://localhost:8080/"
        },
        "id": "eEzzBB2GoJZE",
        "outputId": "a4e90145-da0e-4428-ad81-173ca95b3848"
      },
      "execution_count": 13,
      "outputs": [
        {
          "output_type": "stream",
          "name": "stdout",
          "text": [
            "(38, 4)\n",
            "(13, 4)\n",
            "(38,)\n",
            "(13,)\n"
          ]
        }
      ]
    },
    {
      "cell_type": "code",
      "source": [
        "# Import the linear model function from sklearn\n",
        "from sklearn import linear_model\n",
        "\n",
        "# Create the features and target DataFrames\n",
        "features = dataset_road_acc[[\"perc_fatl_speed\",\n",
        "                    \"perc_fatl_alcohol\", \"perc_fatl_1st_time\"]]\n",
        "target = dataset_road_acc[\"drvr_fatl_col_bmiles\"]\n",
        "\n",
        "# Create a linear regression object\n",
        "reg = linear_model.LinearRegression()\n",
        "\n",
        "# Fit a multivariate linear regression model\n",
        "reg.fit(X=features, y=target)\n",
        "\n",
        "# Retrieve the regression coefficients\n",
        "fit_coef = reg.coef_\n",
        "fit_coef"
      ],
      "metadata": {
        "colab": {
          "base_uri": "https://localhost:8080/"
        },
        "id": "TjpfP1SWpwau",
        "outputId": "ca9ac31a-4a56-48b0-cb28-55954dda2c94"
      },
      "execution_count": 14,
      "outputs": [
        {
          "output_type": "execute_result",
          "data": {
            "text/plain": [
              "array([-0.04180041,  0.19086404,  0.02473301])"
            ]
          },
          "metadata": {},
          "execution_count": 14
        }
      ]
    },
    {
      "cell_type": "markdown",
      "source": [
        "# Perform PCA on standardized data"
      ],
      "metadata": {
        "id": "6fMTytiFrRWY"
      }
    },
    {
      "cell_type": "code",
      "source": [
        "\n",
        "scaler = StandardScaler()\n",
        "features_scaled = scaler.fit_transform(features)\n",
        "\n",
        "# Import the PCA class function from sklearn\n",
        "pca = PCA()\n",
        "\n",
        "# Fit the standardized data to the pca\n",
        "pca.fit(features_scaled)"
      ],
      "metadata": {
        "colab": {
          "base_uri": "https://localhost:8080/"
        },
        "id": "d_SamIJsrUjj",
        "outputId": "864c9778-d21b-4149-aadc-c66b2506013f"
      },
      "execution_count": 15,
      "outputs": [
        {
          "output_type": "execute_result",
          "data": {
            "text/plain": [
              "PCA()"
            ]
          },
          "metadata": {},
          "execution_count": 15
        }
      ]
    },
    {
      "cell_type": "markdown",
      "source": [
        "# Visualize the first two principal components"
      ],
      "metadata": {
        "id": "AJl6w39V5Z9D"
      }
    },
    {
      "cell_type": "code",
      "source": [
        "# Plot the proportion of variance explained on the y-axis of the bar plot\n",
        "plt.bar(range(1, pca.n_components_ + 1),  pca.explained_variance_ratio_)\n",
        "plt.xlabel('Principal component #')\n",
        "plt.ylabel('Proportion of variance explained')\n",
        "plt.xticks([1, 2, 3])\n",
        "\n",
        "# Compute the cumulative proportion of variance explained by the first two principal components\n",
        "two_first_comp_var_exp = pca.explained_variance_ratio_.cumsum()[1]\n",
        "print(\"The cumulative variance of the first two principal components is {}\".format(\n",
        "    round(two_first_comp_var_exp, 5)))"
      ],
      "metadata": {
        "colab": {
          "base_uri": "https://localhost:8080/",
          "height": 296
        },
        "id": "FXjhli895gi1",
        "outputId": "70ffe193-9694-4554-f485-078914e1e24f"
      },
      "execution_count": 16,
      "outputs": [
        {
          "output_type": "stream",
          "name": "stdout",
          "text": [
            "The cumulative variance of the first two principal components is 0.7947\n"
          ]
        },
        {
          "output_type": "display_data",
          "data": {
            "text/plain": [
              "<Figure size 432x288 with 1 Axes>"
            ],
            "image/png": "[encoded data removed]"
          },
          "metadata": {
            "needs_background": "light"
          }
        }
      ]
    }
  ]
}