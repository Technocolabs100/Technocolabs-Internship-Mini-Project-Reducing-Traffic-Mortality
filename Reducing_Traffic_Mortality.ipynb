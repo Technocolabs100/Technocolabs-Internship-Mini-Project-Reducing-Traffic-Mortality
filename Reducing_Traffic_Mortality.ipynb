{
  "nbformat": 4,
  "nbformat_minor": 0,
  "metadata": {
    "colab": {
      "name": "Reducing Traffic Mortality.ipynb",
      "provenance": [],
      "collapsed_sections": []
    },
    "kernelspec": {
      "name": "python3",
      "display_name": "Python 3"
    },
    "language_info": {
      "name": "python"
    }
  },
  "cells": [
    {
      "cell_type": "markdown",
      "source": [
        "# **Importing neccesary libraries**"
      ],
      "metadata": {
        "id": "g0uFLdDWwSMB"
      }
    },
    {
      "cell_type": "code",
      "execution_count": null,
      "metadata": {
        "id": "vnkGevz-ksG3"
      },
      "outputs": [],
      "source": [
        "import numpy as np\n",
        "import pandas as pd\n",
        "import seaborn as sns\n",
        "%matplotlib inline\n",
        "from sklearn import linear_model\n",
        "from sklearn.preprocessing import StandardScaler\n",
        "\n",
        "import matplotlib.pyplot as plt"
      ]
    },
    {
      "cell_type": "markdown",
      "source": [
        "# **Read in and get an overview of the data**\n",
        "Next, we will orient ourselves to get to know the data with which we are dealing."
      ],
      "metadata": {
        "id": "_AQWTavCwIRT"
      }
    },
    {
      "cell_type": "code",
      "source": [
        "#reading csv file\n",
        "road_acc = pd.read_csv('/content/road-accidents.csv')\n",
        "\n",
        "#Save the number of cols and rows  as a tuple\n",
        "rows_cols = road_acc.shape\n",
        "print('There are {} rows and {} columns. \\n' .format(rows_cols[0], rows_cols[1]))\n",
        "\n",
        "#Generate an overiew:\n",
        "road_acc_info = road_acc.info()\n",
        "print(road_acc_info)\n",
        "\n",
        "#last five values of the dataset\n",
        "road_acc.tail()"
      ],
      "metadata": {
        "colab": {
          "base_uri": "https://localhost:8080/",
          "height": 466
        },
        "id": "u6W5G13vt1I9",
        "outputId": "3edfd3a5-38a8-43c1-a950-a3c56d8b5419"
      },
      "execution_count": null,
      "outputs": [
        {
          "output_type": "stream",
          "name": "stdout",
          "text": [
            "There are 51 rows and 5 columns. \n",
            "\n",
            "<class 'pandas.core.frame.DataFrame'>\n",
            "RangeIndex: 51 entries, 0 to 50\n",
            "Data columns (total 5 columns):\n",
            " #   Column                Non-Null Count  Dtype  \n",
            "---  ------                --------------  -----  \n",
            " 0   state                 51 non-null     object \n",
            " 1   drvr_fatl_col_bmiles  51 non-null     float64\n",
            " 2   perc_fatl_speed       51 non-null     int64  \n",
            " 3   perc_fatl_alcohol     51 non-null     int64  \n",
            " 4   perc_fatl_1st_time    51 non-null     int64  \n",
            "dtypes: float64(1), int64(3), object(1)\n",
            "memory usage: 2.1+ KB\n",
            "None\n"
          ]
        },
        {
          "output_type": "execute_result",
          "data": {
            "text/plain": [
              "            state  drvr_fatl_col_bmiles  perc_fatl_speed  perc_fatl_alcohol  \\\n",
              "46       Virginia                  12.7               19                 27   \n",
              "47     Washington                  10.6               42                 33   \n",
              "48  West Virginia                  23.8               34                 28   \n",
              "49      Wisconsin                  13.8               36                 33   \n",
              "50        Wyoming                  17.4               42                 32   \n",
              "\n",
              "    perc_fatl_1st_time  \n",
              "46                  88  \n",
              "47                  86  \n",
              "48                  87  \n",
              "49                  84  \n",
              "50                  90  "
            ],
            "text/html": [
              "\n",
              "  <div id=\"df-8d31dcc7-61e8-4557-8009-a45e38df1f07\">\n",
              "    <div class=\"colab-df-container\">\n",
              "      <div>\n",
              "<style scoped>\n",
              "    .dataframe tbody tr th:only-of-type {\n",
              "        vertical-align: middle;\n",
              "    }\n",
              "\n",
              "    .dataframe tbody tr th {\n",
              "        vertical-align: top;\n",
              "    }\n",
              "\n",
              "    .dataframe thead th {\n",
              "        text-align: right;\n",
              "    }\n",
              "</style>\n",
              "<table border=\"1\" class=\"dataframe\">\n",
              "  <thead>\n",
              "    <tr style=\"text-align: right;\">\n",
              "      <th></th>\n",
              "      <th>state</th>\n",
              "      <th>drvr_fatl_col_bmiles</th>\n",
              "      <th>perc_fatl_speed</th>\n",
              "      <th>perc_fatl_alcohol</th>\n",
              "      <th>perc_fatl_1st_time</th>\n",
              "    </tr>\n",
              "  </thead>\n",
              "  <tbody>\n",
              "    <tr>\n",
              "      <th>46</th>\n",
              "      <td>Virginia</td>\n",
              "      <td>12.7</td>\n",
              "      <td>19</td>\n",
              "      <td>27</td>\n",
              "      <td>88</td>\n",
              "    </tr>\n",
              "    <tr>\n",
              "      <th>47</th>\n",
              "      <td>Washington</td>\n",
              "      <td>10.6</td>\n",
              "      <td>42</td>\n",
              "      <td>33</td>\n",
              "      <td>86</td>\n",
              "    </tr>\n",
              "    <tr>\n",
              "      <th>48</th>\n",
              "      <td>West Virginia</td>\n",
              "      <td>23.8</td>\n",
              "      <td>34</td>\n",
              "      <td>28</td>\n",
              "      <td>87</td>\n",
              "    </tr>\n",
              "    <tr>\n",
              "      <th>49</th>\n",
              "      <td>Wisconsin</td>\n",
              "      <td>13.8</td>\n",
              "      <td>36</td>\n",
              "      <td>33</td>\n",
              "      <td>84</td>\n",
              "    </tr>\n",
              "    <tr>\n",
              "      <th>50</th>\n",
              "      <td>Wyoming</td>\n",
              "      <td>17.4</td>\n",
              "      <td>42</td>\n",
              "      <td>32</td>\n",
              "      <td>90</td>\n",
              "    </tr>\n",
              "  </tbody>\n",
              "</table>\n",
              "</div>\n",
              "      <button class=\"colab-df-convert\" onclick=\"convertToInteractive('df-8d31dcc7-61e8-4557-8009-a45e38df1f07')\"\n",
              "              title=\"Convert this dataframe to an interactive table.\"\n",
              "              style=\"display:none;\">\n",
              "        \n",
              "  <svg xmlns=\"http://www.w3.org/2000/svg\" height=\"24px\"viewBox=\"0 0 24 24\"\n",
              "       width=\"24px\">\n",
              "    <path d=\"M0 0h24v24H0V0z\" fill=\"none\"/>\n",
              "    <path d=\"M18.56 5.44l.94 2.06.94-2.06 2.06-.94-2.06-.94-.94-2.06-.94 2.06-2.06.94zm-11 1L8.5 8.5l.94-2.06 2.06-.94-2.06-.94L8.5 2.5l-.94 2.06-2.06.94zm10 10l.94 2.06.94-2.06 2.06-.94-2.06-.94-.94-2.06-.94 2.06-2.06.94z\"/><path d=\"M17.41 7.96l-1.37-1.37c-.4-.4-.92-.59-1.43-.59-.52 0-1.04.2-1.43.59L10.3 9.45l-7.72 7.72c-.78.78-.78 2.05 0 2.83L4 21.41c.39.39.9.59 1.41.59.51 0 1.02-.2 1.41-.59l7.78-7.78 2.81-2.81c.8-.78.8-2.07 0-2.86zM5.41 20L4 18.59l7.72-7.72 1.47 1.35L5.41 20z\"/>\n",
              "  </svg>\n",
              "      </button>\n",
              "      \n",
              "  <style>\n",
              "    .colab-df-container {\n",
              "      display:flex;\n",
              "      flex-wrap:wrap;\n",
              "      gap: 12px;\n",
              "    }\n",
              "\n",
              "    .colab-df-convert {\n",
              "      background-color: #E8F0FE;\n",
              "      border: none;\n",
              "      border-radius: 50%;\n",
              "      cursor: pointer;\n",
              "      display: none;\n",
              "      fill: #1967D2;\n",
              "      height: 32px;\n",
              "      padding: 0 0 0 0;\n",
              "      width: 32px;\n",
              "    }\n",
              "\n",
              "    .colab-df-convert:hover {\n",
              "      background-color: #E2EBFA;\n",
              "      box-shadow: 0px 1px 2px rgba(60, 64, 67, 0.3), 0px 1px 3px 1px rgba(60, 64, 67, 0.15);\n",
              "      fill: #174EA6;\n",
              "    }\n",
              "\n",
              "    [theme=dark] .colab-df-convert {\n",
              "      background-color: #3B4455;\n",
              "      fill: #D2E3FC;\n",
              "    }\n",
              "\n",
              "    [theme=dark] .colab-df-convert:hover {\n",
              "      background-color: #434B5C;\n",
              "      box-shadow: 0px 1px 3px 1px rgba(0, 0, 0, 0.15);\n",
              "      filter: drop-shadow(0px 1px 2px rgba(0, 0, 0, 0.3));\n",
              "      fill: #FFFFFF;\n",
              "    }\n",
              "  </style>\n",
              "\n",
              "      <script>\n",
              "        const buttonEl =\n",
              "          document.querySelector('#df-8d31dcc7-61e8-4557-8009-a45e38df1f07 button.colab-df-convert');\n",
              "        buttonEl.style.display =\n",
              "          google.colab.kernel.accessAllowed ? 'block' : 'none';\n",
              "\n",
              "        async function convertToInteractive(key) {\n",
              "          const element = document.querySelector('#df-8d31dcc7-61e8-4557-8009-a45e38df1f07');\n",
              "          const dataTable =\n",
              "            await google.colab.kernel.invokeFunction('convertToInteractive',\n",
              "                                                     [key], {});\n",
              "          if (!dataTable) return;\n",
              "\n",
              "          const docLinkHtml = 'Like what you see? Visit the ' +\n",
              "            '<a target=\"_blank\" href=https://colab.research.google.com/notebooks/data_table.ipynb>data table notebook</a>'\n",
              "            + ' to learn more about interactive tables.';\n",
              "          element.innerHTML = '';\n",
              "          dataTable['output_type'] = 'display_data';\n",
              "          await google.colab.output.renderOutput(dataTable, element);\n",
              "          const docLink = document.createElement('div');\n",
              "          docLink.innerHTML = docLinkHtml;\n",
              "          element.appendChild(docLink);\n",
              "        }\n",
              "      </script>\n",
              "    </div>\n",
              "  </div>\n",
              "  "
            ]
          },
          "metadata": {},
          "execution_count": 23
        }
      ]
    },
    {
      "cell_type": "markdown",
      "source": [
        "# **Create a textual and a graphical summary of the data**\n",
        "We now have an idea of what the dataset looks like. To further familiarize ourselves with this data, we will calculate summary statistics and produce a graphical overview of the data. The graphical overview is good to get a sense for the distribution of variables within the data and could consist of one histogram per column. It is often a good idea to also explore the pairwise relationship between all columns in the data set by using a using pairwise scatter plots (sometimes referred to as a \"scatterplot matrix\")."
      ],
      "metadata": {
        "id": "MqZHyOZL0qoj"
      }
    },
    {
      "cell_type": "code",
      "source": [
        "#give us statistics summary of all columns\n",
        "# car is a dataframe\n",
        "car = road_acc.describe()\n",
        "print (car)\n",
        "\n",
        "sns.pairplot(road_acc)"
      ],
      "metadata": {
        "colab": {
          "base_uri": "https://localhost:8080/",
          "height": 1000
        },
        "id": "BtepdtiJwi_0",
        "outputId": "b7e5b7bd-c9a4-49cd-f0bd-6fda12033ff9"
      },
      "execution_count": null,
      "outputs": [
        {
          "output_type": "stream",
          "name": "stdout",
          "text": [
            "       drvr_fatl_col_bmiles  perc_fatl_speed  perc_fatl_alcohol  \\\n",
            "count             51.000000        51.000000          51.000000   \n",
            "mean              15.790196        31.725490          30.686275   \n",
            "std                4.122002         9.633438           5.132213   \n",
            "min                5.900000        13.000000          16.000000   \n",
            "25%               12.750000        23.000000          28.000000   \n",
            "50%               15.600000        34.000000          30.000000   \n",
            "75%               18.500000        38.000000          33.000000   \n",
            "max               23.900000        54.000000          44.000000   \n",
            "\n",
            "       perc_fatl_1st_time  \n",
            "count            51.00000  \n",
            "mean             88.72549  \n",
            "std               6.96011  \n",
            "min              76.00000  \n",
            "25%              83.50000  \n",
            "50%              88.00000  \n",
            "75%              95.00000  \n",
            "max             100.00000  \n"
          ]
        },
        {
          "output_type": "execute_result",
          "data": {
            "text/plain": [
              "<seaborn.axisgrid.PairGrid at 0x7f51a2863290>"
            ]
          },
          "metadata": {},
          "execution_count": 24
        },
        {
          "output_type": "display_data",
          "data": {
            "text/plain": [
              "<Figure size 720x720 with 20 Axes>"
            ],
            "image/png": "[encoded data removed]"
          },
          "metadata": {
            "needs_background": "light"
          }
        }
      ]
    },
    {
      "cell_type": "markdown",
      "source": [
        "# **Quantify the association of features and accidents**\n",
        "We can already see some potentially interesting relationships between the target variable (the number of fatal accidents) and the feature variables (the remaining three columns).\n",
        "\n",
        "To quantify the pairwise relationships that we observed in the scatter plots, we can compute the Pearson correlation coefficient matrix. The Pearson correlation coefficient is one of the most common methods to quantify correlation between variables, and by convention, the following thresholds are usually used:\n",
        "\n",
        "0.2 = weak\n",
        "0.5 = medium\n",
        "0.8 = strong\n",
        "0.9 = very strong"
      ],
      "metadata": {
        "id": "dhQCCpjRGcpf"
      }
    },
    {
      "cell_type": "code",
      "source": [
        "#Computing paring column for correlation coefficient  \n",
        "corr_col = road_acc.corr()\n",
        "corr_col"
      ],
      "metadata": {
        "id": "O8e7LnoGwjC6",
        "colab": {
          "base_uri": "https://localhost:8080/",
          "height": 175
        },
        "outputId": "54e5b2b5-0c68-4ab1-9030-a2059199a84c"
      },
      "execution_count": null,
      "outputs": [
        {
          "output_type": "execute_result",
          "data": {
            "text/plain": [
              "                      drvr_fatl_col_bmiles  perc_fatl_speed  \\\n",
              "drvr_fatl_col_bmiles              1.000000        -0.029080   \n",
              "perc_fatl_speed                  -0.029080         1.000000   \n",
              "perc_fatl_alcohol                 0.199426         0.286244   \n",
              "perc_fatl_1st_time               -0.017942         0.014066   \n",
              "\n",
              "                      perc_fatl_alcohol  perc_fatl_1st_time  \n",
              "drvr_fatl_col_bmiles           0.199426           -0.017942  \n",
              "perc_fatl_speed                0.286244            0.014066  \n",
              "perc_fatl_alcohol              1.000000           -0.245455  \n",
              "perc_fatl_1st_time            -0.245455            1.000000  "
            ],
            "text/html": [
              "\n",
              "  <div id=\"df-c420c576-ebe5-4597-9616-8cd03a07d8dc\">\n",
              "    <div class=\"colab-df-container\">\n",
              "      <div>\n",
              "<style scoped>\n",
              "    .dataframe tbody tr th:only-of-type {\n",
              "        vertical-align: middle;\n",
              "    }\n",
              "\n",
              "    .dataframe tbody tr th {\n",
              "        vertical-align: top;\n",
              "    }\n",
              "\n",
              "    .dataframe thead th {\n",
              "        text-align: right;\n",
              "    }\n",
              "</style>\n",
              "<table border=\"1\" class=\"dataframe\">\n",
              "  <thead>\n",
              "    <tr style=\"text-align: right;\">\n",
              "      <th></th>\n",
              "      <th>drvr_fatl_col_bmiles</th>\n",
              "      <th>perc_fatl_speed</th>\n",
              "      <th>perc_fatl_alcohol</th>\n",
              "      <th>perc_fatl_1st_time</th>\n",
              "    </tr>\n",
              "  </thead>\n",
              "  <tbody>\n",
              "    <tr>\n",
              "      <th>drvr_fatl_col_bmiles</th>\n",
              "      <td>1.000000</td>\n",
              "      <td>-0.029080</td>\n",
              "      <td>0.199426</td>\n",
              "      <td>-0.017942</td>\n",
              "    </tr>\n",
              "    <tr>\n",
              "      <th>perc_fatl_speed</th>\n",
              "      <td>-0.029080</td>\n",
              "      <td>1.000000</td>\n",
              "      <td>0.286244</td>\n",
              "      <td>0.014066</td>\n",
              "    </tr>\n",
              "    <tr>\n",
              "      <th>perc_fatl_alcohol</th>\n",
              "      <td>0.199426</td>\n",
              "      <td>0.286244</td>\n",
              "      <td>1.000000</td>\n",
              "      <td>-0.245455</td>\n",
              "    </tr>\n",
              "    <tr>\n",
              "      <th>perc_fatl_1st_time</th>\n",
              "      <td>-0.017942</td>\n",
              "      <td>0.014066</td>\n",
              "      <td>-0.245455</td>\n",
              "      <td>1.000000</td>\n",
              "    </tr>\n",
              "  </tbody>\n",
              "</table>\n",
              "</div>\n",
              "      <button class=\"colab-df-convert\" onclick=\"convertToInteractive('df-c420c576-ebe5-4597-9616-8cd03a07d8dc')\"\n",
              "              title=\"Convert this dataframe to an interactive table.\"\n",
              "              style=\"display:none;\">\n",
              "        \n",
              "  <svg xmlns=\"http://www.w3.org/2000/svg\" height=\"24px\"viewBox=\"0 0 24 24\"\n",
              "       width=\"24px\">\n",
              "    <path d=\"M0 0h24v24H0V0z\" fill=\"none\"/>\n",
              "    <path d=\"M18.56 5.44l.94 2.06.94-2.06 2.06-.94-2.06-.94-.94-2.06-.94 2.06-2.06.94zm-11 1L8.5 8.5l.94-2.06 2.06-.94-2.06-.94L8.5 2.5l-.94 2.06-2.06.94zm10 10l.94 2.06.94-2.06 2.06-.94-2.06-.94-.94-2.06-.94 2.06-2.06.94z\"/><path d=\"M17.41 7.96l-1.37-1.37c-.4-.4-.92-.59-1.43-.59-.52 0-1.04.2-1.43.59L10.3 9.45l-7.72 7.72c-.78.78-.78 2.05 0 2.83L4 21.41c.39.39.9.59 1.41.59.51 0 1.02-.2 1.41-.59l7.78-7.78 2.81-2.81c.8-.78.8-2.07 0-2.86zM5.41 20L4 18.59l7.72-7.72 1.47 1.35L5.41 20z\"/>\n",
              "  </svg>\n",
              "      </button>\n",
              "      \n",
              "  <style>\n",
              "    .colab-df-container {\n",
              "      display:flex;\n",
              "      flex-wrap:wrap;\n",
              "      gap: 12px;\n",
              "    }\n",
              "\n",
              "    .colab-df-convert {\n",
              "      background-color: #E8F0FE;\n",
              "      border: none;\n",
              "      border-radius: 50%;\n",
              "      cursor: pointer;\n",
              "      display: none;\n",
              "      fill: #1967D2;\n",
              "      height: 32px;\n",
              "      padding: 0 0 0 0;\n",
              "      width: 32px;\n",
              "    }\n",
              "\n",
              "    .colab-df-convert:hover {\n",
              "      background-color: #E2EBFA;\n",
              "      box-shadow: 0px 1px 2px rgba(60, 64, 67, 0.3), 0px 1px 3px 1px rgba(60, 64, 67, 0.15);\n",
              "      fill: #174EA6;\n",
              "    }\n",
              "\n",
              "    [theme=dark] .colab-df-convert {\n",
              "      background-color: #3B4455;\n",
              "      fill: #D2E3FC;\n",
              "    }\n",
              "\n",
              "    [theme=dark] .colab-df-convert:hover {\n",
              "      background-color: #434B5C;\n",
              "      box-shadow: 0px 1px 3px 1px rgba(0, 0, 0, 0.15);\n",
              "      filter: drop-shadow(0px 1px 2px rgba(0, 0, 0, 0.3));\n",
              "      fill: #FFFFFF;\n",
              "    }\n",
              "  </style>\n",
              "\n",
              "      <script>\n",
              "        const buttonEl =\n",
              "          document.querySelector('#df-c420c576-ebe5-4597-9616-8cd03a07d8dc button.colab-df-convert');\n",
              "        buttonEl.style.display =\n",
              "          google.colab.kernel.accessAllowed ? 'block' : 'none';\n",
              "\n",
              "        async function convertToInteractive(key) {\n",
              "          const element = document.querySelector('#df-c420c576-ebe5-4597-9616-8cd03a07d8dc');\n",
              "          const dataTable =\n",
              "            await google.colab.kernel.invokeFunction('convertToInteractive',\n",
              "                                                     [key], {});\n",
              "          if (!dataTable) return;\n",
              "\n",
              "          const docLinkHtml = 'Like what you see? Visit the ' +\n",
              "            '<a target=\"_blank\" href=https://colab.research.google.com/notebooks/data_table.ipynb>data table notebook</a>'\n",
              "            + ' to learn more about interactive tables.';\n",
              "          element.innerHTML = '';\n",
              "          dataTable['output_type'] = 'display_data';\n",
              "          await google.colab.output.renderOutput(dataTable, element);\n",
              "          const docLink = document.createElement('div');\n",
              "          docLink.innerHTML = docLinkHtml;\n",
              "          element.appendChild(docLink);\n",
              "        }\n",
              "      </script>\n",
              "    </div>\n",
              "  </div>\n",
              "  "
            ]
          },
          "metadata": {},
          "execution_count": 4
        }
      ]
    },
    {
      "cell_type": "markdown",
      "source": [
        "# **Fit a multivariate linear regression**\n",
        "From the correlation table, we see that the amount of fatal accidents is most strongly correlated with alcohol consumption (first row). But in addition, we also see that some of the features are correlated with each other, for instance, speeding and alcohol consumption are positively correlated. We, therefore, want to compute the association of the target with each feature while adjusting for the effect of the remaining features. This can be done using multivariate linear regression.\n",
        "\n",
        "Both the multivariate regression and the correlation measure how strongly the features are associated with the outcome (fatal accidents). When comparing the regression coefficients with the correlation coefficients, we will see that they are slightly different. The reason for this is that the multiple regression computes the association of a feature with an outcome, given the association with all other features, which is not accounted for when calculating the correlation coefficients.\n",
        "\n",
        "A particularly interesting case is when the correlation coefficient and the regression coefficient of the same feature have opposite signs. How can this be? For example, when a feature A is positively correlated with the outcome Y but also positively correlated with a different feature B that has a negative effect on Y, then the indirect correlation (A->B->Y) can overwhelm the direct correlation (A->Y). In such a case, the regression coefficient of feature A could be positive, while the correlation coefficient is negative. This is sometimes called a masking relationship. Let’s see if the multivariate regression can reveal such a phenomenon."
      ],
      "metadata": {
        "id": "xv_Oqv9_Hba5"
      }
    },
    {
      "cell_type": "code",
      "source": [
        "#created the feature and target df(dataframes)\n",
        "feature = road_acc[['perc_fatl_speed', 'perc_fatl_alcohol', 'perc_fatl_1st_time']]\n",
        "target = road_acc['drvr_fatl_col_bmiles']\n",
        "\n",
        "#created a linear regression object\n",
        "regre = linear_model.LinearRegression()\n",
        "\n",
        "#fit a multivariate linear regression model\n",
        "regre.fit(feature, target)\n",
        "\n",
        "#retreive the regre coefficients\n",
        "fit_coef = regre.coef_\n",
        "fit_coef"
      ],
      "metadata": {
        "id": "qSAtR1ttwjGy",
        "colab": {
          "base_uri": "https://localhost:8080/"
        },
        "outputId": "18f5a124-28fb-47d2-df0a-76af41862e67"
      },
      "execution_count": null,
      "outputs": [
        {
          "output_type": "execute_result",
          "data": {
            "text/plain": [
              "array([-0.04180041,  0.19086404,  0.02473301])"
            ]
          },
          "metadata": {},
          "execution_count": 5
        }
      ]
    },
    {
      "cell_type": "markdown",
      "source": [
        "# **Perform PCA on standardized data**\n",
        "We have learned that alcohol consumption is weakly associated with the number of fatal accidents across states. This could lead us to conclude that alcohol consumption should be a focus for further investigations and maybe strategies should divide states into high versus low alcohol consumption in accidents. But there are also associations between alcohol consumptions and the other two features, so it might be worth trying to split the states in a way that accounts for all three features.\n",
        "\n",
        "One way of clustering the data is to use PCA to visualize data in reduced dimensional space where we can try to pick up patterns by eye. PCA uses the absolute variance to calculate the overall variance explained for each principal component, so it is important that the features are on a similar scale (unless we would have a particular reason that one feature should be weighted more).\n",
        "\n",
        "We'll use the appropriate scaling function to standardize the features to be centered with mean 0 and scaled with standard deviation 1."
      ],
      "metadata": {
        "id": "FVnGxaJkKMUU"
      }
    },
    {
      "cell_type": "code",
      "source": [
        "scaler = StandardScaler()\n",
        "feature_scale = scaler.fit_transform(feature)\n",
        "\n",
        "from sklearn.decomposition import PCA\n",
        "\n",
        "#PCA -> Principal Component Analysis\n",
        "#import PCA class function\n",
        "pca = PCA()\n",
        "\n",
        "#fit the standardized data to pca\n",
        "pca.fit(feature_scale)\n",
        "\n",
        "# Plot the proportion of variance explained on the y-axis of the bar plot\n",
        "plt.bar(range(1, pca.n_components_ + 1), pca.explained_variance_ratio_)\n",
        "plt.xlabel('Principal component: ')\n",
        "plt.ylabel('Proportion variance explained: ')\n",
        "plt.xticks([1,2,3])\n",
        "\n",
        "\n",
        "# Compute the cumulative proportion of variance explained by the first two principal components\n",
        "first_two = pca.explained_variance_ratio_[0] + pca.explained_variance_ratio_[1].cumsum()[0]\n",
        "print(\"The cumulative variance of the first two principal components is {}\".format(\n",
        "    round(first_two, 5)))"
      ],
      "metadata": {
        "colab": {
          "base_uri": "https://localhost:8080/",
          "height": 296
        },
        "id": "5I2CIzNHKOt7",
        "outputId": "90caebda-b2a8-4d02-8378-8e96f26a6f0d"
      },
      "execution_count": null,
      "outputs": [
        {
          "output_type": "stream",
          "name": "stdout",
          "text": [
            "The cumulative variance of the first two principal components is 0.7947\n"
          ]
        },
        {
          "output_type": "display_data",
          "data": {
            "text/plain": [
              "<Figure size 432x288 with 1 Axes>"
            ],
            "image/png": "[encoded data removed]"
          },
          "metadata": {
            "needs_background": "light"
          }
        }
      ]
    },
    {
      "cell_type": "markdown",
      "source": [
        "# **Visualize the first two principal components**\n",
        "The first two principal components enable visualization of the data in two dimensions while capturing a high proportion of the variation (79%) from all three features: speeding, alcohol influence, and first-time accidents. This enables us to use our eyes to try to discern patterns in the data with the goal to find groups of similar states. Although clustering algorithms are becoming increasingly efficient, human pattern recognition is an easily accessible and very efficient method of assessing patterns in data.\n",
        "We will create a scatter plot of the first principle components and explore how the states cluster together in this visualization."
      ],
      "metadata": {
        "id": "VxpgIrhHOQ3D"
      }
    },
    {
      "cell_type": "code",
      "source": [
        "#transforming scaled features using two PCA\n",
        "pca = PCA(n_components = 2)\n",
        "p_components = pca.fit_transform(feature_scale)\n",
        "\n",
        "#extracting first and second component and making scatter plot\n",
        "p_components1 = p_components[:,0]\n",
        "p_components2 = p_components[:,1]\n",
        "\n",
        "#plotting PCA components in scatter plot\n",
        "plt.scatter(p_components1, p_components2)"
      ],
      "metadata": {
        "id": "pKckZlUHKOww",
        "colab": {
          "base_uri": "https://localhost:8080/",
          "height": 282
        },
        "outputId": "5f44148d-3b85-4c40-8273-d865494d2802"
      },
      "execution_count": null,
      "outputs": [
        {
          "output_type": "execute_result",
          "data": {
            "text/plain": [
              "<matplotlib.collections.PathCollection at 0x7f51a60fed90>"
            ]
          },
          "metadata": {},
          "execution_count": 7
        },
        {
          "output_type": "display_data",
          "data": {
            "text/plain": [
              "<Figure size 432x288 with 1 Axes>"
            ],
            "image/png": "[encoded data removed]"
          },
          "metadata": {
            "needs_background": "light"
          }
        }
      ]
    },
    {
      "cell_type": "markdown",
      "source": [
        "# **Find clusters of similar states in the data**\n",
        "It was not entirely clear from the PCA scatter plot how many groups in which the states cluster. To assist with identifying a reasonable number of clusters, we can use KMeans clustering by creating a scree plot and finding the \"elbow\", which is an indication of when the addition of more clusters does not add much explanatory power."
      ],
      "metadata": {
        "id": "XWrO7Vp9OiZc"
      }
    },
    {
      "cell_type": "code",
      "source": [
        "from sklearn.cluster import KMeans\n",
        "\n",
        "# plot the explanatory power up to 10 KMeans clusters and using for loop\n",
        "ks = range(1,10)\n",
        "inertias = []\n",
        "for k in ks:\n",
        "  # Initialize the KMeans object using the current number of clusters (k)\n",
        "  km = KMeans(n_clusters=k, random_state=8)\n",
        "\n",
        "  # Fit the scaled features to the KMeans object\n",
        "  km.fit(feature_scale)\n",
        "\n",
        "  # Append the inertia for km to the list of inertias\n",
        "  inertias.append(km.inertia_)\n",
        "\n",
        "# Plot the results in a line plot\n",
        "plt.plot(ks, inertias, marker='+')"
      ],
      "metadata": {
        "id": "zDNv7MdgKO0Y",
        "colab": {
          "base_uri": "https://localhost:8080/",
          "height": 282
        },
        "outputId": "14eaa507-c5c3-4731-d894-1aa3b428d37c"
      },
      "execution_count": null,
      "outputs": [
        {
          "output_type": "execute_result",
          "data": {
            "text/plain": [
              "[<matplotlib.lines.Line2D at 0x7f51a51dde50>]"
            ]
          },
          "metadata": {},
          "execution_count": 8
        },
        {
          "output_type": "display_data",
          "data": {
            "text/plain": [
              "<Figure size 432x288 with 1 Axes>"
            ],
            "image/png": "[encoded data removed]"
          },
          "metadata": {
            "needs_background": "light"
          }
        }
      ]
    },
    {
      "cell_type": "markdown",
      "source": [
        "# **KMeans to visualize clusters in the PCA scatter plot**\n",
        "Since there wasn't a clear elbow in the scree plot, assigning the states to either two or three clusters is a reasonable choice, and we will resume our analysis using three clusters. Let's see how the PCA scatter plot looks if we color the states according to the cluster to which they are assigned."
      ],
      "metadata": {
        "id": "fYrEBxhdRo3q"
      }
    },
    {
      "cell_type": "code",
      "source": [
        "# Create a KMeans object with 3 clusters, use random_state=8 \n",
        "km = KMeans(n_clusters = 3, random_state=8)\n",
        "\n",
        "# Fit the data to the km object\n",
        "km.fit(feature_scale)\n",
        "\n",
        "# Creating a scatter plot of the two components\n",
        "# and color it according to the KMeans cluster assignment \n",
        "plt.scatter(p_components1, p_components2, c=km.labels_)"
      ],
      "metadata": {
        "colab": {
          "base_uri": "https://localhost:8080/",
          "height": 282
        },
        "id": "HsjrN3c9RuMw",
        "outputId": "581f42eb-6e47-484f-de4e-36b9664b04fb"
      },
      "execution_count": null,
      "outputs": [
        {
          "output_type": "execute_result",
          "data": {
            "text/plain": [
              "<matplotlib.collections.PathCollection at 0x7f51a513d250>"
            ]
          },
          "metadata": {},
          "execution_count": 9
        },
        {
          "output_type": "display_data",
          "data": {
            "text/plain": [
              "<Figure size 432x288 with 1 Axes>"
            ],
            "image/png": "[encoded data removed]"
          },
          "metadata": {
            "needs_background": "light"
          }
        }
      ]
    },
    {
      "cell_type": "markdown",
      "source": [
        "# **Visualize the feature differences between the clusters**\n",
        "Thus far, we have used both our visual interpretation of the data and the KMeans clustering algorithm to reveal patterns in the data, but what do these patterns mean?\n",
        "\n",
        "Remember that the information we have used to cluster the states into three distinct groups are the percentage of drivers speeding, under alcohol influence and that has not previously been involved in an accident. We used these clusters to visualize how the states group together when considering the first two principal components. This is good for us to understand structure in the data, but not always easy to understand, especially not if the findings are to be communicated to a non-specialist audience.\n",
        "\n",
        "A reasonable next step in our analysis is to explore how the three clusters are different in terms of the three features that we used for clustering. Instead of using the scaled features, we return to using the unscaled features to help us interpret the differences."
      ],
      "metadata": {
        "id": "Az2BRzk8fCzI"
      }
    },
    {
      "cell_type": "code",
      "source": [
        "#creating new column with labels from K mean clustering\n",
        "road_acc['cluster'] = km.labels_\n",
        "\n",
        "#reshape the df to long format \n",
        "melt_car = pd.melt(road_acc, id_vars='cluster', \n",
        "                   var_name = 'measurement',\n",
        "                   value_name='percent',\n",
        "                   value_vars = feature)\n",
        "\n",
        "#creating violin plot and coloring the results according to km- clusters\n",
        "sns.violinplot(x = melt_car['percent'], y = melt_car['measurement'], hue = melt_car['cluster'])"
      ],
      "metadata": {
        "id": "Hw33GZGiRuPk",
        "colab": {
          "base_uri": "https://localhost:8080/",
          "height": 296
        },
        "outputId": "84ef3f12-b27b-45db-c610-b32da0b9e630"
      },
      "execution_count": null,
      "outputs": [
        {
          "output_type": "execute_result",
          "data": {
            "text/plain": [
              "<matplotlib.axes._subplots.AxesSubplot at 0x7f51a2bcdc50>"
            ]
          },
          "metadata": {},
          "execution_count": 12
        },
        {
          "output_type": "display_data",
          "data": {
            "text/plain": [
              "<Figure size 432x288 with 1 Axes>"
            ],
            "image/png": "[encoded data removed]"
          },
          "metadata": {
            "needs_background": "light"
          }
        }
      ]
    },
    {
      "cell_type": "markdown",
      "source": [
        "# **Compute the number of accidents within each cluster**\n",
        "Now it is clear that different groups of states may require different interventions. Since resources and time are limited, it is useful to start off with an intervention in one of the three groups first. Which group would this be? To determine this, we will include data on how many miles are driven in each state, because this will help us to compute the total number of fatal accidents in each state. Data on miles driven is available in another tab-delimited text file. We will assign this new information to a column in the DataFrame and create a violin plot for how many total fatal traffic accidents there are within each state cluster."
      ],
      "metadata": {
        "id": "e7v0SSlze2rj"
      }
    },
    {
      "cell_type": "code",
      "source": [
        "# Read in the new dataset\n",
        "miles_driven = pd.read_csv('/content/miles-driven.csv')\n",
        "\n",
        "# Merge the `road_acc` DataFrame with the `miles_driven` DataFrame\n",
        "road_acc_miles = road_acc.merge(miles_driven, on='state')\n",
        "\n",
        "# Create a new column for the number of drivers involved in fatal accidents\n",
        "road_acc_miles['num_drvr_fatl_col'] = (road_acc_miles['drvr_fatl_col_bmiles'] * road_acc_miles[\"million_miles_annually\"])/1000\n",
        "\n",
        "# Create a barplot of the total number of accidents per cluster\n",
        "sns.barplot(x='cluster', y='num_drvr_fatl_col', data=road_acc_miles, estimator=sum, ci=None)\n",
        "\n",
        "# Calculate the number of states in each cluster and their 'num_drvr_fatl_col' mean and sum.\n",
        "count_mean_sum = road_acc_miles.groupby(\"cluster\")[\"num_drvr_fatl_col\"].agg([\"count\", \"mean\", \"sum\"])\n",
        "count_mean_sum"
      ],
      "metadata": {
        "id": "FtIH6-o0RuXh",
        "colab": {
          "base_uri": "https://localhost:8080/",
          "height": 437
        },
        "outputId": "2597e0b6-b11e-442d-947c-32d6c769ba34"
      },
      "execution_count": null,
      "outputs": [
        {
          "output_type": "execute_result",
          "data": {
            "text/plain": [
              "         count        mean         sum\n",
              "cluster                               \n",
              "0           18  911.406439  16405.3159\n",
              "1           11  860.505945   9465.5654\n",
              "2           22  898.378595  19764.3291"
            ],
            "text/html": [
              "\n",
              "  <div id=\"df-0393e539-4c6d-422b-91c6-7dedec57680f\">\n",
              "    <div class=\"colab-df-container\">\n",
              "      <div>\n",
              "<style scoped>\n",
              "    .dataframe tbody tr th:only-of-type {\n",
              "        vertical-align: middle;\n",
              "    }\n",
              "\n",
              "    .dataframe tbody tr th {\n",
              "        vertical-align: top;\n",
              "    }\n",
              "\n",
              "    .dataframe thead th {\n",
              "        text-align: right;\n",
              "    }\n",
              "</style>\n",
              "<table border=\"1\" class=\"dataframe\">\n",
              "  <thead>\n",
              "    <tr style=\"text-align: right;\">\n",
              "      <th></th>\n",
              "      <th>count</th>\n",
              "      <th>mean</th>\n",
              "      <th>sum</th>\n",
              "    </tr>\n",
              "    <tr>\n",
              "      <th>cluster</th>\n",
              "      <th></th>\n",
              "      <th></th>\n",
              "      <th></th>\n",
              "    </tr>\n",
              "  </thead>\n",
              "  <tbody>\n",
              "    <tr>\n",
              "      <th>0</th>\n",
              "      <td>18</td>\n",
              "      <td>911.406439</td>\n",
              "      <td>16405.3159</td>\n",
              "    </tr>\n",
              "    <tr>\n",
              "      <th>1</th>\n",
              "      <td>11</td>\n",
              "      <td>860.505945</td>\n",
              "      <td>9465.5654</td>\n",
              "    </tr>\n",
              "    <tr>\n",
              "      <th>2</th>\n",
              "      <td>22</td>\n",
              "      <td>898.378595</td>\n",
              "      <td>19764.3291</td>\n",
              "    </tr>\n",
              "  </tbody>\n",
              "</table>\n",
              "</div>\n",
              "      <button class=\"colab-df-convert\" onclick=\"convertToInteractive('df-0393e539-4c6d-422b-91c6-7dedec57680f')\"\n",
              "              title=\"Convert this dataframe to an interactive table.\"\n",
              "              style=\"display:none;\">\n",
              "        \n",
              "  <svg xmlns=\"http://www.w3.org/2000/svg\" height=\"24px\"viewBox=\"0 0 24 24\"\n",
              "       width=\"24px\">\n",
              "    <path d=\"M0 0h24v24H0V0z\" fill=\"none\"/>\n",
              "    <path d=\"M18.56 5.44l.94 2.06.94-2.06 2.06-.94-2.06-.94-.94-2.06-.94 2.06-2.06.94zm-11 1L8.5 8.5l.94-2.06 2.06-.94-2.06-.94L8.5 2.5l-.94 2.06-2.06.94zm10 10l.94 2.06.94-2.06 2.06-.94-2.06-.94-.94-2.06-.94 2.06-2.06.94z\"/><path d=\"M17.41 7.96l-1.37-1.37c-.4-.4-.92-.59-1.43-.59-.52 0-1.04.2-1.43.59L10.3 9.45l-7.72 7.72c-.78.78-.78 2.05 0 2.83L4 21.41c.39.39.9.59 1.41.59.51 0 1.02-.2 1.41-.59l7.78-7.78 2.81-2.81c.8-.78.8-2.07 0-2.86zM5.41 20L4 18.59l7.72-7.72 1.47 1.35L5.41 20z\"/>\n",
              "  </svg>\n",
              "      </button>\n",
              "      \n",
              "  <style>\n",
              "    .colab-df-container {\n",
              "      display:flex;\n",
              "      flex-wrap:wrap;\n",
              "      gap: 12px;\n",
              "    }\n",
              "\n",
              "    .colab-df-convert {\n",
              "      background-color: #E8F0FE;\n",
              "      border: none;\n",
              "      border-radius: 50%;\n",
              "      cursor: pointer;\n",
              "      display: none;\n",
              "      fill: #1967D2;\n",
              "      height: 32px;\n",
              "      padding: 0 0 0 0;\n",
              "      width: 32px;\n",
              "    }\n",
              "\n",
              "    .colab-df-convert:hover {\n",
              "      background-color: #E2EBFA;\n",
              "      box-shadow: 0px 1px 2px rgba(60, 64, 67, 0.3), 0px 1px 3px 1px rgba(60, 64, 67, 0.15);\n",
              "      fill: #174EA6;\n",
              "    }\n",
              "\n",
              "    [theme=dark] .colab-df-convert {\n",
              "      background-color: #3B4455;\n",
              "      fill: #D2E3FC;\n",
              "    }\n",
              "\n",
              "    [theme=dark] .colab-df-convert:hover {\n",
              "      background-color: #434B5C;\n",
              "      box-shadow: 0px 1px 3px 1px rgba(0, 0, 0, 0.15);\n",
              "      filter: drop-shadow(0px 1px 2px rgba(0, 0, 0, 0.3));\n",
              "      fill: #FFFFFF;\n",
              "    }\n",
              "  </style>\n",
              "\n",
              "      <script>\n",
              "        const buttonEl =\n",
              "          document.querySelector('#df-0393e539-4c6d-422b-91c6-7dedec57680f button.colab-df-convert');\n",
              "        buttonEl.style.display =\n",
              "          google.colab.kernel.accessAllowed ? 'block' : 'none';\n",
              "\n",
              "        async function convertToInteractive(key) {\n",
              "          const element = document.querySelector('#df-0393e539-4c6d-422b-91c6-7dedec57680f');\n",
              "          const dataTable =\n",
              "            await google.colab.kernel.invokeFunction('convertToInteractive',\n",
              "                                                     [key], {});\n",
              "          if (!dataTable) return;\n",
              "\n",
              "          const docLinkHtml = 'Like what you see? Visit the ' +\n",
              "            '<a target=\"_blank\" href=https://colab.research.google.com/notebooks/data_table.ipynb>data table notebook</a>'\n",
              "            + ' to learn more about interactive tables.';\n",
              "          element.innerHTML = '';\n",
              "          dataTable['output_type'] = 'display_data';\n",
              "          await google.colab.output.renderOutput(dataTable, element);\n",
              "          const docLink = document.createElement('div');\n",
              "          docLink.innerHTML = docLinkHtml;\n",
              "          element.appendChild(docLink);\n",
              "        }\n",
              "      </script>\n",
              "    </div>\n",
              "  </div>\n",
              "  "
            ]
          },
          "metadata": {},
          "execution_count": 19
        },
        {
          "output_type": "display_data",
          "data": {
            "text/plain": [
              "<Figure size 432x288 with 1 Axes>"
            ],
            "image/png": "[encoded data removed]"
          },
          "metadata": {
            "needs_background": "light"
          }
        }
      ]
    },
    {
      "cell_type": "markdown",
      "source": [
        "# **Make a decision when there is no clear right choice**\n",
        "As we can see, there is no obvious correct choice regarding which cluster is the most important to focus on. Yet, we can still argue for a certain cluster and motivate this using our findings above. Which cluster do you think should be a focus for policy intervention and further investigation?"
      ],
      "metadata": {
        "id": "4vHeC5NPkXE4"
      }
    },
    {
      "cell_type": "code",
      "source": [
        "# Which cluster would you choose?\n",
        "cluster_num = 1 or 2\n",
        "print(1 or 2)"
      ],
      "metadata": {
        "id": "Zah19WNCRuil",
        "colab": {
          "base_uri": "https://localhost:8080/"
        },
        "outputId": "de8b0444-f04a-40f1-b107-ffd22d44d0ee"
      },
      "execution_count": null,
      "outputs": [
        {
          "output_type": "stream",
          "name": "stdout",
          "text": [
            "1\n"
          ]
        }
      ]
    }
  ]
}