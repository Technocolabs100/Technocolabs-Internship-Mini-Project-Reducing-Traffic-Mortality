{
 "cells": [
  {
   "cell_type": "markdown",
   "metadata": {},
   "source": [
    "### Muhamed Mustafa Muhamed ALi \n",
    "### Technocolabs Internship - Data Analysis - August 2022\n",
    "### Reducing Traffic Mortality"
   ]
  },
  {
   "cell_type": "markdown",
   "metadata": {},
   "source": [
    "#### 01 - Import Libraries"
   ]
  },
  {
   "cell_type": "code",
   "execution_count": 93,
   "metadata": {},
   "outputs": [],
   "source": [
    "import pandas as pd\n",
    "import numpy as np\n",
    "import pandas_profiling as pp\n",
    "import seaborn as sns\n",
    "from sklearn import linear_model\n",
    "from sklearn.preprocessing import StandardScaler\n",
    "from sklearn.decomposition import PCA \n",
    "import matplotlib.pyplot as plt\n",
    "from sklearn.cluster import KMeans"
   ]
  },
  {
   "cell_type": "markdown",
   "metadata": {},
   "source": [
    "#### 02 - Read in and get an overview of the data"
   ]
  },
  {
   "cell_type": "code",
   "execution_count": 94,
   "metadata": {},
   "outputs": [],
   "source": [
    "racc = pd.read_csv('road-accidents.csv',sep='|',skiprows=9)\n",
    "mdriv = pd.read_csv('miles-driven.csv',sep='|')"
   ]
  },
  {
   "cell_type": "markdown",
   "metadata": {},
   "source": [
    "#### 03 - Create a textual and a graphical summary of the data"
   ]
  },
  {
   "cell_type": "code",
   "execution_count": 95,
   "metadata": {},
   "outputs": [],
   "source": [
    "df_prof = pp.ProfileReport(racc, title=\"Road Accedants and Miles Driven\")\n",
    "#df_prof"
   ]
  },
  {
   "cell_type": "code",
   "execution_count": 96,
   "metadata": {},
   "outputs": [],
   "source": [
    "sns.set_theme(style=\"ticks\")\n",
    "#sns.pairplot(df)"
   ]
  },
  {
   "cell_type": "markdown",
   "metadata": {},
   "source": [
    "#### 04 - Quantify the association of features and accidents"
   ]
  },
  {
   "cell_type": "code",
   "execution_count": 97,
   "metadata": {},
   "outputs": [
    {
     "data": {
      "text/html": [
       "<div>\n",
       "<style scoped>\n",
       "    .dataframe tbody tr th:only-of-type {\n",
       "        vertical-align: middle;\n",
       "    }\n",
       "\n",
       "    .dataframe tbody tr th {\n",
       "        vertical-align: top;\n",
       "    }\n",
       "\n",
       "    .dataframe thead th {\n",
       "        text-align: right;\n",
       "    }\n",
       "</style>\n",
       "<table border=\"1\" class=\"dataframe\">\n",
       "  <thead>\n",
       "    <tr style=\"text-align: right;\">\n",
       "      <th></th>\n",
       "      <th>drvr_fatl_col_bmiles</th>\n",
       "      <th>perc_fatl_speed</th>\n",
       "      <th>perc_fatl_alcohol</th>\n",
       "      <th>perc_fatl_1st_time</th>\n",
       "      <th>cluster</th>\n",
       "      <th>million_miles_annually</th>\n",
       "      <th>num_drvr_fatl_col</th>\n",
       "    </tr>\n",
       "  </thead>\n",
       "  <tbody>\n",
       "    <tr>\n",
       "      <th>drvr_fatl_col_bmiles</th>\n",
       "      <td>1.000000</td>\n",
       "      <td>-0.029080</td>\n",
       "      <td>0.199426</td>\n",
       "      <td>-0.017942</td>\n",
       "      <td>-0.104819</td>\n",
       "      <td>-0.077133</td>\n",
       "      <td>0.119887</td>\n",
       "    </tr>\n",
       "    <tr>\n",
       "      <th>perc_fatl_speed</th>\n",
       "      <td>-0.029080</td>\n",
       "      <td>1.000000</td>\n",
       "      <td>0.286244</td>\n",
       "      <td>0.014066</td>\n",
       "      <td>-0.275927</td>\n",
       "      <td>-0.043199</td>\n",
       "      <td>-0.028740</td>\n",
       "    </tr>\n",
       "    <tr>\n",
       "      <th>perc_fatl_alcohol</th>\n",
       "      <td>0.199426</td>\n",
       "      <td>0.286244</td>\n",
       "      <td>1.000000</td>\n",
       "      <td>-0.245455</td>\n",
       "      <td>0.137171</td>\n",
       "      <td>-0.034561</td>\n",
       "      <td>0.009989</td>\n",
       "    </tr>\n",
       "    <tr>\n",
       "      <th>perc_fatl_1st_time</th>\n",
       "      <td>-0.017942</td>\n",
       "      <td>0.014066</td>\n",
       "      <td>-0.245455</td>\n",
       "      <td>1.000000</td>\n",
       "      <td>-0.785773</td>\n",
       "      <td>-0.128928</td>\n",
       "      <td>-0.114040</td>\n",
       "    </tr>\n",
       "    <tr>\n",
       "      <th>cluster</th>\n",
       "      <td>-0.104819</td>\n",
       "      <td>-0.275927</td>\n",
       "      <td>0.137171</td>\n",
       "      <td>-0.785773</td>\n",
       "      <td>1.000000</td>\n",
       "      <td>0.011061</td>\n",
       "      <td>-0.012561</td>\n",
       "    </tr>\n",
       "    <tr>\n",
       "      <th>million_miles_annually</th>\n",
       "      <td>-0.077133</td>\n",
       "      <td>-0.043199</td>\n",
       "      <td>-0.034561</td>\n",
       "      <td>-0.128928</td>\n",
       "      <td>0.011061</td>\n",
       "      <td>1.000000</td>\n",
       "      <td>0.954478</td>\n",
       "    </tr>\n",
       "    <tr>\n",
       "      <th>num_drvr_fatl_col</th>\n",
       "      <td>0.119887</td>\n",
       "      <td>-0.028740</td>\n",
       "      <td>0.009989</td>\n",
       "      <td>-0.114040</td>\n",
       "      <td>-0.012561</td>\n",
       "      <td>0.954478</td>\n",
       "      <td>1.000000</td>\n",
       "    </tr>\n",
       "  </tbody>\n",
       "</table>\n",
       "</div>"
      ],
      "text/plain": [
       "                        drvr_fatl_col_bmiles  perc_fatl_speed  \\\n",
       "drvr_fatl_col_bmiles                1.000000        -0.029080   \n",
       "perc_fatl_speed                    -0.029080         1.000000   \n",
       "perc_fatl_alcohol                   0.199426         0.286244   \n",
       "perc_fatl_1st_time                 -0.017942         0.014066   \n",
       "cluster                            -0.104819        -0.275927   \n",
       "million_miles_annually             -0.077133        -0.043199   \n",
       "num_drvr_fatl_col                   0.119887        -0.028740   \n",
       "\n",
       "                        perc_fatl_alcohol  perc_fatl_1st_time   cluster  \\\n",
       "drvr_fatl_col_bmiles             0.199426           -0.017942 -0.104819   \n",
       "perc_fatl_speed                  0.286244            0.014066 -0.275927   \n",
       "perc_fatl_alcohol                1.000000           -0.245455  0.137171   \n",
       "perc_fatl_1st_time              -0.245455            1.000000 -0.785773   \n",
       "cluster                          0.137171           -0.785773  1.000000   \n",
       "million_miles_annually          -0.034561           -0.128928  0.011061   \n",
       "num_drvr_fatl_col                0.009989           -0.114040 -0.012561   \n",
       "\n",
       "                        million_miles_annually  num_drvr_fatl_col  \n",
       "drvr_fatl_col_bmiles                 -0.077133           0.119887  \n",
       "perc_fatl_speed                      -0.043199          -0.028740  \n",
       "perc_fatl_alcohol                    -0.034561           0.009989  \n",
       "perc_fatl_1st_time                   -0.128928          -0.114040  \n",
       "cluster                               0.011061          -0.012561  \n",
       "million_miles_annually                1.000000           0.954478  \n",
       "num_drvr_fatl_col                     0.954478           1.000000  "
      ]
     },
     "execution_count": 97,
     "metadata": {},
     "output_type": "execute_result"
    }
   ],
   "source": [
    "df_corr = df.corr()\n",
    "df_corr"
   ]
  },
  {
   "cell_type": "markdown",
   "metadata": {},
   "source": [
    "#### 05 - Fit a multivariate linear regression"
   ]
  },
  {
   "cell_type": "code",
   "execution_count": 98,
   "metadata": {},
   "outputs": [],
   "source": [
    "y = df.iloc[:,1:2]\n",
    "X = df.iloc[:,2:5]"
   ]
  },
  {
   "cell_type": "code",
   "execution_count": 99,
   "metadata": {},
   "outputs": [],
   "source": [
    "model = linear_model.LinearRegression().fit(X,y)"
   ]
  },
  {
   "cell_type": "code",
   "execution_count": 100,
   "metadata": {},
   "outputs": [
    {
     "name": "stdout",
     "output_type": "stream",
     "text": [
      "[[-0.04180041  0.19086404  0.02473301]]\n"
     ]
    }
   ],
   "source": [
    "print(model.coef_)"
   ]
  },
  {
   "cell_type": "code",
   "execution_count": 101,
   "metadata": {},
   "outputs": [
    {
     "name": "stdout",
     "output_type": "stream",
     "text": [
      "                      perc_fatl_speed  perc_fatl_alcohol  perc_fatl_1st_time\n",
      "drvr_fatl_col_bmiles         -0.02908           0.199426           -0.017942\n"
     ]
    }
   ],
   "source": [
    "print(df_corr.iloc[:1,1:4])"
   ]
  },
  {
   "cell_type": "markdown",
   "metadata": {},
   "source": [
    "#### 06 - Perform PCA on standardized data"
   ]
  },
  {
   "cell_type": "code",
   "execution_count": 102,
   "metadata": {},
   "outputs": [],
   "source": [
    "scaler = StandardScaler()\n",
    "X_transformed = scaler.fit_transform(X)"
   ]
  },
  {
   "cell_type": "code",
   "execution_count": 103,
   "metadata": {},
   "outputs": [
    {
     "data": {
      "text/html": [
       "<style>#sk-container-id-4 {color: black;background-color: white;}#sk-container-id-4 pre{padding: 0;}#sk-container-id-4 div.sk-toggleable {background-color: white;}#sk-container-id-4 label.sk-toggleable__label {cursor: pointer;display: block;width: 100%;margin-bottom: 0;padding: 0.3em;box-sizing: border-box;text-align: center;}#sk-container-id-4 label.sk-toggleable__label-arrow:before {content: \"▸\";float: left;margin-right: 0.25em;color: #696969;}#sk-container-id-4 label.sk-toggleable__label-arrow:hover:before {color: black;}#sk-container-id-4 div.sk-estimator:hover label.sk-toggleable__label-arrow:before {color: black;}#sk-container-id-4 div.sk-toggleable__content {max-height: 0;max-width: 0;overflow: hidden;text-align: left;background-color: #f0f8ff;}#sk-container-id-4 div.sk-toggleable__content pre {margin: 0.2em;color: black;border-radius: 0.25em;background-color: #f0f8ff;}#sk-container-id-4 input.sk-toggleable__control:checked~div.sk-toggleable__content {max-height: 200px;max-width: 100%;overflow: auto;}#sk-container-id-4 input.sk-toggleable__control:checked~label.sk-toggleable__label-arrow:before {content: \"▾\";}#sk-container-id-4 div.sk-estimator input.sk-toggleable__control:checked~label.sk-toggleable__label {background-color: #d4ebff;}#sk-container-id-4 div.sk-label input.sk-toggleable__control:checked~label.sk-toggleable__label {background-color: #d4ebff;}#sk-container-id-4 input.sk-hidden--visually {border: 0;clip: rect(1px 1px 1px 1px);clip: rect(1px, 1px, 1px, 1px);height: 1px;margin: -1px;overflow: hidden;padding: 0;position: absolute;width: 1px;}#sk-container-id-4 div.sk-estimator {font-family: monospace;background-color: #f0f8ff;border: 1px dotted black;border-radius: 0.25em;box-sizing: border-box;margin-bottom: 0.5em;}#sk-container-id-4 div.sk-estimator:hover {background-color: #d4ebff;}#sk-container-id-4 div.sk-parallel-item::after {content: \"\";width: 100%;border-bottom: 1px solid gray;flex-grow: 1;}#sk-container-id-4 div.sk-label:hover label.sk-toggleable__label {background-color: #d4ebff;}#sk-container-id-4 div.sk-serial::before {content: \"\";position: absolute;border-left: 1px solid gray;box-sizing: border-box;top: 0;bottom: 0;left: 50%;z-index: 0;}#sk-container-id-4 div.sk-serial {display: flex;flex-direction: column;align-items: center;background-color: white;padding-right: 0.2em;padding-left: 0.2em;position: relative;}#sk-container-id-4 div.sk-item {position: relative;z-index: 1;}#sk-container-id-4 div.sk-parallel {display: flex;align-items: stretch;justify-content: center;background-color: white;position: relative;}#sk-container-id-4 div.sk-item::before, #sk-container-id-4 div.sk-parallel-item::before {content: \"\";position: absolute;border-left: 1px solid gray;box-sizing: border-box;top: 0;bottom: 0;left: 50%;z-index: -1;}#sk-container-id-4 div.sk-parallel-item {display: flex;flex-direction: column;z-index: 1;position: relative;background-color: white;}#sk-container-id-4 div.sk-parallel-item:first-child::after {align-self: flex-end;width: 50%;}#sk-container-id-4 div.sk-parallel-item:last-child::after {align-self: flex-start;width: 50%;}#sk-container-id-4 div.sk-parallel-item:only-child::after {width: 0;}#sk-container-id-4 div.sk-dashed-wrapped {border: 1px dashed gray;margin: 0 0.4em 0.5em 0.4em;box-sizing: border-box;padding-bottom: 0.4em;background-color: white;}#sk-container-id-4 div.sk-label label {font-family: monospace;font-weight: bold;display: inline-block;line-height: 1.2em;}#sk-container-id-4 div.sk-label-container {text-align: center;}#sk-container-id-4 div.sk-container {/* jupyter's `normalize.less` sets `[hidden] { display: none; }` but bootstrap.min.css set `[hidden] { display: none !important; }` so we also need the `!important` here to be able to override the default hidden behavior on the sphinx rendered scikit-learn.org. See: https://github.com/scikit-learn/scikit-learn/issues/21755 */display: inline-block !important;position: relative;}#sk-container-id-4 div.sk-text-repr-fallback {display: none;}</style><div id=\"sk-container-id-4\" class=\"sk-top-container\"><div class=\"sk-text-repr-fallback\"><pre>PCA()</pre><b>In a Jupyter environment, please rerun this cell to show the HTML representation or trust the notebook. <br />On GitHub, the HTML representation is unable to render, please try loading this page with nbviewer.org.</b></div><div class=\"sk-container\" hidden><div class=\"sk-item\"><div class=\"sk-estimator sk-toggleable\"><input class=\"sk-toggleable__control sk-hidden--visually\" id=\"sk-estimator-id-4\" type=\"checkbox\" checked><label for=\"sk-estimator-id-4\" class=\"sk-toggleable__label sk-toggleable__label-arrow\">PCA</label><div class=\"sk-toggleable__content\"><pre>PCA()</pre></div></div></div></div></div>"
      ],
      "text/plain": [
       "PCA()"
      ]
     },
     "execution_count": 103,
     "metadata": {},
     "output_type": "execute_result"
    }
   ],
   "source": [
    "pca = PCA()\n",
    "pca.fit(X_transformed)"
   ]
  },
  {
   "cell_type": "code",
   "execution_count": 104,
   "metadata": {},
   "outputs": [
    {
     "data": {
      "text/plain": [
       "([<matplotlib.axis.XTick at 0x2d6de53ea70>,\n",
       "  <matplotlib.axis.XTick at 0x2d6de53ea40>,\n",
       "  <matplotlib.axis.XTick at 0x2d6de53d720>],\n",
       " [Text(0, 0, ''), Text(0, 0, ''), Text(0, 0, '')])"
      ]
     },
     "execution_count": 104,
     "metadata": {},
     "output_type": "execute_result"
    },
    {
     "data": {
      "image/png": "[encoded data removed]",
      "text/plain": [
       "<Figure size 432x288 with 1 Axes>"
      ]
     },
     "metadata": {},
     "output_type": "display_data"
    }
   ],
   "source": [
    "plt.bar(range(1, pca.n_components_ + 1),  pca.explained_variance_ratio_)\n",
    "plt.xlabel('Principal component #')\n",
    "plt.ylabel('Proportion of variance explained')\n",
    "plt.xticks([1, 2, 3])"
   ]
  },
  {
   "cell_type": "code",
   "execution_count": 105,
   "metadata": {},
   "outputs": [
    {
     "name": "stdout",
     "output_type": "stream",
     "text": [
      "The cumulative variance of the first two principal componenets is 0.7946978608104824\n"
     ]
    }
   ],
   "source": [
    "two_first_comp_var_exp = pca.explained_variance_ratio_.cumsum()[1]\n",
    "print(\"The cumulative variance of the first two principal componenets is {}\".format(two_first_comp_var_exp))"
   ]
  },
  {
   "cell_type": "markdown",
   "metadata": {},
   "source": [
    "#### 07 - Visualize the first two principal components"
   ]
  },
  {
   "cell_type": "code",
   "execution_count": 106,
   "metadata": {},
   "outputs": [],
   "source": [
    "pca2 = PCA(n_components=2)\n",
    "X_pca = pca2.fit_transform(X_transformed)"
   ]
  },
  {
   "cell_type": "code",
   "execution_count": 107,
   "metadata": {},
   "outputs": [],
   "source": [
    "X_pca_1 = X_pca[:,:1]\n",
    "X_pca_2 = X_pca[:,1:2]"
   ]
  },
  {
   "cell_type": "code",
   "execution_count": 108,
   "metadata": {},
   "outputs": [
    {
     "data": {
      "text/plain": [
       "<matplotlib.collections.PathCollection at 0x2d6df65ace0>"
      ]
     },
     "execution_count": 108,
     "metadata": {},
     "output_type": "execute_result"
    },
    {
     "data": {
      "image/png": "[encoded data removed]",
      "text/plain": [
       "<Figure size 432x288 with 1 Axes>"
      ]
     },
     "metadata": {},
     "output_type": "display_data"
    }
   ],
   "source": [
    "plt.scatter(X_pca_1,X_pca_2)"
   ]
  },
  {
   "cell_type": "markdown",
   "metadata": {},
   "source": [
    "#### 08 - Find clusters of similar states in the data\n"
   ]
  },
  {
   "cell_type": "code",
   "execution_count": 109,
   "metadata": {},
   "outputs": [
    {
     "data": {
      "text/plain": [
       "[<matplotlib.lines.Line2D at 0x2d6df6ca3b0>]"
      ]
     },
     "execution_count": 109,
     "metadata": {},
     "output_type": "execute_result"
    },
    {
     "data": {
      "image/png": "[encoded data removed]",
      "text/plain": [
       "<Figure size 432x288 with 1 Axes>"
      ]
     },
     "metadata": {},
     "output_type": "display_data"
    }
   ],
   "source": [
    "ks = range(1, 10)\n",
    "inertias = []\n",
    "for k in ks:\n",
    "    km = KMeans(n_clusters=k, random_state=0)\n",
    "    km.fit(X_transformed)\n",
    "    inertias.append(km.inertia_)\n",
    "    \n",
    "plt.plot(ks, inertias, marker='x')"
   ]
  },
  {
   "cell_type": "markdown",
   "metadata": {},
   "source": [
    "#### 09 - KMeans to visualize clusters in the PCA scatter plot"
   ]
  },
  {
   "cell_type": "code",
   "execution_count": 110,
   "metadata": {},
   "outputs": [
    {
     "data": {
      "text/plain": [
       "<matplotlib.collections.PathCollection at 0x2d6df736680>"
      ]
     },
     "execution_count": 110,
     "metadata": {},
     "output_type": "execute_result"
    },
    {
     "data": {
      "image/png": "[encoded data removed]",
      "text/plain": [
       "<Figure size 432x288 with 1 Axes>"
      ]
     },
     "metadata": {},
     "output_type": "display_data"
    }
   ],
   "source": [
    "km = KMeans(n_clusters=3, random_state=0)\n",
    "km.fit(X_transformed)\n",
    "plt.scatter(X_pca[:,:1], X_pca[:,1:2], c=km.labels_)"
   ]
  },
  {
   "cell_type": "code",
   "execution_count": 111,
   "metadata": {},
   "outputs": [
    {
     "data": {
      "text/plain": [
       "<matplotlib.collections.PathCollection at 0x2d6df7a2050>"
      ]
     },
     "execution_count": 111,
     "metadata": {},
     "output_type": "execute_result"
    },
    {
     "data": {
      "image/png": "[encoded data removed]",
      "text/plain": [
       "<Figure size 432x288 with 1 Axes>"
      ]
     },
     "metadata": {},
     "output_type": "display_data"
    }
   ],
   "source": [
    "km = KMeans(n_clusters=3, random_state=0)\n",
    "km.fit(X_pca)\n",
    "plt.scatter(X_pca[:,:1], X_pca[:,1:2], c=km.labels_)"
   ]
  },
  {
   "cell_type": "markdown",
   "metadata": {},
   "source": [
    "#### 10 - Visualize the feature differences between the clusters"
   ]
  },
  {
   "cell_type": "code",
   "execution_count": 112,
   "metadata": {},
   "outputs": [
    {
     "data": {
      "text/plain": [
       "<AxesSubplot:xlabel='percent', ylabel='measurement'>"
      ]
     },
     "execution_count": 112,
     "metadata": {},
     "output_type": "execute_result"
    },
    {
     "data": {
      "image/png": "[encoded data removed]",
      "text/plain": [
       "<Figure size 432x288 with 1 Axes>"
      ]
     },
     "metadata": {},
     "output_type": "display_data"
    }
   ],
   "source": [
    "# Create a new column with the labels from the KMeans clustering\n",
    "racc['cluster'] = km.labels_\n",
    "\n",
    "melt_car = pd.melt(racc, id_vars='cluster', var_name='measurement', value_name='percent', value_vars=['perc_fatl_speed', 'perc_fatl_alcohol', 'perc_fatl_1st_time'])\n",
    "\n",
    "sns.violinplot(y='measurement', x='percent', data=melt_car, hue='cluster')"
   ]
  },
  {
   "cell_type": "markdown",
   "metadata": {},
   "source": [
    "#### 11 - Compute the number of accidents within each cluster"
   ]
  },
  {
   "cell_type": "code",
   "execution_count": 116,
   "metadata": {},
   "outputs": [
    {
     "data": {
      "text/html": [
       "<div>\n",
       "<style scoped>\n",
       "    .dataframe tbody tr th:only-of-type {\n",
       "        vertical-align: middle;\n",
       "    }\n",
       "\n",
       "    .dataframe tbody tr th {\n",
       "        vertical-align: top;\n",
       "    }\n",
       "\n",
       "    .dataframe thead th {\n",
       "        text-align: right;\n",
       "    }\n",
       "</style>\n",
       "<table border=\"1\" class=\"dataframe\">\n",
       "  <thead>\n",
       "    <tr style=\"text-align: right;\">\n",
       "      <th></th>\n",
       "      <th>count</th>\n",
       "      <th>mean</th>\n",
       "      <th>sum</th>\n",
       "    </tr>\n",
       "    <tr>\n",
       "      <th>cluster</th>\n",
       "      <th></th>\n",
       "      <th></th>\n",
       "      <th></th>\n",
       "    </tr>\n",
       "  </thead>\n",
       "  <tbody>\n",
       "    <tr>\n",
       "      <th>0</th>\n",
       "      <td>22</td>\n",
       "      <td>898.378595</td>\n",
       "      <td>19764.3291</td>\n",
       "    </tr>\n",
       "    <tr>\n",
       "      <th>1</th>\n",
       "      <td>18</td>\n",
       "      <td>911.406439</td>\n",
       "      <td>16405.3159</td>\n",
       "    </tr>\n",
       "    <tr>\n",
       "      <th>2</th>\n",
       "      <td>11</td>\n",
       "      <td>860.505945</td>\n",
       "      <td>9465.5654</td>\n",
       "    </tr>\n",
       "  </tbody>\n",
       "</table>\n",
       "</div>"
      ],
      "text/plain": [
       "         count        mean         sum\n",
       "cluster                               \n",
       "0           22  898.378595  19764.3291\n",
       "1           18  911.406439  16405.3159\n",
       "2           11  860.505945   9465.5654"
      ]
     },
     "execution_count": 116,
     "metadata": {},
     "output_type": "execute_result"
    },
    {
     "data": {
      "image/png": "[encoded data removed]",
      "text/plain": [
       "<Figure size 432x288 with 1 Axes>"
      ]
     },
     "metadata": {},
     "output_type": "display_data"
    }
   ],
   "source": [
    "df = pd.merge(racc,mdriv,on='state')\n",
    "\n",
    "df['num_drvr_fatl'] = df['million_miles_annually']*df['drvr_fatl_col_bmiles']/1000\n",
    "\n",
    "sns.barplot(x='cluster', y='num_drvr_fatl', data=df, estimator=sum, ci=None)\n",
    "\n",
    "count_mean_sum = df.groupby('cluster')['num_drvr_fatl'].agg(['count', 'mean', 'sum'])\n",
    "count_mean_sum"
   ]
  },
  {
   "cell_type": "markdown",
   "metadata": {},
   "source": [
    "#### 12 - Make a decision when there is no clear right choice"
   ]
  },
  {
   "cell_type": "code",
   "execution_count": 117,
   "metadata": {},
   "outputs": [],
   "source": [
    "Cluster_Num = 1"
   ]
  },
  {
   "cell_type": "code",
   "execution_count": null,
   "metadata": {},
   "outputs": [],
   "source": []
  }
 ],
 "metadata": {
  "kernelspec": {
   "display_name": "Python 3.10.2 64-bit",
   "language": "python",
   "name": "python3"
  },
  "language_info": {
   "codemirror_mode": {
    "name": "ipython",
    "version": 3
   },
   "file_extension": ".py",
   "mimetype": "text/x-python",
   "name": "python",
   "nbconvert_exporter": "python",
   "pygments_lexer": "ipython3",
   "version": "3.10.2"
  },
  "orig_nbformat": 4,
  "vscode": {
   "interpreter": {
    "hash": "416e4601d38e73635d7cefa7603c45fcb7690577b48306a74ea9fddc760483eb"
   }
  }
 },
 "nbformat": 4,
 "nbformat_minor": 2
}
