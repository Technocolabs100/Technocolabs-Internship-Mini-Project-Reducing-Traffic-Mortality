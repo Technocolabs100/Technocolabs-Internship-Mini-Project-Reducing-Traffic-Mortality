{
 "cells": [
  {
   "cell_type": "markdown",
   "metadata": {},
   "source": [
    "# Reducing Traffic Mortality\n",
    "### Project Description\n",
    "While the rate of fatal road accidents has been decreasing steadily since the 80s, the past ten years have seen a stagnation in this reduction. Coupled with the increase in number of miles driven in the nation, the total number of traffic related-fatalities has now reached a ten year high and is rapidly increasing. By looking at the demographics of traﬃc accident victims for each US state, we find that there is a lot of variation between states. Now we want to understand if there are patterns in this variation in order to derive suggestions for a policy action plan. In particular, instead of implementing a costly nation-wide plan we want to focus on groups of states with similar profiles. How can we find such groups in a statistically sound way and communicate the result effectively?"
   ]
  },
  {
   "cell_type": "markdown",
   "metadata": {},
   "source": [
    "### Project Tasks\n",
    "- [x] The raw data files and their format\n",
    "- [x] Read in and get an overview of the data\n",
    "- [x] Create a textual and a graphical summary of the data\n",
    "- [x] Quantify the association of features and accidents\n",
    "- [x] Fit a multivariate linear regression\n",
    "- [x] Perform PCA on standardized data\n",
    "- [ ] Visualize the first two principal components\n",
    "- [ ] Find clusters of similar states in the data\n",
    "- [ ] KMeans to visualize clusters in the PCA scatter plot\n",
    "- [ ] Visualize the feature differences between the clusters\n",
    "- [ ] Compute the number of accidents within each cluster\n",
    "- [ ] Make a decision when there is no clear right choice"
   ]
  },
  {
   "cell_type": "markdown",
   "metadata": {},
   "source": [
    "### [x] The raw data files and their format"
   ]
  },
  {
   "cell_type": "code",
   "execution_count": 1,
   "metadata": {},
   "outputs": [],
   "source": [
    "import pandas as pd\n",
    "import matplotlib.pyplot as plt\n",
    "import seaborn as sns"
   ]
  },
  {
   "cell_type": "code",
   "execution_count": 2,
   "metadata": {},
   "outputs": [],
   "source": [
    "miles = pd.read_csv('miles-driven.csv')\n",
    "accidents = pd.read_csv('road-accidents.csv')"
   ]
  },
  {
   "cell_type": "code",
   "execution_count": null,
   "metadata": {},
   "outputs": [],
   "source": [
    "miles.head()"
   ]
  },
  {
   "cell_type": "code",
   "execution_count": null,
   "metadata": {},
   "outputs": [],
   "source": [
    "accidents.head(10)"
   ]
  },
  {
   "cell_type": "markdown",
   "metadata": {},
   "source": [
    "Both files are not in currect format, and accidents file has some description of the data which we can be placed in another file to smoother our analysis."
   ]
  },
  {
   "cell_type": "markdown",
   "metadata": {},
   "source": [
    "Currecting the files forma"
   ]
  },
  {
   "cell_type": "code",
   "execution_count": 30,
   "metadata": {},
   "outputs": [],
   "source": [
    "new_accidents = pd.read_csv(\"road-accidents copy.csv\", delimiter='|')\n",
    "new_miles = pd.read_csv('miles-driven.csv', delimiter='|')"
   ]
  },
  {
   "cell_type": "markdown",
   "metadata": {},
   "source": [
    "Preview of the data"
   ]
  },
  {
   "cell_type": "code",
   "execution_count": null,
   "metadata": {},
   "outputs": [],
   "source": [
    "new_accidents.head()"
   ]
  },
  {
   "cell_type": "code",
   "execution_count": null,
   "metadata": {},
   "outputs": [],
   "source": [
    "new_miles.head()"
   ]
  },
  {
   "cell_type": "markdown",
   "metadata": {},
   "source": [
    "Data is loaded in the currect formate so lets gets the overview of the data."
   ]
  },
  {
   "cell_type": "markdown",
   "metadata": {},
   "source": [
    "### [x] Read in and get an overview of the data"
   ]
  },
  {
   "cell_type": "code",
   "execution_count": null,
   "metadata": {},
   "outputs": [],
   "source": [
    "round(new_accidents.describe())"
   ]
  },
  {
   "cell_type": "code",
   "execution_count": null,
   "metadata": {},
   "outputs": [],
   "source": [
    "new_accidents.info()"
   ]
  },
  {
   "cell_type": "code",
   "execution_count": null,
   "metadata": {},
   "outputs": [],
   "source": [
    "new_accidents.isnull().sum()"
   ]
  },
  {
   "cell_type": "code",
   "execution_count": null,
   "metadata": {},
   "outputs": [],
   "source": [
    "new_accidents.duplicated().sum()"
   ]
  },
  {
   "cell_type": "code",
   "execution_count": null,
   "metadata": {},
   "outputs": [],
   "source": [
    "round(new_miles.describe())"
   ]
  },
  {
   "cell_type": "code",
   "execution_count": null,
   "metadata": {},
   "outputs": [],
   "source": [
    "new_miles.info()"
   ]
  },
  {
   "cell_type": "code",
   "execution_count": null,
   "metadata": {},
   "outputs": [],
   "source": [
    "new_miles.isnull().sum()"
   ]
  },
  {
   "cell_type": "code",
   "execution_count": null,
   "metadata": {},
   "outputs": [],
   "source": [
    "new_miles.duplicated().sum()"
   ]
  },
  {
   "cell_type": "markdown",
   "metadata": {},
   "source": [
    "new_miles dataset has no null and duplicates values. also there is no need of changing the datatypes."
   ]
  },
  {
   "cell_type": "markdown",
   "metadata": {},
   "source": [
    "#### Joining the dataset with state"
   ]
  },
  {
   "cell_type": "markdown",
   "metadata": {},
   "source": [
    "Both dataset has the same rows 51 and they both have same state column which can be used as key to join the both datasets."
   ]
  },
  {
   "cell_type": "code",
   "execution_count": 5,
   "metadata": {},
   "outputs": [
    {
     "data": {
      "text/html": [
       "<div>\n",
       "<style scoped>\n",
       "    .dataframe tbody tr th:only-of-type {\n",
       "        vertical-align: middle;\n",
       "    }\n",
       "\n",
       "    .dataframe tbody tr th {\n",
       "        vertical-align: top;\n",
       "    }\n",
       "\n",
       "    .dataframe thead th {\n",
       "        text-align: right;\n",
       "    }\n",
       "</style>\n",
       "<table border=\"1\" class=\"dataframe\">\n",
       "  <thead>\n",
       "    <tr style=\"text-align: right;\">\n",
       "      <th></th>\n",
       "      <th>state</th>\n",
       "      <th>drvr_fatl_col_bmiles</th>\n",
       "      <th>perc_fatl_speed</th>\n",
       "      <th>perc_fatl_alcohol</th>\n",
       "      <th>perc_fatl_1st_time</th>\n",
       "      <th>million_miles_annually</th>\n",
       "    </tr>\n",
       "  </thead>\n",
       "  <tbody>\n",
       "    <tr>\n",
       "      <th>0</th>\n",
       "      <td>Alabama</td>\n",
       "      <td>18.8</td>\n",
       "      <td>39</td>\n",
       "      <td>30</td>\n",
       "      <td>80</td>\n",
       "      <td>64914</td>\n",
       "    </tr>\n",
       "    <tr>\n",
       "      <th>1</th>\n",
       "      <td>Alaska</td>\n",
       "      <td>18.1</td>\n",
       "      <td>41</td>\n",
       "      <td>25</td>\n",
       "      <td>94</td>\n",
       "      <td>4593</td>\n",
       "    </tr>\n",
       "    <tr>\n",
       "      <th>2</th>\n",
       "      <td>Arizona</td>\n",
       "      <td>18.6</td>\n",
       "      <td>35</td>\n",
       "      <td>28</td>\n",
       "      <td>96</td>\n",
       "      <td>59575</td>\n",
       "    </tr>\n",
       "    <tr>\n",
       "      <th>3</th>\n",
       "      <td>Arkansas</td>\n",
       "      <td>22.4</td>\n",
       "      <td>18</td>\n",
       "      <td>26</td>\n",
       "      <td>95</td>\n",
       "      <td>32953</td>\n",
       "    </tr>\n",
       "    <tr>\n",
       "      <th>4</th>\n",
       "      <td>California</td>\n",
       "      <td>12.0</td>\n",
       "      <td>35</td>\n",
       "      <td>28</td>\n",
       "      <td>89</td>\n",
       "      <td>320784</td>\n",
       "    </tr>\n",
       "  </tbody>\n",
       "</table>\n",
       "</div>"
      ],
      "text/plain": [
       "        state  drvr_fatl_col_bmiles  perc_fatl_speed  perc_fatl_alcohol  \\\n",
       "0     Alabama                  18.8               39                 30   \n",
       "1      Alaska                  18.1               41                 25   \n",
       "2     Arizona                  18.6               35                 28   \n",
       "3    Arkansas                  22.4               18                 26   \n",
       "4  California                  12.0               35                 28   \n",
       "\n",
       "   perc_fatl_1st_time  million_miles_annually  \n",
       "0                  80                   64914  \n",
       "1                  94                    4593  \n",
       "2                  96                   59575  \n",
       "3                  95                   32953  \n",
       "4                  89                  320784  "
      ]
     },
     "execution_count": 5,
     "metadata": {},
     "output_type": "execute_result"
    }
   ],
   "source": [
    "joined_data = new_accidents.merge(new_miles, how='inner', on='state')\n",
    "joined_data.head()"
   ]
  },
  {
   "cell_type": "markdown",
   "metadata": {},
   "source": [
    "Checking if data is merged currectly or not"
   ]
  },
  {
   "cell_type": "code",
   "execution_count": null,
   "metadata": {},
   "outputs": [],
   "source": [
    "round(joined_data.describe())"
   ]
  },
  {
   "cell_type": "code",
   "execution_count": null,
   "metadata": {},
   "outputs": [],
   "source": [
    "joined_data.info()"
   ]
  },
  {
   "cell_type": "code",
   "execution_count": null,
   "metadata": {},
   "outputs": [],
   "source": [
    "joined_data.duplicated().sum()"
   ]
  },
  {
   "cell_type": "markdown",
   "metadata": {},
   "source": [
    "Dataset is clean and ready for further process."
   ]
  },
  {
   "cell_type": "code",
   "execution_count": 6,
   "metadata": {},
   "outputs": [
    {
     "data": {
      "text/plain": [
       "<AxesSubplot:title={'center':'Is there any Correlation between data?'}>"
      ]
     },
     "execution_count": 6,
     "metadata": {},
     "output_type": "execute_result"
    },
    {
     "data": {
      "image/png": "[encoded data removed]",
      "text/plain": [
       "<Figure size 864x432 with 2 Axes>"
      ]
     },
     "metadata": {
      "needs_background": "light"
     },
     "output_type": "display_data"
    }
   ],
   "source": [
    "plt.figure(figsize=(12,6))\n",
    "plt.xticks(rotation=45)\n",
    "plt.title('Is there any Correlation between data?')\n",
    "sns.heatmap(data=joined_data.corr(), annot=True)"
   ]
  },
  {
   "cell_type": "code",
   "execution_count": 35,
   "metadata": {},
   "outputs": [],
   "source": [
    "# pd.plotting.scatter_matrix(joined_data, alpha=0.5, figsize=(16,12))"
   ]
  },
  {
   "cell_type": "markdown",
   "metadata": {},
   "source": [
    "### [x] Quantify the association of features and accidents\n",
    "\n",
    "To quantify the pairwise relationships that we observed in the scatter plots, we can compute the Pearson correlation coefficient matrix. The Pearson correlation coefficient is one of the most common methods to quantify correlation between variables, and by convention, the following thresholds are usually used:\n",
    "\n",
    "- 0.2 = weak\n",
    "- 0.5 = medium\n",
    "- 0.8 = strong\n",
    "- 0.9 = very strong"
   ]
  },
  {
   "cell_type": "code",
   "execution_count": 7,
   "metadata": {},
   "outputs": [
    {
     "data": {
      "text/html": [
       "<div>\n",
       "<style scoped>\n",
       "    .dataframe tbody tr th:only-of-type {\n",
       "        vertical-align: middle;\n",
       "    }\n",
       "\n",
       "    .dataframe tbody tr th {\n",
       "        vertical-align: top;\n",
       "    }\n",
       "\n",
       "    .dataframe thead th {\n",
       "        text-align: right;\n",
       "    }\n",
       "</style>\n",
       "<table border=\"1\" class=\"dataframe\">\n",
       "  <thead>\n",
       "    <tr style=\"text-align: right;\">\n",
       "      <th></th>\n",
       "      <th>drvr_fatl_col_bmiles</th>\n",
       "      <th>perc_fatl_speed</th>\n",
       "      <th>perc_fatl_alcohol</th>\n",
       "      <th>perc_fatl_1st_time</th>\n",
       "      <th>million_miles_annually</th>\n",
       "    </tr>\n",
       "  </thead>\n",
       "  <tbody>\n",
       "    <tr>\n",
       "      <th>drvr_fatl_col_bmiles</th>\n",
       "      <td>1.00</td>\n",
       "      <td>-0.03</td>\n",
       "      <td>0.20</td>\n",
       "      <td>-0.02</td>\n",
       "      <td>-0.08</td>\n",
       "    </tr>\n",
       "    <tr>\n",
       "      <th>perc_fatl_speed</th>\n",
       "      <td>-0.03</td>\n",
       "      <td>1.00</td>\n",
       "      <td>0.29</td>\n",
       "      <td>0.01</td>\n",
       "      <td>-0.04</td>\n",
       "    </tr>\n",
       "    <tr>\n",
       "      <th>perc_fatl_alcohol</th>\n",
       "      <td>0.20</td>\n",
       "      <td>0.29</td>\n",
       "      <td>1.00</td>\n",
       "      <td>-0.25</td>\n",
       "      <td>-0.03</td>\n",
       "    </tr>\n",
       "    <tr>\n",
       "      <th>perc_fatl_1st_time</th>\n",
       "      <td>-0.02</td>\n",
       "      <td>0.01</td>\n",
       "      <td>-0.25</td>\n",
       "      <td>1.00</td>\n",
       "      <td>-0.13</td>\n",
       "    </tr>\n",
       "    <tr>\n",
       "      <th>million_miles_annually</th>\n",
       "      <td>-0.08</td>\n",
       "      <td>-0.04</td>\n",
       "      <td>-0.03</td>\n",
       "      <td>-0.13</td>\n",
       "      <td>1.00</td>\n",
       "    </tr>\n",
       "  </tbody>\n",
       "</table>\n",
       "</div>"
      ],
      "text/plain": [
       "                        drvr_fatl_col_bmiles  perc_fatl_speed  \\\n",
       "drvr_fatl_col_bmiles                    1.00            -0.03   \n",
       "perc_fatl_speed                        -0.03             1.00   \n",
       "perc_fatl_alcohol                       0.20             0.29   \n",
       "perc_fatl_1st_time                     -0.02             0.01   \n",
       "million_miles_annually                 -0.08            -0.04   \n",
       "\n",
       "                        perc_fatl_alcohol  perc_fatl_1st_time  \\\n",
       "drvr_fatl_col_bmiles                 0.20               -0.02   \n",
       "perc_fatl_speed                      0.29                0.01   \n",
       "perc_fatl_alcohol                    1.00               -0.25   \n",
       "perc_fatl_1st_time                  -0.25                1.00   \n",
       "million_miles_annually              -0.03               -0.13   \n",
       "\n",
       "                        million_miles_annually  \n",
       "drvr_fatl_col_bmiles                     -0.08  \n",
       "perc_fatl_speed                          -0.04  \n",
       "perc_fatl_alcohol                        -0.03  \n",
       "perc_fatl_1st_time                       -0.13  \n",
       "million_miles_annually                    1.00  "
      ]
     },
     "execution_count": 7,
     "metadata": {},
     "output_type": "execute_result"
    }
   ],
   "source": [
    "round(joined_data.corr(method='pearson'),2)"
   ]
  },
  {
   "cell_type": "markdown",
   "metadata": {},
   "source": [
    "we can see above that there is strong pairwise correlation between columns. however we can see weak pairwise correlation between\n",
    "\n",
    "- perc_fatl_alcohol and perc_fatl_speed (0.29)\n",
    "- perc_fatl_alcohol and drvr_fatl_col_bmiles (0.20)\n",
    "- perc_fatl_alcohol and perc_fatl_1st_time (-0.25)"
   ]
  },
  {
   "cell_type": "markdown",
   "metadata": {},
   "source": [
    "### [x] Fit a multivariate linear regression"
   ]
  },
  {
   "cell_type": "markdown",
   "metadata": {},
   "source": [
    "load the required libraries for the modeling\n",
    "\n",
    "correlation vs regression: 'https://www.statology.org/correlation-vs-regression/'"
   ]
  },
  {
   "cell_type": "code",
   "execution_count": 36,
   "metadata": {},
   "outputs": [],
   "source": [
    "from sklearn.linear_model import LinearRegression\n",
    "from sklearn.model_selection import train_test_split\n",
    "from sklearn.preprocessing import StandardScaler\n",
    "from sklearn.metrics import mean_absolute_error"
   ]
  },
  {
   "cell_type": "code",
   "execution_count": 20,
   "metadata": {},
   "outputs": [],
   "source": [
    "fetures = ['perc_fatl_speed', 'perc_fatl_alcohol','perc_fatl_1st_time']\n",
    "X = new_accidents[fetures]\n",
    "y = new_accidents.drvr_fatl_col_bmiles"
   ]
  },
  {
   "cell_type": "markdown",
   "metadata": {},
   "source": [
    "#### standardizing the data"
   ]
  },
  {
   "cell_type": "code",
   "execution_count": 22,
   "metadata": {},
   "outputs": [
    {
     "data": {
      "text/plain": [
       "array([[ 0.76264511, -0.1350496 , -1.26611685],\n",
       "       [ 0.97232113, -1.1189824 ,  0.76536053],\n",
       "       [ 0.34329308, -0.52862272,  1.05557158],\n",
       "       [-1.43895304, -0.92219584,  0.91046605],\n",
       "       [ 0.34329308, -0.52862272,  0.03983289],\n",
       "       [ 0.5529691 , -0.52862272,  0.91046605],\n",
       "       [ 1.49651116,  1.04566976, -0.9759058 ],\n",
       "       [ 0.6578071 , -0.1350496 ,  1.49088816],\n",
       "       [ 0.23845508, -0.72540928,  1.63599369],\n",
       "       [-1.12443902, -0.33183616,  0.76536053],\n",
       "       [-1.33411503, -1.1189824 ,  0.620255  ],\n",
       "       [ 2.33521522,  2.02960256, -0.25037816],\n",
       "       [ 0.44813109, -0.33183616,  1.34578263],\n",
       "       [ 0.44813109,  0.65209664,  1.05557158],\n",
       "       [-0.70508699, -0.33183616,  0.91046605],\n",
       "       [-1.54379105, -1.1189824 , -0.25037816],\n",
       "       [-0.49541097, -1.31576896, -0.54058922],\n",
       "       [-1.33411503, -1.51255552, -1.84653896],\n",
       "       [ 0.34329308,  0.45531008,  1.34578263],\n",
       "       [ 0.6578071 , -0.1350496 , -0.68569475],\n",
       "       [ 0.23845508,  0.25852352,  1.49088816],\n",
       "       [-0.914763  ,  0.8488832 , -1.26611685],\n",
       "       [-0.809925  , -0.52862272, -1.70143344],\n",
       "       [-0.914763  , -0.33183616, -0.10527264],\n",
       "       [-1.75346706,  0.06173696,  1.63599369],\n",
       "       [ 1.18199714,  0.65209664, -0.68569475],\n",
       "       [ 0.76264511,  2.61996224, -0.54058922],\n",
       "       [-1.96314307,  0.8488832 ,  0.18493842],\n",
       "       [ 0.5529691 ,  0.25852352,  1.49088816],\n",
       "       [ 0.34329308, -0.1350496 , -0.83080027],\n",
       "       [-1.64862905, -0.52862272, -1.55632791],\n",
       "       [-1.33411503, -0.72540928,  1.34578263],\n",
       "       [ 0.02877906, -0.33183616, -1.26611685],\n",
       "       [ 0.76264511,  0.06173696, -1.12101133],\n",
       "       [-0.914763  ,  2.22638912, -0.39548369],\n",
       "       [-0.39057297,  0.65209664, -0.9759058 ],\n",
       "       [ 0.02877906, -0.33183616,  0.76536053],\n",
       "       [ 0.13361707, -0.92219584,  0.18493842],\n",
       "       [ 1.91586319,  0.06173696, -0.10527264],\n",
       "       [ 0.23845508,  1.43924288, -1.41122238],\n",
       "       [ 0.6578071 ,  2.02960256, -1.12101133],\n",
       "       [-0.07605895,  0.45531008, -0.39548369],\n",
       "       [-1.12443902, -0.33183616, -1.12101133],\n",
       "       [ 0.86748312,  1.43924288, -0.25037816],\n",
       "       [ 1.18199714, -2.89006144,  1.05557158],\n",
       "       [-0.18089695, -0.1350496 ,  0.91046605],\n",
       "       [-1.33411503, -0.72540928, -0.10527264],\n",
       "       [ 1.07715913,  0.45531008, -0.39548369],\n",
       "       [ 0.23845508, -0.52862272, -0.25037816],\n",
       "       [ 0.44813109,  0.45531008, -0.68569475],\n",
       "       [ 1.07715913,  0.25852352,  0.18493842]])"
      ]
     },
     "execution_count": 22,
     "metadata": {},
     "output_type": "execute_result"
    }
   ],
   "source": [
    "scaler = StandardScaler()\n",
    "x_scaled = scaler.fit_transform(X) \n",
    "x_scaled"
   ]
  },
  {
   "cell_type": "code",
   "execution_count": 37,
   "metadata": {},
   "outputs": [
    {
     "data": {
      "text/plain": [
       "0.0011408940758728114"
      ]
     },
     "execution_count": 37,
     "metadata": {},
     "output_type": "execute_result"
    }
   ],
   "source": [
    "X_train, X_test, y_train, y_test = train_test_split(x_scaled,y, test_size=.2, random_state=1)\n",
    "model = LinearRegression()\n",
    "model.fit(X_train, y_train)\n",
    "model.score(X_test, y_test)"
   ]
  },
  {
   "cell_type": "code",
   "execution_count": 24,
   "metadata": {},
   "outputs": [
    {
     "data": {
      "text/plain": [
       "(51, 3)"
      ]
     },
     "execution_count": 24,
     "metadata": {},
     "output_type": "execute_result"
    }
   ],
   "source": [
    "X.shape"
   ]
  },
  {
   "cell_type": "code",
   "execution_count": 39,
   "metadata": {},
   "outputs": [
    {
     "data": {
      "text/plain": [
       "array([16.50749146, 14.864296  , 16.14174517, 17.39340849, 15.87918824,\n",
       "       12.83162505, 16.88286131, 15.35333654, 16.04435668, 17.31506876,\n",
       "       15.56782166])"
      ]
     },
     "execution_count": 39,
     "metadata": {},
     "output_type": "execute_result"
    }
   ],
   "source": [
    "pred = model.predict(X_test)\n",
    "pred"
   ]
  },
  {
   "cell_type": "code",
   "execution_count": 40,
   "metadata": {},
   "outputs": [
    {
     "data": {
      "text/plain": [
       "3.242281590226291"
      ]
     },
     "execution_count": 40,
     "metadata": {},
     "output_type": "execute_result"
    }
   ],
   "source": [
    "mean_absolute_error(y_test,pred)"
   ]
  },
  {
   "cell_type": "markdown",
   "metadata": {},
   "source": [
    "### [x] Perform PCA on standardized data"
   ]
  },
  {
   "cell_type": "markdown",
   "metadata": {},
   "source": [
    "We have learned that alcohol consumption is weakly associated with the number of fatal accidents across states. This could lead us to conclude that alcohol consumption should be a focus for further investigations and maybe strategies should divide states into high versus low alcohol consumption in accidents. But there are also associations between alcohol consumptions and the other two features, so it might be worth trying to split the states in a way that accounts for all three features."
   ]
  },
  {
   "cell_type": "code",
   "execution_count": 25,
   "metadata": {},
   "outputs": [
    {
     "data": {
      "text/plain": [
       "(51, 3)"
      ]
     },
     "execution_count": 25,
     "metadata": {},
     "output_type": "execute_result"
    }
   ],
   "source": [
    "from sklearn.decomposition import PCA\n",
    "\n",
    "pca = PCA(0.95)# retain 95% of usefull features and create dimentions\n",
    "\n",
    "x_pca = pca.fit_transform(X)\n",
    "x_pca.shape"
   ]
  },
  {
   "cell_type": "code",
   "execution_count": 26,
   "metadata": {},
   "outputs": [
    {
     "data": {
      "text/plain": [
       "array([[  7.1411757 ,  -7.55229146,   4.63574677],\n",
       "       [  7.83817655,   7.4086459 ,   5.46311796],\n",
       "       [  2.53316505,   7.97326   ,   0.93122389],\n",
       "       [-14.49958192,   6.28291258,  -0.08280585],\n",
       "       [  2.6587585 ,   1.30028368,   3.04205628],\n",
       "       [  4.50952989,   7.17537755,   1.607512  ],\n",
       "       [ 15.17205428,  -6.85332902,  -0.26491041],\n",
       "       [  5.82106773,  10.48237288,  -1.28102576],\n",
       "       [  1.28013887,  12.00060635,   0.4725227 ],\n",
       "       [-10.93786452,   4.68697917,  -2.02372463],\n",
       "       [-13.68653365,   4.74596483,   1.6425185 ],\n",
       "       [ 23.92627152,  -2.92490267,  -4.94798065],\n",
       "       [  3.6785397 ,   9.66560763,  -0.41935983],\n",
       "       [  4.72465871,   6.29945812,  -4.49056021],\n",
       "       [ -7.0389606 ,   5.95106127,  -1.57579085],\n",
       "       [-15.53730504,  -1.12912903,   3.07706278],\n",
       "       [ -5.91135363,  -1.9667773 ,   6.48871997],\n",
       "       [-13.78561506, -10.87600085,   8.63854388],\n",
       "       [  3.50751637,   8.42023981,  -4.34616643],\n",
       "       [  6.09019655,  -3.81686208,   3.24218651],\n",
       "       [  2.30831596,   9.58773917,  -3.90022516],\n",
       "       [ -7.5159725 , -10.25507539,  -3.03647363],\n",
       "       [ -7.89726451, -10.99380365,   4.59955263],\n",
       "       [ -8.87179007,  -0.87731493,   0.16030091],\n",
       "       [-16.51669074,   9.35663956,  -6.82694957],\n",
       "       [ 11.79444199,  -4.59603025,   0.43960181],\n",
       "       [  9.88012456,  -6.87271738,  -9.96001762],\n",
       "       [-17.48750632,  -1.49925151,  -7.92565163],\n",
       "       [  5.24595034,   9.820839  ,  -3.33811421],\n",
       "       [  3.17050409,  -5.00324424,   2.98162305],\n",
       "       [-15.74889811, -10.66212086,   2.79904262],\n",
       "       [-13.37214919,   8.92854255,  -1.73493706],\n",
       "       [  0.08464844,  -7.80427409,   4.25901363],\n",
       "       [  7.32528081,  -6.8909261 ,   3.39934021],\n",
       "       [ -6.2092948 ,  -6.57880019, -11.38977202],\n",
       "       [ -2.85784608,  -7.66809405,  -1.76785795],\n",
       "       [ -0.16653846,   5.54167854,   0.03734884],\n",
       "       [  0.27829959,   2.68200007,   4.2354863 ],\n",
       "       [ 17.97101342,   0.63674958,   3.34958129],\n",
       "       [  3.87943658, -11.22940926,  -3.47842988],\n",
       "       [  8.36653968,  -9.88779574,  -6.13662079],\n",
       "       [ -0.19402641,  -3.32994793,  -1.47707787],\n",
       "       [-10.70461954,  -7.70569113,   1.89639267],\n",
       "       [  9.61116997,  -3.13695096,  -4.76658786],\n",
       "       [  7.94229233,  12.09786317,  13.64849524],\n",
       "       [ -1.94085626,   6.04764402,  -1.57379834],\n",
       "       [-13.19272998,  -0.60428076,   1.28053779],\n",
       "       [ 10.57729965,  -2.47524856,   0.5839956 ],\n",
       "       [  1.71543088,  -0.68398092,   3.45778094],\n",
       "       [  4.73791473,  -4.84801287,   0.06286868],\n",
       "       [ 10.30348493,   1.62979773,   0.31266473]])"
      ]
     },
     "execution_count": 26,
     "metadata": {},
     "output_type": "execute_result"
    }
   ],
   "source": [
    "x_pca"
   ]
  },
  {
   "cell_type": "code",
   "execution_count": 27,
   "metadata": {},
   "outputs": [
    {
     "data": {
      "text/plain": [
       "array([0.57108607, 0.30554439, 0.12336955])"
      ]
     },
     "execution_count": 27,
     "metadata": {},
     "output_type": "execute_result"
    }
   ],
   "source": [
    "pca.explained_variance_ratio_"
   ]
  },
  {
   "cell_type": "code",
   "execution_count": 28,
   "metadata": {},
   "outputs": [
    {
     "data": {
      "text/plain": [
       "3"
      ]
     },
     "execution_count": 28,
     "metadata": {},
     "output_type": "execute_result"
    }
   ],
   "source": [
    "pca.n_components_"
   ]
  },
  {
   "cell_type": "code",
   "execution_count": 29,
   "metadata": {},
   "outputs": [
    {
     "data": {
      "text/plain": [
       "0.0011408940758746988"
      ]
     },
     "execution_count": 29,
     "metadata": {},
     "output_type": "execute_result"
    }
   ],
   "source": [
    "X_train_pca, X_test_pca, y_train, y_test = train_test_split(x_pca, y, test_size=0.2, random_state=1)\n",
    "model1 = LinearRegression()\n",
    "model1.fit(X_train_pca, y_train)\n",
    "model1.score(X_test_pca, y_test)"
   ]
  },
  {
   "cell_type": "markdown",
   "metadata": {},
   "source": [
    "### Lets see Top 10 State with high and low alcohol cunsumption rate."
   ]
  },
  {
   "cell_type": "code",
   "execution_count": 31,
   "metadata": {},
   "outputs": [
    {
     "data": {
      "text/html": [
       "<div>\n",
       "<style scoped>\n",
       "    .dataframe tbody tr th:only-of-type {\n",
       "        vertical-align: middle;\n",
       "    }\n",
       "\n",
       "    .dataframe tbody tr th {\n",
       "        vertical-align: top;\n",
       "    }\n",
       "\n",
       "    .dataframe thead th {\n",
       "        text-align: right;\n",
       "    }\n",
       "</style>\n",
       "<table border=\"1\" class=\"dataframe\">\n",
       "  <thead>\n",
       "    <tr style=\"text-align: right;\">\n",
       "      <th></th>\n",
       "      <th>state</th>\n",
       "      <th>perc_fatl_alcohol</th>\n",
       "    </tr>\n",
       "  </thead>\n",
       "  <tbody>\n",
       "    <tr>\n",
       "      <th>26</th>\n",
       "      <td>Montana</td>\n",
       "      <td>44</td>\n",
       "    </tr>\n",
       "    <tr>\n",
       "      <th>34</th>\n",
       "      <td>North Dakota</td>\n",
       "      <td>42</td>\n",
       "    </tr>\n",
       "    <tr>\n",
       "      <th>11</th>\n",
       "      <td>Hawaii</td>\n",
       "      <td>41</td>\n",
       "    </tr>\n",
       "    <tr>\n",
       "      <th>40</th>\n",
       "      <td>South Carolina</td>\n",
       "      <td>41</td>\n",
       "    </tr>\n",
       "    <tr>\n",
       "      <th>43</th>\n",
       "      <td>Texas</td>\n",
       "      <td>38</td>\n",
       "    </tr>\n",
       "  </tbody>\n",
       "</table>\n",
       "</div>"
      ],
      "text/plain": [
       "             state  perc_fatl_alcohol\n",
       "26         Montana                 44\n",
       "34    North Dakota                 42\n",
       "11          Hawaii                 41\n",
       "40  South Carolina                 41\n",
       "43           Texas                 38"
      ]
     },
     "execution_count": 31,
     "metadata": {},
     "output_type": "execute_result"
    }
   ],
   "source": [
    "alcohol_states_high = joined_data[['state','perc_fatl_alcohol']].sort_values('perc_fatl_alcohol', ascending=False).groupby('state').head()\n",
    "alcohol_states_high.head()"
   ]
  },
  {
   "cell_type": "code",
   "execution_count": 32,
   "metadata": {},
   "outputs": [
    {
     "data": {
      "text/plain": [
       "<AxesSubplot:title={'center':'Top 10 states where alcohol consumption is high'}, xlabel='state', ylabel='perc_fatl_alcohol'>"
      ]
     },
     "execution_count": 32,
     "metadata": {},
     "output_type": "execute_result"
    },
    {
     "data": {
      "image/png": "[encoded data removed]",
      "text/plain": [
       "<Figure size 864x432 with 1 Axes>"
      ]
     },
     "metadata": {
      "needs_background": "light"
     },
     "output_type": "display_data"
    }
   ],
   "source": [
    "plt.figure(figsize=(12,6))\n",
    "plt.xticks(rotation=45)\n",
    "plt.title('Top 10 states where alcohol consumption is high')\n",
    "sns.barplot(x='state', y='perc_fatl_alcohol', data=alcohol_states_high.head(10))"
   ]
  },
  {
   "cell_type": "code",
   "execution_count": 34,
   "metadata": {},
   "outputs": [
    {
     "data": {
      "text/plain": [
       "<AxesSubplot:title={'center':'Top 10 states where alcohol consumption is low'}, xlabel='state', ylabel='perc_fatl_alcohol'>"
      ]
     },
     "execution_count": 34,
     "metadata": {},
     "output_type": "execute_result"
    },
    {
     "data": {
      "image/png": "[encoded data removed]",
      "text/plain": [
       "<Figure size 864x432 with 1 Axes>"
      ]
     },
     "metadata": {
      "needs_background": "light"
     },
     "output_type": "display_data"
    }
   ],
   "source": [
    "alcohol_states_low = joined_data[['state','perc_fatl_alcohol']].sort_values('perc_fatl_alcohol', ascending=True).groupby('state').head(10)\n",
    "plt.figure(figsize=(12,6))\n",
    "plt.xticks(rotation=45)\n",
    "plt.title('Top 10 states where alcohol consumption is low')\n",
    "sns.barplot(x='state', y='perc_fatl_alcohol', data=alcohol_states_low.head(10))"
   ]
  },
  {
   "cell_type": "code",
   "execution_count": 41,
   "metadata": {},
   "outputs": [
    {
     "data": {
      "text/plain": [
       "<AxesSubplot:xlabel='perc_fatl_alcohol', ylabel='perc_fatl_1st_time'>"
      ]
     },
     "execution_count": 41,
     "metadata": {},
     "output_type": "execute_result"
    },
    {
     "data": {
      "image/png": "[encoded data removed]",
      "text/plain": [
       "<Figure size 1080x360 with 3 Axes>"
      ]
     },
     "metadata": {
      "needs_background": "light"
     },
     "output_type": "display_data"
    }
   ],
   "source": [
    "fig, axes = plt.subplots(1, 3, figsize=(15, 5), sharey=True)\n",
    "sns.regplot(x='perc_fatl_alcohol', y='drvr_fatl_col_bmiles', ax=axes[0], data=joined_data)\n",
    "sns.regplot(x='perc_fatl_alcohol', y='perc_fatl_speed', ax=axes[1], data=joined_data)\n",
    "sns.regplot(x='perc_fatl_alcohol', y='perc_fatl_1st_time', ax=axes[2], data=joined_data)"
   ]
  },
  {
   "cell_type": "code",
   "execution_count": 44,
   "metadata": {},
   "outputs": [
    {
     "data": {
      "text/plain": [
       "Text(0, 0.5, 'pc2')"
      ]
     },
     "execution_count": 44,
     "metadata": {},
     "output_type": "execute_result"
    },
    {
     "data": {
      "image/png": "[encoded data removed]",
      "text/plain": [
       "<Figure size 720x720 with 1 Axes>"
      ]
     },
     "metadata": {
      "needs_background": "light"
     },
     "output_type": "display_data"
    }
   ],
   "source": [
    "plt.figure(figsize=(10,10))\n",
    "plt.scatter(x_pca[:,0], x_pca[:,1],c=joined_data['drvr_fatl_col_bmiles'],cmap='plasma')\n",
    "plt.xlabel('pc1')\n",
    "plt.ylabel('pc2')"
   ]
  }
 ],
 "metadata": {
  "kernelspec": {
   "display_name": "Python 3.10.5 ('minimal_ds')",
   "language": "python",
   "name": "python3"
  },
  "language_info": {
   "codemirror_mode": {
    "name": "ipython",
    "version": 3
   },
   "file_extension": ".py",
   "mimetype": "text/x-python",
   "name": "python",
   "nbconvert_exporter": "python",
   "pygments_lexer": "ipython3",
   "version": "3.10.5"
  },
  "orig_nbformat": 4,
  "vscode": {
   "interpreter": {
    "hash": "6b939c7e6ec3c1099ad698f283bbd73d8b37067c80752770296ee97f845b4c5e"
   }
  }
 },
 "nbformat": 4,
 "nbformat_minor": 2
}
