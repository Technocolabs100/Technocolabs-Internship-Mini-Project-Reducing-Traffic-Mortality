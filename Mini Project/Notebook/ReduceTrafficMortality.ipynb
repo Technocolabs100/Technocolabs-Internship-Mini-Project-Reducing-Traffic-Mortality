{
  "cells": [
    {
      "cell_type": "markdown",
      "metadata": {
        "id": "vcY7LCM1Z4bq"
      },
      "source": [
        "# Reducing Traffic Mortality"
      ]
    },
    {
      "cell_type": "markdown",
      "metadata": {
        "id": "33bXnAbbZ6br"
      },
      "source": [
        "## Project Description\n",
        "While the rate of fatal road accidents has been decreasing steadily since the 80s, the past ten years have seen a stagnation in this reduction. Coupled with the increase in number of miles driven in the nation, the total number of traffic related-fatalities has now reached a ten year high and is rapidly increasing.\n",
        "By looking at the demographics of traﬃc accident victims for each US state, we find that there is a lot of variation between states. Now we want to understand if there are patterns in this variation in order to derive suggestions for a policy action plan. In particular, instead of implementing a costly nation-wide plan we want to focus on groups of states with similar profiles. How can we find such groups in a statistically sound way and communicate the result effectively?"
      ]
    },
    {
      "cell_type": "markdown",
      "metadata": {
        "id": "ivo4DkEUZ9Z8"
      },
      "source": [
        "## Project Tasks\n",
        "1. The raw data files and their format\n",
        "2. Read in and get an overview of the data\n",
        "3. Create a textual and a graphical summary of the data\n",
        "4. Quantify the association of features and accidents\n",
        "5. Fit a multivariate linear regression\n",
        "6. Perform PCA on standardized data\n",
        "7. Visualize the first two principal components\n",
        "8. Find clusters of similar states in the data\n",
        "9. KMeans to visualize clusters in the PCA scatter plot\n",
        "10. Visualize the feature differences between the clusters\n",
        "11. Compute the number of accidents within each cluster\n",
        "12. Make a decision when there is no clear right choice"
      ]
    },
    {
      "cell_type": "markdown",
      "metadata": {
        "id": "gprR-Q0daXAH"
      },
      "source": [
        "## Task: 1 The raw data files and their format"
      ]
    },
    {
      "cell_type": "markdown",
      "metadata": {
        "id": "WgO-MZGeakIP"
      },
      "source": [
        "While the rate of fatal road accidents has been decreasing steadily since the 80s, the past ten years have seen a stagnation in this reduction. Coupled with the increase in number of miles driven in the nation, the total number of traffic related-fatalities has now reached a ten year high and is rapidly increasing.\n",
        "Per request of the US Department of Transportation, we are currently investigating how to derive a strategy to reduce the incidence of road accidents across the nation. By looking at the demographics of traﬃc accident victims for each US state, we find that there is a lot of variation between states. Now we want to understand if there are patterns in this variation in order to derive suggestions for a policy action plan. In particular, instead of implementing a costly nation-wide plan we want to focus on groups of states with similar profiles. How can we find such groups in a statistically sound way and communicate the result effectively?\n",
        "To accomplish these tasks, we will make use of data wrangling, plotting, dimensionality reduction, and unsupervised clustering.\n",
        "The data given to us was originally collected by the National Highway Traffic Safety Administration and the National Association of Insurance Commissioners."
      ]
    },
    {
      "cell_type": "markdown",
      "metadata": {
        "id": "4GrGgLg2auh-"
      },
      "source": [
        "## Task: 2 Read in and get an overview of the data"
      ]
    },
    {
      "cell_type": "markdown",
      "metadata": {
        "id": "jjbae4eZcEcR"
      },
      "source": [
        "Data exploration"
      ]
    },
    {
      "cell_type": "code",
      "execution_count": null,
      "metadata": {
        "id": "tJO57IaRbOUQ"
      },
      "outputs": [],
      "source": [
        "# Importing required modules and libraries\n",
        "import numpy as np\n",
        "import pandas as pd\n",
        "import seaborn as sns\n",
        "import matplotlib.pyplot as plt\n",
        "%matplotlib inline\n",
        "from google.colab import data_table\n",
        "data_table.enable_dataframe_formatter()"
      ]
    },
    {
      "cell_type": "code",
      "execution_count": null,
      "metadata": {
        "id": "DNYyD-1_av_5"
      },
      "outputs": [],
      "source": [
        "# Reading `road-accidents.csv` dataset file\n",
        "road_acc = pd.read_csv(\"/content/road-accidents.csv\",\n",
        "                      comment=\"#\",\n",
        "                      sep=\"|\")"
      ]
    },
    {
      "cell_type": "code",
      "execution_count": null,
      "metadata": {
        "colab": {
          "base_uri": "https://localhost:8080/"
        },
        "id": "IXEdW2rzb6wU",
        "outputId": "eeca1d7f-7e55-4505-e6bd-b7b3c6e13624"
      },
      "outputs": [
        {
          "name": "stdout",
          "output_type": "stream",
          "text": [
            "(51, 5)\n"
          ]
        }
      ],
      "source": [
        "# Number of rows and columns\n",
        "rows_and_cols = road_acc.shape\n",
        "print(rows_and_cols)"
      ]
    },
    {
      "cell_type": "code",
      "execution_count": null,
      "metadata": {
        "colab": {
          "base_uri": "https://localhost:8080/"
        },
        "id": "mi97Xasbb8ru",
        "outputId": "db27232c-009f-420e-96ef-7c99e98f697f"
      },
      "outputs": [
        {
          "name": "stdout",
          "output_type": "stream",
          "text": [
            "<class 'pandas.core.frame.DataFrame'>\n",
            "RangeIndex: 51 entries, 0 to 50\n",
            "Data columns (total 5 columns):\n",
            " #   Column                Non-Null Count  Dtype  \n",
            "---  ------                --------------  -----  \n",
            " 0   state                 51 non-null     object \n",
            " 1   drvr_fatl_col_bmiles  51 non-null     float64\n",
            " 2   perc_fatl_speed       51 non-null     int64  \n",
            " 3   perc_fatl_alcohol     51 non-null     int64  \n",
            " 4   perc_fatl_1st_time    51 non-null     int64  \n",
            "dtypes: float64(1), int64(3), object(1)\n",
            "memory usage: 2.1+ KB\n"
          ]
        }
      ],
      "source": [
        "# Road Accidents dataset information\n",
        "road_acc.info()"
      ]
    },
    {
      "cell_type": "code",
      "execution_count": null,
      "metadata": {
        "colab": {
          "base_uri": "https://localhost:8080/",
          "height": 305
        },
        "id": "8jPwMas2bKRW",
        "outputId": "17211008-862b-4222-c373-e04e19934161"
      },
      "outputs": [
        {
          "data": {
            "application/vnd.google.colaboratory.module+javascript": "\n      import \"https://ssl.gstatic.com/colaboratory/data_table/a8bd4d5e58f96183/data_table.js\";\n\n      window.createDataTable({\n        data: [[{\n            'v': 0,\n            'f': \"0\",\n        },\n\"Alabama\",\n{\n            'v': 18.8,\n            'f': \"18.8\",\n        },\n{\n            'v': 39,\n            'f': \"39\",\n        },\n{\n            'v': 30,\n            'f': \"30\",\n        },\n{\n            'v': 80,\n            'f': \"80\",\n        }],\n [{\n            'v': 1,\n            'f': \"1\",\n        },\n\"Alaska\",\n{\n            'v': 18.1,\n            'f': \"18.1\",\n        },\n{\n            'v': 41,\n            'f': \"41\",\n        },\n{\n            'v': 25,\n            'f': \"25\",\n        },\n{\n            'v': 94,\n            'f': \"94\",\n        }],\n [{\n            'v': 2,\n            'f': \"2\",\n        },\n\"Arizona\",\n{\n            'v': 18.6,\n            'f': \"18.6\",\n        },\n{\n            'v': 35,\n            'f': \"35\",\n        },\n{\n            'v': 28,\n            'f': \"28\",\n        },\n{\n            'v': 96,\n            'f': \"96\",\n        }],\n [{\n            'v': 3,\n            'f': \"3\",\n        },\n\"Arkansas\",\n{\n            'v': 22.4,\n            'f': \"22.4\",\n        },\n{\n            'v': 18,\n            'f': \"18\",\n        },\n{\n            'v': 26,\n            'f': \"26\",\n        },\n{\n            'v': 95,\n            'f': \"95\",\n        }],\n [{\n            'v': 4,\n            'f': \"4\",\n        },\n\"California\",\n{\n            'v': 12.0,\n            'f': \"12.0\",\n        },\n{\n            'v': 35,\n            'f': \"35\",\n        },\n{\n            'v': 28,\n            'f': \"28\",\n        },\n{\n            'v': 89,\n            'f': \"89\",\n        }],\n [{\n            'v': 5,\n            'f': \"5\",\n        },\n\"Colorado\",\n{\n            'v': 13.6,\n            'f': \"13.6\",\n        },\n{\n            'v': 37,\n            'f': \"37\",\n        },\n{\n            'v': 28,\n            'f': \"28\",\n        },\n{\n            'v': 95,\n            'f': \"95\",\n        }],\n [{\n            'v': 6,\n            'f': \"6\",\n        },\n\"Connecticut\",\n{\n            'v': 10.8,\n            'f': \"10.8\",\n        },\n{\n            'v': 46,\n            'f': \"46\",\n        },\n{\n            'v': 36,\n            'f': \"36\",\n        },\n{\n            'v': 82,\n            'f': \"82\",\n        }],\n [{\n            'v': 7,\n            'f': \"7\",\n        },\n\"Delaware\",\n{\n            'v': 16.2,\n            'f': \"16.2\",\n        },\n{\n            'v': 38,\n            'f': \"38\",\n        },\n{\n            'v': 30,\n            'f': \"30\",\n        },\n{\n            'v': 99,\n            'f': \"99\",\n        }],\n [{\n            'v': 8,\n            'f': \"8\",\n        },\n\"District of Columbia\",\n{\n            'v': 5.9,\n            'f': \"5.9\",\n        },\n{\n            'v': 34,\n            'f': \"34\",\n        },\n{\n            'v': 27,\n            'f': \"27\",\n        },\n{\n            'v': 100,\n            'f': \"100\",\n        }],\n [{\n            'v': 9,\n            'f': \"9\",\n        },\n\"Florida\",\n{\n            'v': 17.9,\n            'f': \"17.9\",\n        },\n{\n            'v': 21,\n            'f': \"21\",\n        },\n{\n            'v': 29,\n            'f': \"29\",\n        },\n{\n            'v': 94,\n            'f': \"94\",\n        }]],\n        columns: [[\"number\", \"index\"], [\"string\", \"state\"], [\"number\", \"drvr_fatl_col_bmiles\"], [\"number\", \"perc_fatl_speed\"], [\"number\", \"perc_fatl_alcohol\"], [\"number\", \"perc_fatl_1st_time\"]],\n        columnOptions: [{\"width\": \"1px\", \"className\": \"index_column\"}],\n        rowsPerPage: 25,\n        helpUrl: \"https://colab.research.google.com/notebooks/data_table.ipynb\",\n        suppressOutputScrolling: true,\n        minimumWidth: undefined,\n      });\n    ",
            "text/html": [
              "\n",
              "  <div id=\"df-fa37aa86-d1ff-4293-b20a-cba8f0021224\">\n",
              "    <div class=\"colab-df-container\">\n",
              "      <div>\n",
              "<style scoped>\n",
              "    .dataframe tbody tr th:only-of-type {\n",
              "        vertical-align: middle;\n",
              "    }\n",
              "\n",
              "    .dataframe tbody tr th {\n",
              "        vertical-align: top;\n",
              "    }\n",
              "\n",
              "    .dataframe thead th {\n",
              "        text-align: right;\n",
              "    }\n",
              "</style>\n",
              "<table border=\"1\" class=\"dataframe\">\n",
              "  <thead>\n",
              "    <tr style=\"text-align: right;\">\n",
              "      <th></th>\n",
              "      <th>state</th>\n",
              "      <th>drvr_fatl_col_bmiles</th>\n",
              "      <th>perc_fatl_speed</th>\n",
              "      <th>perc_fatl_alcohol</th>\n",
              "      <th>perc_fatl_1st_time</th>\n",
              "    </tr>\n",
              "  </thead>\n",
              "  <tbody>\n",
              "    <tr>\n",
              "      <th>0</th>\n",
              "      <td>Alabama</td>\n",
              "      <td>18.8</td>\n",
              "      <td>39</td>\n",
              "      <td>30</td>\n",
              "      <td>80</td>\n",
              "    </tr>\n",
              "    <tr>\n",
              "      <th>1</th>\n",
              "      <td>Alaska</td>\n",
              "      <td>18.1</td>\n",
              "      <td>41</td>\n",
              "      <td>25</td>\n",
              "      <td>94</td>\n",
              "    </tr>\n",
              "    <tr>\n",
              "      <th>2</th>\n",
              "      <td>Arizona</td>\n",
              "      <td>18.6</td>\n",
              "      <td>35</td>\n",
              "      <td>28</td>\n",
              "      <td>96</td>\n",
              "    </tr>\n",
              "    <tr>\n",
              "      <th>3</th>\n",
              "      <td>Arkansas</td>\n",
              "      <td>22.4</td>\n",
              "      <td>18</td>\n",
              "      <td>26</td>\n",
              "      <td>95</td>\n",
              "    </tr>\n",
              "    <tr>\n",
              "      <th>4</th>\n",
              "      <td>California</td>\n",
              "      <td>12.0</td>\n",
              "      <td>35</td>\n",
              "      <td>28</td>\n",
              "      <td>89</td>\n",
              "    </tr>\n",
              "    <tr>\n",
              "      <th>5</th>\n",
              "      <td>Colorado</td>\n",
              "      <td>13.6</td>\n",
              "      <td>37</td>\n",
              "      <td>28</td>\n",
              "      <td>95</td>\n",
              "    </tr>\n",
              "    <tr>\n",
              "      <th>6</th>\n",
              "      <td>Connecticut</td>\n",
              "      <td>10.8</td>\n",
              "      <td>46</td>\n",
              "      <td>36</td>\n",
              "      <td>82</td>\n",
              "    </tr>\n",
              "    <tr>\n",
              "      <th>7</th>\n",
              "      <td>Delaware</td>\n",
              "      <td>16.2</td>\n",
              "      <td>38</td>\n",
              "      <td>30</td>\n",
              "      <td>99</td>\n",
              "    </tr>\n",
              "    <tr>\n",
              "      <th>8</th>\n",
              "      <td>District of Columbia</td>\n",
              "      <td>5.9</td>\n",
              "      <td>34</td>\n",
              "      <td>27</td>\n",
              "      <td>100</td>\n",
              "    </tr>\n",
              "    <tr>\n",
              "      <th>9</th>\n",
              "      <td>Florida</td>\n",
              "      <td>17.9</td>\n",
              "      <td>21</td>\n",
              "      <td>29</td>\n",
              "      <td>94</td>\n",
              "    </tr>\n",
              "  </tbody>\n",
              "</table>\n",
              "</div>\n",
              "      <button class=\"colab-df-convert\" onclick=\"convertToInteractive('df-fa37aa86-d1ff-4293-b20a-cba8f0021224')\"\n",
              "              title=\"Convert this dataframe to an interactive table.\"\n",
              "              style=\"display:none;\">\n",
              "        \n",
              "  <svg xmlns=\"http://www.w3.org/2000/svg\" height=\"24px\"viewBox=\"0 0 24 24\"\n",
              "       width=\"24px\">\n",
              "    <path d=\"M0 0h24v24H0V0z\" fill=\"none\"/>\n",
              "    <path d=\"M18.56 5.44l.94 2.06.94-2.06 2.06-.94-2.06-.94-.94-2.06-.94 2.06-2.06.94zm-11 1L8.5 8.5l.94-2.06 2.06-.94-2.06-.94L8.5 2.5l-.94 2.06-2.06.94zm10 10l.94 2.06.94-2.06 2.06-.94-2.06-.94-.94-2.06-.94 2.06-2.06.94z\"/><path d=\"M17.41 7.96l-1.37-1.37c-.4-.4-.92-.59-1.43-.59-.52 0-1.04.2-1.43.59L10.3 9.45l-7.72 7.72c-.78.78-.78 2.05 0 2.83L4 21.41c.39.39.9.59 1.41.59.51 0 1.02-.2 1.41-.59l7.78-7.78 2.81-2.81c.8-.78.8-2.07 0-2.86zM5.41 20L4 18.59l7.72-7.72 1.47 1.35L5.41 20z\"/>\n",
              "  </svg>\n",
              "      </button>\n",
              "      \n",
              "  <style>\n",
              "    .colab-df-container {\n",
              "      display:flex;\n",
              "      flex-wrap:wrap;\n",
              "      gap: 12px;\n",
              "    }\n",
              "\n",
              "    .colab-df-convert {\n",
              "      background-color: #E8F0FE;\n",
              "      border: none;\n",
              "      border-radius: 50%;\n",
              "      cursor: pointer;\n",
              "      display: none;\n",
              "      fill: #1967D2;\n",
              "      height: 32px;\n",
              "      padding: 0 0 0 0;\n",
              "      width: 32px;\n",
              "    }\n",
              "\n",
              "    .colab-df-convert:hover {\n",
              "      background-color: #E2EBFA;\n",
              "      box-shadow: 0px 1px 2px rgba(60, 64, 67, 0.3), 0px 1px 3px 1px rgba(60, 64, 67, 0.15);\n",
              "      fill: #174EA6;\n",
              "    }\n",
              "\n",
              "    [theme=dark] .colab-df-convert {\n",
              "      background-color: #3B4455;\n",
              "      fill: #D2E3FC;\n",
              "    }\n",
              "\n",
              "    [theme=dark] .colab-df-convert:hover {\n",
              "      background-color: #434B5C;\n",
              "      box-shadow: 0px 1px 3px 1px rgba(0, 0, 0, 0.15);\n",
              "      filter: drop-shadow(0px 1px 2px rgba(0, 0, 0, 0.3));\n",
              "      fill: #FFFFFF;\n",
              "    }\n",
              "  </style>\n",
              "\n",
              "      <script>\n",
              "        const buttonEl =\n",
              "          document.querySelector('#df-fa37aa86-d1ff-4293-b20a-cba8f0021224 button.colab-df-convert');\n",
              "        buttonEl.style.display =\n",
              "          google.colab.kernel.accessAllowed ? 'block' : 'none';\n",
              "\n",
              "        async function convertToInteractive(key) {\n",
              "          const element = document.querySelector('#df-fa37aa86-d1ff-4293-b20a-cba8f0021224');\n",
              "          const dataTable =\n",
              "            await google.colab.kernel.invokeFunction('convertToInteractive',\n",
              "                                                     [key], {});\n",
              "          if (!dataTable) return;\n",
              "\n",
              "          const docLinkHtml = 'Like what you see? Visit the ' +\n",
              "            '<a target=\"_blank\" href=https://colab.research.google.com/notebooks/data_table.ipynb>data table notebook</a>'\n",
              "            + ' to learn more about interactive tables.';\n",
              "          element.innerHTML = '';\n",
              "          dataTable['output_type'] = 'display_data';\n",
              "          await google.colab.output.renderOutput(dataTable, element);\n",
              "          const docLink = document.createElement('div');\n",
              "          docLink.innerHTML = docLinkHtml;\n",
              "          element.appendChild(docLink);\n",
              "        }\n",
              "      </script>\n",
              "    </div>\n",
              "  </div>\n",
              "  "
            ],
            "text/plain": [
              "                  state  drvr_fatl_col_bmiles  perc_fatl_speed  \\\n",
              "0               Alabama                  18.8               39   \n",
              "1                Alaska                  18.1               41   \n",
              "2               Arizona                  18.6               35   \n",
              "3              Arkansas                  22.4               18   \n",
              "4            California                  12.0               35   \n",
              "5              Colorado                  13.6               37   \n",
              "6           Connecticut                  10.8               46   \n",
              "7              Delaware                  16.2               38   \n",
              "8  District of Columbia                   5.9               34   \n",
              "9               Florida                  17.9               21   \n",
              "\n",
              "   perc_fatl_alcohol  perc_fatl_1st_time  \n",
              "0                 30                  80  \n",
              "1                 25                  94  \n",
              "2                 28                  96  \n",
              "3                 26                  95  \n",
              "4                 28                  89  \n",
              "5                 28                  95  \n",
              "6                 36                  82  \n",
              "7                 30                  99  \n",
              "8                 27                 100  \n",
              "9                 29                  94  "
            ]
          },
          "execution_count": 5,
          "metadata": {},
          "output_type": "execute_result"
        }
      ],
      "source": [
        "# Display the first 10 rows of dataset\n",
        "road_acc.head(10)"
      ]
    },
    {
      "cell_type": "markdown",
      "metadata": {
        "id": "WQ5nVOg-dLkL"
      },
      "source": [
        "## Task: 3 Create a textual and a graphical summary of the data"
      ]
    },
    {
      "cell_type": "markdown",
      "metadata": {
        "id": "XWVoM1M9dQHa"
      },
      "source": [
        "We now have an idea of what the dataset looks like. To further familiarize ourselves with this data, we will calculate summary statistics and produce a graphical overview of the data. The graphical overview is good to get a sense for the distribution of variables within the data and could consist of one histogram per column. It is often a good idea to also explore the pairwise relationship between all columns in the data set by using a using pairwise scatter plots (sometimes referred to as a \"scatterplot matrix\")."
      ]
    },
    {
      "cell_type": "code",
      "execution_count": null,
      "metadata": {
        "colab": {
          "base_uri": "https://localhost:8080/",
          "height": 334
        },
        "id": "j6ooCFZgdnPp",
        "outputId": "74a75d50-6347-468b-bb04-009ecf0ccec9"
      },
      "outputs": [
        {
          "name": "stderr",
          "output_type": "stream",
          "text": [
            "/usr/local/lib/python3.7/dist-packages/ipykernel_launcher.py:2: DeprecationWarning: `np.object` is a deprecated alias for the builtin `object`. To silence this warning, use `object` by itself. Doing this will not modify any behavior and is safe. \n",
            "Deprecated in NumPy 1.20; for more details and guidance: https://numpy.org/devdocs/release/1.20.0-notes.html#deprecations\n",
            "  \n"
          ]
        },
        {
          "data": {
            "application/vnd.google.colaboratory.module+javascript": "\n      import \"https://ssl.gstatic.com/colaboratory/data_table/a8bd4d5e58f96183/data_table.js\";\n\n      window.createDataTable({\n        data: [[\"count\",\n{\n            'v': 51.0,\n            'f': \"51.0\",\n        },\n{\n            'v': 51.0,\n            'f': \"51.0\",\n        },\n{\n            'v': 51.0,\n            'f': \"51.0\",\n        },\n{\n            'v': 51.0,\n            'f': \"51.0\",\n        }],\n [\"mean\",\n{\n            'v': 15.79019607843137,\n            'f': \"15.79019607843137\",\n        },\n{\n            'v': 31.725490196078432,\n            'f': \"31.725490196078432\",\n        },\n{\n            'v': 30.686274509803923,\n            'f': \"30.686274509803923\",\n        },\n{\n            'v': 88.72549019607843,\n            'f': \"88.72549019607843\",\n        }],\n [\"std\",\n{\n            'v': 4.122002178648661,\n            'f': \"4.122002178648661\",\n        },\n{\n            'v': 9.633438495931863,\n            'f': \"9.633438495931863\",\n        },\n{\n            'v': 5.132212762847742,\n            'f': \"5.132212762847742\",\n        },\n{\n            'v': 6.960110434102462,\n            'f': \"6.960110434102462\",\n        }],\n [\"min\",\n{\n            'v': 5.9,\n            'f': \"5.9\",\n        },\n{\n            'v': 13.0,\n            'f': \"13.0\",\n        },\n{\n            'v': 16.0,\n            'f': \"16.0\",\n        },\n{\n            'v': 76.0,\n            'f': \"76.0\",\n        }],\n [\"25%\",\n{\n            'v': 12.75,\n            'f': \"12.75\",\n        },\n{\n            'v': 23.0,\n            'f': \"23.0\",\n        },\n{\n            'v': 28.0,\n            'f': \"28.0\",\n        },\n{\n            'v': 83.5,\n            'f': \"83.5\",\n        }],\n [\"50%\",\n{\n            'v': 15.6,\n            'f': \"15.6\",\n        },\n{\n            'v': 34.0,\n            'f': \"34.0\",\n        },\n{\n            'v': 30.0,\n            'f': \"30.0\",\n        },\n{\n            'v': 88.0,\n            'f': \"88.0\",\n        }],\n [\"75%\",\n{\n            'v': 18.5,\n            'f': \"18.5\",\n        },\n{\n            'v': 38.0,\n            'f': \"38.0\",\n        },\n{\n            'v': 33.0,\n            'f': \"33.0\",\n        },\n{\n            'v': 95.0,\n            'f': \"95.0\",\n        }],\n [\"max\",\n{\n            'v': 23.9,\n            'f': \"23.9\",\n        },\n{\n            'v': 54.0,\n            'f': \"54.0\",\n        },\n{\n            'v': 44.0,\n            'f': \"44.0\",\n        },\n{\n            'v': 100.0,\n            'f': \"100.0\",\n        }]],\n        columns: [[\"string\", \"index\"], [\"number\", \"drvr_fatl_col_bmiles\"], [\"number\", \"perc_fatl_speed\"], [\"number\", \"perc_fatl_alcohol\"], [\"number\", \"perc_fatl_1st_time\"]],\n        columnOptions: [{\"width\": \"1px\", \"className\": \"index_column\"}],\n        rowsPerPage: 25,\n        helpUrl: \"https://colab.research.google.com/notebooks/data_table.ipynb\",\n        suppressOutputScrolling: true,\n        minimumWidth: undefined,\n      });\n    ",
            "text/html": [
              "\n",
              "  <div id=\"df-1189feb5-6ba9-4d1d-a725-86f76a225a13\">\n",
              "    <div class=\"colab-df-container\">\n",
              "      <div>\n",
              "<style scoped>\n",
              "    .dataframe tbody tr th:only-of-type {\n",
              "        vertical-align: middle;\n",
              "    }\n",
              "\n",
              "    .dataframe tbody tr th {\n",
              "        vertical-align: top;\n",
              "    }\n",
              "\n",
              "    .dataframe thead th {\n",
              "        text-align: right;\n",
              "    }\n",
              "</style>\n",
              "<table border=\"1\" class=\"dataframe\">\n",
              "  <thead>\n",
              "    <tr style=\"text-align: right;\">\n",
              "      <th></th>\n",
              "      <th>drvr_fatl_col_bmiles</th>\n",
              "      <th>perc_fatl_speed</th>\n",
              "      <th>perc_fatl_alcohol</th>\n",
              "      <th>perc_fatl_1st_time</th>\n",
              "    </tr>\n",
              "  </thead>\n",
              "  <tbody>\n",
              "    <tr>\n",
              "      <th>count</th>\n",
              "      <td>51.000000</td>\n",
              "      <td>51.000000</td>\n",
              "      <td>51.000000</td>\n",
              "      <td>51.00000</td>\n",
              "    </tr>\n",
              "    <tr>\n",
              "      <th>mean</th>\n",
              "      <td>15.790196</td>\n",
              "      <td>31.725490</td>\n",
              "      <td>30.686275</td>\n",
              "      <td>88.72549</td>\n",
              "    </tr>\n",
              "    <tr>\n",
              "      <th>std</th>\n",
              "      <td>4.122002</td>\n",
              "      <td>9.633438</td>\n",
              "      <td>5.132213</td>\n",
              "      <td>6.96011</td>\n",
              "    </tr>\n",
              "    <tr>\n",
              "      <th>min</th>\n",
              "      <td>5.900000</td>\n",
              "      <td>13.000000</td>\n",
              "      <td>16.000000</td>\n",
              "      <td>76.00000</td>\n",
              "    </tr>\n",
              "    <tr>\n",
              "      <th>25%</th>\n",
              "      <td>12.750000</td>\n",
              "      <td>23.000000</td>\n",
              "      <td>28.000000</td>\n",
              "      <td>83.50000</td>\n",
              "    </tr>\n",
              "    <tr>\n",
              "      <th>50%</th>\n",
              "      <td>15.600000</td>\n",
              "      <td>34.000000</td>\n",
              "      <td>30.000000</td>\n",
              "      <td>88.00000</td>\n",
              "    </tr>\n",
              "    <tr>\n",
              "      <th>75%</th>\n",
              "      <td>18.500000</td>\n",
              "      <td>38.000000</td>\n",
              "      <td>33.000000</td>\n",
              "      <td>95.00000</td>\n",
              "    </tr>\n",
              "    <tr>\n",
              "      <th>max</th>\n",
              "      <td>23.900000</td>\n",
              "      <td>54.000000</td>\n",
              "      <td>44.000000</td>\n",
              "      <td>100.00000</td>\n",
              "    </tr>\n",
              "  </tbody>\n",
              "</table>\n",
              "</div>\n",
              "      <button class=\"colab-df-convert\" onclick=\"convertToInteractive('df-1189feb5-6ba9-4d1d-a725-86f76a225a13')\"\n",
              "              title=\"Convert this dataframe to an interactive table.\"\n",
              "              style=\"display:none;\">\n",
              "        \n",
              "  <svg xmlns=\"http://www.w3.org/2000/svg\" height=\"24px\"viewBox=\"0 0 24 24\"\n",
              "       width=\"24px\">\n",
              "    <path d=\"M0 0h24v24H0V0z\" fill=\"none\"/>\n",
              "    <path d=\"M18.56 5.44l.94 2.06.94-2.06 2.06-.94-2.06-.94-.94-2.06-.94 2.06-2.06.94zm-11 1L8.5 8.5l.94-2.06 2.06-.94-2.06-.94L8.5 2.5l-.94 2.06-2.06.94zm10 10l.94 2.06.94-2.06 2.06-.94-2.06-.94-.94-2.06-.94 2.06-2.06.94z\"/><path d=\"M17.41 7.96l-1.37-1.37c-.4-.4-.92-.59-1.43-.59-.52 0-1.04.2-1.43.59L10.3 9.45l-7.72 7.72c-.78.78-.78 2.05 0 2.83L4 21.41c.39.39.9.59 1.41.59.51 0 1.02-.2 1.41-.59l7.78-7.78 2.81-2.81c.8-.78.8-2.07 0-2.86zM5.41 20L4 18.59l7.72-7.72 1.47 1.35L5.41 20z\"/>\n",
              "  </svg>\n",
              "      </button>\n",
              "      \n",
              "  <style>\n",
              "    .colab-df-container {\n",
              "      display:flex;\n",
              "      flex-wrap:wrap;\n",
              "      gap: 12px;\n",
              "    }\n",
              "\n",
              "    .colab-df-convert {\n",
              "      background-color: #E8F0FE;\n",
              "      border: none;\n",
              "      border-radius: 50%;\n",
              "      cursor: pointer;\n",
              "      display: none;\n",
              "      fill: #1967D2;\n",
              "      height: 32px;\n",
              "      padding: 0 0 0 0;\n",
              "      width: 32px;\n",
              "    }\n",
              "\n",
              "    .colab-df-convert:hover {\n",
              "      background-color: #E2EBFA;\n",
              "      box-shadow: 0px 1px 2px rgba(60, 64, 67, 0.3), 0px 1px 3px 1px rgba(60, 64, 67, 0.15);\n",
              "      fill: #174EA6;\n",
              "    }\n",
              "\n",
              "    [theme=dark] .colab-df-convert {\n",
              "      background-color: #3B4455;\n",
              "      fill: #D2E3FC;\n",
              "    }\n",
              "\n",
              "    [theme=dark] .colab-df-convert:hover {\n",
              "      background-color: #434B5C;\n",
              "      box-shadow: 0px 1px 3px 1px rgba(0, 0, 0, 0.15);\n",
              "      filter: drop-shadow(0px 1px 2px rgba(0, 0, 0, 0.3));\n",
              "      fill: #FFFFFF;\n",
              "    }\n",
              "  </style>\n",
              "\n",
              "      <script>\n",
              "        const buttonEl =\n",
              "          document.querySelector('#df-1189feb5-6ba9-4d1d-a725-86f76a225a13 button.colab-df-convert');\n",
              "        buttonEl.style.display =\n",
              "          google.colab.kernel.accessAllowed ? 'block' : 'none';\n",
              "\n",
              "        async function convertToInteractive(key) {\n",
              "          const element = document.querySelector('#df-1189feb5-6ba9-4d1d-a725-86f76a225a13');\n",
              "          const dataTable =\n",
              "            await google.colab.kernel.invokeFunction('convertToInteractive',\n",
              "                                                     [key], {});\n",
              "          if (!dataTable) return;\n",
              "\n",
              "          const docLinkHtml = 'Like what you see? Visit the ' +\n",
              "            '<a target=\"_blank\" href=https://colab.research.google.com/notebooks/data_table.ipynb>data table notebook</a>'\n",
              "            + ' to learn more about interactive tables.';\n",
              "          element.innerHTML = '';\n",
              "          dataTable['output_type'] = 'display_data';\n",
              "          await google.colab.output.renderOutput(dataTable, element);\n",
              "          const docLink = document.createElement('div');\n",
              "          docLink.innerHTML = docLinkHtml;\n",
              "          element.appendChild(docLink);\n",
              "        }\n",
              "      </script>\n",
              "    </div>\n",
              "  </div>\n",
              "  "
            ],
            "text/plain": [
              "       drvr_fatl_col_bmiles  perc_fatl_speed  perc_fatl_alcohol  \\\n",
              "count             51.000000        51.000000          51.000000   \n",
              "mean              15.790196        31.725490          30.686275   \n",
              "std                4.122002         9.633438           5.132213   \n",
              "min                5.900000        13.000000          16.000000   \n",
              "25%               12.750000        23.000000          28.000000   \n",
              "50%               15.600000        34.000000          30.000000   \n",
              "75%               18.500000        38.000000          33.000000   \n",
              "max               23.900000        54.000000          44.000000   \n",
              "\n",
              "       perc_fatl_1st_time  \n",
              "count            51.00000  \n",
              "mean             88.72549  \n",
              "std               6.96011  \n",
              "min              76.00000  \n",
              "25%              83.50000  \n",
              "50%              88.00000  \n",
              "75%              95.00000  \n",
              "max             100.00000  "
            ]
          },
          "execution_count": 6,
          "metadata": {},
          "output_type": "execute_result"
        }
      ],
      "source": [
        "# Describing the road accidents dataset\n",
        "road_acc.describe(exclude=np.object)"
      ]
    },
    {
      "cell_type": "code",
      "execution_count": null,
      "metadata": {
        "colab": {
          "base_uri": "https://localhost:8080/",
          "height": 743
        },
        "id": "UoEtuT9MbKOs",
        "outputId": "7ee8dc23-904b-41d6-8f70-20b5586c5487"
      },
      "outputs": [
        {
          "data": {
            "text/plain": [
              "<seaborn.axisgrid.PairGrid at 0x7f20adf5c810>"
            ]
          },
          "execution_count": 7,
          "metadata": {},
          "output_type": "execute_result"
        },
        {
          "data": {
            "image/png": "[encoded data removed]",
            "text/plain": [
              "<Figure size 720x720 with 20 Axes>"
            ]
          },
          "metadata": {},
          "output_type": "display_data"
        }
      ],
      "source": [
        "# Create a pairplot using scatter plot\n",
        "sns.pairplot(data=road_acc)"
      ]
    },
    {
      "cell_type": "markdown",
      "metadata": {
        "id": "0NX-OvaFe-Wj"
      },
      "source": [
        "## Task: 4 Quantify the association of features and accidents"
      ]
    },
    {
      "cell_type": "markdown",
      "metadata": {
        "id": "HRMEDR_-fCEF"
      },
      "source": [
        "We can already see some potentially interesting relationships between the target variable (the number of fatal accidents) and the feature variables (the remaining three columns).\n",
        "\n",
        "To quantify the pairwise relationships that we observed in the scatter plots, we can compute the Pearson correlation coefficient matrix. The Pearson correlation coefficient is one of the most common methods to quantify correlation between variables, and by convention, the following thresholds are usually used:\n",
        "\n",
        "- 0.2 = weak\n",
        "- 0.5 = medium\n",
        "- 0.8 = strong\n",
        "- 0.9 = very strong"
      ]
    },
    {
      "cell_type": "code",
      "execution_count": null,
      "metadata": {
        "colab": {
          "base_uri": "https://localhost:8080/",
          "height": 176
        },
        "id": "cTfAmiU1bKK2",
        "outputId": "84a8a8d2-10c6-48b9-b5a7-ec27e93227e9"
      },
      "outputs": [
        {
          "data": {
            "application/vnd.google.colaboratory.module+javascript": "\n      import \"https://ssl.gstatic.com/colaboratory/data_table/a8bd4d5e58f96183/data_table.js\";\n\n      window.createDataTable({\n        data: [[\"drvr_fatl_col_bmiles\",\n{\n            'v': 1.0,\n            'f': \"1.0\",\n        },\n{\n            'v': -0.02908014591399066,\n            'f': \"-0.02908014591399066\",\n        },\n{\n            'v': 0.1994263437801117,\n            'f': \"0.1994263437801117\",\n        },\n{\n            'v': -0.017941876874043288,\n            'f': \"-0.017941876874043288\",\n        }],\n [\"perc_fatl_speed\",\n{\n            'v': -0.02908014591399066,\n            'f': \"-0.02908014591399066\",\n        },\n{\n            'v': 1.0,\n            'f': \"1.0\",\n        },\n{\n            'v': 0.2862441714814021,\n            'f': \"0.2862441714814021\",\n        },\n{\n            'v': 0.014066221138544588,\n            'f': \"0.014066221138544588\",\n        }],\n [\"perc_fatl_alcohol\",\n{\n            'v': 0.1994263437801117,\n            'f': \"0.1994263437801117\",\n        },\n{\n            'v': 0.2862441714814021,\n            'f': \"0.2862441714814021\",\n        },\n{\n            'v': 1.0,\n            'f': \"1.0\",\n        },\n{\n            'v': -0.24545505951209232,\n            'f': \"-0.24545505951209232\",\n        }],\n [\"perc_fatl_1st_time\",\n{\n            'v': -0.017941876874043288,\n            'f': \"-0.017941876874043288\",\n        },\n{\n            'v': 0.014066221138544588,\n            'f': \"0.014066221138544588\",\n        },\n{\n            'v': -0.24545505951209232,\n            'f': \"-0.24545505951209232\",\n        },\n{\n            'v': 1.0,\n            'f': \"1.0\",\n        }]],\n        columns: [[\"string\", \"index\"], [\"number\", \"drvr_fatl_col_bmiles\"], [\"number\", \"perc_fatl_speed\"], [\"number\", \"perc_fatl_alcohol\"], [\"number\", \"perc_fatl_1st_time\"]],\n        columnOptions: [{\"width\": \"1px\", \"className\": \"index_column\"}],\n        rowsPerPage: 25,\n        helpUrl: \"https://colab.research.google.com/notebooks/data_table.ipynb\",\n        suppressOutputScrolling: true,\n        minimumWidth: undefined,\n      });\n    ",
            "text/html": [
              "\n",
              "  <div id=\"df-862d4a56-082c-4551-8b68-8e9e33cae7de\">\n",
              "    <div class=\"colab-df-container\">\n",
              "      <div>\n",
              "<style scoped>\n",
              "    .dataframe tbody tr th:only-of-type {\n",
              "        vertical-align: middle;\n",
              "    }\n",
              "\n",
              "    .dataframe tbody tr th {\n",
              "        vertical-align: top;\n",
              "    }\n",
              "\n",
              "    .dataframe thead th {\n",
              "        text-align: right;\n",
              "    }\n",
              "</style>\n",
              "<table border=\"1\" class=\"dataframe\">\n",
              "  <thead>\n",
              "    <tr style=\"text-align: right;\">\n",
              "      <th></th>\n",
              "      <th>drvr_fatl_col_bmiles</th>\n",
              "      <th>perc_fatl_speed</th>\n",
              "      <th>perc_fatl_alcohol</th>\n",
              "      <th>perc_fatl_1st_time</th>\n",
              "    </tr>\n",
              "  </thead>\n",
              "  <tbody>\n",
              "    <tr>\n",
              "      <th>drvr_fatl_col_bmiles</th>\n",
              "      <td>1.000000</td>\n",
              "      <td>-0.029080</td>\n",
              "      <td>0.199426</td>\n",
              "      <td>-0.017942</td>\n",
              "    </tr>\n",
              "    <tr>\n",
              "      <th>perc_fatl_speed</th>\n",
              "      <td>-0.029080</td>\n",
              "      <td>1.000000</td>\n",
              "      <td>0.286244</td>\n",
              "      <td>0.014066</td>\n",
              "    </tr>\n",
              "    <tr>\n",
              "      <th>perc_fatl_alcohol</th>\n",
              "      <td>0.199426</td>\n",
              "      <td>0.286244</td>\n",
              "      <td>1.000000</td>\n",
              "      <td>-0.245455</td>\n",
              "    </tr>\n",
              "    <tr>\n",
              "      <th>perc_fatl_1st_time</th>\n",
              "      <td>-0.017942</td>\n",
              "      <td>0.014066</td>\n",
              "      <td>-0.245455</td>\n",
              "      <td>1.000000</td>\n",
              "    </tr>\n",
              "  </tbody>\n",
              "</table>\n",
              "</div>\n",
              "      <button class=\"colab-df-convert\" onclick=\"convertToInteractive('df-862d4a56-082c-4551-8b68-8e9e33cae7de')\"\n",
              "              title=\"Convert this dataframe to an interactive table.\"\n",
              "              style=\"display:none;\">\n",
              "        \n",
              "  <svg xmlns=\"http://www.w3.org/2000/svg\" height=\"24px\"viewBox=\"0 0 24 24\"\n",
              "       width=\"24px\">\n",
              "    <path d=\"M0 0h24v24H0V0z\" fill=\"none\"/>\n",
              "    <path d=\"M18.56 5.44l.94 2.06.94-2.06 2.06-.94-2.06-.94-.94-2.06-.94 2.06-2.06.94zm-11 1L8.5 8.5l.94-2.06 2.06-.94-2.06-.94L8.5 2.5l-.94 2.06-2.06.94zm10 10l.94 2.06.94-2.06 2.06-.94-2.06-.94-.94-2.06-.94 2.06-2.06.94z\"/><path d=\"M17.41 7.96l-1.37-1.37c-.4-.4-.92-.59-1.43-.59-.52 0-1.04.2-1.43.59L10.3 9.45l-7.72 7.72c-.78.78-.78 2.05 0 2.83L4 21.41c.39.39.9.59 1.41.59.51 0 1.02-.2 1.41-.59l7.78-7.78 2.81-2.81c.8-.78.8-2.07 0-2.86zM5.41 20L4 18.59l7.72-7.72 1.47 1.35L5.41 20z\"/>\n",
              "  </svg>\n",
              "      </button>\n",
              "      \n",
              "  <style>\n",
              "    .colab-df-container {\n",
              "      display:flex;\n",
              "      flex-wrap:wrap;\n",
              "      gap: 12px;\n",
              "    }\n",
              "\n",
              "    .colab-df-convert {\n",
              "      background-color: #E8F0FE;\n",
              "      border: none;\n",
              "      border-radius: 50%;\n",
              "      cursor: pointer;\n",
              "      display: none;\n",
              "      fill: #1967D2;\n",
              "      height: 32px;\n",
              "      padding: 0 0 0 0;\n",
              "      width: 32px;\n",
              "    }\n",
              "\n",
              "    .colab-df-convert:hover {\n",
              "      background-color: #E2EBFA;\n",
              "      box-shadow: 0px 1px 2px rgba(60, 64, 67, 0.3), 0px 1px 3px 1px rgba(60, 64, 67, 0.15);\n",
              "      fill: #174EA6;\n",
              "    }\n",
              "\n",
              "    [theme=dark] .colab-df-convert {\n",
              "      background-color: #3B4455;\n",
              "      fill: #D2E3FC;\n",
              "    }\n",
              "\n",
              "    [theme=dark] .colab-df-convert:hover {\n",
              "      background-color: #434B5C;\n",
              "      box-shadow: 0px 1px 3px 1px rgba(0, 0, 0, 0.15);\n",
              "      filter: drop-shadow(0px 1px 2px rgba(0, 0, 0, 0.3));\n",
              "      fill: #FFFFFF;\n",
              "    }\n",
              "  </style>\n",
              "\n",
              "      <script>\n",
              "        const buttonEl =\n",
              "          document.querySelector('#df-862d4a56-082c-4551-8b68-8e9e33cae7de button.colab-df-convert');\n",
              "        buttonEl.style.display =\n",
              "          google.colab.kernel.accessAllowed ? 'block' : 'none';\n",
              "\n",
              "        async function convertToInteractive(key) {\n",
              "          const element = document.querySelector('#df-862d4a56-082c-4551-8b68-8e9e33cae7de');\n",
              "          const dataTable =\n",
              "            await google.colab.kernel.invokeFunction('convertToInteractive',\n",
              "                                                     [key], {});\n",
              "          if (!dataTable) return;\n",
              "\n",
              "          const docLinkHtml = 'Like what you see? Visit the ' +\n",
              "            '<a target=\"_blank\" href=https://colab.research.google.com/notebooks/data_table.ipynb>data table notebook</a>'\n",
              "            + ' to learn more about interactive tables.';\n",
              "          element.innerHTML = '';\n",
              "          dataTable['output_type'] = 'display_data';\n",
              "          await google.colab.output.renderOutput(dataTable, element);\n",
              "          const docLink = document.createElement('div');\n",
              "          docLink.innerHTML = docLinkHtml;\n",
              "          element.appendChild(docLink);\n",
              "        }\n",
              "      </script>\n",
              "    </div>\n",
              "  </div>\n",
              "  "
            ],
            "text/plain": [
              "                      drvr_fatl_col_bmiles  perc_fatl_speed  \\\n",
              "drvr_fatl_col_bmiles              1.000000        -0.029080   \n",
              "perc_fatl_speed                  -0.029080         1.000000   \n",
              "perc_fatl_alcohol                 0.199426         0.286244   \n",
              "perc_fatl_1st_time               -0.017942         0.014066   \n",
              "\n",
              "                      perc_fatl_alcohol  perc_fatl_1st_time  \n",
              "drvr_fatl_col_bmiles           0.199426           -0.017942  \n",
              "perc_fatl_speed                0.286244            0.014066  \n",
              "perc_fatl_alcohol              1.000000           -0.245455  \n",
              "perc_fatl_1st_time            -0.245455            1.000000  "
            ]
          },
          "execution_count": 8,
          "metadata": {},
          "output_type": "execute_result"
        }
      ],
      "source": [
        "# Derive correlation among dataset\n",
        "road_acc.corr()"
      ]
    },
    {
      "cell_type": "markdown",
      "metadata": {
        "id": "hBvdldz2gcTF"
      },
      "source": [
        "## Task: 5 Fit a multivariate linear regression"
      ]
    },
    {
      "cell_type": "markdown",
      "metadata": {
        "id": "-iL4TB8xgj4x"
      },
      "source": [
        "From the correlation table, we see that the amount of fatal accidents is most strongly correlated with alcohol consumption (first row). But in addition, we also see that some of the features are correlated with each other, for instance, speeding and alcohol consumption are positively correlated. We, therefore, want to compute the association of the target with each feature while adjusting for the effect of the remaining features. This can be done using multivariate linear regression.\n",
        "Both the multivariate regression and the correlation measure how strongly the features are associated with the outcome (fatal accidents). When comparing the regression coefficients with the correlation coefficients, we will see that they are slightly different. The reason for this is that the multiple regression computes the association of a feature with an outcome, given the association with all other features, which is not accounted for when calculating the correlation coefficients.\n",
        " A particularly interesting case is when the correlation coefficient and the regression coefficient of the same feature have opposite signs. How can this be? For example, when a feature A is positively correlated with the outcome Y but also positively correlated with a different feature B that has a negative effect on Y, then the indirect correlation (A->B->Y) can overwhelm the direct correlation (A->Y). In such a case, the regression coefficient of feature A could be positive, while the correlation coefficient is negative. This is sometimes called a masking relationship. Let’s see if the multivariate regression can reveal such a phenomenon."
      ]
    },
    {
      "cell_type": "code",
      "execution_count": null,
      "metadata": {
        "id": "oC91Y0vobKHy"
      },
      "outputs": [],
      "source": [
        "# Import the linear model function from sklearn\n",
        "from sklearn import linear_model\n",
        "\n",
        "# Create the features and target DataFrames\n",
        "features_column = road_acc[[\"perc_fatl_speed\", \"perc_fatl_alcohol\", \"perc_fatl_1st_time\"]]\n",
        "target_column = road_acc[\"drvr_fatl_col_bmiles\"]"
      ]
    },
    {
      "cell_type": "code",
      "execution_count": null,
      "metadata": {
        "colab": {
          "base_uri": "https://localhost:8080/"
        },
        "id": "3aNNbOBObKFS",
        "outputId": "7f3e1dc2-3513-4f03-9fba-781ad7e92489"
      },
      "outputs": [
        {
          "data": {
            "text/plain": [
              "LinearRegression()"
            ]
          },
          "execution_count": 10,
          "metadata": {},
          "output_type": "execute_result"
        }
      ],
      "source": [
        "# Creating linear regression instance\n",
        "linReg = linear_model.LinearRegression()\n",
        "\n",
        "# Fit a multivariate linear regression model\n",
        "linReg.fit(X=features_column, y=target_column)"
      ]
    },
    {
      "cell_type": "code",
      "execution_count": null,
      "metadata": {
        "colab": {
          "base_uri": "https://localhost:8080/"
        },
        "id": "aIDqrD73h0od",
        "outputId": "e1f87b18-9765-40a1-dd6f-c23a2bc8cc78"
      },
      "outputs": [
        {
          "data": {
            "text/plain": [
              "array([-0.04180041,  0.19086404,  0.02473301])"
            ]
          },
          "execution_count": 11,
          "metadata": {},
          "output_type": "execute_result"
        }
      ],
      "source": [
        "# Retrieving the linear Regression coefficients\n",
        "linReg_coef = linReg.coef_\n",
        "linReg_coef"
      ]
    },
    {
      "cell_type": "markdown",
      "metadata": {
        "id": "vZ2eowf5iA7i"
      },
      "source": [
        "## Task: 6 Perform PCA on standardized data"
      ]
    },
    {
      "cell_type": "markdown",
      "metadata": {
        "id": "l20DS1v4iFPE"
      },
      "source": [
        "We have learned that alcohol consumption is weakly associated with the number of fatal accidents across states. This could lead us to conclude that alcohol consumption should be a focus for further investigations and maybe strategies should divide states into high versus low alcohol consumption in accidents. But there are also associations between alcohol consumptions and the other two features, so it might be worth trying to split the states in a way that accounts for all three features.\n",
        "\n",
        "One way of clustering the data is to use PCA to visualize data in reduced dimensional space where we can try to pick up patterns by eye. PCA uses the absolute variance to calculate the overall variance explained for each principal component, so it is important that the features are on a similar scale (unless we would have a particular reason that one feature should be weighted more).\n",
        "\n",
        "We'll use the appropriate scaling function to standardize the features to be centered with mean 0 and scaled with standard deviation 1."
      ]
    },
    {
      "cell_type": "code",
      "execution_count": null,
      "metadata": {
        "id": "KjdkDCWfi3nr"
      },
      "outputs": [],
      "source": [
        "# Standardize and center the feature columns\n",
        "from sklearn.preprocessing import StandardScaler\n",
        "scaler = StandardScaler()\n",
        "features_scaled = scaler.fit_transform(features_column)"
      ]
    },
    {
      "cell_type": "code",
      "execution_count": null,
      "metadata": {
        "id": "BaRBmepTjAEI"
      },
      "outputs": [],
      "source": [
        "# Import the PCA class function from sklearn\n",
        "from sklearn.decomposition import PCA\n",
        "pca = PCA()"
      ]
    },
    {
      "cell_type": "code",
      "execution_count": null,
      "metadata": {
        "colab": {
          "base_uri": "https://localhost:8080/"
        },
        "id": "AbaM1NLPjCpR",
        "outputId": "12e17245-bd94-49b6-a848-481b8a418811"
      },
      "outputs": [
        {
          "data": {
            "text/plain": [
              "PCA()"
            ]
          },
          "execution_count": 14,
          "metadata": {},
          "output_type": "execute_result"
        }
      ],
      "source": [
        "# Fit the standardized data to the pca\n",
        "pca.fit(features_scaled)"
      ]
    },
    {
      "cell_type": "code",
      "execution_count": null,
      "metadata": {
        "colab": {
          "base_uri": "https://localhost:8080/",
          "height": 348
        },
        "id": "CqfaXifKiAiC",
        "outputId": "04a570e2-f08b-438a-f206-6b15e15c9c9d"
      },
      "outputs": [
        {
          "data": {
            "text/plain": [
              "([<matplotlib.axis.XTick at 0x7f20a9d4ab10>,\n",
              "  <matplotlib.axis.XTick at 0x7f20a9d4aad0>,\n",
              "  <matplotlib.axis.XTick at 0x7f20a9d4a710>],\n",
              " <a list of 3 Text major ticklabel objects>)"
            ]
          },
          "execution_count": 15,
          "metadata": {},
          "output_type": "execute_result"
        },
        {
          "data": {
            "image/png": "[encoded data removed]",
            "text/plain": [
              "<Figure size 432x288 with 1 Axes>"
            ]
          },
          "metadata": {},
          "output_type": "display_data"
        }
      ],
      "source": [
        "# Plot the proportion of variance explained on the y-axis of the bar plot\n",
        "import matplotlib.pyplot as plt\n",
        "plt.bar(range(1, pca.n_components_ + 1),  pca.explained_variance_ratio_)\n",
        "plt.xlabel('Number of Principal components')\n",
        "plt.ylabel('Variance Proportion')\n",
        "plt.xticks([1, 2, 3])"
      ]
    },
    {
      "cell_type": "code",
      "execution_count": null,
      "metadata": {
        "colab": {
          "base_uri": "https://localhost:8080/"
        },
        "id": "Gbo9lCAMjG-M",
        "outputId": "6465a167-1c9a-4886-da50-f935793236d3"
      },
      "outputs": [
        {
          "name": "stdout",
          "output_type": "stream",
          "text": [
            "The cumulative variance of the first two principal components is 0.7947\n"
          ]
        }
      ],
      "source": [
        "# Compute the cumulative proportion of variance explained by the first two principal components\n",
        "two_first_comp_var_exp = pca.explained_variance_ratio_.cumsum()[1]\n",
        "print(\"The cumulative variance of the first two principal components is {}\".format(round(two_first_comp_var_exp, 5)))"
      ]
    },
    {
      "cell_type": "markdown",
      "metadata": {
        "id": "7wzA_j7LMqrx"
      },
      "source": [
        "## Task: 7 Visualize the first two principal components"
      ]
    },
    {
      "cell_type": "markdown",
      "metadata": {
        "id": "mhga7HrcMuyg"
      },
      "source": [
        "The first two principal components enable visualization of the data in two dimensions while capturing a high proportion of the variation (79%) from all three features: speeding, alcohol influence, and first-time accidents. This enables us to use our eyes to try to discern patterns in the data with the goal to find groups of similar states. Although clustering algorithms are becoming increasingly efficient, human pattern recognition is an easily accessible and very efficient method of assessing patterns in data.\n",
        "\n",
        "We will create a scatter plot of the first principle components and explore how the states cluster together in this visualization."
      ]
    },
    {
      "cell_type": "code",
      "execution_count": null,
      "metadata": {
        "colab": {
          "base_uri": "https://localhost:8080/",
          "height": 282
        },
        "id": "fnVN_6rBMqb5",
        "outputId": "a817249a-bd02-460b-b3bc-3cbb14f5fd10"
      },
      "outputs": [
        {
          "data": {
            "text/plain": [
              "<matplotlib.collections.PathCollection at 0x7f20a9cee390>"
            ]
          },
          "execution_count": 17,
          "metadata": {},
          "output_type": "execute_result"
        },
        {
          "data": {
            "image/png": "[encoded data removed]",
            "text/plain": [
              "<Figure size 432x288 with 1 Axes>"
            ]
          },
          "metadata": {},
          "output_type": "display_data"
        }
      ],
      "source": [
        "# Transforming two principal components\n",
        "pca = PCA(n_components=2)\n",
        "p_comps = pca.fit_transform(X=features_scaled)\n",
        "\n",
        "# Extract the first and second component to use for the scatter plot\n",
        "p_comp1 = p_comps[:,0]\n",
        "p_comp2 = p_comps[:,1]\n",
        "\n",
        "# Plot the first two principal components in a scatter plot\n",
        "plt.scatter(p_comp1, p_comp2)"
      ]
    },
    {
      "cell_type": "markdown",
      "metadata": {
        "id": "huq522PVSiEf"
      },
      "source": [
        "## Task: 8 Find clusters of similar states in the data"
      ]
    },
    {
      "cell_type": "markdown",
      "metadata": {
        "id": "qjJFXo-ISm3H"
      },
      "source": [
        "It was not entirely clear from the PCA scatter plot how many groups in which the states cluster. To assist with identifying a reasonable number of clusters, we can use KMeans clustering by creating a scree plot and finding the \"elbow\", which is an indication of when the addition of more clusters does not add much explanatory power."
      ]
    },
    {
      "cell_type": "code",
      "execution_count": null,
      "metadata": {
        "id": "N2x-NJKiTGKm"
      },
      "outputs": [],
      "source": [
        "# Import KMeans from sklearn\n",
        "from sklearn.cluster import KMeans\n",
        "\n",
        "#Number of clusters\n",
        "ks = range(1, 10)\n",
        "inertias = []\n",
        "for k in ks:\n",
        "    # Initialize the KMeans object using the current number of clusters (k)\n",
        "    km = KMeans(n_clusters=k, random_state=8)\n",
        "    # Fit the scaled features to the KMeans object\n",
        "    km.fit(features_scaled)\n",
        "    # Append the inertia for `km` to the list of inertias\n",
        "    inertias.append(km.inertia_)"
      ]
    },
    {
      "cell_type": "code",
      "execution_count": null,
      "metadata": {
        "colab": {
          "base_uri": "https://localhost:8080/",
          "height": 282
        },
        "id": "LvpSgqRGSdzo",
        "outputId": "2c643199-598a-40ec-f777-cb8ebbebdb9a"
      },
      "outputs": [
        {
          "data": {
            "text/plain": [
              "[<matplotlib.lines.Line2D at 0x7f20a8dde510>]"
            ]
          },
          "execution_count": 20,
          "metadata": {},
          "output_type": "execute_result"
        },
        {
          "data": {
            "image/png": "[encoded data removed]",
            "text/plain": [
              "<Figure size 432x288 with 1 Axes>"
            ]
          },
          "metadata": {},
          "output_type": "display_data"
        }
      ],
      "source": [
        "# Plotting the results in a line plot\n",
        "plt.plot(ks, inertias, marker='o')"
      ]
    },
    {
      "cell_type": "markdown",
      "metadata": {
        "id": "0q8zlBQkU11L"
      },
      "source": [
        "## Task: 9 KMeans to visualize clusters in the PCA scatter plot"
      ]
    },
    {
      "cell_type": "markdown",
      "metadata": {
        "id": "hYDu029vU6wZ"
      },
      "source": [
        "Since there wasn't a clear elbow in the scree plot, assigning the states to either two or three clusters is a reasonable choice, and we will resume our analysis using three clusters. Let's see how the PCA scatter plot looks if we color the states according to the cluster to which they are assigned."
      ]
    },
    {
      "cell_type": "code",
      "execution_count": null,
      "metadata": {
        "colab": {
          "base_uri": "https://localhost:8080/"
        },
        "id": "1P4eYHEKU_bf",
        "outputId": "96998f2f-fe87-4980-e444-47eb792f8c2d"
      },
      "outputs": [
        {
          "data": {
            "text/plain": [
              "KMeans(n_clusters=3, random_state=8)"
            ]
          },
          "execution_count": 21,
          "metadata": {},
          "output_type": "execute_result"
        }
      ],
      "source": [
        "# Create a KMeans object with 3 clusters, use random_state=8 \n",
        "km = KMeans(n_clusters=3,random_state=8)\n",
        "\n",
        "# Fit the data to the `km` object\n",
        "km.fit(features_scaled)"
      ]
    },
    {
      "cell_type": "code",
      "execution_count": null,
      "metadata": {
        "colab": {
          "base_uri": "https://localhost:8080/",
          "height": 282
        },
        "id": "fYeU0tJViAfm",
        "outputId": "d8a1477b-73b1-4bff-b70e-f1c1ecda80cf"
      },
      "outputs": [
        {
          "data": {
            "text/plain": [
              "<matplotlib.collections.PathCollection at 0x7f20a8d50b10>"
            ]
          },
          "execution_count": 24,
          "metadata": {},
          "output_type": "execute_result"
        },
        {
          "data": {
            "image/png": "[encoded data removed]",
            "text/plain": [
              "<Figure size 432x288 with 1 Axes>"
            ]
          },
          "metadata": {},
          "output_type": "display_data"
        }
      ],
      "source": [
        "# Create a scatter plot of the first two principal components\n",
        "plt.scatter(p_comps[:,0], p_comps[:,1], c=km.labels_)"
      ]
    },
    {
      "cell_type": "markdown",
      "metadata": {
        "id": "iRcORG60Vd80"
      },
      "source": [
        "## Task: 10 Visualize the feature differences between the clusters"
      ]
    },
    {
      "cell_type": "markdown",
      "metadata": {
        "id": "RdNee62rVh4G"
      },
      "source": [
        "Thus far, we have used both our visual interpretation of the data and the KMeans clustering algorithm to reveal patterns in the data, but what do these patterns mean?\n",
        "\n",
        "Remember that the information we have used to cluster the states into three distinct groups are the percentage of drivers speeding, under alcohol influence and that has not previously been involved in an accident. We used these clusters to visualize how the states group together when considering the first two principal components. This is good for us to understand structure in the data, but not always easy to understand, especially not if the findings are to be communicated to a non-specialist audience.\n",
        "\n",
        "A reasonable next step in our analysis is to explore how the three clusters are different in terms of the three features that we used for clustering. Instead of using the scaled features, we return to using the unscaled features to help us interpret the differences."
      ]
    },
    {
      "cell_type": "code",
      "execution_count": null,
      "metadata": {
        "colab": {
          "base_uri": "https://localhost:8080/",
          "height": 297
        },
        "id": "9zLWKRnSiAcu",
        "outputId": "9e262700-9614-43ce-f276-f8d1f302c2b1"
      },
      "outputs": [
        {
          "data": {
            "text/plain": [
              "<matplotlib.axes._subplots.AxesSubplot at 0x7f20a9adc110>"
            ]
          },
          "execution_count": 25,
          "metadata": {},
          "output_type": "execute_result"
        },
        {
          "data": {
            "image/png": "[encoded data removed]",
            "text/plain": [
              "<Figure size 432x288 with 1 Axes>"
            ]
          },
          "metadata": {},
          "output_type": "display_data"
        }
      ],
      "source": [
        "# Create a new column with the labels from the KMeans clustering\n",
        "road_acc['cluster'] = km.labels_\n",
        "\n",
        "# Reshape the DataFrame to the long format\n",
        "melt_road = pd.melt(road_acc, id_vars='cluster', var_name='measurement',\n",
        "                  value_name=\"percent\", value_vars=[\"perc_fatl_speed\", \"perc_fatl_alcohol\", \"perc_fatl_1st_time\"])\n",
        "\n",
        "# Create a violin plot splitting and coloring the results according to the km-clusters\n",
        "sns.violinplot(data=melt_road, x=\"measurement\", y=\"percent\", hue=\"cluster\")"
      ]
    },
    {
      "cell_type": "markdown",
      "metadata": {
        "id": "HsA1Z9j4X03O"
      },
      "source": [
        "## Task: 11 Compute the number of accidents within each cluster"
      ]
    },
    {
      "cell_type": "markdown",
      "metadata": {
        "id": "HO5jkbOTX4e5"
      },
      "source": [
        "Now it is clear that different groups of states may require different interventions. Since resources and time are limited, it is useful to start off with an intervention in one of the three groups first. Which group would this be? To determine this, we will include data on how many miles are driven in each state, because this will help us to compute the total number of fatal accidents in each state. Data on miles driven is available in another tab-delimited text file. We will assign this new information to a column in the DataFrame and create a violin plot for how many total fatal traffic accidents there are within each state cluster."
      ]
    },
    {
      "cell_type": "code",
      "execution_count": null,
      "metadata": {
        "colab": {
          "base_uri": "https://localhost:8080/",
          "height": 305
        },
        "id": "gJWVKhuWYUj_",
        "outputId": "bf67457a-8ff9-4acf-e4e7-27b7bb85f142"
      },
      "outputs": [
        {
          "data": {
            "application/vnd.google.colaboratory.module+javascript": "\n      import \"https://ssl.gstatic.com/colaboratory/data_table/a8bd4d5e58f96183/data_table.js\";\n\n      window.createDataTable({\n        data: [[{\n            'v': 0,\n            'f': \"0\",\n        },\n\"Alabama\",\n{\n            'v': 64914,\n            'f': \"64914\",\n        }],\n [{\n            'v': 1,\n            'f': \"1\",\n        },\n\"Alaska\",\n{\n            'v': 4593,\n            'f': \"4593\",\n        }],\n [{\n            'v': 2,\n            'f': \"2\",\n        },\n\"Arizona\",\n{\n            'v': 59575,\n            'f': \"59575\",\n        }],\n [{\n            'v': 3,\n            'f': \"3\",\n        },\n\"Arkansas\",\n{\n            'v': 32953,\n            'f': \"32953\",\n        }],\n [{\n            'v': 4,\n            'f': \"4\",\n        },\n\"California\",\n{\n            'v': 320784,\n            'f': \"320784\",\n        }],\n [{\n            'v': 5,\n            'f': \"5\",\n        },\n\"Colorado\",\n{\n            'v': 46606,\n            'f': \"46606\",\n        }],\n [{\n            'v': 6,\n            'f': \"6\",\n        },\n\"Connecticut\",\n{\n            'v': 31197,\n            'f': \"31197\",\n        }],\n [{\n            'v': 7,\n            'f': \"7\",\n        },\n\"Delaware\",\n{\n            'v': 9028,\n            'f': \"9028\",\n        }],\n [{\n            'v': 8,\n            'f': \"8\",\n        },\n\"District of Columbia\",\n{\n            'v': 3568,\n            'f': \"3568\",\n        }],\n [{\n            'v': 9,\n            'f': \"9\",\n        },\n\"Florida\",\n{\n            'v': 191855,\n            'f': \"191855\",\n        }]],\n        columns: [[\"number\", \"index\"], [\"string\", \"state\"], [\"number\", \"million_miles_annually\"]],\n        columnOptions: [{\"width\": \"1px\", \"className\": \"index_column\"}],\n        rowsPerPage: 25,\n        helpUrl: \"https://colab.research.google.com/notebooks/data_table.ipynb\",\n        suppressOutputScrolling: true,\n        minimumWidth: undefined,\n      });\n    ",
            "text/html": [
              "\n",
              "  <div id=\"df-f5b8146f-3d38-4831-b024-48745e8792d1\">\n",
              "    <div class=\"colab-df-container\">\n",
              "      <div>\n",
              "<style scoped>\n",
              "    .dataframe tbody tr th:only-of-type {\n",
              "        vertical-align: middle;\n",
              "    }\n",
              "\n",
              "    .dataframe tbody tr th {\n",
              "        vertical-align: top;\n",
              "    }\n",
              "\n",
              "    .dataframe thead th {\n",
              "        text-align: right;\n",
              "    }\n",
              "</style>\n",
              "<table border=\"1\" class=\"dataframe\">\n",
              "  <thead>\n",
              "    <tr style=\"text-align: right;\">\n",
              "      <th></th>\n",
              "      <th>state</th>\n",
              "      <th>million_miles_annually</th>\n",
              "    </tr>\n",
              "  </thead>\n",
              "  <tbody>\n",
              "    <tr>\n",
              "      <th>0</th>\n",
              "      <td>Alabama</td>\n",
              "      <td>64914</td>\n",
              "    </tr>\n",
              "    <tr>\n",
              "      <th>1</th>\n",
              "      <td>Alaska</td>\n",
              "      <td>4593</td>\n",
              "    </tr>\n",
              "    <tr>\n",
              "      <th>2</th>\n",
              "      <td>Arizona</td>\n",
              "      <td>59575</td>\n",
              "    </tr>\n",
              "    <tr>\n",
              "      <th>3</th>\n",
              "      <td>Arkansas</td>\n",
              "      <td>32953</td>\n",
              "    </tr>\n",
              "    <tr>\n",
              "      <th>4</th>\n",
              "      <td>California</td>\n",
              "      <td>320784</td>\n",
              "    </tr>\n",
              "    <tr>\n",
              "      <th>5</th>\n",
              "      <td>Colorado</td>\n",
              "      <td>46606</td>\n",
              "    </tr>\n",
              "    <tr>\n",
              "      <th>6</th>\n",
              "      <td>Connecticut</td>\n",
              "      <td>31197</td>\n",
              "    </tr>\n",
              "    <tr>\n",
              "      <th>7</th>\n",
              "      <td>Delaware</td>\n",
              "      <td>9028</td>\n",
              "    </tr>\n",
              "    <tr>\n",
              "      <th>8</th>\n",
              "      <td>District of Columbia</td>\n",
              "      <td>3568</td>\n",
              "    </tr>\n",
              "    <tr>\n",
              "      <th>9</th>\n",
              "      <td>Florida</td>\n",
              "      <td>191855</td>\n",
              "    </tr>\n",
              "  </tbody>\n",
              "</table>\n",
              "</div>\n",
              "      <button class=\"colab-df-convert\" onclick=\"convertToInteractive('df-f5b8146f-3d38-4831-b024-48745e8792d1')\"\n",
              "              title=\"Convert this dataframe to an interactive table.\"\n",
              "              style=\"display:none;\">\n",
              "        \n",
              "  <svg xmlns=\"http://www.w3.org/2000/svg\" height=\"24px\"viewBox=\"0 0 24 24\"\n",
              "       width=\"24px\">\n",
              "    <path d=\"M0 0h24v24H0V0z\" fill=\"none\"/>\n",
              "    <path d=\"M18.56 5.44l.94 2.06.94-2.06 2.06-.94-2.06-.94-.94-2.06-.94 2.06-2.06.94zm-11 1L8.5 8.5l.94-2.06 2.06-.94-2.06-.94L8.5 2.5l-.94 2.06-2.06.94zm10 10l.94 2.06.94-2.06 2.06-.94-2.06-.94-.94-2.06-.94 2.06-2.06.94z\"/><path d=\"M17.41 7.96l-1.37-1.37c-.4-.4-.92-.59-1.43-.59-.52 0-1.04.2-1.43.59L10.3 9.45l-7.72 7.72c-.78.78-.78 2.05 0 2.83L4 21.41c.39.39.9.59 1.41.59.51 0 1.02-.2 1.41-.59l7.78-7.78 2.81-2.81c.8-.78.8-2.07 0-2.86zM5.41 20L4 18.59l7.72-7.72 1.47 1.35L5.41 20z\"/>\n",
              "  </svg>\n",
              "      </button>\n",
              "      \n",
              "  <style>\n",
              "    .colab-df-container {\n",
              "      display:flex;\n",
              "      flex-wrap:wrap;\n",
              "      gap: 12px;\n",
              "    }\n",
              "\n",
              "    .colab-df-convert {\n",
              "      background-color: #E8F0FE;\n",
              "      border: none;\n",
              "      border-radius: 50%;\n",
              "      cursor: pointer;\n",
              "      display: none;\n",
              "      fill: #1967D2;\n",
              "      height: 32px;\n",
              "      padding: 0 0 0 0;\n",
              "      width: 32px;\n",
              "    }\n",
              "\n",
              "    .colab-df-convert:hover {\n",
              "      background-color: #E2EBFA;\n",
              "      box-shadow: 0px 1px 2px rgba(60, 64, 67, 0.3), 0px 1px 3px 1px rgba(60, 64, 67, 0.15);\n",
              "      fill: #174EA6;\n",
              "    }\n",
              "\n",
              "    [theme=dark] .colab-df-convert {\n",
              "      background-color: #3B4455;\n",
              "      fill: #D2E3FC;\n",
              "    }\n",
              "\n",
              "    [theme=dark] .colab-df-convert:hover {\n",
              "      background-color: #434B5C;\n",
              "      box-shadow: 0px 1px 3px 1px rgba(0, 0, 0, 0.15);\n",
              "      filter: drop-shadow(0px 1px 2px rgba(0, 0, 0, 0.3));\n",
              "      fill: #FFFFFF;\n",
              "    }\n",
              "  </style>\n",
              "\n",
              "      <script>\n",
              "        const buttonEl =\n",
              "          document.querySelector('#df-f5b8146f-3d38-4831-b024-48745e8792d1 button.colab-df-convert');\n",
              "        buttonEl.style.display =\n",
              "          google.colab.kernel.accessAllowed ? 'block' : 'none';\n",
              "\n",
              "        async function convertToInteractive(key) {\n",
              "          const element = document.querySelector('#df-f5b8146f-3d38-4831-b024-48745e8792d1');\n",
              "          const dataTable =\n",
              "            await google.colab.kernel.invokeFunction('convertToInteractive',\n",
              "                                                     [key], {});\n",
              "          if (!dataTable) return;\n",
              "\n",
              "          const docLinkHtml = 'Like what you see? Visit the ' +\n",
              "            '<a target=\"_blank\" href=https://colab.research.google.com/notebooks/data_table.ipynb>data table notebook</a>'\n",
              "            + ' to learn more about interactive tables.';\n",
              "          element.innerHTML = '';\n",
              "          dataTable['output_type'] = 'display_data';\n",
              "          await google.colab.output.renderOutput(dataTable, element);\n",
              "          const docLink = document.createElement('div');\n",
              "          docLink.innerHTML = docLinkHtml;\n",
              "          element.appendChild(docLink);\n",
              "        }\n",
              "      </script>\n",
              "    </div>\n",
              "  </div>\n",
              "  "
            ],
            "text/plain": [
              "                  state  million_miles_annually\n",
              "0               Alabama                   64914\n",
              "1                Alaska                    4593\n",
              "2               Arizona                   59575\n",
              "3              Arkansas                   32953\n",
              "4            California                  320784\n",
              "5              Colorado                   46606\n",
              "6           Connecticut                   31197\n",
              "7              Delaware                    9028\n",
              "8  District of Columbia                    3568\n",
              "9               Florida                  191855"
            ]
          },
          "execution_count": 27,
          "metadata": {},
          "output_type": "execute_result"
        }
      ],
      "source": [
        "# Reading the \"miles-driven.csv\" dataset\n",
        "miles_driven = pd.read_csv('/content/miles-driven.csv', sep='|')\n",
        "miles_driven.head(10)"
      ]
    },
    {
      "cell_type": "code",
      "execution_count": null,
      "metadata": {
        "colab": {
          "background_save": true
        },
        "id": "2NHBxtW2ZnOg",
        "outputId": "4d00071d-26d4-47b6-c8ab-3e2c8fdb2e0c"
      },
      "outputs": [
        {
          "data": {
            "application/vnd.google.colaboratory.module+javascript": "\n      import \"https://ssl.gstatic.com/colaboratory/data_table/a8bd4d5e58f96183/data_table.js\";\n\n      window.createDataTable({\n        data: [[{\n            'v': 0,\n            'f': \"0\",\n        },\n\"Alabama\",\n{\n            'v': 18.8,\n            'f': \"18.8\",\n        },\n{\n            'v': 39,\n            'f': \"39\",\n        },\n{\n            'v': 30,\n            'f': \"30\",\n        },\n{\n            'v': 80,\n            'f': \"80\",\n        },\n{\n            'v': 0,\n            'f': \"0\",\n        },\n{\n            'v': 64914,\n            'f': \"64914\",\n        }],\n [{\n            'v': 1,\n            'f': \"1\",\n        },\n\"Alaska\",\n{\n            'v': 18.1,\n            'f': \"18.1\",\n        },\n{\n            'v': 41,\n            'f': \"41\",\n        },\n{\n            'v': 25,\n            'f': \"25\",\n        },\n{\n            'v': 94,\n            'f': \"94\",\n        },\n{\n            'v': 2,\n            'f': \"2\",\n        },\n{\n            'v': 4593,\n            'f': \"4593\",\n        }],\n [{\n            'v': 2,\n            'f': \"2\",\n        },\n\"Arizona\",\n{\n            'v': 18.6,\n            'f': \"18.6\",\n        },\n{\n            'v': 35,\n            'f': \"35\",\n        },\n{\n            'v': 28,\n            'f': \"28\",\n        },\n{\n            'v': 96,\n            'f': \"96\",\n        },\n{\n            'v': 2,\n            'f': \"2\",\n        },\n{\n            'v': 59575,\n            'f': \"59575\",\n        }],\n [{\n            'v': 3,\n            'f': \"3\",\n        },\n\"Arkansas\",\n{\n            'v': 22.4,\n            'f': \"22.4\",\n        },\n{\n            'v': 18,\n            'f': \"18\",\n        },\n{\n            'v': 26,\n            'f': \"26\",\n        },\n{\n            'v': 95,\n            'f': \"95\",\n        },\n{\n            'v': 2,\n            'f': \"2\",\n        },\n{\n            'v': 32953,\n            'f': \"32953\",\n        }],\n [{\n            'v': 4,\n            'f': \"4\",\n        },\n\"California\",\n{\n            'v': 12.0,\n            'f': \"12.0\",\n        },\n{\n            'v': 35,\n            'f': \"35\",\n        },\n{\n            'v': 28,\n            'f': \"28\",\n        },\n{\n            'v': 89,\n            'f': \"89\",\n        },\n{\n            'v': 2,\n            'f': \"2\",\n        },\n{\n            'v': 320784,\n            'f': \"320784\",\n        }],\n [{\n            'v': 5,\n            'f': \"5\",\n        },\n\"Colorado\",\n{\n            'v': 13.6,\n            'f': \"13.6\",\n        },\n{\n            'v': 37,\n            'f': \"37\",\n        },\n{\n            'v': 28,\n            'f': \"28\",\n        },\n{\n            'v': 95,\n            'f': \"95\",\n        },\n{\n            'v': 2,\n            'f': \"2\",\n        },\n{\n            'v': 46606,\n            'f': \"46606\",\n        }],\n [{\n            'v': 6,\n            'f': \"6\",\n        },\n\"Connecticut\",\n{\n            'v': 10.8,\n            'f': \"10.8\",\n        },\n{\n            'v': 46,\n            'f': \"46\",\n        },\n{\n            'v': 36,\n            'f': \"36\",\n        },\n{\n            'v': 82,\n            'f': \"82\",\n        },\n{\n            'v': 0,\n            'f': \"0\",\n        },\n{\n            'v': 31197,\n            'f': \"31197\",\n        }],\n [{\n            'v': 7,\n            'f': \"7\",\n        },\n\"Delaware\",\n{\n            'v': 16.2,\n            'f': \"16.2\",\n        },\n{\n            'v': 38,\n            'f': \"38\",\n        },\n{\n            'v': 30,\n            'f': \"30\",\n        },\n{\n            'v': 99,\n            'f': \"99\",\n        },\n{\n            'v': 2,\n            'f': \"2\",\n        },\n{\n            'v': 9028,\n            'f': \"9028\",\n        }],\n [{\n            'v': 8,\n            'f': \"8\",\n        },\n\"District of Columbia\",\n{\n            'v': 5.9,\n            'f': \"5.9\",\n        },\n{\n            'v': 34,\n            'f': \"34\",\n        },\n{\n            'v': 27,\n            'f': \"27\",\n        },\n{\n            'v': 100,\n            'f': \"100\",\n        },\n{\n            'v': 2,\n            'f': \"2\",\n        },\n{\n            'v': 3568,\n            'f': \"3568\",\n        }],\n [{\n            'v': 9,\n            'f': \"9\",\n        },\n\"Florida\",\n{\n            'v': 17.9,\n            'f': \"17.9\",\n        },\n{\n            'v': 21,\n            'f': \"21\",\n        },\n{\n            'v': 29,\n            'f': \"29\",\n        },\n{\n            'v': 94,\n            'f': \"94\",\n        },\n{\n            'v': 2,\n            'f': \"2\",\n        },\n{\n            'v': 191855,\n            'f': \"191855\",\n        }],\n [{\n            'v': 10,\n            'f': \"10\",\n        },\n\"Georgia\",\n{\n            'v': 15.6,\n            'f': \"15.6\",\n        },\n{\n            'v': 19,\n            'f': \"19\",\n        },\n{\n            'v': 25,\n            'f': \"25\",\n        },\n{\n            'v': 93,\n            'f': \"93\",\n        },\n{\n            'v': 2,\n            'f': \"2\",\n        },\n{\n            'v': 108454,\n            'f': \"108454\",\n        }],\n [{\n            'v': 11,\n            'f': \"11\",\n        },\n\"Hawaii\",\n{\n            'v': 17.5,\n            'f': \"17.5\",\n        },\n{\n            'v': 54,\n            'f': \"54\",\n        },\n{\n            'v': 41,\n            'f': \"41\",\n        },\n{\n            'v': 87,\n            'f': \"87\",\n        },\n{\n            'v': 0,\n            'f': \"0\",\n        },\n{\n            'v': 10066,\n            'f': \"10066\",\n        }],\n [{\n            'v': 12,\n            'f': \"12\",\n        },\n\"Idaho\",\n{\n            'v': 15.3,\n            'f': \"15.3\",\n        },\n{\n            'v': 36,\n            'f': \"36\",\n        },\n{\n            'v': 29,\n            'f': \"29\",\n        },\n{\n            'v': 98,\n            'f': \"98\",\n        },\n{\n            'v': 2,\n            'f': \"2\",\n        },\n{\n            'v': 15937,\n            'f': \"15937\",\n        }],\n [{\n            'v': 13,\n            'f': \"13\",\n        },\n\"Illinois\",\n{\n            'v': 12.8,\n            'f': \"12.8\",\n        },\n{\n            'v': 36,\n            'f': \"36\",\n        },\n{\n            'v': 34,\n            'f': \"34\",\n        },\n{\n            'v': 96,\n            'f': \"96\",\n        },\n{\n            'v': 2,\n            'f': \"2\",\n        },\n{\n            'v': 103234,\n            'f': \"103234\",\n        }],\n [{\n            'v': 14,\n            'f': \"14\",\n        },\n\"Indiana\",\n{\n            'v': 14.5,\n            'f': \"14.5\",\n        },\n{\n            'v': 25,\n            'f': \"25\",\n        },\n{\n            'v': 29,\n            'f': \"29\",\n        },\n{\n            'v': 95,\n            'f': \"95\",\n        },\n{\n            'v': 2,\n            'f': \"2\",\n        },\n{\n            'v': 76485,\n            'f': \"76485\",\n        }],\n [{\n            'v': 15,\n            'f': \"15\",\n        },\n\"Iowa\",\n{\n            'v': 15.7,\n            'f': \"15.7\",\n        },\n{\n            'v': 17,\n            'f': \"17\",\n        },\n{\n            'v': 25,\n            'f': \"25\",\n        },\n{\n            'v': 87,\n            'f': \"87\",\n        },\n{\n            'v': 1,\n            'f': \"1\",\n        },\n{\n            'v': 31274,\n            'f': \"31274\",\n        }],\n [{\n            'v': 16,\n            'f': \"16\",\n        },\n\"Kansas\",\n{\n            'v': 17.8,\n            'f': \"17.8\",\n        },\n{\n            'v': 27,\n            'f': \"27\",\n        },\n{\n            'v': 24,\n            'f': \"24\",\n        },\n{\n            'v': 85,\n            'f': \"85\",\n        },\n{\n            'v': 1,\n            'f': \"1\",\n        },\n{\n            'v': 30021,\n            'f': \"30021\",\n        }],\n [{\n            'v': 17,\n            'f': \"17\",\n        },\n\"Kentucky\",\n{\n            'v': 21.4,\n            'f': \"21.4\",\n        },\n{\n            'v': 19,\n            'f': \"19\",\n        },\n{\n            'v': 23,\n            'f': \"23\",\n        },\n{\n            'v': 76,\n            'f': \"76\",\n        },\n{\n            'v': 1,\n            'f': \"1\",\n        },\n{\n            'v': 48061,\n            'f': \"48061\",\n        }],\n [{\n            'v': 18,\n            'f': \"18\",\n        },\n\"Louisiana\",\n{\n            'v': 20.5,\n            'f': \"20.5\",\n        },\n{\n            'v': 35,\n            'f': \"35\",\n        },\n{\n            'v': 33,\n            'f': \"33\",\n        },\n{\n            'v': 98,\n            'f': \"98\",\n        },\n{\n            'v': 2,\n            'f': \"2\",\n        },\n{\n            'v': 46513,\n            'f': \"46513\",\n        }],\n [{\n            'v': 19,\n            'f': \"19\",\n        },\n\"Maine\",\n{\n            'v': 15.1,\n            'f': \"15.1\",\n        },\n{\n            'v': 38,\n            'f': \"38\",\n        },\n{\n            'v': 30,\n            'f': \"30\",\n        },\n{\n            'v': 84,\n            'f': \"84\",\n        },\n{\n            'v': 0,\n            'f': \"0\",\n        },\n{\n            'v': 14248,\n            'f': \"14248\",\n        }],\n [{\n            'v': 20,\n            'f': \"20\",\n        },\n\"Maryland\",\n{\n            'v': 12.5,\n            'f': \"12.5\",\n        },\n{\n            'v': 34,\n            'f': \"34\",\n        },\n{\n            'v': 32,\n            'f': \"32\",\n        },\n{\n            'v': 99,\n            'f': \"99\",\n        },\n{\n            'v': 2,\n            'f': \"2\",\n        },\n{\n            'v': 56221,\n            'f': \"56221\",\n        }],\n [{\n            'v': 21,\n            'f': \"21\",\n        },\n\"Massachusetts\",\n{\n            'v': 8.2,\n            'f': \"8.2\",\n        },\n{\n            'v': 23,\n            'f': \"23\",\n        },\n{\n            'v': 35,\n            'f': \"35\",\n        },\n{\n            'v': 80,\n            'f': \"80\",\n        },\n{\n            'v': 1,\n            'f': \"1\",\n        },\n{\n            'v': 54792,\n            'f': \"54792\",\n        }],\n [{\n            'v': 22,\n            'f': \"22\",\n        },\n\"Michigan\",\n{\n            'v': 14.1,\n            'f': \"14.1\",\n        },\n{\n            'v': 24,\n            'f': \"24\",\n        },\n{\n            'v': 28,\n            'f': \"28\",\n        },\n{\n            'v': 77,\n            'f': \"77\",\n        },\n{\n            'v': 1,\n            'f': \"1\",\n        },\n{\n            'v': 94754,\n            'f': \"94754\",\n        }],\n [{\n            'v': 23,\n            'f': \"23\",\n        },\n\"Minnesota\",\n{\n            'v': 9.6,\n            'f': \"9.6\",\n        },\n{\n            'v': 23,\n            'f': \"23\",\n        },\n{\n            'v': 29,\n            'f': \"29\",\n        },\n{\n            'v': 88,\n            'f': \"88\",\n        },\n{\n            'v': 1,\n            'f': \"1\",\n        },\n{\n            'v': 56685,\n            'f': \"56685\",\n        }],\n [{\n            'v': 24,\n            'f': \"24\",\n        },\n\"Mississippi\",\n{\n            'v': 17.6,\n            'f': \"17.6\",\n        },\n{\n            'v': 15,\n            'f': \"15\",\n        },\n{\n            'v': 31,\n            'f': \"31\",\n        },\n{\n            'v': 100,\n            'f': \"100\",\n        },\n{\n            'v': 2,\n            'f': \"2\",\n        },\n{\n            'v': 38851,\n            'f': \"38851\",\n        }],\n [{\n            'v': 25,\n            'f': \"25\",\n        },\n\"Missouri\",\n{\n            'v': 16.1,\n            'f': \"16.1\",\n        },\n{\n            'v': 43,\n            'f': \"43\",\n        },\n{\n            'v': 34,\n            'f': \"34\",\n        },\n{\n            'v': 84,\n            'f': \"84\",\n        },\n{\n            'v': 0,\n            'f': \"0\",\n        },\n{\n            'v': 68789,\n            'f': \"68789\",\n        }],\n [{\n            'v': 26,\n            'f': \"26\",\n        },\n\"Montana\",\n{\n            'v': 21.4,\n            'f': \"21.4\",\n        },\n{\n            'v': 39,\n            'f': \"39\",\n        },\n{\n            'v': 44,\n            'f': \"44\",\n        },\n{\n            'v': 85,\n            'f': \"85\",\n        },\n{\n            'v': 0,\n            'f': \"0\",\n        },\n{\n            'v': 11660,\n            'f': \"11660\",\n        }],\n [{\n            'v': 27,\n            'f': \"27\",\n        },\n\"Nebraska\",\n{\n            'v': 14.9,\n            'f': \"14.9\",\n        },\n{\n            'v': 13,\n            'f': \"13\",\n        },\n{\n            'v': 35,\n            'f': \"35\",\n        },\n{\n            'v': 90,\n            'f': \"90\",\n        },\n{\n            'v': 1,\n            'f': \"1\",\n        },\n{\n            'v': 19093,\n            'f': \"19093\",\n        }],\n [{\n            'v': 28,\n            'f': \"28\",\n        },\n\"Nevada\",\n{\n            'v': 14.7,\n            'f': \"14.7\",\n        },\n{\n            'v': 37,\n            'f': \"37\",\n        },\n{\n            'v': 32,\n            'f': \"32\",\n        },\n{\n            'v': 99,\n            'f': \"99\",\n        },\n{\n            'v': 2,\n            'f': \"2\",\n        },\n{\n            'v': 24189,\n            'f': \"24189\",\n        }],\n [{\n            'v': 29,\n            'f': \"29\",\n        },\n\"New Hampshire\",\n{\n            'v': 11.6,\n            'f': \"11.6\",\n        },\n{\n            'v': 35,\n            'f': \"35\",\n        },\n{\n            'v': 30,\n            'f': \"30\",\n        },\n{\n            'v': 83,\n            'f': \"83\",\n        },\n{\n            'v': 0,\n            'f': \"0\",\n        },\n{\n            'v': 12720,\n            'f': \"12720\",\n        }],\n [{\n            'v': 30,\n            'f': \"30\",\n        },\n\"New Jersey\",\n{\n            'v': 11.2,\n            'f': \"11.2\",\n        },\n{\n            'v': 16,\n            'f': \"16\",\n        },\n{\n            'v': 28,\n            'f': \"28\",\n        },\n{\n            'v': 78,\n            'f': \"78\",\n        },\n{\n            'v': 1,\n            'f': \"1\",\n        },\n{\n            'v': 73094,\n            'f': \"73094\",\n        }],\n [{\n            'v': 31,\n            'f': \"31\",\n        },\n\"New Mexico\",\n{\n            'v': 18.4,\n            'f': \"18.4\",\n        },\n{\n            'v': 19,\n            'f': \"19\",\n        },\n{\n            'v': 27,\n            'f': \"27\",\n        },\n{\n            'v': 98,\n            'f': \"98\",\n        },\n{\n            'v': 2,\n            'f': \"2\",\n        },\n{\n            'v': 25650,\n            'f': \"25650\",\n        }],\n [{\n            'v': 32,\n            'f': \"32\",\n        },\n\"New York\",\n{\n            'v': 12.3,\n            'f': \"12.3\",\n        },\n{\n            'v': 32,\n            'f': \"32\",\n        },\n{\n            'v': 29,\n            'f': \"29\",\n        },\n{\n            'v': 80,\n            'f': \"80\",\n        },\n{\n            'v': 1,\n            'f': \"1\",\n        },\n{\n            'v': 127726,\n            'f': \"127726\",\n        }],\n [{\n            'v': 33,\n            'f': \"33\",\n        },\n\"North Carolina\",\n{\n            'v': 16.8,\n            'f': \"16.8\",\n        },\n{\n            'v': 39,\n            'f': \"39\",\n        },\n{\n            'v': 31,\n            'f': \"31\",\n        },\n{\n            'v': 81,\n            'f': \"81\",\n        },\n{\n            'v': 0,\n            'f': \"0\",\n        },\n{\n            'v': 103772,\n            'f': \"103772\",\n        }],\n [{\n            'v': 34,\n            'f': \"34\",\n        },\n\"North Dakota\",\n{\n            'v': 23.9,\n            'f': \"23.9\",\n        },\n{\n            'v': 23,\n            'f': \"23\",\n        },\n{\n            'v': 42,\n            'f': \"42\",\n        },\n{\n            'v': 86,\n            'f': \"86\",\n        },\n{\n            'v': 0,\n            'f': \"0\",\n        },\n{\n            'v': 9131,\n            'f': \"9131\",\n        }],\n [{\n            'v': 35,\n            'f': \"35\",\n        },\n\"Ohio\",\n{\n            'v': 14.1,\n            'f': \"14.1\",\n        },\n{\n            'v': 28,\n            'f': \"28\",\n        },\n{\n            'v': 34,\n            'f': \"34\",\n        },\n{\n            'v': 82,\n            'f': \"82\",\n        },\n{\n            'v': 0,\n            'f': \"0\",\n        },\n{\n            'v': 111990,\n            'f': \"111990\",\n        }],\n [{\n            'v': 36,\n            'f': \"36\",\n        },\n\"Oklahoma\",\n{\n            'v': 19.9,\n            'f': \"19.9\",\n        },\n{\n            'v': 32,\n            'f': \"32\",\n        },\n{\n            'v': 29,\n            'f': \"29\",\n        },\n{\n            'v': 94,\n            'f': \"94\",\n        },\n{\n            'v': 2,\n            'f': \"2\",\n        },\n{\n            'v': 47464,\n            'f': \"47464\",\n        }],\n [{\n            'v': 37,\n            'f': \"37\",\n        },\n\"Oregon\",\n{\n            'v': 12.8,\n            'f': \"12.8\",\n        },\n{\n            'v': 33,\n            'f': \"33\",\n        },\n{\n            'v': 26,\n            'f': \"26\",\n        },\n{\n            'v': 90,\n            'f': \"90\",\n        },\n{\n            'v': 2,\n            'f': \"2\",\n        },\n{\n            'v': 33373,\n            'f': \"33373\",\n        }],\n [{\n            'v': 38,\n            'f': \"38\",\n        },\n\"Pennsylvania\",\n{\n            'v': 18.2,\n            'f': \"18.2\",\n        },\n{\n            'v': 50,\n            'f': \"50\",\n        },\n{\n            'v': 31,\n            'f': \"31\",\n        },\n{\n            'v': 88,\n            'f': \"88\",\n        },\n{\n            'v': 0,\n            'f': \"0\",\n        },\n{\n            'v': 99204,\n            'f': \"99204\",\n        }],\n [{\n            'v': 39,\n            'f': \"39\",\n        },\n\"Rhode Island\",\n{\n            'v': 11.1,\n            'f': \"11.1\",\n        },\n{\n            'v': 34,\n            'f': \"34\",\n        },\n{\n            'v': 38,\n            'f': \"38\",\n        },\n{\n            'v': 79,\n            'f': \"79\",\n        },\n{\n            'v': 0,\n            'f': \"0\",\n        },\n{\n            'v': 7901,\n            'f': \"7901\",\n        }],\n [{\n            'v': 40,\n            'f': \"40\",\n        },\n\"South Carolina\",\n{\n            'v': 23.9,\n            'f': \"23.9\",\n        },\n{\n            'v': 38,\n            'f': \"38\",\n        },\n{\n            'v': 41,\n            'f': \"41\",\n        },\n{\n            'v': 81,\n            'f': \"81\",\n        },\n{\n            'v': 0,\n            'f': \"0\",\n        },\n{\n            'v': 48730,\n            'f': \"48730\",\n        }],\n [{\n            'v': 41,\n            'f': \"41\",\n        },\n\"South Dakota\",\n{\n            'v': 19.4,\n            'f': \"19.4\",\n        },\n{\n            'v': 31,\n            'f': \"31\",\n        },\n{\n            'v': 33,\n            'f': \"33\",\n        },\n{\n            'v': 86,\n            'f': \"86\",\n        },\n{\n            'v': 0,\n            'f': \"0\",\n        },\n{\n            'v': 9002,\n            'f': \"9002\",\n        }],\n [{\n            'v': 42,\n            'f': \"42\",\n        },\n\"Tennessee\",\n{\n            'v': 19.5,\n            'f': \"19.5\",\n        },\n{\n            'v': 21,\n            'f': \"21\",\n        },\n{\n            'v': 29,\n            'f': \"29\",\n        },\n{\n            'v': 81,\n            'f': \"81\",\n        },\n{\n            'v': 1,\n            'f': \"1\",\n        },\n{\n            'v': 70751,\n            'f': \"70751\",\n        }],\n [{\n            'v': 43,\n            'f': \"43\",\n        },\n\"Texas\",\n{\n            'v': 19.4,\n            'f': \"19.4\",\n        },\n{\n            'v': 40,\n            'f': \"40\",\n        },\n{\n            'v': 38,\n            'f': \"38\",\n        },\n{\n            'v': 87,\n            'f': \"87\",\n        },\n{\n            'v': 0,\n            'f': \"0\",\n        },\n{\n            'v': 237440,\n            'f': \"237440\",\n        }],\n [{\n            'v': 44,\n            'f': \"44\",\n        },\n\"Utah\",\n{\n            'v': 11.3,\n            'f': \"11.3\",\n        },\n{\n            'v': 43,\n            'f': \"43\",\n        },\n{\n            'v': 16,\n            'f': \"16\",\n        },\n{\n            'v': 96,\n            'f': \"96\",\n        },\n{\n            'v': 2,\n            'f': \"2\",\n        },\n{\n            'v': 26222,\n            'f': \"26222\",\n        }],\n [{\n            'v': 45,\n            'f': \"45\",\n        },\n\"Vermont\",\n{\n            'v': 13.6,\n            'f': \"13.6\",\n        },\n{\n            'v': 30,\n            'f': \"30\",\n        },\n{\n            'v': 30,\n            'f': \"30\",\n        },\n{\n            'v': 95,\n            'f': \"95\",\n        },\n{\n            'v': 2,\n            'f': \"2\",\n        },\n{\n            'v': 7141,\n            'f': \"7141\",\n        }],\n [{\n            'v': 46,\n            'f': \"46\",\n        },\n\"Virginia\",\n{\n            'v': 12.7,\n            'f': \"12.7\",\n        },\n{\n            'v': 19,\n            'f': \"19\",\n        },\n{\n            'v': 27,\n            'f': \"27\",\n        },\n{\n            'v': 88,\n            'f': \"88\",\n        },\n{\n            'v': 1,\n            'f': \"1\",\n        },\n{\n            'v': 80974,\n            'f': \"80974\",\n        }],\n [{\n            'v': 47,\n            'f': \"47\",\n        },\n\"Washington\",\n{\n            'v': 10.6,\n            'f': \"10.6\",\n        },\n{\n            'v': 42,\n            'f': \"42\",\n        },\n{\n            'v': 33,\n            'f': \"33\",\n        },\n{\n            'v': 86,\n            'f': \"86\",\n        },\n{\n            'v': 0,\n            'f': \"0\",\n        },\n{\n            'v': 56955,\n            'f': \"56955\",\n        }],\n [{\n            'v': 48,\n            'f': \"48\",\n        },\n\"West Virginia\",\n{\n            'v': 23.8,\n            'f': \"23.8\",\n        },\n{\n            'v': 34,\n            'f': \"34\",\n        },\n{\n            'v': 28,\n            'f': \"28\",\n        },\n{\n            'v': 87,\n            'f': \"87\",\n        },\n{\n            'v': 2,\n            'f': \"2\",\n        },\n{\n            'v': 18963,\n            'f': \"18963\",\n        }],\n [{\n            'v': 49,\n            'f': \"49\",\n        },\n\"Wisconsin\",\n{\n            'v': 13.8,\n            'f': \"13.8\",\n        },\n{\n            'v': 36,\n            'f': \"36\",\n        },\n{\n            'v': 33,\n            'f': \"33\",\n        },\n{\n            'v': 84,\n            'f': \"84\",\n        },\n{\n            'v': 0,\n            'f': \"0\",\n        },\n{\n            'v': 58554,\n            'f': \"58554\",\n        }],\n [{\n            'v': 50,\n            'f': \"50\",\n        },\n\"Wyoming\",\n{\n            'v': 17.4,\n            'f': \"17.4\",\n        },\n{\n            'v': 42,\n            'f': \"42\",\n        },\n{\n            'v': 32,\n            'f': \"32\",\n        },\n{\n            'v': 90,\n            'f': \"90\",\n        },\n{\n            'v': 0,\n            'f': \"0\",\n        },\n{\n            'v': 9245,\n            'f': \"9245\",\n        }]],\n        columns: [[\"number\", \"index\"], [\"string\", \"state\"], [\"number\", \"drvr_fatl_col_bmiles\"], [\"number\", \"perc_fatl_speed\"], [\"number\", \"perc_fatl_alcohol\"], [\"number\", \"perc_fatl_1st_time\"], [\"number\", \"cluster\"], [\"number\", \"million_miles_annually\"]],\n        columnOptions: [{\"width\": \"1px\", \"className\": \"index_column\"}],\n        rowsPerPage: 25,\n        helpUrl: \"https://colab.research.google.com/notebooks/data_table.ipynb\",\n        suppressOutputScrolling: true,\n        minimumWidth: undefined,\n      });\n    ",
            "text/html": [
              "\n",
              "  <div id=\"df-d3b0e842-b4a4-4c88-abf4-85637cf9f5c3\">\n",
              "    <div class=\"colab-df-container\">\n",
              "      <div>\n",
              "<style scoped>\n",
              "    .dataframe tbody tr th:only-of-type {\n",
              "        vertical-align: middle;\n",
              "    }\n",
              "\n",
              "    .dataframe tbody tr th {\n",
              "        vertical-align: top;\n",
              "    }\n",
              "\n",
              "    .dataframe thead th {\n",
              "        text-align: right;\n",
              "    }\n",
              "</style>\n",
              "<table border=\"1\" class=\"dataframe\">\n",
              "  <thead>\n",
              "    <tr style=\"text-align: right;\">\n",
              "      <th></th>\n",
              "      <th>state</th>\n",
              "      <th>drvr_fatl_col_bmiles</th>\n",
              "      <th>perc_fatl_speed</th>\n",
              "      <th>perc_fatl_alcohol</th>\n",
              "      <th>perc_fatl_1st_time</th>\n",
              "      <th>cluster</th>\n",
              "      <th>million_miles_annually</th>\n",
              "    </tr>\n",
              "  </thead>\n",
              "  <tbody>\n",
              "    <tr>\n",
              "      <th>0</th>\n",
              "      <td>Alabama</td>\n",
              "      <td>18.8</td>\n",
              "      <td>39</td>\n",
              "      <td>30</td>\n",
              "      <td>80</td>\n",
              "      <td>0</td>\n",
              "      <td>64914</td>\n",
              "    </tr>\n",
              "    <tr>\n",
              "      <th>1</th>\n",
              "      <td>Alaska</td>\n",
              "      <td>18.1</td>\n",
              "      <td>41</td>\n",
              "      <td>25</td>\n",
              "      <td>94</td>\n",
              "      <td>2</td>\n",
              "      <td>4593</td>\n",
              "    </tr>\n",
              "    <tr>\n",
              "      <th>2</th>\n",
              "      <td>Arizona</td>\n",
              "      <td>18.6</td>\n",
              "      <td>35</td>\n",
              "      <td>28</td>\n",
              "      <td>96</td>\n",
              "      <td>2</td>\n",
              "      <td>59575</td>\n",
              "    </tr>\n",
              "    <tr>\n",
              "      <th>3</th>\n",
              "      <td>Arkansas</td>\n",
              "      <td>22.4</td>\n",
              "      <td>18</td>\n",
              "      <td>26</td>\n",
              "      <td>95</td>\n",
              "      <td>2</td>\n",
              "      <td>32953</td>\n",
              "    </tr>\n",
              "    <tr>\n",
              "      <th>4</th>\n",
              "      <td>California</td>\n",
              "      <td>12.0</td>\n",
              "      <td>35</td>\n",
              "      <td>28</td>\n",
              "      <td>89</td>\n",
              "      <td>2</td>\n",
              "      <td>320784</td>\n",
              "    </tr>\n",
              "    <tr>\n",
              "      <th>5</th>\n",
              "      <td>Colorado</td>\n",
              "      <td>13.6</td>\n",
              "      <td>37</td>\n",
              "      <td>28</td>\n",
              "      <td>95</td>\n",
              "      <td>2</td>\n",
              "      <td>46606</td>\n",
              "    </tr>\n",
              "    <tr>\n",
              "      <th>6</th>\n",
              "      <td>Connecticut</td>\n",
              "      <td>10.8</td>\n",
              "      <td>46</td>\n",
              "      <td>36</td>\n",
              "      <td>82</td>\n",
              "      <td>0</td>\n",
              "      <td>31197</td>\n",
              "    </tr>\n",
              "    <tr>\n",
              "      <th>7</th>\n",
              "      <td>Delaware</td>\n",
              "      <td>16.2</td>\n",
              "      <td>38</td>\n",
              "      <td>30</td>\n",
              "      <td>99</td>\n",
              "      <td>2</td>\n",
              "      <td>9028</td>\n",
              "    </tr>\n",
              "    <tr>\n",
              "      <th>8</th>\n",
              "      <td>District of Columbia</td>\n",
              "      <td>5.9</td>\n",
              "      <td>34</td>\n",
              "      <td>27</td>\n",
              "      <td>100</td>\n",
              "      <td>2</td>\n",
              "      <td>3568</td>\n",
              "    </tr>\n",
              "    <tr>\n",
              "      <th>9</th>\n",
              "      <td>Florida</td>\n",
              "      <td>17.9</td>\n",
              "      <td>21</td>\n",
              "      <td>29</td>\n",
              "      <td>94</td>\n",
              "      <td>2</td>\n",
              "      <td>191855</td>\n",
              "    </tr>\n",
              "    <tr>\n",
              "      <th>10</th>\n",
              "      <td>Georgia</td>\n",
              "      <td>15.6</td>\n",
              "      <td>19</td>\n",
              "      <td>25</td>\n",
              "      <td>93</td>\n",
              "      <td>2</td>\n",
              "      <td>108454</td>\n",
              "    </tr>\n",
              "    <tr>\n",
              "      <th>11</th>\n",
              "      <td>Hawaii</td>\n",
              "      <td>17.5</td>\n",
              "      <td>54</td>\n",
              "      <td>41</td>\n",
              "      <td>87</td>\n",
              "      <td>0</td>\n",
              "      <td>10066</td>\n",
              "    </tr>\n",
              "    <tr>\n",
              "      <th>12</th>\n",
              "      <td>Idaho</td>\n",
              "      <td>15.3</td>\n",
              "      <td>36</td>\n",
              "      <td>29</td>\n",
              "      <td>98</td>\n",
              "      <td>2</td>\n",
              "      <td>15937</td>\n",
              "    </tr>\n",
              "    <tr>\n",
              "      <th>13</th>\n",
              "      <td>Illinois</td>\n",
              "      <td>12.8</td>\n",
              "      <td>36</td>\n",
              "      <td>34</td>\n",
              "      <td>96</td>\n",
              "      <td>2</td>\n",
              "      <td>103234</td>\n",
              "    </tr>\n",
              "    <tr>\n",
              "      <th>14</th>\n",
              "      <td>Indiana</td>\n",
              "      <td>14.5</td>\n",
              "      <td>25</td>\n",
              "      <td>29</td>\n",
              "      <td>95</td>\n",
              "      <td>2</td>\n",
              "      <td>76485</td>\n",
              "    </tr>\n",
              "    <tr>\n",
              "      <th>15</th>\n",
              "      <td>Iowa</td>\n",
              "      <td>15.7</td>\n",
              "      <td>17</td>\n",
              "      <td>25</td>\n",
              "      <td>87</td>\n",
              "      <td>1</td>\n",
              "      <td>31274</td>\n",
              "    </tr>\n",
              "    <tr>\n",
              "      <th>16</th>\n",
              "      <td>Kansas</td>\n",
              "      <td>17.8</td>\n",
              "      <td>27</td>\n",
              "      <td>24</td>\n",
              "      <td>85</td>\n",
              "      <td>1</td>\n",
              "      <td>30021</td>\n",
              "    </tr>\n",
              "    <tr>\n",
              "      <th>17</th>\n",
              "      <td>Kentucky</td>\n",
              "      <td>21.4</td>\n",
              "      <td>19</td>\n",
              "      <td>23</td>\n",
              "      <td>76</td>\n",
              "      <td>1</td>\n",
              "      <td>48061</td>\n",
              "    </tr>\n",
              "    <tr>\n",
              "      <th>18</th>\n",
              "      <td>Louisiana</td>\n",
              "      <td>20.5</td>\n",
              "      <td>35</td>\n",
              "      <td>33</td>\n",
              "      <td>98</td>\n",
              "      <td>2</td>\n",
              "      <td>46513</td>\n",
              "    </tr>\n",
              "    <tr>\n",
              "      <th>19</th>\n",
              "      <td>Maine</td>\n",
              "      <td>15.1</td>\n",
              "      <td>38</td>\n",
              "      <td>30</td>\n",
              "      <td>84</td>\n",
              "      <td>0</td>\n",
              "      <td>14248</td>\n",
              "    </tr>\n",
              "    <tr>\n",
              "      <th>20</th>\n",
              "      <td>Maryland</td>\n",
              "      <td>12.5</td>\n",
              "      <td>34</td>\n",
              "      <td>32</td>\n",
              "      <td>99</td>\n",
              "      <td>2</td>\n",
              "      <td>56221</td>\n",
              "    </tr>\n",
              "    <tr>\n",
              "      <th>21</th>\n",
              "      <td>Massachusetts</td>\n",
              "      <td>8.2</td>\n",
              "      <td>23</td>\n",
              "      <td>35</td>\n",
              "      <td>80</td>\n",
              "      <td>1</td>\n",
              "      <td>54792</td>\n",
              "    </tr>\n",
              "    <tr>\n",
              "      <th>22</th>\n",
              "      <td>Michigan</td>\n",
              "      <td>14.1</td>\n",
              "      <td>24</td>\n",
              "      <td>28</td>\n",
              "      <td>77</td>\n",
              "      <td>1</td>\n",
              "      <td>94754</td>\n",
              "    </tr>\n",
              "    <tr>\n",
              "      <th>23</th>\n",
              "      <td>Minnesota</td>\n",
              "      <td>9.6</td>\n",
              "      <td>23</td>\n",
              "      <td>29</td>\n",
              "      <td>88</td>\n",
              "      <td>1</td>\n",
              "      <td>56685</td>\n",
              "    </tr>\n",
              "    <tr>\n",
              "      <th>24</th>\n",
              "      <td>Mississippi</td>\n",
              "      <td>17.6</td>\n",
              "      <td>15</td>\n",
              "      <td>31</td>\n",
              "      <td>100</td>\n",
              "      <td>2</td>\n",
              "      <td>38851</td>\n",
              "    </tr>\n",
              "    <tr>\n",
              "      <th>25</th>\n",
              "      <td>Missouri</td>\n",
              "      <td>16.1</td>\n",
              "      <td>43</td>\n",
              "      <td>34</td>\n",
              "      <td>84</td>\n",
              "      <td>0</td>\n",
              "      <td>68789</td>\n",
              "    </tr>\n",
              "    <tr>\n",
              "      <th>26</th>\n",
              "      <td>Montana</td>\n",
              "      <td>21.4</td>\n",
              "      <td>39</td>\n",
              "      <td>44</td>\n",
              "      <td>85</td>\n",
              "      <td>0</td>\n",
              "      <td>11660</td>\n",
              "    </tr>\n",
              "    <tr>\n",
              "      <th>27</th>\n",
              "      <td>Nebraska</td>\n",
              "      <td>14.9</td>\n",
              "      <td>13</td>\n",
              "      <td>35</td>\n",
              "      <td>90</td>\n",
              "      <td>1</td>\n",
              "      <td>19093</td>\n",
              "    </tr>\n",
              "    <tr>\n",
              "      <th>28</th>\n",
              "      <td>Nevada</td>\n",
              "      <td>14.7</td>\n",
              "      <td>37</td>\n",
              "      <td>32</td>\n",
              "      <td>99</td>\n",
              "      <td>2</td>\n",
              "      <td>24189</td>\n",
              "    </tr>\n",
              "    <tr>\n",
              "      <th>29</th>\n",
              "      <td>New Hampshire</td>\n",
              "      <td>11.6</td>\n",
              "      <td>35</td>\n",
              "      <td>30</td>\n",
              "      <td>83</td>\n",
              "      <td>0</td>\n",
              "      <td>12720</td>\n",
              "    </tr>\n",
              "    <tr>\n",
              "      <th>30</th>\n",
              "      <td>New Jersey</td>\n",
              "      <td>11.2</td>\n",
              "      <td>16</td>\n",
              "      <td>28</td>\n",
              "      <td>78</td>\n",
              "      <td>1</td>\n",
              "      <td>73094</td>\n",
              "    </tr>\n",
              "    <tr>\n",
              "      <th>31</th>\n",
              "      <td>New Mexico</td>\n",
              "      <td>18.4</td>\n",
              "      <td>19</td>\n",
              "      <td>27</td>\n",
              "      <td>98</td>\n",
              "      <td>2</td>\n",
              "      <td>25650</td>\n",
              "    </tr>\n",
              "    <tr>\n",
              "      <th>32</th>\n",
              "      <td>New York</td>\n",
              "      <td>12.3</td>\n",
              "      <td>32</td>\n",
              "      <td>29</td>\n",
              "      <td>80</td>\n",
              "      <td>1</td>\n",
              "      <td>127726</td>\n",
              "    </tr>\n",
              "    <tr>\n",
              "      <th>33</th>\n",
              "      <td>North Carolina</td>\n",
              "      <td>16.8</td>\n",
              "      <td>39</td>\n",
              "      <td>31</td>\n",
              "      <td>81</td>\n",
              "      <td>0</td>\n",
              "      <td>103772</td>\n",
              "    </tr>\n",
              "    <tr>\n",
              "      <th>34</th>\n",
              "      <td>North Dakota</td>\n",
              "      <td>23.9</td>\n",
              "      <td>23</td>\n",
              "      <td>42</td>\n",
              "      <td>86</td>\n",
              "      <td>0</td>\n",
              "      <td>9131</td>\n",
              "    </tr>\n",
              "    <tr>\n",
              "      <th>35</th>\n",
              "      <td>Ohio</td>\n",
              "      <td>14.1</td>\n",
              "      <td>28</td>\n",
              "      <td>34</td>\n",
              "      <td>82</td>\n",
              "      <td>0</td>\n",
              "      <td>111990</td>\n",
              "    </tr>\n",
              "    <tr>\n",
              "      <th>36</th>\n",
              "      <td>Oklahoma</td>\n",
              "      <td>19.9</td>\n",
              "      <td>32</td>\n",
              "      <td>29</td>\n",
              "      <td>94</td>\n",
              "      <td>2</td>\n",
              "      <td>47464</td>\n",
              "    </tr>\n",
              "    <tr>\n",
              "      <th>37</th>\n",
              "      <td>Oregon</td>\n",
              "      <td>12.8</td>\n",
              "      <td>33</td>\n",
              "      <td>26</td>\n",
              "      <td>90</td>\n",
              "      <td>2</td>\n",
              "      <td>33373</td>\n",
              "    </tr>\n",
              "    <tr>\n",
              "      <th>38</th>\n",
              "      <td>Pennsylvania</td>\n",
              "      <td>18.2</td>\n",
              "      <td>50</td>\n",
              "      <td>31</td>\n",
              "      <td>88</td>\n",
              "      <td>0</td>\n",
              "      <td>99204</td>\n",
              "    </tr>\n",
              "    <tr>\n",
              "      <th>39</th>\n",
              "      <td>Rhode Island</td>\n",
              "      <td>11.1</td>\n",
              "      <td>34</td>\n",
              "      <td>38</td>\n",
              "      <td>79</td>\n",
              "      <td>0</td>\n",
              "      <td>7901</td>\n",
              "    </tr>\n",
              "    <tr>\n",
              "      <th>40</th>\n",
              "      <td>South Carolina</td>\n",
              "      <td>23.9</td>\n",
              "      <td>38</td>\n",
              "      <td>41</td>\n",
              "      <td>81</td>\n",
              "      <td>0</td>\n",
              "      <td>48730</td>\n",
              "    </tr>\n",
              "    <tr>\n",
              "      <th>41</th>\n",
              "      <td>South Dakota</td>\n",
              "      <td>19.4</td>\n",
              "      <td>31</td>\n",
              "      <td>33</td>\n",
              "      <td>86</td>\n",
              "      <td>0</td>\n",
              "      <td>9002</td>\n",
              "    </tr>\n",
              "    <tr>\n",
              "      <th>42</th>\n",
              "      <td>Tennessee</td>\n",
              "      <td>19.5</td>\n",
              "      <td>21</td>\n",
              "      <td>29</td>\n",
              "      <td>81</td>\n",
              "      <td>1</td>\n",
              "      <td>70751</td>\n",
              "    </tr>\n",
              "    <tr>\n",
              "      <th>43</th>\n",
              "      <td>Texas</td>\n",
              "      <td>19.4</td>\n",
              "      <td>40</td>\n",
              "      <td>38</td>\n",
              "      <td>87</td>\n",
              "      <td>0</td>\n",
              "      <td>237440</td>\n",
              "    </tr>\n",
              "    <tr>\n",
              "      <th>44</th>\n",
              "      <td>Utah</td>\n",
              "      <td>11.3</td>\n",
              "      <td>43</td>\n",
              "      <td>16</td>\n",
              "      <td>96</td>\n",
              "      <td>2</td>\n",
              "      <td>26222</td>\n",
              "    </tr>\n",
              "    <tr>\n",
              "      <th>45</th>\n",
              "      <td>Vermont</td>\n",
              "      <td>13.6</td>\n",
              "      <td>30</td>\n",
              "      <td>30</td>\n",
              "      <td>95</td>\n",
              "      <td>2</td>\n",
              "      <td>7141</td>\n",
              "    </tr>\n",
              "    <tr>\n",
              "      <th>46</th>\n",
              "      <td>Virginia</td>\n",
              "      <td>12.7</td>\n",
              "      <td>19</td>\n",
              "      <td>27</td>\n",
              "      <td>88</td>\n",
              "      <td>1</td>\n",
              "      <td>80974</td>\n",
              "    </tr>\n",
              "    <tr>\n",
              "      <th>47</th>\n",
              "      <td>Washington</td>\n",
              "      <td>10.6</td>\n",
              "      <td>42</td>\n",
              "      <td>33</td>\n",
              "      <td>86</td>\n",
              "      <td>0</td>\n",
              "      <td>56955</td>\n",
              "    </tr>\n",
              "    <tr>\n",
              "      <th>48</th>\n",
              "      <td>West Virginia</td>\n",
              "      <td>23.8</td>\n",
              "      <td>34</td>\n",
              "      <td>28</td>\n",
              "      <td>87</td>\n",
              "      <td>2</td>\n",
              "      <td>18963</td>\n",
              "    </tr>\n",
              "    <tr>\n",
              "      <th>49</th>\n",
              "      <td>Wisconsin</td>\n",
              "      <td>13.8</td>\n",
              "      <td>36</td>\n",
              "      <td>33</td>\n",
              "      <td>84</td>\n",
              "      <td>0</td>\n",
              "      <td>58554</td>\n",
              "    </tr>\n",
              "    <tr>\n",
              "      <th>50</th>\n",
              "      <td>Wyoming</td>\n",
              "      <td>17.4</td>\n",
              "      <td>42</td>\n",
              "      <td>32</td>\n",
              "      <td>90</td>\n",
              "      <td>0</td>\n",
              "      <td>9245</td>\n",
              "    </tr>\n",
              "  </tbody>\n",
              "</table>\n",
              "</div>\n",
              "      <button class=\"colab-df-convert\" onclick=\"convertToInteractive('df-d3b0e842-b4a4-4c88-abf4-85637cf9f5c3')\"\n",
              "              title=\"Convert this dataframe to an interactive table.\"\n",
              "              style=\"display:none;\">\n",
              "        \n",
              "  <svg xmlns=\"http://www.w3.org/2000/svg\" height=\"24px\"viewBox=\"0 0 24 24\"\n",
              "       width=\"24px\">\n",
              "    <path d=\"M0 0h24v24H0V0z\" fill=\"none\"/>\n",
              "    <path d=\"M18.56 5.44l.94 2.06.94-2.06 2.06-.94-2.06-.94-.94-2.06-.94 2.06-2.06.94zm-11 1L8.5 8.5l.94-2.06 2.06-.94-2.06-.94L8.5 2.5l-.94 2.06-2.06.94zm10 10l.94 2.06.94-2.06 2.06-.94-2.06-.94-.94-2.06-.94 2.06-2.06.94z\"/><path d=\"M17.41 7.96l-1.37-1.37c-.4-.4-.92-.59-1.43-.59-.52 0-1.04.2-1.43.59L10.3 9.45l-7.72 7.72c-.78.78-.78 2.05 0 2.83L4 21.41c.39.39.9.59 1.41.59.51 0 1.02-.2 1.41-.59l7.78-7.78 2.81-2.81c.8-.78.8-2.07 0-2.86zM5.41 20L4 18.59l7.72-7.72 1.47 1.35L5.41 20z\"/>\n",
              "  </svg>\n",
              "      </button>\n",
              "      \n",
              "  <style>\n",
              "    .colab-df-container {\n",
              "      display:flex;\n",
              "      flex-wrap:wrap;\n",
              "      gap: 12px;\n",
              "    }\n",
              "\n",
              "    .colab-df-convert {\n",
              "      background-color: #E8F0FE;\n",
              "      border: none;\n",
              "      border-radius: 50%;\n",
              "      cursor: pointer;\n",
              "      display: none;\n",
              "      fill: #1967D2;\n",
              "      height: 32px;\n",
              "      padding: 0 0 0 0;\n",
              "      width: 32px;\n",
              "    }\n",
              "\n",
              "    .colab-df-convert:hover {\n",
              "      background-color: #E2EBFA;\n",
              "      box-shadow: 0px 1px 2px rgba(60, 64, 67, 0.3), 0px 1px 3px 1px rgba(60, 64, 67, 0.15);\n",
              "      fill: #174EA6;\n",
              "    }\n",
              "\n",
              "    [theme=dark] .colab-df-convert {\n",
              "      background-color: #3B4455;\n",
              "      fill: #D2E3FC;\n",
              "    }\n",
              "\n",
              "    [theme=dark] .colab-df-convert:hover {\n",
              "      background-color: #434B5C;\n",
              "      box-shadow: 0px 1px 3px 1px rgba(0, 0, 0, 0.15);\n",
              "      filter: drop-shadow(0px 1px 2px rgba(0, 0, 0, 0.3));\n",
              "      fill: #FFFFFF;\n",
              "    }\n",
              "  </style>\n",
              "\n",
              "      <script>\n",
              "        const buttonEl =\n",
              "          document.querySelector('#df-d3b0e842-b4a4-4c88-abf4-85637cf9f5c3 button.colab-df-convert');\n",
              "        buttonEl.style.display =\n",
              "          google.colab.kernel.accessAllowed ? 'block' : 'none';\n",
              "\n",
              "        async function convertToInteractive(key) {\n",
              "          const element = document.querySelector('#df-d3b0e842-b4a4-4c88-abf4-85637cf9f5c3');\n",
              "          const dataTable =\n",
              "            await google.colab.kernel.invokeFunction('convertToInteractive',\n",
              "                                                     [key], {});\n",
              "          if (!dataTable) return;\n",
              "\n",
              "          const docLinkHtml = 'Like what you see? Visit the ' +\n",
              "            '<a target=\"_blank\" href=https://colab.research.google.com/notebooks/data_table.ipynb>data table notebook</a>'\n",
              "            + ' to learn more about interactive tables.';\n",
              "          element.innerHTML = '';\n",
              "          dataTable['output_type'] = 'display_data';\n",
              "          await google.colab.output.renderOutput(dataTable, element);\n",
              "          const docLink = document.createElement('div');\n",
              "          docLink.innerHTML = docLinkHtml;\n",
              "          element.appendChild(docLink);\n",
              "        }\n",
              "      </script>\n",
              "    </div>\n",
              "  </div>\n",
              "  "
            ],
            "text/plain": [
              "                   state  drvr_fatl_col_bmiles  perc_fatl_speed  \\\n",
              "0                Alabama                  18.8               39   \n",
              "1                 Alaska                  18.1               41   \n",
              "2                Arizona                  18.6               35   \n",
              "3               Arkansas                  22.4               18   \n",
              "4             California                  12.0               35   \n",
              "5               Colorado                  13.6               37   \n",
              "6            Connecticut                  10.8               46   \n",
              "7               Delaware                  16.2               38   \n",
              "8   District of Columbia                   5.9               34   \n",
              "9                Florida                  17.9               21   \n",
              "10               Georgia                  15.6               19   \n",
              "11                Hawaii                  17.5               54   \n",
              "12                 Idaho                  15.3               36   \n",
              "13              Illinois                  12.8               36   \n",
              "14               Indiana                  14.5               25   \n",
              "15                  Iowa                  15.7               17   \n",
              "16                Kansas                  17.8               27   \n",
              "17              Kentucky                  21.4               19   \n",
              "18             Louisiana                  20.5               35   \n",
              "19                 Maine                  15.1               38   \n",
              "20              Maryland                  12.5               34   \n",
              "21         Massachusetts                   8.2               23   \n",
              "22              Michigan                  14.1               24   \n",
              "23             Minnesota                   9.6               23   \n",
              "24           Mississippi                  17.6               15   \n",
              "25              Missouri                  16.1               43   \n",
              "26               Montana                  21.4               39   \n",
              "27              Nebraska                  14.9               13   \n",
              "28                Nevada                  14.7               37   \n",
              "29         New Hampshire                  11.6               35   \n",
              "30            New Jersey                  11.2               16   \n",
              "31            New Mexico                  18.4               19   \n",
              "32              New York                  12.3               32   \n",
              "33        North Carolina                  16.8               39   \n",
              "34          North Dakota                  23.9               23   \n",
              "35                  Ohio                  14.1               28   \n",
              "36              Oklahoma                  19.9               32   \n",
              "37                Oregon                  12.8               33   \n",
              "38          Pennsylvania                  18.2               50   \n",
              "39          Rhode Island                  11.1               34   \n",
              "40        South Carolina                  23.9               38   \n",
              "41          South Dakota                  19.4               31   \n",
              "42             Tennessee                  19.5               21   \n",
              "43                 Texas                  19.4               40   \n",
              "44                  Utah                  11.3               43   \n",
              "45               Vermont                  13.6               30   \n",
              "46              Virginia                  12.7               19   \n",
              "47            Washington                  10.6               42   \n",
              "48         West Virginia                  23.8               34   \n",
              "49             Wisconsin                  13.8               36   \n",
              "50               Wyoming                  17.4               42   \n",
              "\n",
              "    perc_fatl_alcohol  perc_fatl_1st_time  cluster  million_miles_annually  \n",
              "0                  30                  80        0                   64914  \n",
              "1                  25                  94        2                    4593  \n",
              "2                  28                  96        2                   59575  \n",
              "3                  26                  95        2                   32953  \n",
              "4                  28                  89        2                  320784  \n",
              "5                  28                  95        2                   46606  \n",
              "6                  36                  82        0                   31197  \n",
              "7                  30                  99        2                    9028  \n",
              "8                  27                 100        2                    3568  \n",
              "9                  29                  94        2                  191855  \n",
              "10                 25                  93        2                  108454  \n",
              "11                 41                  87        0                   10066  \n",
              "12                 29                  98        2                   15937  \n",
              "13                 34                  96        2                  103234  \n",
              "14                 29                  95        2                   76485  \n",
              "15                 25                  87        1                   31274  \n",
              "16                 24                  85        1                   30021  \n",
              "17                 23                  76        1                   48061  \n",
              "18                 33                  98        2                   46513  \n",
              "19                 30                  84        0                   14248  \n",
              "20                 32                  99        2                   56221  \n",
              "21                 35                  80        1                   54792  \n",
              "22                 28                  77        1                   94754  \n",
              "23                 29                  88        1                   56685  \n",
              "24                 31                 100        2                   38851  \n",
              "25                 34                  84        0                   68789  \n",
              "26                 44                  85        0                   11660  \n",
              "27                 35                  90        1                   19093  \n",
              "28                 32                  99        2                   24189  \n",
              "29                 30                  83        0                   12720  \n",
              "30                 28                  78        1                   73094  \n",
              "31                 27                  98        2                   25650  \n",
              "32                 29                  80        1                  127726  \n",
              "33                 31                  81        0                  103772  \n",
              "34                 42                  86        0                    9131  \n",
              "35                 34                  82        0                  111990  \n",
              "36                 29                  94        2                   47464  \n",
              "37                 26                  90        2                   33373  \n",
              "38                 31                  88        0                   99204  \n",
              "39                 38                  79        0                    7901  \n",
              "40                 41                  81        0                   48730  \n",
              "41                 33                  86        0                    9002  \n",
              "42                 29                  81        1                   70751  \n",
              "43                 38                  87        0                  237440  \n",
              "44                 16                  96        2                   26222  \n",
              "45                 30                  95        2                    7141  \n",
              "46                 27                  88        1                   80974  \n",
              "47                 33                  86        0                   56955  \n",
              "48                 28                  87        2                   18963  \n",
              "49                 33                  84        0                   58554  \n",
              "50                 32                  90        0                    9245  "
            ]
          },
          "execution_count": 28,
          "metadata": {},
          "output_type": "execute_result"
        }
      ],
      "source": [
        "# Merging the `road_acc` DataFrame with the `miles_driven` DataFrame\n",
        "road_acc_miles = road_acc.merge(miles_driven, on=\"state\")\n",
        "road_acc_miles"
      ]
    },
    {
      "cell_type": "code",
      "execution_count": 29,
      "metadata": {
        "id": "mHhehD4hZfUZ",
        "colab": {
          "base_uri": "https://localhost:8080/",
          "height": 305
        },
        "outputId": "9d704687-695f-415a-eda1-a2fb5c59c4aa"
      },
      "outputs": [
        {
          "output_type": "execute_result",
          "data": {
            "text/plain": [
              "                  state  drvr_fatl_col_bmiles  perc_fatl_speed  \\\n",
              "0               Alabama                  18.8               39   \n",
              "1                Alaska                  18.1               41   \n",
              "2               Arizona                  18.6               35   \n",
              "3              Arkansas                  22.4               18   \n",
              "4            California                  12.0               35   \n",
              "5              Colorado                  13.6               37   \n",
              "6           Connecticut                  10.8               46   \n",
              "7              Delaware                  16.2               38   \n",
              "8  District of Columbia                   5.9               34   \n",
              "9               Florida                  17.9               21   \n",
              "\n",
              "   perc_fatl_alcohol  perc_fatl_1st_time  cluster  million_miles_annually  \\\n",
              "0                 30                  80        0                   64914   \n",
              "1                 25                  94        2                    4593   \n",
              "2                 28                  96        2                   59575   \n",
              "3                 26                  95        2                   32953   \n",
              "4                 28                  89        2                  320784   \n",
              "5                 28                  95        2                   46606   \n",
              "6                 36                  82        0                   31197   \n",
              "7                 30                  99        2                    9028   \n",
              "8                 27                 100        2                    3568   \n",
              "9                 29                  94        2                  191855   \n",
              "\n",
              "   num_drvr_fatl_col  \n",
              "0          1220.3832  \n",
              "1            83.1333  \n",
              "2          1108.0950  \n",
              "3           738.1472  \n",
              "4          3849.4080  \n",
              "5           633.8416  \n",
              "6           336.9276  \n",
              "7           146.2536  \n",
              "8            21.0512  \n",
              "9          3434.2045  "
            ],
            "text/html": [
              "\n",
              "  <div id=\"df-0a20d383-18da-43dc-a90f-624f819d021a\">\n",
              "    <div class=\"colab-df-container\">\n",
              "      <div>\n",
              "<style scoped>\n",
              "    .dataframe tbody tr th:only-of-type {\n",
              "        vertical-align: middle;\n",
              "    }\n",
              "\n",
              "    .dataframe tbody tr th {\n",
              "        vertical-align: top;\n",
              "    }\n",
              "\n",
              "    .dataframe thead th {\n",
              "        text-align: right;\n",
              "    }\n",
              "</style>\n",
              "<table border=\"1\" class=\"dataframe\">\n",
              "  <thead>\n",
              "    <tr style=\"text-align: right;\">\n",
              "      <th></th>\n",
              "      <th>state</th>\n",
              "      <th>drvr_fatl_col_bmiles</th>\n",
              "      <th>perc_fatl_speed</th>\n",
              "      <th>perc_fatl_alcohol</th>\n",
              "      <th>perc_fatl_1st_time</th>\n",
              "      <th>cluster</th>\n",
              "      <th>million_miles_annually</th>\n",
              "      <th>num_drvr_fatl_col</th>\n",
              "    </tr>\n",
              "  </thead>\n",
              "  <tbody>\n",
              "    <tr>\n",
              "      <th>0</th>\n",
              "      <td>Alabama</td>\n",
              "      <td>18.8</td>\n",
              "      <td>39</td>\n",
              "      <td>30</td>\n",
              "      <td>80</td>\n",
              "      <td>0</td>\n",
              "      <td>64914</td>\n",
              "      <td>1220.3832</td>\n",
              "    </tr>\n",
              "    <tr>\n",
              "      <th>1</th>\n",
              "      <td>Alaska</td>\n",
              "      <td>18.1</td>\n",
              "      <td>41</td>\n",
              "      <td>25</td>\n",
              "      <td>94</td>\n",
              "      <td>2</td>\n",
              "      <td>4593</td>\n",
              "      <td>83.1333</td>\n",
              "    </tr>\n",
              "    <tr>\n",
              "      <th>2</th>\n",
              "      <td>Arizona</td>\n",
              "      <td>18.6</td>\n",
              "      <td>35</td>\n",
              "      <td>28</td>\n",
              "      <td>96</td>\n",
              "      <td>2</td>\n",
              "      <td>59575</td>\n",
              "      <td>1108.0950</td>\n",
              "    </tr>\n",
              "    <tr>\n",
              "      <th>3</th>\n",
              "      <td>Arkansas</td>\n",
              "      <td>22.4</td>\n",
              "      <td>18</td>\n",
              "      <td>26</td>\n",
              "      <td>95</td>\n",
              "      <td>2</td>\n",
              "      <td>32953</td>\n",
              "      <td>738.1472</td>\n",
              "    </tr>\n",
              "    <tr>\n",
              "      <th>4</th>\n",
              "      <td>California</td>\n",
              "      <td>12.0</td>\n",
              "      <td>35</td>\n",
              "      <td>28</td>\n",
              "      <td>89</td>\n",
              "      <td>2</td>\n",
              "      <td>320784</td>\n",
              "      <td>3849.4080</td>\n",
              "    </tr>\n",
              "    <tr>\n",
              "      <th>5</th>\n",
              "      <td>Colorado</td>\n",
              "      <td>13.6</td>\n",
              "      <td>37</td>\n",
              "      <td>28</td>\n",
              "      <td>95</td>\n",
              "      <td>2</td>\n",
              "      <td>46606</td>\n",
              "      <td>633.8416</td>\n",
              "    </tr>\n",
              "    <tr>\n",
              "      <th>6</th>\n",
              "      <td>Connecticut</td>\n",
              "      <td>10.8</td>\n",
              "      <td>46</td>\n",
              "      <td>36</td>\n",
              "      <td>82</td>\n",
              "      <td>0</td>\n",
              "      <td>31197</td>\n",
              "      <td>336.9276</td>\n",
              "    </tr>\n",
              "    <tr>\n",
              "      <th>7</th>\n",
              "      <td>Delaware</td>\n",
              "      <td>16.2</td>\n",
              "      <td>38</td>\n",
              "      <td>30</td>\n",
              "      <td>99</td>\n",
              "      <td>2</td>\n",
              "      <td>9028</td>\n",
              "      <td>146.2536</td>\n",
              "    </tr>\n",
              "    <tr>\n",
              "      <th>8</th>\n",
              "      <td>District of Columbia</td>\n",
              "      <td>5.9</td>\n",
              "      <td>34</td>\n",
              "      <td>27</td>\n",
              "      <td>100</td>\n",
              "      <td>2</td>\n",
              "      <td>3568</td>\n",
              "      <td>21.0512</td>\n",
              "    </tr>\n",
              "    <tr>\n",
              "      <th>9</th>\n",
              "      <td>Florida</td>\n",
              "      <td>17.9</td>\n",
              "      <td>21</td>\n",
              "      <td>29</td>\n",
              "      <td>94</td>\n",
              "      <td>2</td>\n",
              "      <td>191855</td>\n",
              "      <td>3434.2045</td>\n",
              "    </tr>\n",
              "  </tbody>\n",
              "</table>\n",
              "</div>\n",
              "      <button class=\"colab-df-convert\" onclick=\"convertToInteractive('df-0a20d383-18da-43dc-a90f-624f819d021a')\"\n",
              "              title=\"Convert this dataframe to an interactive table.\"\n",
              "              style=\"display:none;\">\n",
              "        \n",
              "  <svg xmlns=\"http://www.w3.org/2000/svg\" height=\"24px\"viewBox=\"0 0 24 24\"\n",
              "       width=\"24px\">\n",
              "    <path d=\"M0 0h24v24H0V0z\" fill=\"none\"/>\n",
              "    <path d=\"M18.56 5.44l.94 2.06.94-2.06 2.06-.94-2.06-.94-.94-2.06-.94 2.06-2.06.94zm-11 1L8.5 8.5l.94-2.06 2.06-.94-2.06-.94L8.5 2.5l-.94 2.06-2.06.94zm10 10l.94 2.06.94-2.06 2.06-.94-2.06-.94-.94-2.06-.94 2.06-2.06.94z\"/><path d=\"M17.41 7.96l-1.37-1.37c-.4-.4-.92-.59-1.43-.59-.52 0-1.04.2-1.43.59L10.3 9.45l-7.72 7.72c-.78.78-.78 2.05 0 2.83L4 21.41c.39.39.9.59 1.41.59.51 0 1.02-.2 1.41-.59l7.78-7.78 2.81-2.81c.8-.78.8-2.07 0-2.86zM5.41 20L4 18.59l7.72-7.72 1.47 1.35L5.41 20z\"/>\n",
              "  </svg>\n",
              "      </button>\n",
              "      \n",
              "  <style>\n",
              "    .colab-df-container {\n",
              "      display:flex;\n",
              "      flex-wrap:wrap;\n",
              "      gap: 12px;\n",
              "    }\n",
              "\n",
              "    .colab-df-convert {\n",
              "      background-color: #E8F0FE;\n",
              "      border: none;\n",
              "      border-radius: 50%;\n",
              "      cursor: pointer;\n",
              "      display: none;\n",
              "      fill: #1967D2;\n",
              "      height: 32px;\n",
              "      padding: 0 0 0 0;\n",
              "      width: 32px;\n",
              "    }\n",
              "\n",
              "    .colab-df-convert:hover {\n",
              "      background-color: #E2EBFA;\n",
              "      box-shadow: 0px 1px 2px rgba(60, 64, 67, 0.3), 0px 1px 3px 1px rgba(60, 64, 67, 0.15);\n",
              "      fill: #174EA6;\n",
              "    }\n",
              "\n",
              "    [theme=dark] .colab-df-convert {\n",
              "      background-color: #3B4455;\n",
              "      fill: #D2E3FC;\n",
              "    }\n",
              "\n",
              "    [theme=dark] .colab-df-convert:hover {\n",
              "      background-color: #434B5C;\n",
              "      box-shadow: 0px 1px 3px 1px rgba(0, 0, 0, 0.15);\n",
              "      filter: drop-shadow(0px 1px 2px rgba(0, 0, 0, 0.3));\n",
              "      fill: #FFFFFF;\n",
              "    }\n",
              "  </style>\n",
              "\n",
              "      <script>\n",
              "        const buttonEl =\n",
              "          document.querySelector('#df-0a20d383-18da-43dc-a90f-624f819d021a button.colab-df-convert');\n",
              "        buttonEl.style.display =\n",
              "          google.colab.kernel.accessAllowed ? 'block' : 'none';\n",
              "\n",
              "        async function convertToInteractive(key) {\n",
              "          const element = document.querySelector('#df-0a20d383-18da-43dc-a90f-624f819d021a');\n",
              "          const dataTable =\n",
              "            await google.colab.kernel.invokeFunction('convertToInteractive',\n",
              "                                                     [key], {});\n",
              "          if (!dataTable) return;\n",
              "\n",
              "          const docLinkHtml = 'Like what you see? Visit the ' +\n",
              "            '<a target=\"_blank\" href=https://colab.research.google.com/notebooks/data_table.ipynb>data table notebook</a>'\n",
              "            + ' to learn more about interactive tables.';\n",
              "          element.innerHTML = '';\n",
              "          dataTable['output_type'] = 'display_data';\n",
              "          await google.colab.output.renderOutput(dataTable, element);\n",
              "          const docLink = document.createElement('div');\n",
              "          docLink.innerHTML = docLinkHtml;\n",
              "          element.appendChild(docLink);\n",
              "        }\n",
              "      </script>\n",
              "    </div>\n",
              "  </div>\n",
              "  "
            ],
            "application/vnd.google.colaboratory.module+javascript": "\n      import \"https://ssl.gstatic.com/colaboratory/data_table/a8bd4d5e58f96183/data_table.js\";\n\n      window.createDataTable({\n        data: [[{\n            'v': 0,\n            'f': \"0\",\n        },\n\"Alabama\",\n{\n            'v': 18.8,\n            'f': \"18.8\",\n        },\n{\n            'v': 39,\n            'f': \"39\",\n        },\n{\n            'v': 30,\n            'f': \"30\",\n        },\n{\n            'v': 80,\n            'f': \"80\",\n        },\n{\n            'v': 0,\n            'f': \"0\",\n        },\n{\n            'v': 64914,\n            'f': \"64914\",\n        },\n{\n            'v': 1220.3832,\n            'f': \"1220.3832\",\n        }],\n [{\n            'v': 1,\n            'f': \"1\",\n        },\n\"Alaska\",\n{\n            'v': 18.1,\n            'f': \"18.1\",\n        },\n{\n            'v': 41,\n            'f': \"41\",\n        },\n{\n            'v': 25,\n            'f': \"25\",\n        },\n{\n            'v': 94,\n            'f': \"94\",\n        },\n{\n            'v': 2,\n            'f': \"2\",\n        },\n{\n            'v': 4593,\n            'f': \"4593\",\n        },\n{\n            'v': 83.1333,\n            'f': \"83.1333\",\n        }],\n [{\n            'v': 2,\n            'f': \"2\",\n        },\n\"Arizona\",\n{\n            'v': 18.6,\n            'f': \"18.6\",\n        },\n{\n            'v': 35,\n            'f': \"35\",\n        },\n{\n            'v': 28,\n            'f': \"28\",\n        },\n{\n            'v': 96,\n            'f': \"96\",\n        },\n{\n            'v': 2,\n            'f': \"2\",\n        },\n{\n            'v': 59575,\n            'f': \"59575\",\n        },\n{\n            'v': 1108.095,\n            'f': \"1108.095\",\n        }],\n [{\n            'v': 3,\n            'f': \"3\",\n        },\n\"Arkansas\",\n{\n            'v': 22.4,\n            'f': \"22.4\",\n        },\n{\n            'v': 18,\n            'f': \"18\",\n        },\n{\n            'v': 26,\n            'f': \"26\",\n        },\n{\n            'v': 95,\n            'f': \"95\",\n        },\n{\n            'v': 2,\n            'f': \"2\",\n        },\n{\n            'v': 32953,\n            'f': \"32953\",\n        },\n{\n            'v': 738.1472,\n            'f': \"738.1472\",\n        }],\n [{\n            'v': 4,\n            'f': \"4\",\n        },\n\"California\",\n{\n            'v': 12.0,\n            'f': \"12.0\",\n        },\n{\n            'v': 35,\n            'f': \"35\",\n        },\n{\n            'v': 28,\n            'f': \"28\",\n        },\n{\n            'v': 89,\n            'f': \"89\",\n        },\n{\n            'v': 2,\n            'f': \"2\",\n        },\n{\n            'v': 320784,\n            'f': \"320784\",\n        },\n{\n            'v': 3849.408,\n            'f': \"3849.408\",\n        }],\n [{\n            'v': 5,\n            'f': \"5\",\n        },\n\"Colorado\",\n{\n            'v': 13.6,\n            'f': \"13.6\",\n        },\n{\n            'v': 37,\n            'f': \"37\",\n        },\n{\n            'v': 28,\n            'f': \"28\",\n        },\n{\n            'v': 95,\n            'f': \"95\",\n        },\n{\n            'v': 2,\n            'f': \"2\",\n        },\n{\n            'v': 46606,\n            'f': \"46606\",\n        },\n{\n            'v': 633.8416,\n            'f': \"633.8416\",\n        }],\n [{\n            'v': 6,\n            'f': \"6\",\n        },\n\"Connecticut\",\n{\n            'v': 10.8,\n            'f': \"10.8\",\n        },\n{\n            'v': 46,\n            'f': \"46\",\n        },\n{\n            'v': 36,\n            'f': \"36\",\n        },\n{\n            'v': 82,\n            'f': \"82\",\n        },\n{\n            'v': 0,\n            'f': \"0\",\n        },\n{\n            'v': 31197,\n            'f': \"31197\",\n        },\n{\n            'v': 336.92760000000004,\n            'f': \"336.92760000000004\",\n        }],\n [{\n            'v': 7,\n            'f': \"7\",\n        },\n\"Delaware\",\n{\n            'v': 16.2,\n            'f': \"16.2\",\n        },\n{\n            'v': 38,\n            'f': \"38\",\n        },\n{\n            'v': 30,\n            'f': \"30\",\n        },\n{\n            'v': 99,\n            'f': \"99\",\n        },\n{\n            'v': 2,\n            'f': \"2\",\n        },\n{\n            'v': 9028,\n            'f': \"9028\",\n        },\n{\n            'v': 146.2536,\n            'f': \"146.2536\",\n        }],\n [{\n            'v': 8,\n            'f': \"8\",\n        },\n\"District of Columbia\",\n{\n            'v': 5.9,\n            'f': \"5.9\",\n        },\n{\n            'v': 34,\n            'f': \"34\",\n        },\n{\n            'v': 27,\n            'f': \"27\",\n        },\n{\n            'v': 100,\n            'f': \"100\",\n        },\n{\n            'v': 2,\n            'f': \"2\",\n        },\n{\n            'v': 3568,\n            'f': \"3568\",\n        },\n{\n            'v': 21.0512,\n            'f': \"21.0512\",\n        }],\n [{\n            'v': 9,\n            'f': \"9\",\n        },\n\"Florida\",\n{\n            'v': 17.9,\n            'f': \"17.9\",\n        },\n{\n            'v': 21,\n            'f': \"21\",\n        },\n{\n            'v': 29,\n            'f': \"29\",\n        },\n{\n            'v': 94,\n            'f': \"94\",\n        },\n{\n            'v': 2,\n            'f': \"2\",\n        },\n{\n            'v': 191855,\n            'f': \"191855\",\n        },\n{\n            'v': 3434.2045,\n            'f': \"3434.2045\",\n        }]],\n        columns: [[\"number\", \"index\"], [\"string\", \"state\"], [\"number\", \"drvr_fatl_col_bmiles\"], [\"number\", \"perc_fatl_speed\"], [\"number\", \"perc_fatl_alcohol\"], [\"number\", \"perc_fatl_1st_time\"], [\"number\", \"cluster\"], [\"number\", \"million_miles_annually\"], [\"number\", \"num_drvr_fatl_col\"]],\n        columnOptions: [{\"width\": \"1px\", \"className\": \"index_column\"}],\n        rowsPerPage: 25,\n        helpUrl: \"https://colab.research.google.com/notebooks/data_table.ipynb\",\n        suppressOutputScrolling: true,\n        minimumWidth: undefined,\n      });\n    "
          },
          "metadata": {},
          "execution_count": 29
        }
      ],
      "source": [
        "# Create a new column for the number of drivers involved in fatal accidents\n",
        "road_acc_miles['num_drvr_fatl_col'] = road_acc_miles[\"drvr_fatl_col_bmiles\"]/1000*road_acc_miles[\"million_miles_annually\"]\n",
        "road_acc_miles.head(10)"
      ]
    },
    {
      "cell_type": "code",
      "source": [
        "# Create a barplot of the total number of accidents per cluster\n",
        "sns.barplot(x=\"cluster\", y=\"num_drvr_fatl_col\", data=road_acc_miles, estimator=sum, ci=None)"
      ],
      "metadata": {
        "colab": {
          "base_uri": "https://localhost:8080/",
          "height": 296
        },
        "id": "dUtkTtzRa5NN",
        "outputId": "1c246b9e-f015-4a21-ce7e-ac87bd5254ce"
      },
      "execution_count": 30,
      "outputs": [
        {
          "output_type": "execute_result",
          "data": {
            "text/plain": [
              "<matplotlib.axes._subplots.AxesSubplot at 0x7f20a89a0090>"
            ]
          },
          "metadata": {},
          "execution_count": 30
        },
        {
          "output_type": "display_data",
          "data": {
            "text/plain": [
              "<Figure size 432x288 with 1 Axes>"
            ],
            "image/png": "[encoded data removed]"
          },
          "metadata": {
            "needs_background": "light"
          }
        }
      ]
    },
    {
      "cell_type": "code",
      "execution_count": 31,
      "metadata": {
        "id": "M15auTFmYRKF",
        "colab": {
          "base_uri": "https://localhost:8080/",
          "height": 154
        },
        "outputId": "cc2c2cbd-f885-4088-9f3d-67cf3a68f1d3"
      },
      "outputs": [
        {
          "output_type": "execute_result",
          "data": {
            "text/plain": [
              "         count        mean         sum\n",
              "cluster                               \n",
              "0           18  911.406439  16405.3159\n",
              "1           11  860.505945   9465.5654\n",
              "2           22  898.378595  19764.3291"
            ],
            "text/html": [
              "\n",
              "  <div id=\"df-0561774b-a927-48f1-ae32-38e15fe32901\">\n",
              "    <div class=\"colab-df-container\">\n",
              "      <div>\n",
              "<style scoped>\n",
              "    .dataframe tbody tr th:only-of-type {\n",
              "        vertical-align: middle;\n",
              "    }\n",
              "\n",
              "    .dataframe tbody tr th {\n",
              "        vertical-align: top;\n",
              "    }\n",
              "\n",
              "    .dataframe thead th {\n",
              "        text-align: right;\n",
              "    }\n",
              "</style>\n",
              "<table border=\"1\" class=\"dataframe\">\n",
              "  <thead>\n",
              "    <tr style=\"text-align: right;\">\n",
              "      <th></th>\n",
              "      <th>count</th>\n",
              "      <th>mean</th>\n",
              "      <th>sum</th>\n",
              "    </tr>\n",
              "    <tr>\n",
              "      <th>cluster</th>\n",
              "      <th></th>\n",
              "      <th></th>\n",
              "      <th></th>\n",
              "    </tr>\n",
              "  </thead>\n",
              "  <tbody>\n",
              "    <tr>\n",
              "      <th>0</th>\n",
              "      <td>18</td>\n",
              "      <td>911.406439</td>\n",
              "      <td>16405.3159</td>\n",
              "    </tr>\n",
              "    <tr>\n",
              "      <th>1</th>\n",
              "      <td>11</td>\n",
              "      <td>860.505945</td>\n",
              "      <td>9465.5654</td>\n",
              "    </tr>\n",
              "    <tr>\n",
              "      <th>2</th>\n",
              "      <td>22</td>\n",
              "      <td>898.378595</td>\n",
              "      <td>19764.3291</td>\n",
              "    </tr>\n",
              "  </tbody>\n",
              "</table>\n",
              "</div>\n",
              "      <button class=\"colab-df-convert\" onclick=\"convertToInteractive('df-0561774b-a927-48f1-ae32-38e15fe32901')\"\n",
              "              title=\"Convert this dataframe to an interactive table.\"\n",
              "              style=\"display:none;\">\n",
              "        \n",
              "  <svg xmlns=\"http://www.w3.org/2000/svg\" height=\"24px\"viewBox=\"0 0 24 24\"\n",
              "       width=\"24px\">\n",
              "    <path d=\"M0 0h24v24H0V0z\" fill=\"none\"/>\n",
              "    <path d=\"M18.56 5.44l.94 2.06.94-2.06 2.06-.94-2.06-.94-.94-2.06-.94 2.06-2.06.94zm-11 1L8.5 8.5l.94-2.06 2.06-.94-2.06-.94L8.5 2.5l-.94 2.06-2.06.94zm10 10l.94 2.06.94-2.06 2.06-.94-2.06-.94-.94-2.06-.94 2.06-2.06.94z\"/><path d=\"M17.41 7.96l-1.37-1.37c-.4-.4-.92-.59-1.43-.59-.52 0-1.04.2-1.43.59L10.3 9.45l-7.72 7.72c-.78.78-.78 2.05 0 2.83L4 21.41c.39.39.9.59 1.41.59.51 0 1.02-.2 1.41-.59l7.78-7.78 2.81-2.81c.8-.78.8-2.07 0-2.86zM5.41 20L4 18.59l7.72-7.72 1.47 1.35L5.41 20z\"/>\n",
              "  </svg>\n",
              "      </button>\n",
              "      \n",
              "  <style>\n",
              "    .colab-df-container {\n",
              "      display:flex;\n",
              "      flex-wrap:wrap;\n",
              "      gap: 12px;\n",
              "    }\n",
              "\n",
              "    .colab-df-convert {\n",
              "      background-color: #E8F0FE;\n",
              "      border: none;\n",
              "      border-radius: 50%;\n",
              "      cursor: pointer;\n",
              "      display: none;\n",
              "      fill: #1967D2;\n",
              "      height: 32px;\n",
              "      padding: 0 0 0 0;\n",
              "      width: 32px;\n",
              "    }\n",
              "\n",
              "    .colab-df-convert:hover {\n",
              "      background-color: #E2EBFA;\n",
              "      box-shadow: 0px 1px 2px rgba(60, 64, 67, 0.3), 0px 1px 3px 1px rgba(60, 64, 67, 0.15);\n",
              "      fill: #174EA6;\n",
              "    }\n",
              "\n",
              "    [theme=dark] .colab-df-convert {\n",
              "      background-color: #3B4455;\n",
              "      fill: #D2E3FC;\n",
              "    }\n",
              "\n",
              "    [theme=dark] .colab-df-convert:hover {\n",
              "      background-color: #434B5C;\n",
              "      box-shadow: 0px 1px 3px 1px rgba(0, 0, 0, 0.15);\n",
              "      filter: drop-shadow(0px 1px 2px rgba(0, 0, 0, 0.3));\n",
              "      fill: #FFFFFF;\n",
              "    }\n",
              "  </style>\n",
              "\n",
              "      <script>\n",
              "        const buttonEl =\n",
              "          document.querySelector('#df-0561774b-a927-48f1-ae32-38e15fe32901 button.colab-df-convert');\n",
              "        buttonEl.style.display =\n",
              "          google.colab.kernel.accessAllowed ? 'block' : 'none';\n",
              "\n",
              "        async function convertToInteractive(key) {\n",
              "          const element = document.querySelector('#df-0561774b-a927-48f1-ae32-38e15fe32901');\n",
              "          const dataTable =\n",
              "            await google.colab.kernel.invokeFunction('convertToInteractive',\n",
              "                                                     [key], {});\n",
              "          if (!dataTable) return;\n",
              "\n",
              "          const docLinkHtml = 'Like what you see? Visit the ' +\n",
              "            '<a target=\"_blank\" href=https://colab.research.google.com/notebooks/data_table.ipynb>data table notebook</a>'\n",
              "            + ' to learn more about interactive tables.';\n",
              "          element.innerHTML = '';\n",
              "          dataTable['output_type'] = 'display_data';\n",
              "          await google.colab.output.renderOutput(dataTable, element);\n",
              "          const docLink = document.createElement('div');\n",
              "          docLink.innerHTML = docLinkHtml;\n",
              "          element.appendChild(docLink);\n",
              "        }\n",
              "      </script>\n",
              "    </div>\n",
              "  </div>\n",
              "  "
            ],
            "application/vnd.google.colaboratory.module+javascript": "\n      import \"https://ssl.gstatic.com/colaboratory/data_table/a8bd4d5e58f96183/data_table.js\";\n\n      window.createDataTable({\n        data: [[{\n            'v': 0,\n            'f': \"0\",\n        },\n{\n            'v': 18,\n            'f': \"18\",\n        },\n{\n            'v': 911.4064388888889,\n            'f': \"911.4064388888889\",\n        },\n{\n            'v': 16405.3159,\n            'f': \"16405.3159\",\n        }],\n [{\n            'v': 1,\n            'f': \"1\",\n        },\n{\n            'v': 11,\n            'f': \"11\",\n        },\n{\n            'v': 860.5059454545454,\n            'f': \"860.5059454545454\",\n        },\n{\n            'v': 9465.5654,\n            'f': \"9465.5654\",\n        }],\n [{\n            'v': 2,\n            'f': \"2\",\n        },\n{\n            'v': 22,\n            'f': \"22\",\n        },\n{\n            'v': 898.3785954545455,\n            'f': \"898.3785954545455\",\n        },\n{\n            'v': 19764.3291,\n            'f': \"19764.3291\",\n        }]],\n        columns: [[\"number\", \"cluster\"], [\"number\", \"count\"], [\"number\", \"mean\"], [\"number\", \"sum\"]],\n        columnOptions: [{\"width\": \"1px\", \"className\": \"index_column\"}],\n        rowsPerPage: 25,\n        helpUrl: \"https://colab.research.google.com/notebooks/data_table.ipynb\",\n        suppressOutputScrolling: true,\n        minimumWidth: undefined,\n      });\n    "
          },
          "metadata": {},
          "execution_count": 31
        }
      ],
      "source": [
        "# Calculate the number of states in each cluster and their 'num_drvr_fatl_col' mean and sum.\n",
        "count_mean_sum = road_acc_miles.groupby(\"cluster\")[\"num_drvr_fatl_col\"].agg(['count', 'mean', 'sum'])\n",
        "count_mean_sum"
      ]
    },
    {
      "cell_type": "markdown",
      "metadata": {
        "id": "lIUENm-GX94_"
      },
      "source": [
        "## Task: 12 Make a decision when there is no clear right choice\n",
        "As we can see, there is no obvious correct choice regarding which cluster is the most important to focus on. Yet, we can still argue for a certain cluster and motivate this using our findings above. Which cluster do you think should be a focus for policy intervention and further investigation?"
      ]
    },
    {
      "cell_type": "code",
      "execution_count": null,
      "metadata": {
        "id": "RAnCtOOXh5uj"
      },
      "outputs": [],
      "source": [
        "#We should opt to cluster no. 2.\n",
        "chosen_Cluster = 2"
      ]
    }
  ],
  "metadata": {
    "colab": {
      "collapsed_sections": [],
      "name": "ReduceTrafficMortality.ipynb",
      "provenance": []
    },
    "kernelspec": {
      "display_name": "Python 3",
      "name": "python3"
    },
    "language_info": {
      "name": "python"
    }
  },
  "nbformat": 4,
  "nbformat_minor": 0
}