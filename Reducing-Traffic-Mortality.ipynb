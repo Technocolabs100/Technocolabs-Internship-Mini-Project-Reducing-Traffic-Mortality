{
 "cells": [
  {
   "cell_type": "markdown",
   "id": "09d61c04",
   "metadata": {},
   "source": [
    "<h1> <center> Reducing Traffic Mortality Mini Project </center> <h1>"
   ]
  },
  {
   "cell_type": "markdown",
   "id": "40f42f50",
   "metadata": {},
   "source": [
    "<hr>"
   ]
  },
  {
   "cell_type": "markdown",
   "id": "3048003f",
   "metadata": {},
   "source": [
    "<h2> Import Libraries </h2>"
   ]
  },
  {
   "cell_type": "code",
   "execution_count": 1,
   "id": "9df9b076",
   "metadata": {},
   "outputs": [],
   "source": [
    "# import pandas for Data pre-processing\n",
    "import pandas as pd\n",
    "\n",
    "# import matplotlib.pyplot and make plots appear inline for visualizations\n",
    "import matplotlib.pyplot as plt\n",
    "%matplotlib inline\n",
    "\n",
    "# import seaborn\n",
    "import seaborn as sns\n",
    "\n",
    "# import numpy\n",
    "import numpy as np\n",
    "\n",
    "# Import the linear model function from sklearn\n",
    "from sklearn.linear_model import LinearRegression\n",
    "\n",
    "# Standardize feature columns\n",
    "from sklearn.preprocessing import StandardScaler\n",
    "\n",
    "# Import the PCA class function from sklearn\n",
    "from sklearn.decomposition import PCA\n",
    "\n",
    "# Import KMeans from sklearn\n",
    "from sklearn.cluster import KMeans"
   ]
  },
  {
   "cell_type": "markdown",
   "id": "e3e81a93",
   "metadata": {},
   "source": [
    "<hr>"
   ]
  },
  {
   "cell_type": "markdown",
   "id": "4633df75",
   "metadata": {},
   "source": [
    "<h2> 1. The raw data files and their format </h2>"
   ]
  },
  {
   "cell_type": "markdown",
   "id": "6f547166",
   "metadata": {},
   "source": [
    "While the rate of fatal road accidents has been decreasing steadily since the 80s, the past ten years have seen a stagnation in this reduction. Coupled with the increase in number of miles driven in the nation, the total number of traffic related-fatalities has now reached a ten year high and is rapidly increasing.<br><br>\n",
    "Per request of the US Department of Transportation, we are currently investigating how to derive a strategy to reduce the incidence of road accidents across the nation. By looking at the demographics of traﬃc accident victims for each US state, we find that there is a lot of variation between states. Now we want to understand if there are patterns in this variation in order to derive suggestions for a policy action plan. In particular, instead of implementing a costly nation-wide plan we want to focus on groups of states with similar profiles. How can we find such groups in a statistically sound way and communicate the result effectively?<br><br>\n",
    "To accomplish these tasks, we will make use of data wrangling, plotting, dimensionality reduction, and unsupervised clustering. <br><br>\n",
    "The data given to us was originally collected by the National Highway Traffic Safety Administration and the National Association of Insurance Commissioners.<br><br>"
   ]
  },
  {
   "cell_type": "markdown",
   "id": "6ef6686f",
   "metadata": {},
   "source": [
    "We can do this using pandas."
   ]
  },
  {
   "cell_type": "code",
   "execution_count": 2,
   "id": "260c8599",
   "metadata": {},
   "outputs": [
    {
     "data": {
      "text/html": [
       "<div>\n",
       "<style scoped>\n",
       "    .dataframe tbody tr th:only-of-type {\n",
       "        vertical-align: middle;\n",
       "    }\n",
       "\n",
       "    .dataframe tbody tr th {\n",
       "        vertical-align: top;\n",
       "    }\n",
       "\n",
       "    .dataframe thead th {\n",
       "        text-align: right;\n",
       "    }\n",
       "</style>\n",
       "<table border=\"1\" class=\"dataframe\">\n",
       "  <thead>\n",
       "    <tr style=\"text-align: right;\">\n",
       "      <th></th>\n",
       "      <th>##### LICENSE #####</th>\n",
       "    </tr>\n",
       "  </thead>\n",
       "  <tbody>\n",
       "    <tr>\n",
       "      <th>0</th>\n",
       "      <td># This data set is modified from the original ...</td>\n",
       "    </tr>\n",
       "    <tr>\n",
       "      <th>1</th>\n",
       "      <td># and it is released under CC BY 4.0 (https://...</td>\n",
       "    </tr>\n",
       "    <tr>\n",
       "      <th>2</th>\n",
       "      <td>##### COLUMN ABBREVIATIONS #####</td>\n",
       "    </tr>\n",
       "    <tr>\n",
       "      <th>3</th>\n",
       "      <td># drvr_fatl_col_bmiles = Number of drivers inv...</td>\n",
       "    </tr>\n",
       "    <tr>\n",
       "      <th>4</th>\n",
       "      <td># perc_fatl_speed = Percentage Of Drivers Invo...</td>\n",
       "    </tr>\n",
       "    <tr>\n",
       "      <th>5</th>\n",
       "      <td># perc_fatl_alcohol = Percentage Of Drivers In...</td>\n",
       "    </tr>\n",
       "    <tr>\n",
       "      <th>6</th>\n",
       "      <td># perc_fatl_1st_time = Percentage Of Drivers I...</td>\n",
       "    </tr>\n",
       "    <tr>\n",
       "      <th>7</th>\n",
       "      <td>##### DATA BEGIN #####</td>\n",
       "    </tr>\n",
       "    <tr>\n",
       "      <th>8</th>\n",
       "      <td>state|drvr_fatl_col_bmiles|perc_fatl_speed|per...</td>\n",
       "    </tr>\n",
       "    <tr>\n",
       "      <th>9</th>\n",
       "      <td>Alabama|18.8|39|30|80</td>\n",
       "    </tr>\n",
       "    <tr>\n",
       "      <th>10</th>\n",
       "      <td>Alaska|18.1|41|25|94</td>\n",
       "    </tr>\n",
       "    <tr>\n",
       "      <th>11</th>\n",
       "      <td>Arizona|18.6|35|28|96</td>\n",
       "    </tr>\n",
       "    <tr>\n",
       "      <th>12</th>\n",
       "      <td>Arkansas|22.4|18|26|95</td>\n",
       "    </tr>\n",
       "    <tr>\n",
       "      <th>13</th>\n",
       "      <td>California|12|35|28|89</td>\n",
       "    </tr>\n",
       "    <tr>\n",
       "      <th>14</th>\n",
       "      <td>Colorado|13.6|37|28|95</td>\n",
       "    </tr>\n",
       "    <tr>\n",
       "      <th>15</th>\n",
       "      <td>Connecticut|10.8|46|36|82</td>\n",
       "    </tr>\n",
       "    <tr>\n",
       "      <th>16</th>\n",
       "      <td>Delaware|16.2|38|30|99</td>\n",
       "    </tr>\n",
       "    <tr>\n",
       "      <th>17</th>\n",
       "      <td>District of Columbia|5.9|34|27|100</td>\n",
       "    </tr>\n",
       "    <tr>\n",
       "      <th>18</th>\n",
       "      <td>Florida|17.9|21|29|94</td>\n",
       "    </tr>\n",
       "    <tr>\n",
       "      <th>19</th>\n",
       "      <td>Georgia|15.6|19|25|93</td>\n",
       "    </tr>\n",
       "    <tr>\n",
       "      <th>20</th>\n",
       "      <td>Hawaii|17.5|54|41|87</td>\n",
       "    </tr>\n",
       "    <tr>\n",
       "      <th>21</th>\n",
       "      <td>Idaho|15.3|36|29|98</td>\n",
       "    </tr>\n",
       "    <tr>\n",
       "      <th>22</th>\n",
       "      <td>Illinois|12.8|36|34|96</td>\n",
       "    </tr>\n",
       "    <tr>\n",
       "      <th>23</th>\n",
       "      <td>Indiana|14.5|25|29|95</td>\n",
       "    </tr>\n",
       "    <tr>\n",
       "      <th>24</th>\n",
       "      <td>Iowa|15.7|17|25|87</td>\n",
       "    </tr>\n",
       "    <tr>\n",
       "      <th>25</th>\n",
       "      <td>Kansas|17.8|27|24|85</td>\n",
       "    </tr>\n",
       "    <tr>\n",
       "      <th>26</th>\n",
       "      <td>Kentucky|21.4|19|23|76</td>\n",
       "    </tr>\n",
       "    <tr>\n",
       "      <th>27</th>\n",
       "      <td>Louisiana|20.5|35|33|98</td>\n",
       "    </tr>\n",
       "    <tr>\n",
       "      <th>28</th>\n",
       "      <td>Maine|15.1|38|30|84</td>\n",
       "    </tr>\n",
       "    <tr>\n",
       "      <th>29</th>\n",
       "      <td>Maryland|12.5|34|32|99</td>\n",
       "    </tr>\n",
       "    <tr>\n",
       "      <th>30</th>\n",
       "      <td>Massachusetts|8.2|23|35|80</td>\n",
       "    </tr>\n",
       "    <tr>\n",
       "      <th>31</th>\n",
       "      <td>Michigan|14.1|24|28|77</td>\n",
       "    </tr>\n",
       "    <tr>\n",
       "      <th>32</th>\n",
       "      <td>Minnesota|9.6|23|29|88</td>\n",
       "    </tr>\n",
       "    <tr>\n",
       "      <th>33</th>\n",
       "      <td>Mississippi|17.6|15|31|100</td>\n",
       "    </tr>\n",
       "    <tr>\n",
       "      <th>34</th>\n",
       "      <td>Missouri|16.1|43|34|84</td>\n",
       "    </tr>\n",
       "    <tr>\n",
       "      <th>35</th>\n",
       "      <td>Montana|21.4|39|44|85</td>\n",
       "    </tr>\n",
       "    <tr>\n",
       "      <th>36</th>\n",
       "      <td>Nebraska|14.9|13|35|90</td>\n",
       "    </tr>\n",
       "    <tr>\n",
       "      <th>37</th>\n",
       "      <td>Nevada|14.7|37|32|99</td>\n",
       "    </tr>\n",
       "    <tr>\n",
       "      <th>38</th>\n",
       "      <td>New Hampshire|11.6|35|30|83</td>\n",
       "    </tr>\n",
       "    <tr>\n",
       "      <th>39</th>\n",
       "      <td>New Jersey|11.2|16|28|78</td>\n",
       "    </tr>\n",
       "    <tr>\n",
       "      <th>40</th>\n",
       "      <td>New Mexico|18.4|19|27|98</td>\n",
       "    </tr>\n",
       "    <tr>\n",
       "      <th>41</th>\n",
       "      <td>New York|12.3|32|29|80</td>\n",
       "    </tr>\n",
       "    <tr>\n",
       "      <th>42</th>\n",
       "      <td>North Carolina|16.8|39|31|81</td>\n",
       "    </tr>\n",
       "    <tr>\n",
       "      <th>43</th>\n",
       "      <td>North Dakota|23.9|23|42|86</td>\n",
       "    </tr>\n",
       "    <tr>\n",
       "      <th>44</th>\n",
       "      <td>Ohio|14.1|28|34|82</td>\n",
       "    </tr>\n",
       "    <tr>\n",
       "      <th>45</th>\n",
       "      <td>Oklahoma|19.9|32|29|94</td>\n",
       "    </tr>\n",
       "    <tr>\n",
       "      <th>46</th>\n",
       "      <td>Oregon|12.8|33|26|90</td>\n",
       "    </tr>\n",
       "    <tr>\n",
       "      <th>47</th>\n",
       "      <td>Pennsylvania|18.2|50|31|88</td>\n",
       "    </tr>\n",
       "    <tr>\n",
       "      <th>48</th>\n",
       "      <td>Rhode Island|11.1|34|38|79</td>\n",
       "    </tr>\n",
       "    <tr>\n",
       "      <th>49</th>\n",
       "      <td>South Carolina|23.9|38|41|81</td>\n",
       "    </tr>\n",
       "    <tr>\n",
       "      <th>50</th>\n",
       "      <td>South Dakota|19.4|31|33|86</td>\n",
       "    </tr>\n",
       "    <tr>\n",
       "      <th>51</th>\n",
       "      <td>Tennessee|19.5|21|29|81</td>\n",
       "    </tr>\n",
       "    <tr>\n",
       "      <th>52</th>\n",
       "      <td>Texas|19.4|40|38|87</td>\n",
       "    </tr>\n",
       "    <tr>\n",
       "      <th>53</th>\n",
       "      <td>Utah|11.3|43|16|96</td>\n",
       "    </tr>\n",
       "    <tr>\n",
       "      <th>54</th>\n",
       "      <td>Vermont|13.6|30|30|95</td>\n",
       "    </tr>\n",
       "    <tr>\n",
       "      <th>55</th>\n",
       "      <td>Virginia|12.7|19|27|88</td>\n",
       "    </tr>\n",
       "    <tr>\n",
       "      <th>56</th>\n",
       "      <td>Washington|10.6|42|33|86</td>\n",
       "    </tr>\n",
       "    <tr>\n",
       "      <th>57</th>\n",
       "      <td>West Virginia|23.8|34|28|87</td>\n",
       "    </tr>\n",
       "    <tr>\n",
       "      <th>58</th>\n",
       "      <td>Wisconsin|13.8|36|33|84</td>\n",
       "    </tr>\n",
       "    <tr>\n",
       "      <th>59</th>\n",
       "      <td>Wyoming|17.4|42|32|90</td>\n",
       "    </tr>\n",
       "  </tbody>\n",
       "</table>\n",
       "</div>"
      ],
      "text/plain": [
       "                                  ##### LICENSE #####\n",
       "0   # This data set is modified from the original ...\n",
       "1   # and it is released under CC BY 4.0 (https://...\n",
       "2                    ##### COLUMN ABBREVIATIONS #####\n",
       "3   # drvr_fatl_col_bmiles = Number of drivers inv...\n",
       "4   # perc_fatl_speed = Percentage Of Drivers Invo...\n",
       "5   # perc_fatl_alcohol = Percentage Of Drivers In...\n",
       "6   # perc_fatl_1st_time = Percentage Of Drivers I...\n",
       "7                              ##### DATA BEGIN #####\n",
       "8   state|drvr_fatl_col_bmiles|perc_fatl_speed|per...\n",
       "9                               Alabama|18.8|39|30|80\n",
       "10                               Alaska|18.1|41|25|94\n",
       "11                              Arizona|18.6|35|28|96\n",
       "12                             Arkansas|22.4|18|26|95\n",
       "13                             California|12|35|28|89\n",
       "14                             Colorado|13.6|37|28|95\n",
       "15                          Connecticut|10.8|46|36|82\n",
       "16                             Delaware|16.2|38|30|99\n",
       "17                 District of Columbia|5.9|34|27|100\n",
       "18                              Florida|17.9|21|29|94\n",
       "19                              Georgia|15.6|19|25|93\n",
       "20                               Hawaii|17.5|54|41|87\n",
       "21                                Idaho|15.3|36|29|98\n",
       "22                             Illinois|12.8|36|34|96\n",
       "23                              Indiana|14.5|25|29|95\n",
       "24                                 Iowa|15.7|17|25|87\n",
       "25                               Kansas|17.8|27|24|85\n",
       "26                             Kentucky|21.4|19|23|76\n",
       "27                            Louisiana|20.5|35|33|98\n",
       "28                                Maine|15.1|38|30|84\n",
       "29                             Maryland|12.5|34|32|99\n",
       "30                         Massachusetts|8.2|23|35|80\n",
       "31                             Michigan|14.1|24|28|77\n",
       "32                             Minnesota|9.6|23|29|88\n",
       "33                         Mississippi|17.6|15|31|100\n",
       "34                             Missouri|16.1|43|34|84\n",
       "35                              Montana|21.4|39|44|85\n",
       "36                             Nebraska|14.9|13|35|90\n",
       "37                               Nevada|14.7|37|32|99\n",
       "38                        New Hampshire|11.6|35|30|83\n",
       "39                           New Jersey|11.2|16|28|78\n",
       "40                           New Mexico|18.4|19|27|98\n",
       "41                             New York|12.3|32|29|80\n",
       "42                       North Carolina|16.8|39|31|81\n",
       "43                         North Dakota|23.9|23|42|86\n",
       "44                                 Ohio|14.1|28|34|82\n",
       "45                             Oklahoma|19.9|32|29|94\n",
       "46                               Oregon|12.8|33|26|90\n",
       "47                         Pennsylvania|18.2|50|31|88\n",
       "48                         Rhode Island|11.1|34|38|79\n",
       "49                       South Carolina|23.9|38|41|81\n",
       "50                         South Dakota|19.4|31|33|86\n",
       "51                            Tennessee|19.5|21|29|81\n",
       "52                                Texas|19.4|40|38|87\n",
       "53                                 Utah|11.3|43|16|96\n",
       "54                              Vermont|13.6|30|30|95\n",
       "55                             Virginia|12.7|19|27|88\n",
       "56                           Washington|10.6|42|33|86\n",
       "57                        West Virginia|23.8|34|28|87\n",
       "58                            Wisconsin|13.8|36|33|84\n",
       "59                              Wyoming|17.4|42|32|90"
      ]
     },
     "execution_count": 2,
     "metadata": {},
     "output_type": "execute_result"
    }
   ],
   "source": [
    "road_acc = pd.read_csv(\"road-accidents.csv\")\n",
    "road_acc"
   ]
  },
  {
   "cell_type": "markdown",
   "id": "b6d3632d",
   "metadata": {},
   "source": [
    "<hr>"
   ]
  },
  {
   "cell_type": "markdown",
   "id": "72977ffc",
   "metadata": {},
   "source": [
    "- We can notice that there are some comments in our dataframe which illustrate our data as for:\n",
    "    - License\n",
    "        - This data set is modified from the original at fivethirtyeight (https://github.com/fivethirtyeight/data/tree/master/bad-drivers) and it is released under CC BY 4.0 (https://creativecommons.org/licenses/by/4.0/)<br><br>\n",
    "\n",
    "    - Columns abbreviation \n",
    "        - drvr_fatl_col_bmiles = Number of drivers involved in fatal collisions per billion miles (2011)\n",
    "        - perc_fatl_speed = Percentage Of Drivers Involved In Fatal Collisions Who Were Speeding (2009)\n",
    "        - perc_fatl_alcohol = Percentage Of Drivers Involved In Fatal Collisions Who Were Alcohol-Impaired (2011)\n",
    "        - perc_fatl_1st_time = Percentage Of Drivers Involved In Fatal Collisions Who Had Not Been Involved In Any Previous Accidents (2011)<br><br>\n",
    "    - The seperator of our data is `|`        "
   ]
  },
  {
   "cell_type": "markdown",
   "id": "a05f6f07",
   "metadata": {},
   "source": [
    "<hr>"
   ]
  },
  {
   "cell_type": "markdown",
   "id": "b9910147",
   "metadata": {},
   "source": [
    "<h2> 2. Read in and get an overview of the data </h2>"
   ]
  },
  {
   "cell_type": "markdown",
   "id": "3ff940e8",
   "metadata": {},
   "source": [
    "Next, we will orient ourselves to get to know the data with which we are dealing.<br><br>"
   ]
  },
  {
   "cell_type": "code",
   "execution_count": 3,
   "id": "3edf1287",
   "metadata": {},
   "outputs": [
    {
     "name": "stdout",
     "output_type": "stream",
     "text": [
      "<class 'pandas.core.frame.DataFrame'>\n",
      "RangeIndex: 51 entries, 0 to 50\n",
      "Data columns (total 5 columns):\n",
      " #   Column                Non-Null Count  Dtype  \n",
      "---  ------                --------------  -----  \n",
      " 0   state                 51 non-null     object \n",
      " 1   drvr_fatl_col_bmiles  51 non-null     float64\n",
      " 2   perc_fatl_speed       51 non-null     int64  \n",
      " 3   perc_fatl_alcohol     51 non-null     int64  \n",
      " 4   perc_fatl_1st_time    51 non-null     int64  \n",
      "dtypes: float64(1), int64(3), object(1)\n",
      "memory usage: 2.1+ KB\n",
      "None\n"
     ]
    },
    {
     "data": {
      "text/html": [
       "<div>\n",
       "<style scoped>\n",
       "    .dataframe tbody tr th:only-of-type {\n",
       "        vertical-align: middle;\n",
       "    }\n",
       "\n",
       "    .dataframe tbody tr th {\n",
       "        vertical-align: top;\n",
       "    }\n",
       "\n",
       "    .dataframe thead th {\n",
       "        text-align: right;\n",
       "    }\n",
       "</style>\n",
       "<table border=\"1\" class=\"dataframe\">\n",
       "  <thead>\n",
       "    <tr style=\"text-align: right;\">\n",
       "      <th></th>\n",
       "      <th>state</th>\n",
       "      <th>drvr_fatl_col_bmiles</th>\n",
       "      <th>perc_fatl_speed</th>\n",
       "      <th>perc_fatl_alcohol</th>\n",
       "      <th>perc_fatl_1st_time</th>\n",
       "    </tr>\n",
       "  </thead>\n",
       "  <tbody>\n",
       "    <tr>\n",
       "      <th>0</th>\n",
       "      <td>Alabama</td>\n",
       "      <td>18.8</td>\n",
       "      <td>39</td>\n",
       "      <td>30</td>\n",
       "      <td>80</td>\n",
       "    </tr>\n",
       "    <tr>\n",
       "      <th>1</th>\n",
       "      <td>Alaska</td>\n",
       "      <td>18.1</td>\n",
       "      <td>41</td>\n",
       "      <td>25</td>\n",
       "      <td>94</td>\n",
       "    </tr>\n",
       "    <tr>\n",
       "      <th>2</th>\n",
       "      <td>Arizona</td>\n",
       "      <td>18.6</td>\n",
       "      <td>35</td>\n",
       "      <td>28</td>\n",
       "      <td>96</td>\n",
       "    </tr>\n",
       "    <tr>\n",
       "      <th>3</th>\n",
       "      <td>Arkansas</td>\n",
       "      <td>22.4</td>\n",
       "      <td>18</td>\n",
       "      <td>26</td>\n",
       "      <td>95</td>\n",
       "    </tr>\n",
       "    <tr>\n",
       "      <th>4</th>\n",
       "      <td>California</td>\n",
       "      <td>12.0</td>\n",
       "      <td>35</td>\n",
       "      <td>28</td>\n",
       "      <td>89</td>\n",
       "    </tr>\n",
       "  </tbody>\n",
       "</table>\n",
       "</div>"
      ],
      "text/plain": [
       "        state  drvr_fatl_col_bmiles  perc_fatl_speed  perc_fatl_alcohol  \\\n",
       "0     Alabama                  18.8               39                 30   \n",
       "1      Alaska                  18.1               41                 25   \n",
       "2     Arizona                  18.6               35                 28   \n",
       "3    Arkansas                  22.4               18                 26   \n",
       "4  California                  12.0               35                 28   \n",
       "\n",
       "   perc_fatl_1st_time  \n",
       "0                  80  \n",
       "1                  94  \n",
       "2                  96  \n",
       "3                  95  \n",
       "4                  89  "
      ]
     },
     "execution_count": 3,
     "metadata": {},
     "output_type": "execute_result"
    }
   ],
   "source": [
    "road_acc = pd.read_csv(\"road-accidents.csv\", delimiter='|', comment='#')\n",
    "\n",
    "# Display an overview of the DataFrame\n",
    "print(road_acc.info())\n",
    "\n",
    "# Display the last five rows of the DataFrame\n",
    "road_acc.head()"
   ]
  },
  {
   "cell_type": "markdown",
   "id": "2174b394",
   "metadata": {},
   "source": [
    "<hr>"
   ]
  },
  {
   "cell_type": "markdown",
   "id": "ead4baad",
   "metadata": {},
   "source": [
    "<h2> 3. Create a textual and a graphical summary of the data </h2>"
   ]
  },
  {
   "cell_type": "markdown",
   "id": "42b3b616",
   "metadata": {},
   "source": [
    "We now have an idea of what the dataset looks like. To further familiarize ourselves with this data, we will calculate summary statistics and produce a graphical overview of the data. <br><br>\n",
    "The graphical overview is good to get a sense for the distribution of variables within the data and could consist of one histogram per column. It is often a good idea to also explore the pairwise relationship between all columns in the data set by using a using pairwise scatter plots (sometimes referred to as a \"scatterplot matrix\")"
   ]
  },
  {
   "cell_type": "code",
   "execution_count": 4,
   "id": "c7beed3d",
   "metadata": {},
   "outputs": [
    {
     "name": "stdout",
     "output_type": "stream",
     "text": [
      "       drvr_fatl_col_bmiles  perc_fatl_speed  perc_fatl_alcohol  \\\n",
      "count             51.000000        51.000000          51.000000   \n",
      "mean              15.790196        31.725490          30.686275   \n",
      "std                4.122002         9.633438           5.132213   \n",
      "min                5.900000        13.000000          16.000000   \n",
      "25%               12.750000        23.000000          28.000000   \n",
      "50%               15.600000        34.000000          30.000000   \n",
      "75%               18.500000        38.000000          33.000000   \n",
      "max               23.900000        54.000000          44.000000   \n",
      "\n",
      "       perc_fatl_1st_time  \n",
      "count            51.00000  \n",
      "mean             88.72549  \n",
      "std               6.96011  \n",
      "min              76.00000  \n",
      "25%              83.50000  \n",
      "50%              88.00000  \n",
      "75%              95.00000  \n",
      "max             100.00000  \n"
     ]
    },
    {
     "data": {
      "text/plain": [
       "<seaborn.axisgrid.PairGrid at 0x237697ecfa0>"
      ]
     },
     "execution_count": 4,
     "metadata": {},
     "output_type": "execute_result"
    },
    {
     "data": {
      "image/png": "[encoded data removed]",
      "text/plain": [
       "<Figure size 720x720 with 20 Axes>"
      ]
     },
     "metadata": {
      "needs_background": "light"
     },
     "output_type": "display_data"
    }
   ],
   "source": [
    "# Compute the summary statistics of all columns in the `road_acc` DataFrame\n",
    "# print(road_acc.describe(include = 'all')) \n",
    "print(road_acc.describe())\n",
    "\n",
    "# Create a pairwise scatter plot to explore the data\n",
    "sns.pairplot(road_acc)"
   ]
  },
  {
   "cell_type": "markdown",
   "id": "bf25f86c",
   "metadata": {},
   "source": [
    "<hr>"
   ]
  },
  {
   "cell_type": "markdown",
   "id": "8d92521b",
   "metadata": {},
   "source": [
    "<h2> 4. Quantify the association of features and accidents <h2>"
   ]
  },
  {
   "cell_type": "markdown",
   "id": "607db7b3",
   "metadata": {},
   "source": [
    "We can already see some potentially interesting relationships between the target variable (the number of fatal accidents) and the feature variables (the remaining three columns).<br>\n",
    "To quantify the pairwise relationships that we observed in the scatter plots, we can compute the Pearson correlation coefficient matrix. The Pearson correlation coefficient is one of the most common methods to quantify correlation between variables, and by convention, the following thresholds are usually used:\n",
    "- 0.2 = weak\n",
    "- 0.5 = medium\n",
    "- 0.8 = strong\n",
    "- 0.9 = very strong"
   ]
  },
  {
   "cell_type": "code",
   "execution_count": 5,
   "id": "6a377134",
   "metadata": {},
   "outputs": [
    {
     "data": {
      "text/plain": [
       "<AxesSubplot:>"
      ]
     },
     "execution_count": 5,
     "metadata": {},
     "output_type": "execute_result"
    },
    {
     "data": {
      "image/png": "[encoded data removed]",
      "text/plain": [
       "<Figure size 864x720 with 2 Axes>"
      ]
     },
     "metadata": {
      "needs_background": "light"
     },
     "output_type": "display_data"
    }
   ],
   "source": [
    "# Compute the correlation coefficent for all column pairs\n",
    "corr = road_acc.corr()\n",
    "\n",
    "# Set up the matplotlib plot configuration\n",
    "f, ax = plt.subplots(figsize=(12, 10))\n",
    "\n",
    "# Generate a mask for upper traingle\n",
    "mask = np.triu(np.ones_like(corr, dtype=bool))\n",
    "\n",
    "# Configure a custom diverging colormap\n",
    "cmap = sns.diverging_palette(230, 20, as_cmap=True)\n",
    "\n",
    "# Draw the heatmap\n",
    "sns.heatmap(corr, annot=True, mask = mask, cmap=cmap)"
   ]
  },
  {
   "cell_type": "markdown",
   "id": "7a0b5146",
   "metadata": {},
   "source": [
    "- So, we can compute that there is a strong correlation between:\n",
    "    - the feature `perc_fatl_alchohol` and the target `drvr_fatl_col_bmiles` (0.2)\n",
    "    - the feature `perc_fatl_alchohol` and the feature `perc_fatl_1st_time` (-0.25) \n",
    "    - the feature `perc_fatl_alchohol` and the feature `perc_fatl_speed` (0.29)\n",
    "\n",
    "- All the four features give us meaningfull values"
   ]
  },
  {
   "cell_type": "markdown",
   "id": "2d0f8fd4",
   "metadata": {},
   "source": [
    "<hr>"
   ]
  },
  {
   "cell_type": "markdown",
   "id": "279374e4",
   "metadata": {},
   "source": [
    "<h2> 5. Fit a multivariate linear regression <h2>"
   ]
  },
  {
   "cell_type": "markdown",
   "id": "18e0b749",
   "metadata": {},
   "source": [
    "From the correlation table, we see that the amount of fatal accidents is most strongly correlated with alcohol consumption. But in addition, we also see that some of the features are correlated with each other, for instance, speeding and alcohol consumption are positively correlated. We, therefore, want to compute the association of the target with each feature while adjusting for the effect of the remaining features. This can be done using multivariate linear regression.<br><br>\n",
    "\n",
    "Both the multivariate regression and the correlation measure how strongly the features are associated with the outcome (fatal accidents). When comparing the regression coefficients with the correlation coefficients, we will see that they are slightly different. The reason for this is that the multiple regression computes the association of a feature with an outcome, given the association with all other features, which is not accounted for when calculating the correlation coefficients.<br><br>\n",
    "\n",
    "A particularly interesting case is when the correlation coefficient and the regression coefficient of the same feature have opposite signs. How can this be? For example, when a feature A is positively correlated with the outcome Y but also positively correlated with a different feature B that has a negative effect on Y, then the indirect correlation (A->B->Y) can overwhelm the direct correlation (A->Y). In such a case, the regression coefficient of feature A could be positive, while the correlation coefficient is negative. This is sometimes called a `masking relationship`. Let’s see if the multivariate regression can reveal such a phenomenon."
   ]
  },
  {
   "cell_type": "code",
   "execution_count": 6,
   "id": "71f550e7",
   "metadata": {},
   "outputs": [
    {
     "name": "stdout",
     "output_type": "stream",
     "text": [
      "- Correlation Coefficient of perc_fatl_speed is -0.0418\n",
      "- Correlation Coefficient of perc_fatl_alcohol is 0.1909\n",
      "- Correlation Coefficient of perc_fatl_1st_time is 0.0247\n"
     ]
    }
   ],
   "source": [
    "# Create the features and target DataFrames\n",
    "features = road_acc.iloc[:,2:5]\n",
    "target = road_acc.iloc[:,1]\n",
    "\n",
    "# Create a linear regression object\n",
    "reg = LinearRegression()\n",
    "\n",
    "# Fit a multivariate linear regression model\n",
    "reg.fit(features,target)\n",
    "\n",
    "# Retrieve the regression coefficients\n",
    "print(f\"- Correlation Coefficient of {features.columns[0]} is {reg.coef_[0]:.4f}\\n- Correlation Coefficient of {features.columns[1]} is {reg.coef_[1]:.4f}\\n- Correlation Coefficient of {features.columns[2]} is {reg.coef_[2]:.4f}\")"
   ]
  },
  {
   "cell_type": "markdown",
   "id": "1b1da257",
   "metadata": {},
   "source": [
    "Masking relationship appears in the regression of `perc_fatl_1st_time` column."
   ]
  },
  {
   "cell_type": "markdown",
   "id": "0519b849",
   "metadata": {},
   "source": [
    "<hr>"
   ]
  },
  {
   "cell_type": "markdown",
   "id": "6dd7e648",
   "metadata": {},
   "source": [
    "<h2> 6. Perform PCA on standardized data </h2>"
   ]
  },
  {
   "cell_type": "markdown",
   "id": "ca5c2405",
   "metadata": {},
   "source": [
    "We have learned that alcohol consumption is weakly associated with the number of fatal accidents across states. This could lead us to conclude that alcohol consumption should be a focus for further investigations and maybe strategies should divide states into high versus low alcohol consumption in accidents. But there are also associations between alcohol consumptions and the other two features, so it might be worth trying to split the states in a way that accounts for all three features.<br><br>\n",
    "\n",
    "One way of clustering the data is to use PCA to visualize data in reduced dimensional space where we can try to pick up patterns by eye. PCA uses the absolute variance to calculate the overall variance explained for each principal component, so it is important that the features are on a similar scale (unless we would have a particular reason that one feature should be weighted more).<br><br>\n",
    "\n",
    "We'll use the appropriate scaling function to standardize the features to be centered with mean 0 and scaled with standard deviation 1."
   ]
  },
  {
   "cell_type": "code",
   "execution_count": 7,
   "id": "b49a28a3",
   "metadata": {},
   "outputs": [
    {
     "name": "stdout",
     "output_type": "stream",
     "text": [
      "The cumulative variance of the first two principal components is 0.7947\n"
     ]
    },
    {
     "data": {
      "image/png": "[encoded data removed]",
      "text/plain": [
       "<Figure size 432x288 with 1 Axes>"
      ]
     },
     "metadata": {
      "needs_background": "light"
     },
     "output_type": "display_data"
    }
   ],
   "source": [
    "# Standardize and center the feature columns\n",
    "scaler = StandardScaler()\n",
    "features_scaled = scaler.fit_transform(features)\n",
    "\n",
    "# Perform PCA to make dimensionality reduction \n",
    "pca = PCA()\n",
    "\n",
    "# Fit the standardized data to the pca\n",
    "pca=pca.fit(features_scaled)\n",
    "\n",
    "# Plot the proportion of variance explained on the y-axis of the bar plot\n",
    "plt.bar(range(1, pca.n_components_ + 1),  pca.explained_variance_ratio_, color='black')\n",
    "plt.xlabel('Principal component #')\n",
    "plt.ylabel('Proportion of variance explained')\n",
    "plt.xticks([1, 2, 3])\n",
    "\n",
    "# Compute the cumulative proportion of variance explained by the first two principal components\n",
    "two_first_comp_var_exp = pca.explained_variance_ratio_.cumsum()[1]\n",
    "print(\"The cumulative variance of the first two principal components is {}\".format(\n",
    "    round(two_first_comp_var_exp, 5)))"
   ]
  },
  {
   "cell_type": "markdown",
   "id": "392fd2cc",
   "metadata": {},
   "source": [
    "We notice that most of cumlative variance is achieved by reducing the features from 3 to 2"
   ]
  },
  {
   "cell_type": "markdown",
   "id": "4910d8de",
   "metadata": {},
   "source": [
    "<hr>"
   ]
  },
  {
   "cell_type": "markdown",
   "id": "c62c910e",
   "metadata": {},
   "source": [
    "<h2>7. Visualize the first two principal components</h2>"
   ]
  },
  {
   "cell_type": "markdown",
   "id": "9a3b6966",
   "metadata": {},
   "source": [
    "The first two principal components enable visualization of the data in two dimensions while capturing a high proportion of the variation (79%) from all three features: speeding, alcohol influence, and first-time accidents. This enables us to use our eyes to try to discern patterns in the data with the goal to find groups of similar states. Although clustering algorithms are becoming increasingly efficient, human pattern recognition is an easily accessible and very efficient method of assessing patterns in data.<br><br>\n",
    "\n",
    "We will create a scatter plot of the first principle components and explore how the states cluster together in this visualization."
   ]
  },
  {
   "cell_type": "code",
   "execution_count": 8,
   "id": "cdb1ae32",
   "metadata": {},
   "outputs": [
    {
     "data": {
      "text/plain": [
       "<matplotlib.collections.PathCollection at 0x2376ab21490>"
      ]
     },
     "execution_count": 8,
     "metadata": {},
     "output_type": "execute_result"
    },
    {
     "data": {
      "image/png": "[encoded data removed]",
      "text/plain": [
       "<Figure size 432x288 with 1 Axes>"
      ]
     },
     "metadata": {
      "needs_background": "light"
     },
     "output_type": "display_data"
    }
   ],
   "source": [
    "# Transform the scaled features using two principal components\n",
    "pca = PCA(n_components=2)\n",
    "p_comps = pca.fit_transform(features_scaled)\n",
    "\n",
    "# Plot the first two principal components in a scatter plot\n",
    "plt.scatter(p_comps[:,0],p_comps[:,1], color=\"black\")"
   ]
  },
  {
   "cell_type": "markdown",
   "id": "9e30d496",
   "metadata": {},
   "source": [
    "The last graph shows that we can divide our data into 3 clusters or more by inspection"
   ]
  },
  {
   "cell_type": "markdown",
   "id": "a965a018",
   "metadata": {},
   "source": [
    "<hr>"
   ]
  },
  {
   "cell_type": "markdown",
   "id": "ba453d0c",
   "metadata": {},
   "source": [
    "<h2>8. Find clusters of similar states in the data</h2>"
   ]
  },
  {
   "cell_type": "markdown",
   "id": "7dacd5e3",
   "metadata": {},
   "source": [
    "It was not entirely clear from the PCA scatter plot how many groups in which the states cluster. To assist with identifying a reasonable number of clusters, we can use KMeans clustering by creating a scree plot and finding the `elbow`, which is an indication of when the addition of more clusters does not add much explanatory power."
   ]
  },
  {
   "cell_type": "code",
   "execution_count": 9,
   "id": "9de0e3fc",
   "metadata": {},
   "outputs": [
    {
     "data": {
      "text/plain": [
       "[<matplotlib.lines.Line2D at 0x2376aba2b20>]"
      ]
     },
     "execution_count": 9,
     "metadata": {},
     "output_type": "execute_result"
    },
    {
     "data": {
      "image/png": "[encoded data removed]",
      "text/plain": [
       "<Figure size 432x288 with 1 Axes>"
      ]
     },
     "metadata": {
      "needs_background": "light"
     },
     "output_type": "display_data"
    }
   ],
   "source": [
    "# A loop will be used to plot the explanatory power for up to 10 KMeans clusters\n",
    "ks = range(1, 10)\n",
    "inertias = []\n",
    "for k in ks:\n",
    "    # Initialize the KMeans object using the current number of clusters (k)\n",
    "    # Number of time the k-means algorithm will be run with different centroid seeds equals to 50\n",
    "    km = KMeans(n_clusters=k, random_state=8, n_init=50)\n",
    "    # Fit the scaled features to the KMeans object\n",
    "    km.fit(features_scaled)\n",
    "    # Append the inertia for `km` to the list of inertias\n",
    "    inertias.append(km.inertia_)\n",
    "    \n",
    "# Plot the results in a line plot\n",
    "plt.plot(ks, inertias, marker='o', color=\"black\")"
   ]
  },
  {
   "cell_type": "markdown",
   "id": "720e9b90",
   "metadata": {},
   "source": [
    "The bending moment is at k=3 from the elbow curve"
   ]
  },
  {
   "cell_type": "markdown",
   "id": "42d17542",
   "metadata": {},
   "source": [
    "<hr>"
   ]
  },
  {
   "cell_type": "markdown",
   "id": "38c653b9",
   "metadata": {},
   "source": [
    "<h2>9. KMeans to visualize clusters in the PCA scatter plot</h2>\n"
   ]
  },
  {
   "cell_type": "markdown",
   "id": "643df5f2",
   "metadata": {},
   "source": [
    "Since there wasn't a clear elbow in the scree plot, assigning the states to either two or three clusters is a reasonable choice, and we will resume our analysis using three clusters. Let's see how the PCA scatter plot looks if we color the states according to the cluster to which they are assigned."
   ]
  },
  {
   "cell_type": "code",
   "execution_count": 10,
   "id": "d3b72b8a",
   "metadata": {},
   "outputs": [
    {
     "data": {
      "text/plain": [
       "<matplotlib.collections.PathCollection at 0x2376ac456d0>"
      ]
     },
     "execution_count": 10,
     "metadata": {},
     "output_type": "execute_result"
    },
    {
     "data": {
      "image/png": "[encoded data removed]",
      "text/plain": [
       "<Figure size 432x288 with 1 Axes>"
      ]
     },
     "metadata": {
      "needs_background": "light"
     },
     "output_type": "display_data"
    }
   ],
   "source": [
    "# Create a KMeans object with 3 clusters, use random_state=8 \n",
    "km = KMeans(n_clusters=3,random_state=8)\n",
    "\n",
    "# Fit the data to the `km` object\n",
    "km=km.fit(features_scaled)\n",
    "\n",
    "# Create a scatter plot of the first two principal components\n",
    "plt.scatter(p_comps[:,0],p_comps[:,1],c=km.labels_)\n",
    "# and color it according to the KMeans cluster assignment "
   ]
  },
  {
   "cell_type": "markdown",
   "id": "722ef3fe",
   "metadata": {},
   "source": [
    "<hr>"
   ]
  },
  {
   "cell_type": "markdown",
   "id": "157c5584",
   "metadata": {},
   "source": [
    "<h2> 10. Visualize the feature differences between the clusters </h2>"
   ]
  },
  {
   "cell_type": "markdown",
   "id": "8fe1730c",
   "metadata": {},
   "source": [
    "Thus far, we have used both our visual interpretation of the data and the KMeans clustering algorithm to reveal patterns in the data, but what do these patterns mean?<br><br>\n",
    "Remember that the information we have used to cluster the states into three distinct groups are the percentage of drivers speeding, under alcohol influence and that has not previously been involved in an accident. We used these clusters to visualize how the states group together when considering the first two principal components. This is good for us to understand structure in the data, but not always easy to understand, especially not if the findings are to be communicated to a non-specialist audience.<br><br>\n",
    "A reasonable next step in our analysis is to explore how the three clusters are different in terms of the three features that we used for clustering. Instead of using the scaled features, we return to using the unscaled features to help us interpret the differences."
   ]
  },
  {
   "cell_type": "code",
   "execution_count": 11,
   "id": "85551555",
   "metadata": {
    "scrolled": true
   },
   "outputs": [
    {
     "data": {
      "text/plain": [
       "<AxesSubplot:xlabel='percent', ylabel='measurement'>"
      ]
     },
     "execution_count": 11,
     "metadata": {},
     "output_type": "execute_result"
    },
    {
     "data": {
      "image/png": "[encoded data removed]",
      "text/plain": [
       "<Figure size 432x288 with 1 Axes>"
      ]
     },
     "metadata": {
      "needs_background": "light"
     },
     "output_type": "display_data"
    }
   ],
   "source": [
    "# Create a new column with the labels from the KMeans clustering\n",
    "road_acc['cluster'] = km.labels_\n",
    "\n",
    "# Reshape the DataFrame to the long format\n",
    "road_melt = pd.melt(road_acc, id_vars=\"cluster\", var_name=\"measurement\", value_name=\"percent\", value_vars=features)\n",
    "\n",
    "# Create a violin plot splitting and coloring the results according to the km-clusters\n",
    "sns.violinplot(x=road_melt[\"percent\"], y=road_melt[\"measurement\"], hue=road_melt[\"cluster\"])"
   ]
  },
  {
   "cell_type": "markdown",
   "id": "dda27bf2",
   "metadata": {},
   "source": [
    "We note that green cluster has the biggest variance."
   ]
  },
  {
   "cell_type": "markdown",
   "id": "853d7f83",
   "metadata": {},
   "source": [
    "<hr>"
   ]
  },
  {
   "cell_type": "markdown",
   "id": "beb07b75",
   "metadata": {},
   "source": [
    "<h2> 11. Compute the number of accidents within each cluster </h2>\n"
   ]
  },
  {
   "cell_type": "markdown",
   "id": "92be2145",
   "metadata": {},
   "source": [
    "Now it is clear that different groups of states may require different interventions. Since resources and time are limited, it is useful to start off with an intervention in one of the three groups first. Which group would this be? To determine this, we will include data on how many miles are driven in each state, because this will help us to compute the total number of fatal accidents in each state. Data on miles driven is available in another tab-delimited text file. We will assign this new information to a column in the DataFrame and create a violin plot for how many total fatal traffic accidents there are within each state cluster."
   ]
  },
  {
   "cell_type": "code",
   "execution_count": 12,
   "id": "01349531",
   "metadata": {},
   "outputs": [
    {
     "data": {
      "text/html": [
       "<div>\n",
       "<style scoped>\n",
       "    .dataframe tbody tr th:only-of-type {\n",
       "        vertical-align: middle;\n",
       "    }\n",
       "\n",
       "    .dataframe tbody tr th {\n",
       "        vertical-align: top;\n",
       "    }\n",
       "\n",
       "    .dataframe thead th {\n",
       "        text-align: right;\n",
       "    }\n",
       "</style>\n",
       "<table border=\"1\" class=\"dataframe\">\n",
       "  <thead>\n",
       "    <tr style=\"text-align: right;\">\n",
       "      <th></th>\n",
       "      <th>count</th>\n",
       "      <th>mean</th>\n",
       "      <th>sum</th>\n",
       "    </tr>\n",
       "    <tr>\n",
       "      <th>cluster</th>\n",
       "      <th></th>\n",
       "      <th></th>\n",
       "      <th></th>\n",
       "    </tr>\n",
       "  </thead>\n",
       "  <tbody>\n",
       "    <tr>\n",
       "      <th>0</th>\n",
       "      <td>18</td>\n",
       "      <td>911.406439</td>\n",
       "      <td>16405.3159</td>\n",
       "    </tr>\n",
       "    <tr>\n",
       "      <th>1</th>\n",
       "      <td>11</td>\n",
       "      <td>860.505945</td>\n",
       "      <td>9465.5654</td>\n",
       "    </tr>\n",
       "    <tr>\n",
       "      <th>2</th>\n",
       "      <td>22</td>\n",
       "      <td>898.378595</td>\n",
       "      <td>19764.3291</td>\n",
       "    </tr>\n",
       "  </tbody>\n",
       "</table>\n",
       "</div>"
      ],
      "text/plain": [
       "         count        mean         sum\n",
       "cluster                               \n",
       "0           18  911.406439  16405.3159\n",
       "1           11  860.505945   9465.5654\n",
       "2           22  898.378595  19764.3291"
      ]
     },
     "execution_count": 12,
     "metadata": {},
     "output_type": "execute_result"
    },
    {
     "data": {
      "image/png": "[encoded data removed]",
      "text/plain": [
       "<Figure size 432x288 with 1 Axes>"
      ]
     },
     "metadata": {
      "needs_background": "light"
     },
     "output_type": "display_data"
    }
   ],
   "source": [
    "# Read in the new dataset\n",
    "miles_driven = pd.read_csv('miles-driven.csv', sep='|')\n",
    "\n",
    "# Merge the `car_acc` DataFrame with the `miles_driven` DataFrame\n",
    "road_acc_miles = pd.merge(road_acc,miles_driven, on=\"state\")\n",
    "\n",
    "# Create a new column for the number of drivers involved in fatal accidents\n",
    "road_acc_miles['num_drvr_fatl_col'] = road_acc_miles['drvr_fatl_col_bmiles']*road_acc_miles[\"million_miles_annually\"]/1000\n",
    "\n",
    "# Create a barplot of the total number of accidents per cluster\n",
    "sns.barplot(x=road_acc_miles[\"cluster\"], y=road_acc_miles[\"num_drvr_fatl_col\"], data=road_acc_miles, estimator=sum, ci=None)\n",
    "\n",
    "# Calculate the number of states in each cluster and their 'num_drvr_fatl_col' mean and sum.\n",
    "count_mean_sum = road_acc_miles.groupby(\"cluster\")[\"num_drvr_fatl_col\"].agg([\"count\", \"mean\", \"sum\"])\n",
    "count_mean_sum"
   ]
  },
  {
   "cell_type": "markdown",
   "id": "2d23e0ff",
   "metadata": {},
   "source": [
    "<hr>"
   ]
  },
  {
   "cell_type": "markdown",
   "id": "bc6bbf3b",
   "metadata": {},
   "source": [
    "<h2> 12. Make a decision when there is no clear right choice </h2>"
   ]
  },
  {
   "cell_type": "markdown",
   "id": "d5fe21b6",
   "metadata": {},
   "source": [
    "As we can see, there is no obvious correct choice regarding which cluster is the most important to focus on. Yet, we can still argue for a certain cluster and motivate this using our findings above. Which cluster do you think should be a focus for policy intervention and further investigation?"
   ]
  },
  {
   "cell_type": "markdown",
   "id": "a687a669",
   "metadata": {},
   "source": [
    "The best answer is cluster 2 > cluster 0 > cluster 1 "
   ]
  }
 ],
 "metadata": {
  "kernelspec": {
   "display_name": "Python 3",
   "language": "python",
   "name": "python3"
  },
  "language_info": {
   "codemirror_mode": {
    "name": "ipython",
    "version": 3
   },
   "file_extension": ".py",
   "mimetype": "text/x-python",
   "name": "python",
   "nbconvert_exporter": "python",
   "pygments_lexer": "ipython3",
   "version": "3.8.8"
  }
 },
 "nbformat": 4,
 "nbformat_minor": 5
}
