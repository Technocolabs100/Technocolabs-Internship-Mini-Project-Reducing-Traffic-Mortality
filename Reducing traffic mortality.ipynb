{
 "cells": [
  {
   "cell_type": "markdown",
   "id": "a320aa1c",
   "metadata": {},
   "source": [
    "## Read in and get an overview of the data"
   ]
  },
  {
   "cell_type": "code",
   "execution_count": 158,
   "id": "7ef57ea6",
   "metadata": {},
   "outputs": [],
   "source": [
    "#importing the libraries\n",
    "import numpy as np\n",
    "import pandas as pd\n",
    "import matplotlib.pyplot as plt\n",
    "import seaborn as sns \n",
    "from sklearn.preprocessing import StandardScaler\n",
    "from sklearn.linear_model import LinearRegression\n",
    "from sklearn.cluster import KMeans"
   ]
  },
  {
   "cell_type": "code",
   "execution_count": 159,
   "id": "acbb20ba",
   "metadata": {},
   "outputs": [],
   "source": [
    "#load the dataset\n",
    "df=pd.read_csv(\"road-accidents.csv\")"
   ]
  },
  {
   "cell_type": "code",
   "execution_count": 160,
   "id": "2cc97aa5",
   "metadata": {},
   "outputs": [
    {
     "data": {
      "text/html": [
       "<div>\n",
       "<style scoped>\n",
       "    .dataframe tbody tr th:only-of-type {\n",
       "        vertical-align: middle;\n",
       "    }\n",
       "\n",
       "    .dataframe tbody tr th {\n",
       "        vertical-align: top;\n",
       "    }\n",
       "\n",
       "    .dataframe thead th {\n",
       "        text-align: right;\n",
       "    }\n",
       "</style>\n",
       "<table border=\"1\" class=\"dataframe\">\n",
       "  <thead>\n",
       "    <tr style=\"text-align: right;\">\n",
       "      <th></th>\n",
       "      <th>##### LICENSE #####</th>\n",
       "    </tr>\n",
       "  </thead>\n",
       "  <tbody>\n",
       "    <tr>\n",
       "      <th>0</th>\n",
       "      <td># This data set is modified from the original ...</td>\n",
       "    </tr>\n",
       "    <tr>\n",
       "      <th>1</th>\n",
       "      <td># and it is released under CC BY 4.0 (https://...</td>\n",
       "    </tr>\n",
       "    <tr>\n",
       "      <th>2</th>\n",
       "      <td>##### COLUMN ABBREVIATIONS #####</td>\n",
       "    </tr>\n",
       "    <tr>\n",
       "      <th>3</th>\n",
       "      <td># drvr_fatl_col_bmiles = Number of drivers inv...</td>\n",
       "    </tr>\n",
       "    <tr>\n",
       "      <th>4</th>\n",
       "      <td># perc_fatl_speed = Percentage Of Drivers Invo...</td>\n",
       "    </tr>\n",
       "  </tbody>\n",
       "</table>\n",
       "</div>"
      ],
      "text/plain": [
       "                                 ##### LICENSE #####\n",
       "0  # This data set is modified from the original ...\n",
       "1  # and it is released under CC BY 4.0 (https://...\n",
       "2                   ##### COLUMN ABBREVIATIONS #####\n",
       "3  # drvr_fatl_col_bmiles = Number of drivers inv...\n",
       "4  # perc_fatl_speed = Percentage Of Drivers Invo..."
      ]
     },
     "execution_count": 160,
     "metadata": {},
     "output_type": "execute_result"
    }
   ],
   "source": [
    "df.head()"
   ]
  },
  {
   "cell_type": "code",
   "execution_count": 161,
   "id": "969b2760",
   "metadata": {},
   "outputs": [
    {
     "data": {
      "text/html": [
       "<div>\n",
       "<style scoped>\n",
       "    .dataframe tbody tr th:only-of-type {\n",
       "        vertical-align: middle;\n",
       "    }\n",
       "\n",
       "    .dataframe tbody tr th {\n",
       "        vertical-align: top;\n",
       "    }\n",
       "\n",
       "    .dataframe thead th {\n",
       "        text-align: right;\n",
       "    }\n",
       "</style>\n",
       "<table border=\"1\" class=\"dataframe\">\n",
       "  <thead>\n",
       "    <tr style=\"text-align: right;\">\n",
       "      <th></th>\n",
       "      <th>state</th>\n",
       "      <th>drvr_fatl_col_bmiles</th>\n",
       "      <th>perc_fatl_speed</th>\n",
       "      <th>perc_fatl_alcohol</th>\n",
       "      <th>perc_fatl_1st_time</th>\n",
       "    </tr>\n",
       "  </thead>\n",
       "  <tbody>\n",
       "    <tr>\n",
       "      <th>0</th>\n",
       "      <td>Alabama</td>\n",
       "      <td>18.8</td>\n",
       "      <td>39</td>\n",
       "      <td>30</td>\n",
       "      <td>80</td>\n",
       "    </tr>\n",
       "    <tr>\n",
       "      <th>1</th>\n",
       "      <td>Alaska</td>\n",
       "      <td>18.1</td>\n",
       "      <td>41</td>\n",
       "      <td>25</td>\n",
       "      <td>94</td>\n",
       "    </tr>\n",
       "    <tr>\n",
       "      <th>2</th>\n",
       "      <td>Arizona</td>\n",
       "      <td>18.6</td>\n",
       "      <td>35</td>\n",
       "      <td>28</td>\n",
       "      <td>96</td>\n",
       "    </tr>\n",
       "    <tr>\n",
       "      <th>3</th>\n",
       "      <td>Arkansas</td>\n",
       "      <td>22.4</td>\n",
       "      <td>18</td>\n",
       "      <td>26</td>\n",
       "      <td>95</td>\n",
       "    </tr>\n",
       "    <tr>\n",
       "      <th>4</th>\n",
       "      <td>California</td>\n",
       "      <td>12.0</td>\n",
       "      <td>35</td>\n",
       "      <td>28</td>\n",
       "      <td>89</td>\n",
       "    </tr>\n",
       "    <tr>\n",
       "      <th>5</th>\n",
       "      <td>Colorado</td>\n",
       "      <td>13.6</td>\n",
       "      <td>37</td>\n",
       "      <td>28</td>\n",
       "      <td>95</td>\n",
       "    </tr>\n",
       "    <tr>\n",
       "      <th>6</th>\n",
       "      <td>Connecticut</td>\n",
       "      <td>10.8</td>\n",
       "      <td>46</td>\n",
       "      <td>36</td>\n",
       "      <td>82</td>\n",
       "    </tr>\n",
       "    <tr>\n",
       "      <th>7</th>\n",
       "      <td>Delaware</td>\n",
       "      <td>16.2</td>\n",
       "      <td>38</td>\n",
       "      <td>30</td>\n",
       "      <td>99</td>\n",
       "    </tr>\n",
       "    <tr>\n",
       "      <th>8</th>\n",
       "      <td>District of Columbia</td>\n",
       "      <td>5.9</td>\n",
       "      <td>34</td>\n",
       "      <td>27</td>\n",
       "      <td>100</td>\n",
       "    </tr>\n",
       "    <tr>\n",
       "      <th>9</th>\n",
       "      <td>Florida</td>\n",
       "      <td>17.9</td>\n",
       "      <td>21</td>\n",
       "      <td>29</td>\n",
       "      <td>94</td>\n",
       "    </tr>\n",
       "  </tbody>\n",
       "</table>\n",
       "</div>"
      ],
      "text/plain": [
       "                  state  drvr_fatl_col_bmiles  perc_fatl_speed  \\\n",
       "0               Alabama                  18.8               39   \n",
       "1                Alaska                  18.1               41   \n",
       "2               Arizona                  18.6               35   \n",
       "3              Arkansas                  22.4               18   \n",
       "4            California                  12.0               35   \n",
       "5              Colorado                  13.6               37   \n",
       "6           Connecticut                  10.8               46   \n",
       "7              Delaware                  16.2               38   \n",
       "8  District of Columbia                   5.9               34   \n",
       "9               Florida                  17.9               21   \n",
       "\n",
       "   perc_fatl_alcohol  perc_fatl_1st_time  \n",
       "0                 30                  80  \n",
       "1                 25                  94  \n",
       "2                 28                  96  \n",
       "3                 26                  95  \n",
       "4                 28                  89  \n",
       "5                 28                  95  \n",
       "6                 36                  82  \n",
       "7                 30                  99  \n",
       "8                 27                 100  \n",
       "9                 29                  94  "
      ]
     },
     "execution_count": 161,
     "metadata": {},
     "output_type": "execute_result"
    }
   ],
   "source": [
    "df1=pd.read_csv('road-accidents.csv', comment = '#', sep = '|')\n",
    "df1.head(10)"
   ]
  },
  {
   "cell_type": "code",
   "execution_count": 162,
   "id": "ee7b52eb",
   "metadata": {},
   "outputs": [
    {
     "name": "stdout",
     "output_type": "stream",
     "text": [
      "<class 'pandas.core.frame.DataFrame'>\n",
      "RangeIndex: 51 entries, 0 to 50\n",
      "Data columns (total 5 columns):\n",
      " #   Column                Non-Null Count  Dtype  \n",
      "---  ------                --------------  -----  \n",
      " 0   state                 51 non-null     object \n",
      " 1   drvr_fatl_col_bmiles  51 non-null     float64\n",
      " 2   perc_fatl_speed       51 non-null     int64  \n",
      " 3   perc_fatl_alcohol     51 non-null     int64  \n",
      " 4   perc_fatl_1st_time    51 non-null     int64  \n",
      "dtypes: float64(1), int64(3), object(1)\n",
      "memory usage: 2.1+ KB\n"
     ]
    }
   ],
   "source": [
    "df1.info()"
   ]
  },
  {
   "cell_type": "code",
   "execution_count": 163,
   "id": "75975bf7",
   "metadata": {},
   "outputs": [
    {
     "data": {
      "text/plain": [
       "state                   0\n",
       "drvr_fatl_col_bmiles    0\n",
       "perc_fatl_speed         0\n",
       "perc_fatl_alcohol       0\n",
       "perc_fatl_1st_time      0\n",
       "dtype: int64"
      ]
     },
     "execution_count": 163,
     "metadata": {},
     "output_type": "execute_result"
    }
   ],
   "source": [
    "df1.isnull().sum()"
   ]
  },
  {
   "cell_type": "code",
   "execution_count": 164,
   "id": "3d4cbf48",
   "metadata": {},
   "outputs": [
    {
     "data": {
      "text/plain": [
       "(51, 5)"
      ]
     },
     "execution_count": 164,
     "metadata": {},
     "output_type": "execute_result"
    }
   ],
   "source": [
    "df1.shape"
   ]
  },
  {
   "cell_type": "code",
   "execution_count": 165,
   "id": "e52b25d9",
   "metadata": {},
   "outputs": [
    {
     "data": {
      "text/plain": [
       "0     False\n",
       "1     False\n",
       "2     False\n",
       "3     False\n",
       "4     False\n",
       "5     False\n",
       "6     False\n",
       "7     False\n",
       "8     False\n",
       "9     False\n",
       "10    False\n",
       "11    False\n",
       "12    False\n",
       "13    False\n",
       "14    False\n",
       "15    False\n",
       "16    False\n",
       "17    False\n",
       "18    False\n",
       "19    False\n",
       "20    False\n",
       "21    False\n",
       "22    False\n",
       "23    False\n",
       "24    False\n",
       "25    False\n",
       "26    False\n",
       "27    False\n",
       "28    False\n",
       "29    False\n",
       "30    False\n",
       "31    False\n",
       "32    False\n",
       "33    False\n",
       "34    False\n",
       "35    False\n",
       "36    False\n",
       "37    False\n",
       "38    False\n",
       "39    False\n",
       "40    False\n",
       "41    False\n",
       "42    False\n",
       "43    False\n",
       "44    False\n",
       "45    False\n",
       "46    False\n",
       "47    False\n",
       "48    False\n",
       "49    False\n",
       "50    False\n",
       "dtype: bool"
      ]
     },
     "execution_count": 165,
     "metadata": {},
     "output_type": "execute_result"
    }
   ],
   "source": [
    "df1.duplicated()"
   ]
  },
  {
   "cell_type": "markdown",
   "id": "7055de24",
   "metadata": {},
   "source": [
    "## Create a textual and a graphical summary of the data"
   ]
  },
  {
   "cell_type": "code",
   "execution_count": 166,
   "id": "3d92396e",
   "metadata": {},
   "outputs": [
    {
     "data": {
      "text/html": [
       "<div>\n",
       "<style scoped>\n",
       "    .dataframe tbody tr th:only-of-type {\n",
       "        vertical-align: middle;\n",
       "    }\n",
       "\n",
       "    .dataframe tbody tr th {\n",
       "        vertical-align: top;\n",
       "    }\n",
       "\n",
       "    .dataframe thead th {\n",
       "        text-align: right;\n",
       "    }\n",
       "</style>\n",
       "<table border=\"1\" class=\"dataframe\">\n",
       "  <thead>\n",
       "    <tr style=\"text-align: right;\">\n",
       "      <th></th>\n",
       "      <th>drvr_fatl_col_bmiles</th>\n",
       "      <th>perc_fatl_speed</th>\n",
       "      <th>perc_fatl_alcohol</th>\n",
       "      <th>perc_fatl_1st_time</th>\n",
       "    </tr>\n",
       "  </thead>\n",
       "  <tbody>\n",
       "    <tr>\n",
       "      <th>count</th>\n",
       "      <td>51.000000</td>\n",
       "      <td>51.000000</td>\n",
       "      <td>51.000000</td>\n",
       "      <td>51.00000</td>\n",
       "    </tr>\n",
       "    <tr>\n",
       "      <th>mean</th>\n",
       "      <td>15.790196</td>\n",
       "      <td>31.725490</td>\n",
       "      <td>30.686275</td>\n",
       "      <td>88.72549</td>\n",
       "    </tr>\n",
       "    <tr>\n",
       "      <th>std</th>\n",
       "      <td>4.122002</td>\n",
       "      <td>9.633438</td>\n",
       "      <td>5.132213</td>\n",
       "      <td>6.96011</td>\n",
       "    </tr>\n",
       "    <tr>\n",
       "      <th>min</th>\n",
       "      <td>5.900000</td>\n",
       "      <td>13.000000</td>\n",
       "      <td>16.000000</td>\n",
       "      <td>76.00000</td>\n",
       "    </tr>\n",
       "    <tr>\n",
       "      <th>25%</th>\n",
       "      <td>12.750000</td>\n",
       "      <td>23.000000</td>\n",
       "      <td>28.000000</td>\n",
       "      <td>83.50000</td>\n",
       "    </tr>\n",
       "    <tr>\n",
       "      <th>50%</th>\n",
       "      <td>15.600000</td>\n",
       "      <td>34.000000</td>\n",
       "      <td>30.000000</td>\n",
       "      <td>88.00000</td>\n",
       "    </tr>\n",
       "    <tr>\n",
       "      <th>75%</th>\n",
       "      <td>18.500000</td>\n",
       "      <td>38.000000</td>\n",
       "      <td>33.000000</td>\n",
       "      <td>95.00000</td>\n",
       "    </tr>\n",
       "    <tr>\n",
       "      <th>max</th>\n",
       "      <td>23.900000</td>\n",
       "      <td>54.000000</td>\n",
       "      <td>44.000000</td>\n",
       "      <td>100.00000</td>\n",
       "    </tr>\n",
       "  </tbody>\n",
       "</table>\n",
       "</div>"
      ],
      "text/plain": [
       "       drvr_fatl_col_bmiles  perc_fatl_speed  perc_fatl_alcohol  \\\n",
       "count             51.000000        51.000000          51.000000   \n",
       "mean              15.790196        31.725490          30.686275   \n",
       "std                4.122002         9.633438           5.132213   \n",
       "min                5.900000        13.000000          16.000000   \n",
       "25%               12.750000        23.000000          28.000000   \n",
       "50%               15.600000        34.000000          30.000000   \n",
       "75%               18.500000        38.000000          33.000000   \n",
       "max               23.900000        54.000000          44.000000   \n",
       "\n",
       "       perc_fatl_1st_time  \n",
       "count            51.00000  \n",
       "mean             88.72549  \n",
       "std               6.96011  \n",
       "min              76.00000  \n",
       "25%              83.50000  \n",
       "50%              88.00000  \n",
       "75%              95.00000  \n",
       "max             100.00000  "
      ]
     },
     "execution_count": 166,
     "metadata": {},
     "output_type": "execute_result"
    }
   ],
   "source": [
    "df1.describe()"
   ]
  },
  {
   "cell_type": "code",
   "execution_count": 167,
   "id": "8675f202",
   "metadata": {},
   "outputs": [
    {
     "data": {
      "image/png": "[encoded data removed]",
      "text/plain": [
       "<Figure size 432x288 with 2 Axes>"
      ]
     },
     "metadata": {
      "needs_background": "light"
     },
     "output_type": "display_data"
    }
   ],
   "source": [
    "sns.heatmap(df1.corr(), annot=True, cmap='coolwarm')\n",
    "plt.title('Correlation Matrix')\n",
    "plt.show()"
   ]
  },
  {
   "cell_type": "code",
   "execution_count": 168,
   "id": "dff2f4bd",
   "metadata": {},
   "outputs": [
    {
     "data": {
      "text/plain": [
       "<seaborn.axisgrid.PairGrid at 0x2008fce87c0>"
      ]
     },
     "execution_count": 168,
     "metadata": {},
     "output_type": "execute_result"
    },
    {
     "data": {
      "image/png": "[encoded data removed]",
      "text/plain": [
       "<Figure size 720x720 with 20 Axes>"
      ]
     },
     "metadata": {
      "needs_background": "light"
     },
     "output_type": "display_data"
    }
   ],
   "source": [
    "sns.pairplot(df1.describe())"
   ]
  },
  {
   "cell_type": "code",
   "execution_count": 169,
   "id": "1e5b77b3",
   "metadata": {},
   "outputs": [
    {
     "data": {
      "text/plain": [
       "<AxesSubplot:xlabel='drvr_fatl_col_bmiles', ylabel='state'>"
      ]
     },
     "execution_count": 169,
     "metadata": {},
     "output_type": "execute_result"
    },
    {
     "data": {
      "image/png": "[encoded data removed]",
      "text/plain": [
       "<Figure size 1080x720 with 1 Axes>"
      ]
     },
     "metadata": {
      "needs_background": "light"
     },
     "output_type": "display_data"
    }
   ],
   "source": [
    "#no of drivers involved in fatal collisions per billion miles\n",
    "plt.figure(figsize=(15,10))\n",
    "\n",
    "sns.barplot(x='drvr_fatl_col_bmiles', y='state',data=df1)"
   ]
  },
  {
   "cell_type": "code",
   "execution_count": 170,
   "id": "959d3243",
   "metadata": {},
   "outputs": [
    {
     "data": {
      "image/png": "[encoded data removed]",
      "text/plain": [
       "<Figure size 432x288 with 1 Axes>"
      ]
     },
     "metadata": {
      "needs_background": "light"
     },
     "output_type": "display_data"
    }
   ],
   "source": [
    "sns.scatterplot(x=df1['perc_fatl_alcohol'], y=df1['drvr_fatl_col_bmiles'])\n",
    "plt.xlabel('Percentage of fatal accidents involving alcohol')\n",
    "plt.ylabel('Number of drivers involved in fatal accidents per billion miles')\n",
    "plt.title('Relationship between alcohol-related accidents and driver fatalities')\n",
    "plt.show()"
   ]
  },
  {
   "cell_type": "code",
   "execution_count": 171,
   "id": "11771c7e",
   "metadata": {},
   "outputs": [
    {
     "data": {
      "image/png": "[encoded data removed]",
      "text/plain": [
       "<Figure size 432x288 with 1 Axes>"
      ]
     },
     "metadata": {
      "needs_background": "light"
     },
     "output_type": "display_data"
    }
   ],
   "source": [
    "sns.scatterplot(x=df1['perc_fatl_speed'], y=df1['drvr_fatl_col_bmiles'])\n",
    "plt.xlabel('Percentage of fatal accidents involving speed')\n",
    "plt.ylabel('Number of drivers involved in fatal accidents per billion miles')\n",
    "plt.title('Relationship between speed-related accidents and driver fatalities')\n",
    "plt.show()"
   ]
  },
  {
   "cell_type": "markdown",
   "id": "b951f785",
   "metadata": {},
   "source": [
    "## Quantify the association of features and accidents\n",
    "The Pearson correlation coefficient is one of the most common methods to quantify correlation between variables, and by convention, the following thresholds are usually used:\n",
    "\n",
    "0.2 = weak\n",
    "0.5 = medium\n",
    "0.8 = strong\n",
    "0.9 = very strong\n",
    "\n",
    "they are only highly correlated to their own features and very less correlated to other features."
   ]
  },
  {
   "cell_type": "code",
   "execution_count": 172,
   "id": "c3356c7c",
   "metadata": {},
   "outputs": [
    {
     "data": {
      "text/html": [
       "<div>\n",
       "<style scoped>\n",
       "    .dataframe tbody tr th:only-of-type {\n",
       "        vertical-align: middle;\n",
       "    }\n",
       "\n",
       "    .dataframe tbody tr th {\n",
       "        vertical-align: top;\n",
       "    }\n",
       "\n",
       "    .dataframe thead th {\n",
       "        text-align: right;\n",
       "    }\n",
       "</style>\n",
       "<table border=\"1\" class=\"dataframe\">\n",
       "  <thead>\n",
       "    <tr style=\"text-align: right;\">\n",
       "      <th></th>\n",
       "      <th>drvr_fatl_col_bmiles</th>\n",
       "      <th>perc_fatl_speed</th>\n",
       "      <th>perc_fatl_alcohol</th>\n",
       "      <th>perc_fatl_1st_time</th>\n",
       "    </tr>\n",
       "  </thead>\n",
       "  <tbody>\n",
       "    <tr>\n",
       "      <th>drvr_fatl_col_bmiles</th>\n",
       "      <td>1.000000</td>\n",
       "      <td>-0.029080</td>\n",
       "      <td>0.199426</td>\n",
       "      <td>-0.017942</td>\n",
       "    </tr>\n",
       "    <tr>\n",
       "      <th>perc_fatl_speed</th>\n",
       "      <td>-0.029080</td>\n",
       "      <td>1.000000</td>\n",
       "      <td>0.286244</td>\n",
       "      <td>0.014066</td>\n",
       "    </tr>\n",
       "    <tr>\n",
       "      <th>perc_fatl_alcohol</th>\n",
       "      <td>0.199426</td>\n",
       "      <td>0.286244</td>\n",
       "      <td>1.000000</td>\n",
       "      <td>-0.245455</td>\n",
       "    </tr>\n",
       "    <tr>\n",
       "      <th>perc_fatl_1st_time</th>\n",
       "      <td>-0.017942</td>\n",
       "      <td>0.014066</td>\n",
       "      <td>-0.245455</td>\n",
       "      <td>1.000000</td>\n",
       "    </tr>\n",
       "  </tbody>\n",
       "</table>\n",
       "</div>"
      ],
      "text/plain": [
       "                      drvr_fatl_col_bmiles  perc_fatl_speed  \\\n",
       "drvr_fatl_col_bmiles              1.000000        -0.029080   \n",
       "perc_fatl_speed                  -0.029080         1.000000   \n",
       "perc_fatl_alcohol                 0.199426         0.286244   \n",
       "perc_fatl_1st_time               -0.017942         0.014066   \n",
       "\n",
       "                      perc_fatl_alcohol  perc_fatl_1st_time  \n",
       "drvr_fatl_col_bmiles           0.199426           -0.017942  \n",
       "perc_fatl_speed                0.286244            0.014066  \n",
       "perc_fatl_alcohol              1.000000           -0.245455  \n",
       "perc_fatl_1st_time            -0.245455            1.000000  "
      ]
     },
     "execution_count": 172,
     "metadata": {},
     "output_type": "execute_result"
    }
   ],
   "source": [
    "df1.corr()"
   ]
  },
  {
   "cell_type": "markdown",
   "id": "cf69fa67",
   "metadata": {},
   "source": [
    "## Fit a multivariate linear regression"
   ]
  },
  {
   "cell_type": "code",
   "execution_count": 173,
   "id": "f30466f4",
   "metadata": {},
   "outputs": [],
   "source": [
    "x=df1[['perc_fatl_1st_time','perc_fatl_speed','perc_fatl_alcohol']]\n",
    "y=df1['drvr_fatl_col_bmiles'] \n",
    "from sklearn.model_selection import train_test_split\n",
    "x_train,x_test,y_train,y_test=train_test_split(x,y,test_size=1/3,random_state=0)"
   ]
  },
  {
   "cell_type": "code",
   "execution_count": 174,
   "id": "c87317bd",
   "metadata": {},
   "outputs": [
    {
     "data": {
      "text/plain": [
       "LinearRegression()"
      ]
     },
     "execution_count": 174,
     "metadata": {},
     "output_type": "execute_result"
    }
   ],
   "source": [
    "from sklearn.linear_model import LinearRegression\n",
    "regr = linear_model.LinearRegression()\n",
    "regr.fit(x_train, y_train)"
   ]
  },
  {
   "cell_type": "code",
   "execution_count": 175,
   "id": "d8d84333",
   "metadata": {},
   "outputs": [
    {
     "name": "stdout",
     "output_type": "stream",
     "text": [
      "Intercept: \n",
      " 17.580811749575172\n",
      "Coefficients: \n",
      " [-0.01650619 -0.03433368  0.02298113]\n"
     ]
    }
   ],
   "source": [
    "print('Intercept: \\n', regr.intercept_)\n",
    "print('Coefficients: \\n', regr.coef_)"
   ]
  },
  {
   "cell_type": "code",
   "execution_count": 176,
   "id": "faea03cf",
   "metadata": {},
   "outputs": [
    {
     "data": {
      "text/plain": [
       "0.009703741818558154"
      ]
     },
     "execution_count": 176,
     "metadata": {},
     "output_type": "execute_result"
    }
   ],
   "source": [
    "y_pred=regr.predict(x_test)\n",
    "y_pred\n",
    "r_sq=regr.score(x,y)\n",
    "r_sq"
   ]
  },
  {
   "cell_type": "code",
   "execution_count": 177,
   "id": "8e661025",
   "metadata": {},
   "outputs": [
    {
     "name": "stdout",
     "output_type": "stream",
     "text": [
      "Mean Squared Error: 10.396297495626518\n"
     ]
    }
   ],
   "source": [
    "mse = np.mean((y_pred - y_test)**2)\n",
    "print(\"Mean Squared Error:\", mse)"
   ]
  },
  {
   "cell_type": "code",
   "execution_count": 178,
   "id": "2d72682c",
   "metadata": {},
   "outputs": [
    {
     "name": "stdout",
     "output_type": "stream",
     "text": [
      "Mean Absolute Error: 2.6659414168903925\n"
     ]
    }
   ],
   "source": [
    "mae = np.mean(np.abs(y_pred - y_test))\n",
    "print(\"Mean Absolute Error:\", mae)"
   ]
  },
  {
   "cell_type": "markdown",
   "id": "2f42dcd7",
   "metadata": {},
   "source": [
    "## Perform PCA on standardized data"
   ]
  },
  {
   "cell_type": "code",
   "execution_count": 179,
   "id": "ac5b4d5d",
   "metadata": {},
   "outputs": [
    {
     "data": {
      "text/plain": [
       "array([[-1.26611685,  0.76264511, -0.1350496 ],\n",
       "       [ 0.76536053,  0.97232113, -1.1189824 ],\n",
       "       [ 1.05557158,  0.34329308, -0.52862272],\n",
       "       [ 0.91046605, -1.43895304, -0.92219584],\n",
       "       [ 0.03983289,  0.34329308, -0.52862272],\n",
       "       [ 0.91046605,  0.5529691 , -0.52862272],\n",
       "       [-0.9759058 ,  1.49651116,  1.04566976],\n",
       "       [ 1.49088816,  0.6578071 , -0.1350496 ],\n",
       "       [ 1.63599369,  0.23845508, -0.72540928],\n",
       "       [ 0.76536053, -1.12443902, -0.33183616],\n",
       "       [ 0.620255  , -1.33411503, -1.1189824 ],\n",
       "       [-0.25037816,  2.33521522,  2.02960256],\n",
       "       [ 1.34578263,  0.44813109, -0.33183616],\n",
       "       [ 1.05557158,  0.44813109,  0.65209664],\n",
       "       [ 0.91046605, -0.70508699, -0.33183616],\n",
       "       [-0.25037816, -1.54379105, -1.1189824 ],\n",
       "       [-0.54058922, -0.49541097, -1.31576896],\n",
       "       [-1.84653896, -1.33411503, -1.51255552],\n",
       "       [ 1.34578263,  0.34329308,  0.45531008],\n",
       "       [-0.68569475,  0.6578071 , -0.1350496 ],\n",
       "       [ 1.49088816,  0.23845508,  0.25852352],\n",
       "       [-1.26611685, -0.914763  ,  0.8488832 ],\n",
       "       [-1.70143344, -0.809925  , -0.52862272],\n",
       "       [-0.10527264, -0.914763  , -0.33183616],\n",
       "       [ 1.63599369, -1.75346706,  0.06173696],\n",
       "       [-0.68569475,  1.18199714,  0.65209664],\n",
       "       [-0.54058922,  0.76264511,  2.61996224],\n",
       "       [ 0.18493842, -1.96314307,  0.8488832 ],\n",
       "       [ 1.49088816,  0.5529691 ,  0.25852352],\n",
       "       [-0.83080027,  0.34329308, -0.1350496 ],\n",
       "       [-1.55632791, -1.64862905, -0.52862272],\n",
       "       [ 1.34578263, -1.33411503, -0.72540928],\n",
       "       [-1.26611685,  0.02877906, -0.33183616],\n",
       "       [-1.12101133,  0.76264511,  0.06173696],\n",
       "       [-0.39548369, -0.914763  ,  2.22638912],\n",
       "       [-0.9759058 , -0.39057297,  0.65209664],\n",
       "       [ 0.76536053,  0.02877906, -0.33183616],\n",
       "       [ 0.18493842,  0.13361707, -0.92219584],\n",
       "       [-0.10527264,  1.91586319,  0.06173696],\n",
       "       [-1.41122238,  0.23845508,  1.43924288],\n",
       "       [-1.12101133,  0.6578071 ,  2.02960256],\n",
       "       [-0.39548369, -0.07605895,  0.45531008],\n",
       "       [-1.12101133, -1.12443902, -0.33183616],\n",
       "       [-0.25037816,  0.86748312,  1.43924288],\n",
       "       [ 1.05557158,  1.18199714, -2.89006144],\n",
       "       [ 0.91046605, -0.18089695, -0.1350496 ],\n",
       "       [-0.10527264, -1.33411503, -0.72540928],\n",
       "       [-0.39548369,  1.07715913,  0.45531008],\n",
       "       [-0.25037816,  0.23845508, -0.52862272],\n",
       "       [-0.68569475,  0.44813109,  0.45531008],\n",
       "       [ 0.18493842,  1.07715913,  0.25852352]])"
      ]
     },
     "execution_count": 179,
     "metadata": {},
     "output_type": "execute_result"
    }
   ],
   "source": [
    "#standardising the features\n",
    "scaler = StandardScaler()\n",
    "features_scaled = scaler.fit_transform(x)\n",
    "features_scaled"
   ]
  },
  {
   "cell_type": "code",
   "execution_count": 180,
   "id": "3376c48a",
   "metadata": {},
   "outputs": [
    {
     "data": {
      "text/plain": [
       "array([[ 0.88463912,  0.46421102,  1.09765186],\n",
       "       [-0.62529903, -1.22024698,  0.95042366],\n",
       "       [-0.67169596, -1.02786253,  0.06202125],\n",
       "       [-1.83954608,  0.23991011, -0.5554213 ],\n",
       "       [-0.21174283, -0.25666671,  0.53681091],\n",
       "       [-0.49390467, -1.05414432,  0.24290566],\n",
       "       [ 1.98805561, -0.22697834,  0.53054572],\n",
       "       [-0.41984695, -1.56080846, -0.24759157],\n",
       "       [-1.13099129, -1.40144229, -0.12795702],\n",
       "       [-1.18444358,  0.14877025, -0.73158452],\n",
       "       [-1.79251216,  0.39090271, -0.2253797 ],\n",
       "       [ 2.80996806, -1.31802924, -0.04565428],\n",
       "       [-0.60664618, -1.31530775, -0.15496303],\n",
       "       [ 0.2268846 , -1.08935235, -0.70860264],\n",
       "       [-1.02598376, -0.23430583, -0.57329698],\n",
       "       [-1.51035032,  1.18838032,  0.06852555],\n",
       "       [-0.95893975,  0.72533611,  0.90732506],\n",
       "       [-0.95632936,  2.26156134,  1.2033984 ],\n",
       "       [-0.10099555, -1.24259045, -0.76292673],\n",
       "       [ 0.56576691,  0.091754  ,  0.76981483],\n",
       "       [-0.36316811, -1.28565771, -0.74942372],\n",
       "       [ 0.6900851 ,  1.56144575, -0.49610044],\n",
       "       [-0.03971211,  1.81587269,  0.7289208 ],\n",
       "       [-0.67811433,  0.67334261, -0.21156464],\n",
       "       [-1.63409399, -0.10065137, -1.75343653],\n",
       "       [ 1.40766864, -0.24488656,  0.50102308],\n",
       "       [ 2.52202483, -0.07092466, -1.17150623],\n",
       "       [-0.52740931,  1.14200056, -1.73965795],\n",
       "       [-0.19504256, -1.49033665, -0.57983775],\n",
       "       [ 0.46334895,  0.40660377,  0.66805595],\n",
       "       [-0.5537545 ,  2.25151236,  0.20886445],\n",
       "       [-1.84020388, -0.15770595, -0.84023269],\n",
       "       [ 0.35192305,  0.94067245,  0.83981002],\n",
       "       [ 0.95935465,  0.35516293,  0.89196601],\n",
       "       [ 1.27880139,  0.90828   , -1.86807431],\n",
       "       [ 0.69845606,  0.99884978, -0.21125259],\n",
       "       [-0.56798322, -0.60171918, -0.10976929],\n",
       "       [-0.67038036, -0.23263042,  0.63164402],\n",
       "       [ 1.11586188, -1.16652231,  1.03899158],\n",
       "       [ 1.79352241,  0.9244954 , -0.2200344 ],\n",
       "       [ 2.30754399,  0.43461673, -0.54315023],\n",
       "       [ 0.46332813,  0.35236477, -0.17511623],\n",
       "       [-0.3302449 ,  1.58099105,  0.1501677 ],\n",
       "       [ 1.60411279, -0.36622912, -0.42347921],\n",
       "       [-1.90843858, -1.58714601,  2.16855561],\n",
       "       [-0.60535139, -0.57431464, -0.42851245],\n",
       "       [-1.18312797,  0.94400236, -0.16196175],\n",
       "       [ 1.07978849, -0.39812466,  0.44669899],\n",
       "       [-0.1363695 ,  0.03190126,  0.61593644],\n",
       "       [ 0.87495256,  0.23157487,  0.24318124],\n",
       "       [ 0.67653501, -0.83993073,  0.31324938]])"
      ]
     },
     "execution_count": 180,
     "metadata": {},
     "output_type": "execute_result"
    }
   ],
   "source": [
    "#Perform PCA on standardized data\n",
    "from sklearn.decomposition import PCA\n",
    "pca = PCA()\n",
    "x_pca = pca.fit_transform(features_scaled)\n",
    "x_pca\n"
   ]
  },
  {
   "cell_type": "code",
   "execution_count": 181,
   "id": "82381b47",
   "metadata": {},
   "outputs": [
    {
     "data": {
      "image/png": "[encoded data removed]",
      "text/plain": [
       "<Figure size 432x288 with 1 Axes>"
      ]
     },
     "metadata": {
      "needs_background": "light"
     },
     "output_type": "display_data"
    }
   ],
   "source": [
    "pca=PCA()\n",
    "pca.fit(features_scaled)\n",
    "plt.bar(range(1,pca.n_components_+1),pca.explained_variance_ratio_)\n",
    "plt.xticks([1,2,3])\n",
    "plt.show()\n",
    "     "
   ]
  },
  {
   "cell_type": "markdown",
   "id": "9ed4849c",
   "metadata": {},
   "source": [
    "## Visualize the first two principal components"
   ]
  },
  {
   "cell_type": "code",
   "execution_count": 182,
   "id": "c0587a1f",
   "metadata": {},
   "outputs": [
    {
     "data": {
      "text/plain": [
       "array([[ 0.88463912,  0.46421102],\n",
       "       [-0.62529903, -1.22024698],\n",
       "       [-0.67169596, -1.02786253],\n",
       "       [-1.83954608,  0.23991011],\n",
       "       [-0.21174283, -0.25666671],\n",
       "       [-0.49390467, -1.05414432],\n",
       "       [ 1.98805561, -0.22697834],\n",
       "       [-0.41984695, -1.56080846],\n",
       "       [-1.13099129, -1.40144229],\n",
       "       [-1.18444358,  0.14877025],\n",
       "       [-1.79251216,  0.39090271],\n",
       "       [ 2.80996806, -1.31802924],\n",
       "       [-0.60664618, -1.31530775],\n",
       "       [ 0.2268846 , -1.08935235],\n",
       "       [-1.02598376, -0.23430583],\n",
       "       [-1.51035032,  1.18838032],\n",
       "       [-0.95893975,  0.72533611],\n",
       "       [-0.95632936,  2.26156134],\n",
       "       [-0.10099555, -1.24259045],\n",
       "       [ 0.56576691,  0.091754  ],\n",
       "       [-0.36316811, -1.28565771],\n",
       "       [ 0.6900851 ,  1.56144575],\n",
       "       [-0.03971211,  1.81587269],\n",
       "       [-0.67811433,  0.67334261],\n",
       "       [-1.63409399, -0.10065137],\n",
       "       [ 1.40766864, -0.24488656],\n",
       "       [ 2.52202483, -0.07092466],\n",
       "       [-0.52740931,  1.14200056],\n",
       "       [-0.19504256, -1.49033665],\n",
       "       [ 0.46334895,  0.40660377],\n",
       "       [-0.5537545 ,  2.25151236],\n",
       "       [-1.84020388, -0.15770595],\n",
       "       [ 0.35192305,  0.94067245],\n",
       "       [ 0.95935465,  0.35516293],\n",
       "       [ 1.27880139,  0.90828   ],\n",
       "       [ 0.69845606,  0.99884978],\n",
       "       [-0.56798322, -0.60171918],\n",
       "       [-0.67038036, -0.23263042],\n",
       "       [ 1.11586188, -1.16652231],\n",
       "       [ 1.79352241,  0.9244954 ],\n",
       "       [ 2.30754399,  0.43461673],\n",
       "       [ 0.46332813,  0.35236477],\n",
       "       [-0.3302449 ,  1.58099105],\n",
       "       [ 1.60411279, -0.36622912],\n",
       "       [-1.90843858, -1.58714601],\n",
       "       [-0.60535139, -0.57431464],\n",
       "       [-1.18312797,  0.94400236],\n",
       "       [ 1.07978849, -0.39812466],\n",
       "       [-0.1363695 ,  0.03190126],\n",
       "       [ 0.87495256,  0.23157487],\n",
       "       [ 0.67653501, -0.83993073]])"
      ]
     },
     "execution_count": 182,
     "metadata": {},
     "output_type": "execute_result"
    }
   ],
   "source": [
    "pca = PCA(n_components = 2)\n",
    "pca2 = pca.fit_transform(x_pca)\n",
    "pca2"
   ]
  },
  {
   "cell_type": "code",
   "execution_count": 183,
   "id": "3f3e4f70",
   "metadata": {},
   "outputs": [
    {
     "data": {
      "text/plain": [
       "<matplotlib.collections.PathCollection at 0x20091130c40>"
      ]
     },
     "execution_count": 183,
     "metadata": {},
     "output_type": "execute_result"
    },
    {
     "data": {
      "image/png": "[encoded data removed]",
      "text/plain": [
       "<Figure size 432x288 with 1 Axes>"
      ]
     },
     "metadata": {
      "needs_background": "light"
     },
     "output_type": "display_data"
    }
   ],
   "source": [
    "pca_1 = pca2[:,0]\n",
    "pca_2 = pca2[:,1]\n",
    "\n",
    "plt.scatter(pca_1, pca_2)"
   ]
  },
  {
   "cell_type": "markdown",
   "id": "a85d0660",
   "metadata": {},
   "source": [
    "## Find clusters of similar states in the data"
   ]
  },
  {
   "cell_type": "code",
   "execution_count": 184,
   "id": "c3853ddf",
   "metadata": {},
   "outputs": [
    {
     "name": "stderr",
     "output_type": "stream",
     "text": [
      "C:\\Users\\HIRLEKHA\\anaconda3\\lib\\site-packages\\sklearn\\cluster\\_kmeans.py:881: UserWarning: KMeans is known to have a memory leak on Windows with MKL, when there are less chunks than available threads. You can avoid it by setting the environment variable OMP_NUM_THREADS=1.\n",
      "  warnings.warn(\n"
     ]
    },
    {
     "data": {
      "image/png": "[encoded data removed]",
      "text/plain": [
       "<Figure size 432x288 with 1 Axes>"
      ]
     },
     "metadata": {
      "needs_background": "light"
     },
     "output_type": "display_data"
    }
   ],
   "source": [
    "#to find no of clusters\n",
    "wcss_list= []  \n",
    "    \n",
    "for i in range(1, 11):  \n",
    "    kmeans = KMeans(n_clusters=i, init='k-means++', random_state= 42)  \n",
    "    kmeans.fit(x)  \n",
    "    wcss_list.append(kmeans.inertia_)  \n",
    "plt.plot(range(1, 11), wcss_list)  \n",
    "plt.title('The Elbow Method Graph')  \n",
    "plt.xlabel('Number of clusters(k)')  \n",
    "plt.ylabel('wcss_list')  \n",
    "plt.show()  "
   ]
  },
  {
   "cell_type": "markdown",
   "id": "c47867b0",
   "metadata": {},
   "source": [
    "## KMeans to visualize clusters in the PCA scatter plot"
   ]
  },
  {
   "cell_type": "code",
   "execution_count": 185,
   "id": "1baaa137",
   "metadata": {},
   "outputs": [],
   "source": [
    "kmeans = KMeans(n_clusters=3, init='k-means++', random_state= 42)  \n",
    "y_predict= kmeans.fit_predict(x)  "
   ]
  },
  {
   "cell_type": "code",
   "execution_count": 186,
   "id": "20e8570c",
   "metadata": {},
   "outputs": [
    {
     "data": {
      "text/plain": [
       "<matplotlib.collections.PathCollection at 0x20091208220>"
      ]
     },
     "execution_count": 186,
     "metadata": {},
     "output_type": "execute_result"
    },
    {
     "data": {
      "image/png": "[encoded data removed]",
      "text/plain": [
       "<Figure size 432x288 with 1 Axes>"
      ]
     },
     "metadata": {
      "needs_background": "light"
     },
     "output_type": "display_data"
    }
   ],
   "source": [
    "#visualising the scatter plot\n",
    "plt.scatter(pca_1, pca_2, c=kmeans.labels_)"
   ]
  },
  {
   "cell_type": "markdown",
   "id": "6b5ee772",
   "metadata": {},
   "source": [
    "## Visualize the feature differences between the clusters "
   ]
  },
  {
   "cell_type": "code",
   "execution_count": 187,
   "id": "99902e4a",
   "metadata": {},
   "outputs": [
    {
     "data": {
      "text/plain": [
       "<AxesSubplot:xlabel='percent', ylabel='measurement'>"
      ]
     },
     "execution_count": 187,
     "metadata": {},
     "output_type": "execute_result"
    },
    {
     "data": {
      "image/png": "[encoded data removed]",
      "text/plain": [
       "<Figure size 432x288 with 1 Axes>"
      ]
     },
     "metadata": {
      "needs_background": "light"
     },
     "output_type": "display_data"
    }
   ],
   "source": [
    "df1['cluster'] = kmeans.labels_\n",
    "\n",
    "# Reshape the DataFrame to the long format\n",
    "melt_car = pd.melt(df1, id_vars='cluster', \n",
    "                   var_name='measurement', \n",
    "                   value_name='percent', \n",
    "                   value_vars=x)\n",
    "\n",
    "# Create a violin plot splitting and coloring the results according to the km-clusters\n",
    "sns.barplot(x = melt_car['percent'], y = melt_car['measurement'], hue = melt_car['cluster'])"
   ]
  },
  {
   "cell_type": "markdown",
   "id": "a1c02429",
   "metadata": {},
   "source": [
    "## Compute the number of accidents within each cluster"
   ]
  },
  {
   "cell_type": "code",
   "execution_count": 188,
   "id": "63e65fc3",
   "metadata": {},
   "outputs": [],
   "source": [
    "df2 = pd.read_csv('miles-driven.csv', sep='|')"
   ]
  },
  {
   "cell_type": "code",
   "execution_count": 189,
   "id": "51964cc2",
   "metadata": {},
   "outputs": [
    {
     "data": {
      "text/html": [
       "<div>\n",
       "<style scoped>\n",
       "    .dataframe tbody tr th:only-of-type {\n",
       "        vertical-align: middle;\n",
       "    }\n",
       "\n",
       "    .dataframe tbody tr th {\n",
       "        vertical-align: top;\n",
       "    }\n",
       "\n",
       "    .dataframe thead th {\n",
       "        text-align: right;\n",
       "    }\n",
       "</style>\n",
       "<table border=\"1\" class=\"dataframe\">\n",
       "  <thead>\n",
       "    <tr style=\"text-align: right;\">\n",
       "      <th></th>\n",
       "      <th>state</th>\n",
       "      <th>drvr_fatl_col_bmiles</th>\n",
       "      <th>perc_fatl_speed</th>\n",
       "      <th>perc_fatl_alcohol</th>\n",
       "      <th>perc_fatl_1st_time</th>\n",
       "      <th>cluster</th>\n",
       "      <th>million_miles_annually</th>\n",
       "    </tr>\n",
       "  </thead>\n",
       "  <tbody>\n",
       "    <tr>\n",
       "      <th>0</th>\n",
       "      <td>Alabama</td>\n",
       "      <td>18.8</td>\n",
       "      <td>39</td>\n",
       "      <td>30</td>\n",
       "      <td>80</td>\n",
       "      <td>0</td>\n",
       "      <td>64914</td>\n",
       "    </tr>\n",
       "    <tr>\n",
       "      <th>1</th>\n",
       "      <td>Alaska</td>\n",
       "      <td>18.1</td>\n",
       "      <td>41</td>\n",
       "      <td>25</td>\n",
       "      <td>94</td>\n",
       "      <td>2</td>\n",
       "      <td>4593</td>\n",
       "    </tr>\n",
       "    <tr>\n",
       "      <th>2</th>\n",
       "      <td>Arizona</td>\n",
       "      <td>18.6</td>\n",
       "      <td>35</td>\n",
       "      <td>28</td>\n",
       "      <td>96</td>\n",
       "      <td>2</td>\n",
       "      <td>59575</td>\n",
       "    </tr>\n",
       "    <tr>\n",
       "      <th>3</th>\n",
       "      <td>Arkansas</td>\n",
       "      <td>22.4</td>\n",
       "      <td>18</td>\n",
       "      <td>26</td>\n",
       "      <td>95</td>\n",
       "      <td>1</td>\n",
       "      <td>32953</td>\n",
       "    </tr>\n",
       "    <tr>\n",
       "      <th>4</th>\n",
       "      <td>California</td>\n",
       "      <td>12.0</td>\n",
       "      <td>35</td>\n",
       "      <td>28</td>\n",
       "      <td>89</td>\n",
       "      <td>2</td>\n",
       "      <td>320784</td>\n",
       "    </tr>\n",
       "  </tbody>\n",
       "</table>\n",
       "</div>"
      ],
      "text/plain": [
       "        state  drvr_fatl_col_bmiles  perc_fatl_speed  perc_fatl_alcohol  \\\n",
       "0     Alabama                  18.8               39                 30   \n",
       "1      Alaska                  18.1               41                 25   \n",
       "2     Arizona                  18.6               35                 28   \n",
       "3    Arkansas                  22.4               18                 26   \n",
       "4  California                  12.0               35                 28   \n",
       "\n",
       "   perc_fatl_1st_time  cluster  million_miles_annually  \n",
       "0                  80        0                   64914  \n",
       "1                  94        2                    4593  \n",
       "2                  96        2                   59575  \n",
       "3                  95        1                   32953  \n",
       "4                  89        2                  320784  "
      ]
     },
     "execution_count": 189,
     "metadata": {},
     "output_type": "execute_result"
    }
   ],
   "source": [
    "final_df=df1.merge(df2)\n",
    "final_df.head()"
   ]
  },
  {
   "cell_type": "code",
   "execution_count": 190,
   "id": "e0bafbef",
   "metadata": {},
   "outputs": [
    {
     "data": {
      "text/html": [
       "<div>\n",
       "<style scoped>\n",
       "    .dataframe tbody tr th:only-of-type {\n",
       "        vertical-align: middle;\n",
       "    }\n",
       "\n",
       "    .dataframe tbody tr th {\n",
       "        vertical-align: top;\n",
       "    }\n",
       "\n",
       "    .dataframe thead th {\n",
       "        text-align: right;\n",
       "    }\n",
       "</style>\n",
       "<table border=\"1\" class=\"dataframe\">\n",
       "  <thead>\n",
       "    <tr style=\"text-align: right;\">\n",
       "      <th></th>\n",
       "      <th>state</th>\n",
       "      <th>drvr_fatl_col_bmiles</th>\n",
       "      <th>perc_fatl_speed</th>\n",
       "      <th>perc_fatl_alcohol</th>\n",
       "      <th>perc_fatl_1st_time</th>\n",
       "      <th>cluster</th>\n",
       "      <th>million_miles_annually</th>\n",
       "      <th>num_drvr_fatl_col</th>\n",
       "    </tr>\n",
       "  </thead>\n",
       "  <tbody>\n",
       "    <tr>\n",
       "      <th>0</th>\n",
       "      <td>Alabama</td>\n",
       "      <td>18.8</td>\n",
       "      <td>39</td>\n",
       "      <td>30</td>\n",
       "      <td>80</td>\n",
       "      <td>0</td>\n",
       "      <td>64914</td>\n",
       "      <td>1220.3832</td>\n",
       "    </tr>\n",
       "    <tr>\n",
       "      <th>1</th>\n",
       "      <td>Alaska</td>\n",
       "      <td>18.1</td>\n",
       "      <td>41</td>\n",
       "      <td>25</td>\n",
       "      <td>94</td>\n",
       "      <td>2</td>\n",
       "      <td>4593</td>\n",
       "      <td>83.1333</td>\n",
       "    </tr>\n",
       "    <tr>\n",
       "      <th>2</th>\n",
       "      <td>Arizona</td>\n",
       "      <td>18.6</td>\n",
       "      <td>35</td>\n",
       "      <td>28</td>\n",
       "      <td>96</td>\n",
       "      <td>2</td>\n",
       "      <td>59575</td>\n",
       "      <td>1108.0950</td>\n",
       "    </tr>\n",
       "    <tr>\n",
       "      <th>3</th>\n",
       "      <td>Arkansas</td>\n",
       "      <td>22.4</td>\n",
       "      <td>18</td>\n",
       "      <td>26</td>\n",
       "      <td>95</td>\n",
       "      <td>1</td>\n",
       "      <td>32953</td>\n",
       "      <td>738.1472</td>\n",
       "    </tr>\n",
       "    <tr>\n",
       "      <th>4</th>\n",
       "      <td>California</td>\n",
       "      <td>12.0</td>\n",
       "      <td>35</td>\n",
       "      <td>28</td>\n",
       "      <td>89</td>\n",
       "      <td>2</td>\n",
       "      <td>320784</td>\n",
       "      <td>3849.4080</td>\n",
       "    </tr>\n",
       "  </tbody>\n",
       "</table>\n",
       "</div>"
      ],
      "text/plain": [
       "        state  drvr_fatl_col_bmiles  perc_fatl_speed  perc_fatl_alcohol  \\\n",
       "0     Alabama                  18.8               39                 30   \n",
       "1      Alaska                  18.1               41                 25   \n",
       "2     Arizona                  18.6               35                 28   \n",
       "3    Arkansas                  22.4               18                 26   \n",
       "4  California                  12.0               35                 28   \n",
       "\n",
       "   perc_fatl_1st_time  cluster  million_miles_annually  num_drvr_fatl_col  \n",
       "0                  80        0                   64914          1220.3832  \n",
       "1                  94        2                    4593            83.1333  \n",
       "2                  96        2                   59575          1108.0950  \n",
       "3                  95        1                   32953           738.1472  \n",
       "4                  89        2                  320784          3849.4080  "
      ]
     },
     "execution_count": 190,
     "metadata": {},
     "output_type": "execute_result"
    }
   ],
   "source": [
    "final_df['num_drvr_fatl_col'] = (final_df['drvr_fatl_col_bmiles'] * final_df[\"million_miles_annually\"])/1000\n",
    "final_df.head()"
   ]
  },
  {
   "cell_type": "code",
   "execution_count": 191,
   "id": "3d92990d",
   "metadata": {},
   "outputs": [
    {
     "data": {
      "text/html": [
       "<div>\n",
       "<style scoped>\n",
       "    .dataframe tbody tr th:only-of-type {\n",
       "        vertical-align: middle;\n",
       "    }\n",
       "\n",
       "    .dataframe tbody tr th {\n",
       "        vertical-align: top;\n",
       "    }\n",
       "\n",
       "    .dataframe thead th {\n",
       "        text-align: right;\n",
       "    }\n",
       "</style>\n",
       "<table border=\"1\" class=\"dataframe\">\n",
       "  <thead>\n",
       "    <tr style=\"text-align: right;\">\n",
       "      <th></th>\n",
       "      <th>count</th>\n",
       "      <th>mean</th>\n",
       "      <th>sum</th>\n",
       "    </tr>\n",
       "    <tr>\n",
       "      <th>cluster</th>\n",
       "      <th></th>\n",
       "      <th></th>\n",
       "      <th></th>\n",
       "    </tr>\n",
       "  </thead>\n",
       "  <tbody>\n",
       "    <tr>\n",
       "      <th>0</th>\n",
       "      <td>17</td>\n",
       "      <td>951.709165</td>\n",
       "      <td>16179.0558</td>\n",
       "    </tr>\n",
       "    <tr>\n",
       "      <th>1</th>\n",
       "      <td>18</td>\n",
       "      <td>990.046094</td>\n",
       "      <td>17820.8297</td>\n",
       "    </tr>\n",
       "    <tr>\n",
       "      <th>2</th>\n",
       "      <td>16</td>\n",
       "      <td>727.207806</td>\n",
       "      <td>11635.3249</td>\n",
       "    </tr>\n",
       "  </tbody>\n",
       "</table>\n",
       "</div>"
      ],
      "text/plain": [
       "         count        mean         sum\n",
       "cluster                               \n",
       "0           17  951.709165  16179.0558\n",
       "1           18  990.046094  17820.8297\n",
       "2           16  727.207806  11635.3249"
      ]
     },
     "execution_count": 191,
     "metadata": {},
     "output_type": "execute_result"
    }
   ],
   "source": [
    "final_df.groupby(\"cluster\")[\"num_drvr_fatl_col\"].agg([\"count\", \"mean\", \"sum\"])"
   ]
  },
  {
   "cell_type": "code",
   "execution_count": 192,
   "id": "cc86df79",
   "metadata": {},
   "outputs": [
    {
     "data": {
      "text/plain": [
       "<AxesSubplot:xlabel='cluster', ylabel='num_drvr_fatl_col'>"
      ]
     },
     "execution_count": 192,
     "metadata": {},
     "output_type": "execute_result"
    },
    {
     "data": {
      "image/png": "[encoded data removed]",
      "text/plain": [
       "<Figure size 432x288 with 1 Axes>"
      ]
     },
     "metadata": {
      "needs_background": "light"
     },
     "output_type": "display_data"
    }
   ],
   "source": [
    "sns.barplot(x='cluster', y='num_drvr_fatl_col', data=final_df, estimator=sum, ci=None)"
   ]
  },
  {
   "cell_type": "markdown",
   "id": "21798b23",
   "metadata": {},
   "source": [
    "##  Make a decision when there is no clear right choice"
   ]
  },
  {
   "cell_type": "markdown",
   "id": "b7713f25",
   "metadata": {},
   "source": [
    "\n",
    "I chose cluster 1  as it has the highest count from overall clusters its due to number of fatal accidents from consuming alcohol\n",
    "we need to put strict actions into consumption of alcohol while driving"
   ]
  },
  {
   "cell_type": "code",
   "execution_count": 193,
   "id": "e89c0a04",
   "metadata": {},
   "outputs": [
    {
     "data": {
      "text/plain": [
       "3          Arkansas\n",
       "9           Florida\n",
       "10          Georgia\n",
       "14          Indiana\n",
       "15             Iowa\n",
       "16           Kansas\n",
       "17         Kentucky\n",
       "21    Massachusetts\n",
       "22         Michigan\n",
       "23        Minnesota\n",
       "24      Mississippi\n",
       "27         Nebraska\n",
       "30       New Jersey\n",
       "31       New Mexico\n",
       "34     North Dakota\n",
       "35             Ohio\n",
       "42        Tennessee\n",
       "46         Virginia\n",
       "Name: state, dtype: object"
      ]
     },
     "execution_count": 193,
     "metadata": {},
     "output_type": "execute_result"
    }
   ],
   "source": [
    "final_df.loc[final_df['cluster']==1]['state']"
   ]
  },
  {
   "cell_type": "code",
   "execution_count": null,
   "id": "f26c1790",
   "metadata": {},
   "outputs": [],
   "source": []
  }
 ],
 "metadata": {
  "kernelspec": {
   "display_name": "Python 3 (ipykernel)",
   "language": "python",
   "name": "python3"
  },
  "language_info": {
   "codemirror_mode": {
    "name": "ipython",
    "version": 3
   },
   "file_extension": ".py",
   "mimetype": "text/x-python",
   "name": "python",
   "nbconvert_exporter": "python",
   "pygments_lexer": "ipython3",
   "version": "3.9.7"
  }
 },
 "nbformat": 4,
 "nbformat_minor": 5
}
